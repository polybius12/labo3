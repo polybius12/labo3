{
 "cells": [
  {
   "cell_type": "code",
   "execution_count": 1,
   "id": "99b8ff2d-ed17-4870-9c9d-58e9df30f6d9",
   "metadata": {
    "tags": []
   },
   "outputs": [],
   "source": [
    "import pandas as pd\n",
    "import numpy as np\n",
    "import matplotlib.pyplot as plt\n",
    "import seaborn as sns\n",
    "import pandas as pd\n",
    "import numpy as np\n",
    "import lightgbm as lgb\n",
    "from sklearn.model_selection import TimeSeriesSplit\n",
    "import optuna\n",
    "from optuna.integration import LightGBMPruningCallback\n",
    "import warnings\n",
    "from datetime import datetime, timedelta\n",
    "from tqdm import tqdm\n",
    "# Suppress specific Optuna warnings about step reporting\n",
    "warnings.filterwarnings(\"ignore\", message=\"The reported value is ignored because this `step`\")\n",
    "\n",
    "# Set Optuna logging level to WARNING to suppress detailed logs\n",
    "optuna.logging.set_verbosity(optuna.logging.WARNING)\n",
    "sns.set_theme()\n",
    "\n",
    "path_data = '../labo3/data/'\n",
    "df_ventas = pd.read_csv(path_data+'sell-in.txt', delimiter='\\t',  decimal='.') \n",
    "df_detail = pd.read_csv(path_data+'tb_productos.txt', delimiter='\\t')  \n",
    "df_product_to_predict = pd.read_csv(path_data+'productos_a_predecir.txt', delimiter='\\t') \n",
    "df_stocks = pd.read_csv(path_data+'tb_stocks.txt', delimiter='\\t')  "
   ]
  },
  {
   "cell_type": "code",
   "execution_count": 2,
   "id": "2e65e798-2da0-4da5-b9ee-d4fed926f4d6",
   "metadata": {
    "tags": []
   },
   "outputs": [],
   "source": [
    "def add_time_features(df):\n",
    "    df = df.copy()\n",
    "    df['month'] = pd.to_datetime(df['periodo']).dt.month\n",
    "    df['year'] = pd.to_datetime(df['periodo']).dt.year\n",
    "    df['day_of_week'] = pd.to_datetime(df['periodo']).dt.dayofweek\n",
    "    df['day_of_month'] = pd.to_datetime(df['periodo']).dt.day\n",
    "    df['week_of_year'] = pd.to_datetime(df['periodo']).dt.isocalendar().week.astype(int)\n",
    "    df['sin_month'] = np.sin(2 * np.pi * df['month'] / 12)\n",
    "    df['cos_month'] = np.cos(2 * np.pi * df['month'] / 12)\n",
    "    df['sin_day_of_week'] = np.sin(2 * np.pi * df['day_of_week'] / 7)\n",
    "    df['cos_day_of_week'] = np.cos(2 * np.pi * df['day_of_week'] / 7)\n",
    "    return df\n",
    "\n",
    "def create_lag_features(df, num_lags, column_name):\n",
    "    df = df.copy()\n",
    "    for i in range(1, num_lags + 1):\n",
    "        df[f'{column_name}_lag{i}'] = df[column_name].shift(i)\n",
    "    return df\n",
    "\n",
    "def create_rolling_features(df, windows, column_name):\n",
    "    df = df.copy()\n",
    "    for window in windows:\n",
    "        df[f'{column_name}_roll_mean_{window}'] = df[column_name].rolling(window=window).mean()\n",
    "        df[f'{column_name}_roll_std_{window}'] = df[column_name].rolling(window=window).std()\n",
    "    return df\n",
    "\n",
    "def preprocess_data(df, is_train=True):\n",
    "    df = add_time_features(df)\n",
    "    df = create_lag_features(df, 12, 'tn')\n",
    "    df = create_rolling_features(df, [3, 6, 12], 'tn')\n",
    "    \n",
    "    if is_train:   \n",
    "        df['tn_diff'] = df['tn'].diff().fillna(0)\n",
    "        features = [col for col in df.columns if col not in ['periodo', 'tn', 'tn_diff', 'cat1', 'cat2', 'cat3', 'brand']]\n",
    "        X = df[features]\n",
    "        y = df['tn_diff']\n",
    "        return X, y\n",
    "    else:\n",
    "        df['tn_diff'] = df['tn'].diff().fillna(0)\n",
    "        features = [col for col in df.columns if col not in ['periodo', 'tn', 'tn_diff', 'cat1', 'cat2', 'cat3', 'brand']]\n",
    "        X = df[features]\n",
    "        return X\n",
    "\n",
    "def train_lightgbm_time_series_cv(X, y, optimize_hyper=False, param_dict=None, n_trials=50):\n",
    "    if len(X) < 10:\n",
    "        # Use single month validation when data is too small\n",
    "        print(\"Using single month validation due to insufficient data for multiple splits.\")\n",
    "        n_splits = 1\n",
    "    else:\n",
    "        # Ensure there are enough samples for the number of splits\n",
    "        n_splits = max(2, min(5, len(X) // 5))\n",
    "\n",
    "    if n_splits > 1:\n",
    "        tscv = TimeSeriesSplit(n_splits=n_splits)\n",
    "\n",
    "        def objective(trial):\n",
    "            params = {\n",
    "                'objective': 'regression',\n",
    "                'metric': 'mae',\n",
    "                'num_leaves': trial.suggest_int('num_leaves', 20, 40),\n",
    "                'learning_rate': trial.suggest_float('learning_rate', 0.01, 0.1, log=True),\n",
    "                'feature_fraction': trial.suggest_float('feature_fraction', 0.6, 1.0),\n",
    "                'bagging_fraction': trial.suggest_float('bagging_fraction', 0.6, 1.0),\n",
    "                'bagging_freq': trial.suggest_int('bagging_freq', 1, 10),\n",
    "                'min_child_samples': trial.suggest_int('min_child_samples', 5, 50),\n",
    "                'verbose': -1\n",
    "            }\n",
    "\n",
    "            cv_mae = []\n",
    "            for train_index, valid_index in tscv.split(X):\n",
    "                X_train, X_valid = X.iloc[train_index], X.iloc[valid_index]\n",
    "                y_train, y_valid = y.iloc[train_index], y.iloc[valid_index]\n",
    "\n",
    "                train_data = lgb.Dataset(X_train, label=y_train)\n",
    "                valid_data = lgb.Dataset(X_valid, label=y_valid, reference=train_data)\n",
    "\n",
    "                pruning_callback = LightGBMPruningCallback(trial, 'l1', valid_name='valid_0')\n",
    "\n",
    "                gbm = lgb.train(\n",
    "                    params,\n",
    "                    train_data,\n",
    "                    num_boost_round=100,\n",
    "                    valid_sets=[valid_data],     \n",
    "                    callbacks=[pruning_callback]\n",
    "                )\n",
    "                cv_mae.append(gbm.best_score['valid_0']['l1'])\n",
    "\n",
    "            return sum(cv_mae) / len(cv_mae) if cv_mae else float('inf')\n",
    "\n",
    "        if optimize_hyper:\n",
    "            study = optuna.create_study(direction='minimize')\n",
    "            study.optimize(objective, n_trials=n_trials)\n",
    "            params = study.best_params\n",
    "            params['objective'] = 'regression'\n",
    "            params['metric'] = 'mae'\n",
    "            params['verbose'] = -1\n",
    "            # Print the best trial\n",
    "            print(\"Best trial:\")\n",
    "            trial = study.best_trial\n",
    "            print(f\"  Value: {trial.value}\")\n",
    "            print(\"  Params: \")\n",
    "            for key, value in trial.params.items():\n",
    "                print(f\"    {key}: {value}\")\n",
    "        else:\n",
    "            if param_dict is None:\n",
    "                raise ValueError(\"Parameter dictionary must be provided if not optimizing hyperparameters\")\n",
    "            params = param_dict\n",
    "\n",
    "        train_data = lgb.Dataset(X, label=y)\n",
    "        final_model = lgb.train(\n",
    "            params,\n",
    "            train_data,\n",
    "            num_boost_round=100\n",
    "        )\n",
    "\n",
    "        if optimize_hyper:\n",
    "            return final_model, params\n",
    "        else:\n",
    "            return final_model\n",
    "    else:\n",
    "        # Fallback to using the last month for validation\n",
    "        if len(X) < 2:\n",
    "            raise ValueError(\"Not enough data for single month validation.\")\n",
    "\n",
    "        X_train, X_valid = X.iloc[:-1], X.iloc[-1:]\n",
    "        y_train, y_valid = y.iloc[:-1], y.iloc[-1:]\n",
    "\n",
    "        if optimize_hyper:\n",
    "            def objective(trial):\n",
    "                params = {\n",
    "                    'objective': 'regression',\n",
    "                    'metric': 'mae',\n",
    "                    'num_leaves': trial.suggest_int('num_leaves', 20, 40),\n",
    "                    'learning_rate': trial.suggest_float('learning_rate', 0.01, 0.1, log=True),\n",
    "                    'feature_fraction': trial.suggest_float('feature_fraction', 0.6, 1.0),\n",
    "                    'bagging_fraction': trial.suggest_float('bagging_fraction', 0.6, 1.0),\n",
    "                    'bagging_freq': trial.suggest_int('bagging_freq', 1, 10),\n",
    "                    'min_child_samples': trial.suggest_int('min_child_samples', 5, 50),\n",
    "                    'verbose': -1\n",
    "                }\n",
    "\n",
    "                train_data = lgb.Dataset(X_train, label=y_train)\n",
    "                valid_data = lgb.Dataset(X_valid, label=y_valid, reference=train_data)\n",
    "\n",
    "                gbm = lgb.train(\n",
    "                    params,\n",
    "                    train_data,\n",
    "                    num_boost_round=100,\n",
    "                    valid_sets=[valid_data]\n",
    "                )\n",
    "                return gbm.best_score['valid_0']['l1']\n",
    "\n",
    "            study = optuna.create_study(direction='minimize')\n",
    "            study.optimize(objective, n_trials=n_trials)\n",
    "            params = study.best_params\n",
    "            params['objective'] = 'regression'\n",
    "            params['metric'] = 'mae'\n",
    "            params['verbose'] = -1\n",
    "            # Print the best trial\n",
    "            print(\"Best trial:\")\n",
    "            trial = study.best_trial\n",
    "            print(f\"  Value: {trial.value}\")\n",
    "            print(\"  Params: \")\n",
    "            for key, value in trial.params.items():\n",
    "                print(f\"    {key}: {value}\")\n",
    "        else:\n",
    "            if param_dict is None:\n",
    "                raise ValueError(\"Parameter dictionary must be provided if not optimizing hyperparameters\")\n",
    "            params = param_dict\n",
    "\n",
    "        train_data = lgb.Dataset(X_train, label=y_train)\n",
    "        final_model = lgb.train(\n",
    "            params,\n",
    "            train_data,\n",
    "            num_boost_round=100\n",
    "        )\n",
    "\n",
    "        if optimize_hyper:\n",
    "            return final_model, params\n",
    "        else:\n",
    "            return final_model\n",
    "\n",
    "def predict_with_model(model, X, last_tn):\n",
    "    if X.empty:\n",
    "        raise ValueError(\"The test set is empty. Please check the preprocessing steps.\")\n",
    "    \n",
    "    y_pred_diff = model.predict(X)\n",
    "    y_pred_tn = last_tn + y_pred_diff\n",
    "\n",
    "    return y_pred_tn\n",
    "\n",
    "def prepare_next_month_prediction(last_train, model, last_tn, next_period):\n",
    "    # Create a DataFrame for the next period with lag and rolling features\n",
    "    next_row = last_train.tail(1).copy()\n",
    "    next_row['periodo'] = next_period\n",
    "    next_row = add_time_features(next_row)\n",
    "    next_row = create_lag_features(next_row, 12, 'tn')\n",
    "    next_row = create_rolling_features(next_row, [3, 6, 12], 'tn')\n",
    "\n",
    "    # Remove NaN values (created due to lagging)\n",
    "    next_row = next_row.fillna(0)\n",
    "    \n",
    "    features = [col for col in next_row.columns if col not in ['periodo', 'tn', 'tn_diff', 'cat1', 'cat2', 'cat3', 'brand']]\n",
    "    X_next = next_row[features]\n",
    "\n",
    "    y_pred_tn = predict_with_model(model, X_next, last_tn)\n",
    "\n",
    "    next_row['tn'] = y_pred_tn[0]\n",
    "\n",
    "    return next_row, y_pred_tn[0]\n",
    "\n",
    "def predict_product(final_df, training_months, cutoff_date,n_trials):\n",
    "    # Prepare training data\n",
    "    train = final_df[final_df['periodo'] < cutoff_date]\n",
    "    train = train.tail(training_months)\n",
    "\n",
    "    X_train, y_train = preprocess_data(train)\n",
    "    model, params = train_lightgbm_time_series_cv(X_train, y_train, optimize_hyper=True, n_trials=n_trials)\n",
    "\n",
    "    # Predict for the first month\n",
    "    test_1 = final_df[final_df['periodo'] == cutoff_date]\n",
    "    X_test_1 = preprocess_data(test_1, is_train=False)\n",
    "    last_tn = train['tn'].tail(1).iloc[0]\n",
    "    y_pred_tn_1 = predict_with_model(model, X_test_1, last_tn)\n",
    "    print(\"Predicted tn for the first month:\", y_pred_tn_1[0])\n",
    "\n",
    "    # Update the dataset with the first prediction\n",
    "    train = pd.concat([train, test_1], ignore_index=True)\n",
    "    train.loc[train.index[-1], 'tn'] = y_pred_tn_1[0]\n",
    "\n",
    "    # Prepare for the second month's prediction\n",
    "    next_cutoff_date = (pd.to_datetime(cutoff_date) + pd.DateOffset(months=1)).strftime('%Y-%m-%d')\n",
    "    next_row, y_pred_tn_2 = prepare_next_month_prediction(train, model, y_pred_tn_1[0], next_cutoff_date)\n",
    "    return y_pred_tn_2"
   ]
  },
  {
   "cell_type": "markdown",
   "id": "fb1ebc12-6fe6-4555-a431-7437d9522425",
   "metadata": {},
   "source": [
    "## Preprocessing"
   ]
  },
  {
   "cell_type": "code",
   "execution_count": 3,
   "id": "1a91b97d-e5f2-443d-98fa-f1c472b80a97",
   "metadata": {
    "tags": []
   },
   "outputs": [],
   "source": [
    "df_ventas['periodo'] = pd.to_datetime(df_ventas['periodo'], format='%Y%m')\n",
    "df_ventas.sort_values(by='periodo', inplace=True)"
   ]
  },
  {
   "cell_type": "code",
   "execution_count": 4,
   "id": "53c50da4-55e7-4553-85f9-34f81f365cf0",
   "metadata": {
    "tags": []
   },
   "outputs": [
    {
     "name": "stdout",
     "output_type": "stream",
     "text": [
      "(2945818, 7)\n",
      "(2945818, 7)\n",
      "(1262, 6)\n",
      "(1253, 6)\n"
     ]
    }
   ],
   "source": [
    "print(df_ventas.shape)\n",
    "df_ventas.drop_duplicates(inplace=True)\n",
    "print(df_ventas.shape)\n",
    "print(df_detail.shape)\n",
    "df_detail.drop_duplicates(inplace=True)\n",
    "print(df_detail.shape)"
   ]
  },
  {
   "cell_type": "code",
   "execution_count": 5,
   "id": "19e7d4a0-bbbe-4107-abc6-33b55b7d125d",
   "metadata": {
    "tags": []
   },
   "outputs": [
    {
     "data": {
      "text/plain": [
       "product_id\n",
       "20230    2\n",
       "20623    2\n",
       "20574    1\n",
       "20451    1\n",
       "20133    1\n",
       "        ..\n",
       "20767    1\n",
       "20397    1\n",
       "20529    1\n",
       "21177    1\n",
       "20890    1\n",
       "Name: count, Length: 1251, dtype: int64"
      ]
     },
     "execution_count": 5,
     "metadata": {},
     "output_type": "execute_result"
    }
   ],
   "source": [
    "df_detail['product_id'].value_counts()"
   ]
  },
  {
   "cell_type": "markdown",
   "id": "89f0d2f5-6d03-410f-941e-7a0cabfdb350",
   "metadata": {},
   "source": [
    "### Hay product_id duplicados porque tienen distinto sku_size, normalizar esto antes de mergear!"
   ]
  },
  {
   "cell_type": "code",
   "execution_count": 6,
   "id": "7b712f4c-8293-4d86-aeb9-e0ce2434a869",
   "metadata": {
    "tags": []
   },
   "outputs": [
    {
     "data": {
      "text/html": [
       "<div>\n",
       "<style scoped>\n",
       "    .dataframe tbody tr th:only-of-type {\n",
       "        vertical-align: middle;\n",
       "    }\n",
       "\n",
       "    .dataframe tbody tr th {\n",
       "        vertical-align: top;\n",
       "    }\n",
       "\n",
       "    .dataframe thead th {\n",
       "        text-align: right;\n",
       "    }\n",
       "</style>\n",
       "<table border=\"1\" class=\"dataframe\">\n",
       "  <thead>\n",
       "    <tr style=\"text-align: right;\">\n",
       "      <th></th>\n",
       "      <th>cat1</th>\n",
       "      <th>cat2</th>\n",
       "      <th>cat3</th>\n",
       "      <th>brand</th>\n",
       "      <th>sku_size</th>\n",
       "      <th>product_id</th>\n",
       "    </tr>\n",
       "  </thead>\n",
       "  <tbody>\n",
       "    <tr>\n",
       "      <th>917</th>\n",
       "      <td>PC</td>\n",
       "      <td>CABELLO</td>\n",
       "      <td>ACONDICIONADOR</td>\n",
       "      <td>SHAMPOO3</td>\n",
       "      <td>350</td>\n",
       "      <td>20230</td>\n",
       "    </tr>\n",
       "    <tr>\n",
       "      <th>983</th>\n",
       "      <td>PC</td>\n",
       "      <td>CABELLO</td>\n",
       "      <td>SHAMPOO</td>\n",
       "      <td>SHAMPOO3</td>\n",
       "      <td>350</td>\n",
       "      <td>20230</td>\n",
       "    </tr>\n",
       "  </tbody>\n",
       "</table>\n",
       "</div>"
      ],
      "text/plain": [
       "    cat1     cat2            cat3     brand  sku_size  product_id\n",
       "917   PC  CABELLO  ACONDICIONADOR  SHAMPOO3       350       20230\n",
       "983   PC  CABELLO         SHAMPOO  SHAMPOO3       350       20230"
      ]
     },
     "execution_count": 6,
     "metadata": {},
     "output_type": "execute_result"
    }
   ],
   "source": [
    "df_detail[df_detail['product_id'] == 20230]"
   ]
  },
  {
   "cell_type": "code",
   "execution_count": 7,
   "id": "cf29f9a5-bc30-4ea8-a688-d3fc2a419d1c",
   "metadata": {
    "tags": []
   },
   "outputs": [],
   "source": [
    "df_detail.drop(index=917, inplace=True)"
   ]
  },
  {
   "cell_type": "code",
   "execution_count": 8,
   "id": "d47bfcf3-5cd9-4231-b264-b5ee10b47b13",
   "metadata": {
    "tags": []
   },
   "outputs": [
    {
     "data": {
      "text/html": [
       "<div>\n",
       "<style scoped>\n",
       "    .dataframe tbody tr th:only-of-type {\n",
       "        vertical-align: middle;\n",
       "    }\n",
       "\n",
       "    .dataframe tbody tr th {\n",
       "        vertical-align: top;\n",
       "    }\n",
       "\n",
       "    .dataframe thead th {\n",
       "        text-align: right;\n",
       "    }\n",
       "</style>\n",
       "<table border=\"1\" class=\"dataframe\">\n",
       "  <thead>\n",
       "    <tr style=\"text-align: right;\">\n",
       "      <th></th>\n",
       "      <th>cat1</th>\n",
       "      <th>cat2</th>\n",
       "      <th>cat3</th>\n",
       "      <th>brand</th>\n",
       "      <th>sku_size</th>\n",
       "      <th>product_id</th>\n",
       "    </tr>\n",
       "  </thead>\n",
       "  <tbody>\n",
       "    <tr>\n",
       "      <th>915</th>\n",
       "      <td>PC</td>\n",
       "      <td>CABELLO</td>\n",
       "      <td>ACONDICIONADOR</td>\n",
       "      <td>SHAMPOO3</td>\n",
       "      <td>350</td>\n",
       "      <td>20623</td>\n",
       "    </tr>\n",
       "    <tr>\n",
       "      <th>981</th>\n",
       "      <td>PC</td>\n",
       "      <td>CABELLO</td>\n",
       "      <td>SHAMPOO</td>\n",
       "      <td>SHAMPOO3</td>\n",
       "      <td>350</td>\n",
       "      <td>20623</td>\n",
       "    </tr>\n",
       "  </tbody>\n",
       "</table>\n",
       "</div>"
      ],
      "text/plain": [
       "    cat1     cat2            cat3     brand  sku_size  product_id\n",
       "915   PC  CABELLO  ACONDICIONADOR  SHAMPOO3       350       20623\n",
       "981   PC  CABELLO         SHAMPOO  SHAMPOO3       350       20623"
      ]
     },
     "execution_count": 8,
     "metadata": {},
     "output_type": "execute_result"
    }
   ],
   "source": [
    "df_detail[df_detail['product_id'] == 20623]"
   ]
  },
  {
   "cell_type": "code",
   "execution_count": 9,
   "id": "51630cfb-7aa2-4aee-a689-eb4cc9e50ede",
   "metadata": {
    "tags": []
   },
   "outputs": [],
   "source": [
    "df_detail.drop(index=981, inplace=True)"
   ]
  },
  {
   "cell_type": "markdown",
   "id": "d0c4a60c-2ce4-491d-b573-eab8ce06a727",
   "metadata": {},
   "source": [
    "## Merge dataframes"
   ]
  },
  {
   "cell_type": "code",
   "execution_count": 10,
   "id": "54a011a6-5343-4fad-bf73-bccf9083f3cb",
   "metadata": {
    "tags": []
   },
   "outputs": [],
   "source": [
    "df = pd.merge(df_ventas, df_detail, how = 'left', on='product_id')\n",
    "assert df.shape[0] - df_ventas.shape[0] == 0, 'hay duplicados'"
   ]
  },
  {
   "cell_type": "markdown",
   "id": "1a195d01-9f7d-49e6-b0dc-e7277750cfdc",
   "metadata": {},
   "source": [
    "## Normalize cat"
   ]
  },
  {
   "cell_type": "code",
   "execution_count": 11,
   "id": "11b140c2-556c-4b22-bd1f-102e1ecb0572",
   "metadata": {
    "tags": []
   },
   "outputs": [],
   "source": [
    "columns_to_uppercase = ['cat1', 'cat2', 'cat3']\n",
    "df[columns_to_uppercase] = df[columns_to_uppercase].apply(lambda x: x.astype(str).str.upper())"
   ]
  },
  {
   "cell_type": "markdown",
   "id": "e2125e5c-a0a9-4d16-8724-51dc3714b8fb",
   "metadata": {
    "tags": []
   },
   "source": [
    "## Eda"
   ]
  },
  {
   "cell_type": "code",
   "execution_count": 12,
   "id": "d4a465af-ece3-4730-8a52-289360b88274",
   "metadata": {
    "tags": []
   },
   "outputs": [
    {
     "data": {
      "text/plain": [
       "0.4497863032984384"
      ]
     },
     "execution_count": 12,
     "metadata": {},
     "output_type": "execute_result"
    }
   ],
   "source": [
    "df['tn'].mean()"
   ]
  },
  {
   "cell_type": "code",
   "execution_count": 13,
   "id": "93d989a9-7de8-4ffc-9e1f-db23bd09ac0e",
   "metadata": {
    "tags": []
   },
   "outputs": [
    {
     "data": {
      "text/plain": [
       "<Axes: title={'center': 'log tn'}, ylabel='Frequency'>"
      ]
     },
     "execution_count": 13,
     "metadata": {},
     "output_type": "execute_result"
    },
    {
     "data": {
      "image/png": "[encoded data removed]",
      "text/plain": [
       "<Figure size 640x480 with 1 Axes>"
      ]
     },
     "metadata": {},
     "output_type": "display_data"
    }
   ],
   "source": [
    "np.log(df['tn']).plot(kind='hist', bins=100, title='log tn')"
   ]
  },
  {
   "cell_type": "code",
   "execution_count": 14,
   "id": "64b38bfb-461a-44f6-a7ab-62b9a1037e06",
   "metadata": {
    "tags": []
   },
   "outputs": [
    {
     "data": {
      "image/png": "[encoded data removed]",
      "text/plain": [
       "<Figure size 640x480 with 1 Axes>"
      ]
     },
     "metadata": {},
     "output_type": "display_data"
    }
   ],
   "source": [
    "df.groupby('periodo')['tn'].sum().plot(kind='line', marker='o', linestyle='-')\n",
    "\n",
    "# Enhancing the plot\n",
    "plt.title('Total TN by Month')\n",
    "plt.xlabel('Periodo')\n",
    "plt.ylabel('Total TN')\n",
    "plt.grid(True)\n",
    "plt.xticks(rotation=45)  # Rotate dates for better readability if necessary\n",
    "plt.tight_layout()  # Adjust layout to make room for label rotation\n",
    "\n",
    "# Show the plot\n",
    "plt.show()"
   ]
  },
  {
   "cell_type": "code",
   "execution_count": 15,
   "id": "d52cde9c-367b-4094-9bbf-7e5c52445934",
   "metadata": {
    "tags": []
   },
   "outputs": [
    {
     "data": {
      "text/plain": [
       "<Axes: title={'center': 'tn by cust_id'}, xlabel='customer_id'>"
      ]
     },
     "execution_count": 15,
     "metadata": {},
     "output_type": "execute_result"
    },
    {
     "data": {
      "image/png": "[encoded data removed]",
      "text/plain": [
       "<Figure size 640x480 with 1 Axes>"
      ]
     },
     "metadata": {},
     "output_type": "display_data"
    }
   ],
   "source": [
    "df.groupby('customer_id')['tn'].sum()[:10].plot(kind='bar', title='tn by cust_id')"
   ]
  },
  {
   "cell_type": "markdown",
   "id": "36837e30-9107-4b21-af29-2d5ea6c18fd4",
   "metadata": {},
   "source": [
    "# Get best_customer - best_selling product"
   ]
  },
  {
   "cell_type": "code",
   "execution_count": 16,
   "id": "af3f8cd1-2610-4f81-ab8d-ad68efffcdb2",
   "metadata": {
    "tags": []
   },
   "outputs": [],
   "source": [
    "# df.groupby('product_id')['tn'].sum()[:1]\n",
    "# df_best_prod = df[df['product_id'] == 20001]\n",
    "# df_best_prod.groupby(['customer_id'])['tn'].sum().sort_values(ascending=False)\n",
    "# df_best = df_best_prod[df_best_prod['customer_id'] == 10004]\n",
    "# df_best['tn'].plot()"
   ]
  },
  {
   "cell_type": "markdown",
   "id": "d46f7800-9517-4e5c-86d4-1f877e5391b6",
   "metadata": {},
   "source": [
    "# Feature engineering"
   ]
  },
  {
   "cell_type": "code",
   "execution_count": 17,
   "id": "47162140-d4ed-4eb2-af2c-08244e9dfa80",
   "metadata": {
    "tags": []
   },
   "outputs": [],
   "source": [
    "# Parameters\n",
    "training_months = 12\n",
    "cutoff_date = '2019-12-01'\n",
    "n_trials = 100"
   ]
  },
  {
   "cell_type": "code",
   "execution_count": 18,
   "id": "f90864fb-580c-4e23-a89b-a6a9a35870dc",
   "metadata": {
    "tags": []
   },
   "outputs": [],
   "source": [
    "def get_prod(df, prod_num):\n",
    "    cols = ['periodo', 'customer_id', 'product_id', 'plan_precios_cuidados','cust_request_qty', 'cust_request_tn', 'tn']\n",
    "    df = df[cols]\n",
    "    single_prod = df[df['product_id'] == prod_num].groupby('periodo').sum().reset_index()\n",
    "    return single_prod.drop(['customer_id','product_id'], axis=1)"
   ]
  },
  {
   "cell_type": "code",
   "execution_count": null,
   "id": "e2442e70-e36b-41cc-b0bb-b52a75b03e59",
   "metadata": {
    "tags": []
   },
   "outputs": [
    {
     "name": "stderr",
     "output_type": "stream",
     "text": [
      "  0%|                                                                                | 1/780 [00:09<2:01:27,  9.35s/it]"
     ]
    },
    {
     "name": "stdout",
     "output_type": "stream",
     "text": [
      "Best trial:\n",
      "  Value: 301.34454452991486\n",
      "  Params: \n",
      "    num_leaves: 32\n",
      "    learning_rate: 0.0626162377501664\n",
      "    feature_fraction: 0.9015314714203134\n",
      "    bagging_fraction: 0.7437416832399134\n",
      "    bagging_freq: 9\n",
      "    min_child_samples: 39\n",
      "Predicted tn for the first month: 1389.92944113149\n"
     ]
    },
    {
     "name": "stderr",
     "output_type": "stream",
     "text": [
      "  0%|▏                                                                               | 2/780 [00:18<2:00:43,  9.31s/it]"
     ]
    },
    {
     "name": "stdout",
     "output_type": "stream",
     "text": [
      "Best trial:\n",
      "  Value: 334.4654722213745\n",
      "  Params: \n",
      "    num_leaves: 20\n",
      "    learning_rate: 0.09783803312789627\n",
      "    feature_fraction: 0.8476023565926751\n",
      "    bagging_fraction: 0.6882077260404285\n",
      "    bagging_freq: 3\n",
      "    min_child_samples: 47\n",
      "Predicted tn for the first month: 1458.087619110718\n"
     ]
    },
    {
     "name": "stderr",
     "output_type": "stream",
     "text": [
      "  0%|▎                                                                               | 3/780 [00:27<2:00:40,  9.32s/it]"
     ]
    },
    {
     "name": "stdout",
     "output_type": "stream",
     "text": [
      "Best trial:\n",
      "  Value: 118.36411571502686\n",
      "  Params: \n",
      "    num_leaves: 31\n",
      "    learning_rate: 0.05552959870772644\n",
      "    feature_fraction: 0.7786223839860048\n",
      "    bagging_fraction: 0.6807421300325873\n",
      "    bagging_freq: 5\n",
      "    min_child_samples: 20\n",
      "Predicted tn for the first month: 963.1660333732096\n"
     ]
    },
    {
     "name": "stderr",
     "output_type": "stream",
     "text": [
      "  1%|▍                                                                               | 4/780 [00:37<2:00:29,  9.32s/it]"
     ]
    },
    {
     "name": "stdout",
     "output_type": "stream",
     "text": [
      "Best trial:\n",
      "  Value: 182.7405285835266\n",
      "  Params: \n",
      "    num_leaves: 24\n",
      "    learning_rate: 0.03254459193096741\n",
      "    feature_fraction: 0.8936217138313709\n",
      "    bagging_fraction: 0.6269794608857513\n",
      "    bagging_freq: 4\n",
      "    min_child_samples: 18\n",
      "Predicted tn for the first month: 735.4735016885376\n"
     ]
    },
    {
     "name": "stderr",
     "output_type": "stream",
     "text": [
      "  1%|▌                                                                               | 5/780 [00:46<2:00:26,  9.32s/it]"
     ]
    },
    {
     "name": "stdout",
     "output_type": "stream",
     "text": [
      "Best trial:\n",
      "  Value: 202.45373129844666\n",
      "  Params: \n",
      "    num_leaves: 23\n",
      "    learning_rate: 0.06558991697840238\n",
      "    feature_fraction: 0.8440471749902089\n",
      "    bagging_fraction: 0.6109652511197662\n",
      "    bagging_freq: 8\n",
      "    min_child_samples: 6\n",
      "Predicted tn for the first month: 626.4348472243754\n"
     ]
    },
    {
     "name": "stderr",
     "output_type": "stream",
     "text": [
      "  1%|▌                                                                               | 6/780 [00:55<2:00:24,  9.33s/it]"
     ]
    },
    {
     "name": "stdout",
     "output_type": "stream",
     "text": [
      "Best trial:\n",
      "  Value: 168.42823457717896\n",
      "  Params: \n",
      "    num_leaves: 23\n",
      "    learning_rate: 0.011316312761203392\n",
      "    feature_fraction: 0.9724610108664248\n",
      "    bagging_fraction: 0.6838871059833131\n",
      "    bagging_freq: 1\n",
      "    min_child_samples: 48\n",
      "Predicted tn for the first month: 398.93544646504716\n"
     ]
    },
    {
     "name": "stderr",
     "output_type": "stream",
     "text": [
      "  1%|▋                                                                               | 7/780 [01:05<2:00:11,  9.33s/it]"
     ]
    },
    {
     "name": "stdout",
     "output_type": "stream",
     "text": [
      "Best trial:\n",
      "  Value: 110.44204694032669\n",
      "  Params: \n",
      "    num_leaves: 35\n",
      "    learning_rate: 0.02172076710203531\n",
      "    feature_fraction: 0.7033839307867211\n",
      "    bagging_fraction: 0.7827969771949389\n",
      "    bagging_freq: 1\n",
      "    min_child_samples: 16\n",
      "Predicted tn for the first month: 357.52830363802593\n"
     ]
    },
    {
     "name": "stderr",
     "output_type": "stream",
     "text": [
      "  1%|▊                                                                               | 8/780 [01:14<2:00:02,  9.33s/it]"
     ]
    },
    {
     "name": "stdout",
     "output_type": "stream",
     "text": [
      "Best trial:\n",
      "  Value: 103.1317892074585\n",
      "  Params: \n",
      "    num_leaves: 32\n",
      "    learning_rate: 0.05205648599740742\n",
      "    feature_fraction: 0.6827769921923329\n",
      "    bagging_fraction: 0.609123474174208\n",
      "    bagging_freq: 4\n",
      "    min_child_samples: 17\n",
      "Predicted tn for the first month: 394.01244215464277\n"
     ]
    },
    {
     "name": "stderr",
     "output_type": "stream",
     "text": [
      "  1%|▉                                                                               | 9/780 [01:23<2:00:00,  9.34s/it]"
     ]
    },
    {
     "name": "stdout",
     "output_type": "stream",
     "text": [
      "Best trial:\n",
      "  Value: 108.20486590266228\n",
      "  Params: \n",
      "    num_leaves: 21\n",
      "    learning_rate: 0.01889501576485184\n",
      "    feature_fraction: 0.8198991193157074\n",
      "    bagging_fraction: 0.8067249196864066\n",
      "    bagging_freq: 9\n",
      "    min_child_samples: 13\n",
      "Predicted tn for the first month: 724.9414190974236\n"
     ]
    },
    {
     "name": "stderr",
     "output_type": "stream",
     "text": [
      "  1%|█                                                                              | 10/780 [01:33<1:59:50,  9.34s/it]"
     ]
    },
    {
     "name": "stdout",
     "output_type": "stream",
     "text": [
      "Best trial:\n",
      "  Value: 156.17371666431427\n",
      "  Params: \n",
      "    num_leaves: 25\n",
      "    learning_rate: 0.06315400072902218\n",
      "    feature_fraction: 0.893089038511979\n",
      "    bagging_fraction: 0.6647317982205048\n",
      "    bagging_freq: 8\n",
      "    min_child_samples: 28\n",
      "Predicted tn for the first month: 486.46133844701126\n"
     ]
    },
    {
     "name": "stderr",
     "output_type": "stream",
     "text": [
      "  1%|█                                                                              | 11/780 [01:42<1:59:43,  9.34s/it]"
     ]
    },
    {
     "name": "stdout",
     "output_type": "stream",
     "text": [
      "Best trial:\n",
      "  Value: 103.36598873138428\n",
      "  Params: \n",
      "    num_leaves: 30\n",
      "    learning_rate: 0.01538923076381036\n",
      "    feature_fraction: 0.818102491229839\n",
      "    bagging_fraction: 0.860779466816336\n",
      "    bagging_freq: 6\n",
      "    min_child_samples: 25\n",
      "Predicted tn for the first month: 291.9066138220215\n"
     ]
    },
    {
     "name": "stderr",
     "output_type": "stream",
     "text": [
      "  2%|█▏                                                                             | 12/780 [01:52<1:59:41,  9.35s/it]"
     ]
    },
    {
     "name": "stdout",
     "output_type": "stream",
     "text": [
      "Best trial:\n",
      "  Value: 93.06255054473877\n",
      "  Params: \n",
      "    num_leaves: 39\n",
      "    learning_rate: 0.015256561906874057\n",
      "    feature_fraction: 0.7540458422023805\n",
      "    bagging_fraction: 0.6122304075782681\n",
      "    bagging_freq: 7\n",
      "    min_child_samples: 21\n",
      "Predicted tn for the first month: 359.7358927126058\n"
     ]
    },
    {
     "name": "stderr",
     "output_type": "stream",
     "text": [
      "  2%|█▎                                                                             | 13/780 [02:01<1:59:34,  9.35s/it]"
     ]
    },
    {
     "name": "stdout",
     "output_type": "stream",
     "text": [
      "Best trial:\n",
      "  Value: 159.28475189208984\n",
      "  Params: \n",
      "    num_leaves: 28\n",
      "    learning_rate: 0.06626688044467015\n",
      "    feature_fraction: 0.7099269238977586\n",
      "    bagging_fraction: 0.7581746456155822\n",
      "    bagging_freq: 7\n",
      "    min_child_samples: 7\n",
      "Predicted tn for the first month: 336.4076604003906\n"
     ]
    },
    {
     "name": "stderr",
     "output_type": "stream",
     "text": [
      "  2%|█▍                                                                             | 14/780 [02:10<1:59:24,  9.35s/it]"
     ]
    },
    {
     "name": "stdout",
     "output_type": "stream",
     "text": [
      "Best trial:\n",
      "  Value: 121.23657244443893\n",
      "  Params: \n",
      "    num_leaves: 28\n",
      "    learning_rate: 0.022924486738830848\n",
      "    feature_fraction: 0.7048461816460481\n",
      "    bagging_fraction: 0.9037089630553932\n",
      "    bagging_freq: 5\n",
      "    min_child_samples: 14\n",
      "Predicted tn for the first month: 420.29806051582335\n"
     ]
    },
    {
     "name": "stderr",
     "output_type": "stream",
     "text": [
      "  2%|█▌                                                                             | 15/780 [02:20<1:59:17,  9.36s/it]"
     ]
    },
    {
     "name": "stdout",
     "output_type": "stream",
     "text": [
      "Best trial:\n",
      "  Value: 99.38509553670883\n",
      "  Params: \n",
      "    num_leaves: 21\n",
      "    learning_rate: 0.07001257435524086\n",
      "    feature_fraction: 0.787498666947712\n",
      "    bagging_fraction: 0.9500668537929384\n",
      "    bagging_freq: 1\n",
      "    min_child_samples: 43\n",
      "Predicted tn for the first month: 311.64220191460925\n"
     ]
    },
    {
     "name": "stderr",
     "output_type": "stream",
     "text": [
      "  2%|█▌                                                                             | 16/780 [02:29<1:59:03,  9.35s/it]"
     ]
    },
    {
     "name": "stdout",
     "output_type": "stream",
     "text": [
      "Best trial:\n",
      "  Value: 63.4366686521098\n",
      "  Params: \n",
      "    num_leaves: 34\n",
      "    learning_rate: 0.020408019288334862\n",
      "    feature_fraction: 0.9472216327225909\n",
      "    bagging_fraction: 0.968603718248672\n",
      "    bagging_freq: 7\n",
      "    min_child_samples: 11\n",
      "Predicted tn for the first month: 309.29671411812427\n"
     ]
    },
    {
     "name": "stderr",
     "output_type": "stream",
     "text": [
      "  2%|█▋                                                                             | 17/780 [02:38<1:58:52,  9.35s/it]"
     ]
    },
    {
     "name": "stdout",
     "output_type": "stream",
     "text": [
      "Best trial:\n",
      "  Value: 75.65756964683533\n",
      "  Params: \n",
      "    num_leaves: 27\n",
      "    learning_rate: 0.03036295374365741\n",
      "    feature_fraction: 0.8501145732635633\n",
      "    bagging_fraction: 0.9867322173678804\n",
      "    bagging_freq: 5\n",
      "    min_child_samples: 23\n",
      "Predicted tn for the first month: 213.29349289016724\n"
     ]
    },
    {
     "name": "stderr",
     "output_type": "stream",
     "text": [
      "  2%|█▊                                                                             | 18/780 [02:48<1:58:57,  9.37s/it]"
     ]
    },
    {
     "name": "stdout",
     "output_type": "stream",
     "text": [
      "Best trial:\n",
      "  Value: 91.95441508293152\n",
      "  Params: \n",
      "    num_leaves: 21\n",
      "    learning_rate: 0.016990712746495346\n",
      "    feature_fraction: 0.9583755542662755\n",
      "    bagging_fraction: 0.6966944529086017\n",
      "    bagging_freq: 3\n",
      "    min_child_samples: 42\n",
      "Predicted tn for the first month: 248.24233243967691\n"
     ]
    },
    {
     "name": "stderr",
     "output_type": "stream",
     "text": [
      "  2%|█▉                                                                             | 19/780 [02:57<1:58:48,  9.37s/it]"
     ]
    },
    {
     "name": "stdout",
     "output_type": "stream",
     "text": [
      "Best trial:\n",
      "  Value: 69.92011100053787\n",
      "  Params: \n",
      "    num_leaves: 32\n",
      "    learning_rate: 0.06582878174899347\n",
      "    feature_fraction: 0.8769788628372828\n",
      "    bagging_fraction: 0.815702610802297\n",
      "    bagging_freq: 9\n",
      "    min_child_samples: 15\n",
      "Predicted tn for the first month: 369.4439843068695\n"
     ]
    },
    {
     "name": "stderr",
     "output_type": "stream",
     "text": [
      "  3%|██                                                                             | 20/780 [03:06<1:58:44,  9.37s/it]"
     ]
    },
    {
     "name": "stdout",
     "output_type": "stream",
     "text": [
      "Best trial:\n",
      "  Value: 76.36135768890381\n",
      "  Params: \n",
      "    num_leaves: 39\n",
      "    learning_rate: 0.0174363438093186\n",
      "    feature_fraction: 0.9059443074548703\n",
      "    bagging_fraction: 0.8211860846089347\n",
      "    bagging_freq: 1\n",
      "    min_child_samples: 41\n",
      "Predicted tn for the first month: 331.60110163518266\n"
     ]
    },
    {
     "name": "stderr",
     "output_type": "stream",
     "text": [
      "  3%|██▏                                                                            | 21/780 [03:16<1:58:40,  9.38s/it]"
     ]
    },
    {
     "name": "stdout",
     "output_type": "stream",
     "text": [
      "Best trial:\n",
      "  Value: 82.47221755981445\n",
      "  Params: \n",
      "    num_leaves: 35\n",
      "    learning_rate: 0.015664958553557515\n",
      "    feature_fraction: 0.918033410712494\n",
      "    bagging_fraction: 0.9577499872395954\n",
      "    bagging_freq: 2\n",
      "    min_child_samples: 9\n",
      "Predicted tn for the first month: 288.80496663289387\n"
     ]
    },
    {
     "name": "stderr",
     "output_type": "stream",
     "text": [
      "  3%|██▏                                                                            | 22/780 [03:25<1:58:32,  9.38s/it]"
     ]
    },
    {
     "name": "stdout",
     "output_type": "stream",
     "text": [
      "Best trial:\n",
      "  Value: 126.45358628034592\n",
      "  Params: \n",
      "    num_leaves: 39\n",
      "    learning_rate: 0.013319023465045668\n",
      "    feature_fraction: 0.9671655966095001\n",
      "    bagging_fraction: 0.8877034650940505\n",
      "    bagging_freq: 5\n",
      "    min_child_samples: 37\n",
      "Predicted tn for the first month: 353.55462640159607\n"
     ]
    },
    {
     "name": "stderr",
     "output_type": "stream",
     "text": [
      "  3%|██▎                                                                            | 23/780 [03:35<1:58:14,  9.37s/it]"
     ]
    },
    {
     "name": "stdout",
     "output_type": "stream",
     "text": [
      "Best trial:\n",
      "  Value: 41.75500909239054\n",
      "  Params: \n",
      "    num_leaves: 29\n",
      "    learning_rate: 0.018918783335954478\n",
      "    feature_fraction: 0.6826977536128886\n",
      "    bagging_fraction: 0.9004531414346468\n",
      "    bagging_freq: 5\n",
      "    min_child_samples: 22\n",
      "Predicted tn for the first month: 279.00873006549676\n"
     ]
    },
    {
     "name": "stderr",
     "output_type": "stream",
     "text": [
      "  3%|██▍                                                                            | 24/780 [03:44<1:58:17,  9.39s/it]"
     ]
    },
    {
     "name": "stdout",
     "output_type": "stream",
     "text": [
      "Best trial:\n",
      "  Value: 66.12094186618924\n",
      "  Params: \n",
      "    num_leaves: 25\n",
      "    learning_rate: 0.050024065500065606\n",
      "    feature_fraction: 0.7434907130384235\n",
      "    bagging_fraction: 0.850526335344647\n",
      "    bagging_freq: 7\n",
      "    min_child_samples: 43\n",
      "Predicted tn for the first month: 156.47814080659546\n"
     ]
    },
    {
     "name": "stderr",
     "output_type": "stream",
     "text": [
      "  3%|██▌                                                                            | 25/780 [03:53<1:58:03,  9.38s/it]"
     ]
    },
    {
     "name": "stdout",
     "output_type": "stream",
     "text": [
      "Best trial:\n",
      "  Value: 88.60863202810287\n",
      "  Params: \n",
      "    num_leaves: 21\n",
      "    learning_rate: 0.07652475763566968\n",
      "    feature_fraction: 0.699341853221507\n",
      "    bagging_fraction: 0.8419563621220345\n",
      "    bagging_freq: 1\n",
      "    min_child_samples: 7\n",
      "Predicted tn for the first month: 255.27684031871794\n"
     ]
    },
    {
     "name": "stderr",
     "output_type": "stream",
     "text": [
      "  3%|██▋                                                                            | 26/780 [04:03<1:58:00,  9.39s/it]"
     ]
    },
    {
     "name": "stdout",
     "output_type": "stream",
     "text": [
      "Best trial:\n",
      "  Value: 70.76088905334473\n",
      "  Params: \n",
      "    num_leaves: 34\n",
      "    learning_rate: 0.010099838578802854\n",
      "    feature_fraction: 0.7709657976510511\n",
      "    bagging_fraction: 0.675487045226579\n",
      "    bagging_freq: 3\n",
      "    min_child_samples: 26\n",
      "Predicted tn for the first month: 317.6162973414357\n"
     ]
    },
    {
     "name": "stderr",
     "output_type": "stream",
     "text": [
      "  3%|██▋                                                                            | 27/780 [04:12<1:57:50,  9.39s/it]"
     ]
    },
    {
     "name": "stdout",
     "output_type": "stream",
     "text": [
      "Best trial:\n",
      "  Value: 25.534171499311924\n",
      "  Params: \n",
      "    num_leaves: 39\n",
      "    learning_rate: 0.08518286206124394\n",
      "    feature_fraction: 0.633465441900869\n",
      "    bagging_fraction: 0.7256577814236521\n",
      "    bagging_freq: 4\n",
      "    min_child_samples: 38\n",
      "Predicted tn for the first month: 285.2316288010343\n"
     ]
    },
    {
     "name": "stderr",
     "output_type": "stream",
     "text": [
      "  4%|██▊                                                                            | 28/780 [04:22<1:57:53,  9.41s/it]"
     ]
    },
    {
     "name": "stdout",
     "output_type": "stream",
     "text": [
      "Best trial:\n",
      "  Value: 125.57931604236364\n",
      "  Params: \n",
      "    num_leaves: 39\n",
      "    learning_rate: 0.014992351280705772\n",
      "    feature_fraction: 0.6709648566297349\n",
      "    bagging_fraction: 0.9176116895231513\n",
      "    bagging_freq: 2\n",
      "    min_child_samples: 28\n",
      "Predicted tn for the first month: 328.2115192655516\n"
     ]
    },
    {
     "name": "stderr",
     "output_type": "stream",
     "text": [
      "  4%|██▉                                                                            | 29/780 [04:31<1:58:02,  9.43s/it]"
     ]
    },
    {
     "name": "stdout",
     "output_type": "stream",
     "text": [
      "Best trial:\n",
      "  Value: 66.30479443073273\n",
      "  Params: \n",
      "    num_leaves: 20\n",
      "    learning_rate: 0.09506435340594625\n",
      "    feature_fraction: 0.9331220854008565\n",
      "    bagging_fraction: 0.7005560328211276\n",
      "    bagging_freq: 5\n",
      "    min_child_samples: 32\n",
      "Predicted tn for the first month: 163.213228317159\n"
     ]
    },
    {
     "name": "stderr",
     "output_type": "stream",
     "text": [
      "  4%|███                                                                            | 30/780 [04:41<1:58:04,  9.45s/it]"
     ]
    },
    {
     "name": "stdout",
     "output_type": "stream",
     "text": [
      "Best trial:\n",
      "  Value: 31.299449563026428\n",
      "  Params: \n",
      "    num_leaves: 30\n",
      "    learning_rate: 0.06309698523645922\n",
      "    feature_fraction: 0.6948369960116382\n",
      "    bagging_fraction: 0.8210857190694644\n",
      "    bagging_freq: 7\n",
      "    min_child_samples: 8\n",
      "Predicted tn for the first month: 94.16680022188822\n"
     ]
    },
    {
     "name": "stderr",
     "output_type": "stream",
     "text": [
      "  4%|███▏                                                                           | 31/780 [04:50<1:57:45,  9.43s/it]"
     ]
    },
    {
     "name": "stdout",
     "output_type": "stream",
     "text": [
      "Best trial:\n",
      "  Value: 92.44978380203247\n",
      "  Params: \n",
      "    num_leaves: 34\n",
      "    learning_rate: 0.013287544792959667\n",
      "    feature_fraction: 0.9571786536380406\n",
      "    bagging_fraction: 0.7188363948332771\n",
      "    bagging_freq: 8\n",
      "    min_child_samples: 35\n",
      "Predicted tn for the first month: 368.7072107692973\n"
     ]
    },
    {
     "name": "stderr",
     "output_type": "stream",
     "text": [
      "  4%|███▏                                                                           | 32/780 [04:59<1:57:22,  9.42s/it]"
     ]
    },
    {
     "name": "stdout",
     "output_type": "stream",
     "text": [
      "Best trial:\n",
      "  Value: 71.56423091888428\n",
      "  Params: \n",
      "    num_leaves: 30\n",
      "    learning_rate: 0.04422787296785254\n",
      "    feature_fraction: 0.8021989704627968\n",
      "    bagging_fraction: 0.7931388743447536\n",
      "    bagging_freq: 8\n",
      "    min_child_samples: 35\n",
      "Predicted tn for the first month: 972.5681725697326\n"
     ]
    },
    {
     "name": "stderr",
     "output_type": "stream",
     "text": [
      "  4%|███▎                                                                           | 33/780 [05:09<1:57:11,  9.41s/it]"
     ]
    },
    {
     "name": "stdout",
     "output_type": "stream",
     "text": [
      "Best trial:\n",
      "  Value: 41.12540292739868\n",
      "  Params: \n",
      "    num_leaves: 33\n",
      "    learning_rate: 0.0798785487793816\n",
      "    feature_fraction: 0.976879130463004\n",
      "    bagging_fraction: 0.9996674230387784\n",
      "    bagging_freq: 1\n",
      "    min_child_samples: 18\n",
      "Predicted tn for the first month: 187.44544003575643\n"
     ]
    },
    {
     "name": "stderr",
     "output_type": "stream",
     "text": [
      "  4%|███▍                                                                           | 34/780 [05:18<1:56:55,  9.40s/it]"
     ]
    },
    {
     "name": "stdout",
     "output_type": "stream",
     "text": [
      "Best trial:\n",
      "  Value: 45.73896062374115\n",
      "  Params: \n",
      "    num_leaves: 25\n",
      "    learning_rate: 0.055083542537095374\n",
      "    feature_fraction: 0.8846999940885065\n",
      "    bagging_fraction: 0.8089774457425217\n",
      "    bagging_freq: 8\n",
      "    min_child_samples: 41\n",
      "Predicted tn for the first month: 194.17949108317057\n"
     ]
    },
    {
     "name": "stderr",
     "output_type": "stream",
     "text": [
      "  4%|███▌                                                                           | 35/780 [05:28<1:56:43,  9.40s/it]"
     ]
    },
    {
     "name": "stdout",
     "output_type": "stream",
     "text": [
      "Best trial:\n",
      "  Value: 79.6536431312561\n",
      "  Params: \n",
      "    num_leaves: 38\n",
      "    learning_rate: 0.071321030155831\n",
      "    feature_fraction: 0.8287776335827789\n",
      "    bagging_fraction: 0.8169522865765776\n",
      "    bagging_freq: 9\n",
      "    min_child_samples: 38\n",
      "Predicted tn for the first month: 94.00857935821534\n"
     ]
    },
    {
     "name": "stderr",
     "output_type": "stream",
     "text": [
      "  5%|███▋                                                                           | 36/780 [05:37<1:56:34,  9.40s/it]"
     ]
    },
    {
     "name": "stdout",
     "output_type": "stream",
     "text": [
      "Best trial:\n",
      "  Value: 45.233372032642365\n",
      "  Params: \n",
      "    num_leaves: 36\n",
      "    learning_rate: 0.039519891570857106\n",
      "    feature_fraction: 0.9238364137367184\n",
      "    bagging_fraction: 0.8736600566840635\n",
      "    bagging_freq: 9\n",
      "    min_child_samples: 41\n",
      "Predicted tn for the first month: 136.20878306747437\n"
     ]
    },
    {
     "name": "stderr",
     "output_type": "stream",
     "text": [
      "  5%|███▋                                                                           | 37/780 [05:46<1:56:24,  9.40s/it]"
     ]
    },
    {
     "name": "stdout",
     "output_type": "stream",
     "text": [
      "Best trial:\n",
      "  Value: 53.90166562795639\n",
      "  Params: \n",
      "    num_leaves: 32\n",
      "    learning_rate: 0.01195025246132858\n",
      "    feature_fraction: 0.8214084764226441\n",
      "    bagging_fraction: 0.8157071248126468\n",
      "    bagging_freq: 10\n",
      "    min_child_samples: 12\n",
      "Predicted tn for the first month: 113.69942737517039\n"
     ]
    },
    {
     "name": "stderr",
     "output_type": "stream",
     "text": [
      "  5%|███▊                                                                           | 38/780 [05:56<1:56:18,  9.41s/it]"
     ]
    },
    {
     "name": "stdout",
     "output_type": "stream",
     "text": [
      "Best trial:\n",
      "  Value: 58.134825348854065\n",
      "  Params: \n",
      "    num_leaves: 27\n",
      "    learning_rate: 0.04061414702526418\n",
      "    feature_fraction: 0.8683874683160584\n",
      "    bagging_fraction: 0.6155097817706192\n",
      "    bagging_freq: 1\n",
      "    min_child_samples: 38\n",
      "Predicted tn for the first month: 95.36002376496633\n"
     ]
    },
    {
     "name": "stderr",
     "output_type": "stream",
     "text": [
      "  5%|███▉                                                                           | 39/780 [06:05<1:56:07,  9.40s/it]"
     ]
    },
    {
     "name": "stdout",
     "output_type": "stream",
     "text": [
      "Best trial:\n",
      "  Value: 40.12852892279625\n",
      "  Params: \n",
      "    num_leaves: 22\n",
      "    learning_rate: 0.04097218392795928\n",
      "    feature_fraction: 0.7672997616128908\n",
      "    bagging_fraction: 0.7092000663496041\n",
      "    bagging_freq: 9\n",
      "    min_child_samples: 24\n",
      "Predicted tn for the first month: 209.64898438219706\n"
     ]
    },
    {
     "name": "stderr",
     "output_type": "stream",
     "text": [
      "  5%|████                                                                           | 40/780 [06:15<1:56:00,  9.41s/it]"
     ]
    },
    {
     "name": "stdout",
     "output_type": "stream",
     "text": [
      "Best trial:\n",
      "  Value: 42.86481100320816\n",
      "  Params: \n",
      "    num_leaves: 31\n",
      "    learning_rate: 0.019115644682216566\n",
      "    feature_fraction: 0.8382767676835731\n",
      "    bagging_fraction: 0.6102217125789975\n",
      "    bagging_freq: 2\n",
      "    min_child_samples: 29\n",
      "Predicted tn for the first month: 155.4425628086535\n"
     ]
    },
    {
     "name": "stderr",
     "output_type": "stream",
     "text": [
      "  5%|████▏                                                                          | 41/780 [06:24<1:55:40,  9.39s/it]"
     ]
    },
    {
     "name": "stdout",
     "output_type": "stream",
     "text": [
      "Best trial:\n",
      "  Value: 48.33585089445114\n",
      "  Params: \n",
      "    num_leaves: 37\n",
      "    learning_rate: 0.02323117317355345\n",
      "    feature_fraction: 0.6814371958006487\n",
      "    bagging_fraction: 0.8551892132486971\n",
      "    bagging_freq: 1\n",
      "    min_child_samples: 23\n",
      "Predicted tn for the first month: 240.27939265726724\n"
     ]
    },
    {
     "name": "stderr",
     "output_type": "stream",
     "text": [
      "  5%|████▎                                                                          | 42/780 [06:33<1:55:37,  9.40s/it]"
     ]
    },
    {
     "name": "stdout",
     "output_type": "stream",
     "text": [
      "Best trial:\n",
      "  Value: 60.77198922634125\n",
      "  Params: \n",
      "    num_leaves: 38\n",
      "    learning_rate: 0.014059816699146107\n",
      "    feature_fraction: 0.987428776544291\n",
      "    bagging_fraction: 0.7894129382472009\n",
      "    bagging_freq: 6\n",
      "    min_child_samples: 8\n",
      "Predicted tn for the first month: 134.9785443587494\n"
     ]
    },
    {
     "name": "stderr",
     "output_type": "stream",
     "text": [
      "  6%|████▎                                                                          | 43/780 [06:43<1:55:26,  9.40s/it]"
     ]
    },
    {
     "name": "stdout",
     "output_type": "stream",
     "text": [
      "Best trial:\n",
      "  Value: 46.548275619745255\n",
      "  Params: \n",
      "    num_leaves: 28\n",
      "    learning_rate: 0.036110173951624955\n",
      "    feature_fraction: 0.7625309387722927\n",
      "    bagging_fraction: 0.7120964141634821\n",
      "    bagging_freq: 7\n",
      "    min_child_samples: 35\n",
      "Predicted tn for the first month: 147.2736613882192\n"
     ]
    },
    {
     "name": "stderr",
     "output_type": "stream",
     "text": [
      "  6%|████▍                                                                          | 44/780 [06:52<1:55:33,  9.42s/it]"
     ]
    },
    {
     "name": "stdout",
     "output_type": "stream",
     "text": [
      "Best trial:\n",
      "  Value: 67.57889711856842\n",
      "  Params: \n",
      "    num_leaves: 22\n",
      "    learning_rate: 0.07304053312581814\n",
      "    feature_fraction: 0.7783899830691023\n",
      "    bagging_fraction: 0.652297318784359\n",
      "    bagging_freq: 3\n",
      "    min_child_samples: 5\n",
      "Predicted tn for the first month: 238.11160644820524\n"
     ]
    },
    {
     "name": "stderr",
     "output_type": "stream",
     "text": [
      "  6%|████▌                                                                          | 45/780 [07:02<1:55:26,  9.42s/it]"
     ]
    },
    {
     "name": "stdout",
     "output_type": "stream",
     "text": [
      "Best trial:\n",
      "  Value: 41.32264482975006\n",
      "  Params: \n",
      "    num_leaves: 31\n",
      "    learning_rate: 0.08394522214669291\n",
      "    feature_fraction: 0.7072855436663292\n",
      "    bagging_fraction: 0.906525495118219\n",
      "    bagging_freq: 7\n",
      "    min_child_samples: 16\n",
      "Predicted tn for the first month: 149.35830013893127\n"
     ]
    },
    {
     "name": "stderr",
     "output_type": "stream",
     "text": [
      "  6%|████▋                                                                          | 46/780 [07:11<1:55:06,  9.41s/it]"
     ]
    },
    {
     "name": "stdout",
     "output_type": "stream",
     "text": [
      "Best trial:\n",
      "  Value: 63.437556743621826\n",
      "  Params: \n",
      "    num_leaves: 24\n",
      "    learning_rate: 0.07139022157110696\n",
      "    feature_fraction: 0.8346365761642625\n",
      "    bagging_fraction: 0.8351926301425951\n",
      "    bagging_freq: 3\n",
      "    min_child_samples: 25\n",
      "Predicted tn for the first month: 149.72047115281424\n"
     ]
    },
    {
     "name": "stderr",
     "output_type": "stream",
     "text": [
      "  6%|████▊                                                                          | 47/780 [07:20<1:55:02,  9.42s/it]"
     ]
    },
    {
     "name": "stdout",
     "output_type": "stream",
     "text": [
      "Best trial:\n",
      "  Value: 50.47566717863083\n",
      "  Params: \n",
      "    num_leaves: 28\n",
      "    learning_rate: 0.012305642673826367\n",
      "    feature_fraction: 0.6330886755650257\n",
      "    bagging_fraction: 0.9396348507493819\n",
      "    bagging_freq: 2\n",
      "    min_child_samples: 21\n",
      "Predicted tn for the first month: 102.86012754588445\n"
     ]
    },
    {
     "name": "stderr",
     "output_type": "stream",
     "text": [
      "  6%|████▊                                                                          | 48/780 [07:30<1:54:39,  9.40s/it]"
     ]
    },
    {
     "name": "stdout",
     "output_type": "stream",
     "text": [
      "Best trial:\n",
      "  Value: 47.57787215709686\n",
      "  Params: \n",
      "    num_leaves: 29\n",
      "    learning_rate: 0.013888132926233178\n",
      "    feature_fraction: 0.8690540443415726\n",
      "    bagging_fraction: 0.7453600055214898\n",
      "    bagging_freq: 10\n",
      "    min_child_samples: 21\n",
      "Predicted tn for the first month: 73.29675865896225\n"
     ]
    },
    {
     "name": "stderr",
     "output_type": "stream",
     "text": [
      "  6%|████▉                                                                          | 49/780 [07:39<1:54:27,  9.39s/it]"
     ]
    },
    {
     "name": "stdout",
     "output_type": "stream",
     "text": [
      "Best trial:\n",
      "  Value: 33.866830572485924\n",
      "  Params: \n",
      "    num_leaves: 40\n",
      "    learning_rate: 0.01266270466592834\n",
      "    feature_fraction: 0.9554447260378023\n",
      "    bagging_fraction: 0.928819438268516\n",
      "    bagging_freq: 10\n",
      "    min_child_samples: 48\n",
      "Predicted tn for the first month: 177.4975674479548\n"
     ]
    },
    {
     "name": "stderr",
     "output_type": "stream",
     "text": [
      "  6%|█████                                                                          | 50/780 [07:49<1:54:21,  9.40s/it]"
     ]
    },
    {
     "name": "stdout",
     "output_type": "stream",
     "text": [
      "Best trial:\n",
      "  Value: 42.9226690530777\n",
      "  Params: \n",
      "    num_leaves: 24\n",
      "    learning_rate: 0.06893963993492923\n",
      "    feature_fraction: 0.8515083751227011\n",
      "    bagging_fraction: 0.7351804192458514\n",
      "    bagging_freq: 9\n",
      "    min_child_samples: 41\n",
      "Predicted tn for the first month: 179.4847379503123\n"
     ]
    },
    {
     "name": "stderr",
     "output_type": "stream",
     "text": [
      "  7%|█████▏                                                                         | 51/780 [07:58<1:54:07,  9.39s/it]"
     ]
    },
    {
     "name": "stdout",
     "output_type": "stream",
     "text": [
      "Best trial:\n",
      "  Value: 46.12158864736557\n",
      "  Params: \n",
      "    num_leaves: 27\n",
      "    learning_rate: 0.09783847111043595\n",
      "    feature_fraction: 0.9248901578174562\n",
      "    bagging_fraction: 0.7569091901095578\n",
      "    bagging_freq: 7\n",
      "    min_child_samples: 50\n",
      "Predicted tn for the first month: 55.988533273874914\n"
     ]
    },
    {
     "name": "stderr",
     "output_type": "stream",
     "text": [
      "  7%|█████▎                                                                         | 52/780 [08:07<1:54:06,  9.40s/it]"
     ]
    },
    {
     "name": "stdout",
     "output_type": "stream",
     "text": [
      "Best trial:\n",
      "  Value: 51.63965554535389\n",
      "  Params: \n",
      "    num_leaves: 23\n",
      "    learning_rate: 0.02369229778771999\n",
      "    feature_fraction: 0.8233739994342887\n",
      "    bagging_fraction: 0.6041521408025051\n",
      "    bagging_freq: 6\n",
      "    min_child_samples: 13\n",
      "Predicted tn for the first month: 70.56594959173839\n"
     ]
    },
    {
     "name": "stderr",
     "output_type": "stream",
     "text": [
      "  7%|█████▎                                                                         | 53/780 [08:17<1:53:48,  9.39s/it]"
     ]
    },
    {
     "name": "stdout",
     "output_type": "stream",
     "text": [
      "Best trial:\n",
      "  Value: 57.22942087240517\n",
      "  Params: \n",
      "    num_leaves: 27\n",
      "    learning_rate: 0.08400303216089025\n",
      "    feature_fraction: 0.8030752988970464\n",
      "    bagging_fraction: 0.9078964961882808\n",
      "    bagging_freq: 3\n",
      "    min_child_samples: 37\n",
      "Predicted tn for the first month: 96.17055295983155\n"
     ]
    },
    {
     "name": "stderr",
     "output_type": "stream",
     "text": [
      "  7%|█████▍                                                                         | 54/780 [08:26<1:53:41,  9.40s/it]"
     ]
    },
    {
     "name": "stdout",
     "output_type": "stream",
     "text": [
      "Best trial:\n",
      "  Value: 32.802556321024895\n",
      "  Params: \n",
      "    num_leaves: 21\n",
      "    learning_rate: 0.032836136924299174\n",
      "    feature_fraction: 0.9421982190120967\n",
      "    bagging_fraction: 0.6141661701716975\n",
      "    bagging_freq: 2\n",
      "    min_child_samples: 11\n",
      "Predicted tn for the first month: 112.51779357578278\n"
     ]
    },
    {
     "name": "stderr",
     "output_type": "stream",
     "text": [
      "  7%|█████▌                                                                         | 55/780 [08:36<1:53:36,  9.40s/it]"
     ]
    },
    {
     "name": "stdout",
     "output_type": "stream",
     "text": [
      "Best trial:\n",
      "  Value: 27.76587450504303\n",
      "  Params: \n",
      "    num_leaves: 39\n",
      "    learning_rate: 0.05675528976436955\n",
      "    feature_fraction: 0.6702531164927298\n",
      "    bagging_fraction: 0.7054519736484329\n",
      "    bagging_freq: 2\n",
      "    min_child_samples: 10\n",
      "Predicted tn for the first month: 160.3275655894216\n"
     ]
    },
    {
     "name": "stderr",
     "output_type": "stream",
     "text": [
      "  7%|█████▋                                                                         | 56/780 [08:45<1:53:32,  9.41s/it]"
     ]
    },
    {
     "name": "stdout",
     "output_type": "stream",
     "text": [
      "Best trial:\n",
      "  Value: 32.833995938301086\n",
      "  Params: \n",
      "    num_leaves: 38\n",
      "    learning_rate: 0.07170829564894343\n",
      "    feature_fraction: 0.6426552099377411\n",
      "    bagging_fraction: 0.7276629406279873\n",
      "    bagging_freq: 10\n",
      "    min_child_samples: 14\n",
      "Predicted tn for the first month: 149.11521035663606\n"
     ]
    },
    {
     "name": "stderr",
     "output_type": "stream",
     "text": [
      "  7%|█████▊                                                                         | 57/780 [08:54<1:53:26,  9.41s/it]"
     ]
    },
    {
     "name": "stdout",
     "output_type": "stream",
     "text": [
      "Best trial:\n",
      "  Value: 20.52192044025287\n",
      "  Params: \n",
      "    num_leaves: 27\n",
      "    learning_rate: 0.01693677225471924\n",
      "    feature_fraction: 0.9052854990867796\n",
      "    bagging_fraction: 0.849343157284013\n",
      "    bagging_freq: 1\n",
      "    min_child_samples: 6\n",
      "Predicted tn for the first month: 115.57279804822419\n"
     ]
    },
    {
     "name": "stderr",
     "output_type": "stream",
     "text": [
      "  7%|█████▊                                                                         | 58/780 [09:04<1:53:32,  9.44s/it]"
     ]
    },
    {
     "name": "stdout",
     "output_type": "stream",
     "text": [
      "Best trial:\n",
      "  Value: 34.38626119494438\n",
      "  Params: \n",
      "    num_leaves: 26\n",
      "    learning_rate: 0.024440667238789893\n",
      "    feature_fraction: 0.8846510704984079\n",
      "    bagging_fraction: 0.9981042906009713\n",
      "    bagging_freq: 7\n",
      "    min_child_samples: 29\n",
      "Predicted tn for the first month: 147.71889328564964\n"
     ]
    },
    {
     "name": "stderr",
     "output_type": "stream",
     "text": [
      "  8%|█████▉                                                                         | 59/780 [09:13<1:53:15,  9.43s/it]"
     ]
    },
    {
     "name": "stdout",
     "output_type": "stream",
     "text": [
      "Best trial:\n",
      "  Value: 44.49729406833649\n",
      "  Params: \n",
      "    num_leaves: 31\n",
      "    learning_rate: 0.033596824781890806\n",
      "    feature_fraction: 0.8469915398376255\n",
      "    bagging_fraction: 0.9728042206965071\n",
      "    bagging_freq: 6\n",
      "    min_child_samples: 16\n",
      "Predicted tn for the first month: 111.22839029866536\n"
     ]
    },
    {
     "name": "stderr",
     "output_type": "stream",
     "text": [
      "  8%|██████                                                                         | 60/780 [09:23<1:53:04,  9.42s/it]"
     ]
    },
    {
     "name": "stdout",
     "output_type": "stream",
     "text": [
      "Best trial:\n",
      "  Value: 56.91943073272705\n",
      "  Params: \n",
      "    num_leaves: 31\n",
      "    learning_rate: 0.03031681509921312\n",
      "    feature_fraction: 0.7866368748130108\n",
      "    bagging_fraction: 0.8397586409698764\n",
      "    bagging_freq: 8\n",
      "    min_child_samples: 11\n",
      "Predicted tn for the first month: 140.25790981440227\n"
     ]
    },
    {
     "name": "stderr",
     "output_type": "stream",
     "text": [
      "  8%|██████▏                                                                        | 61/780 [09:32<1:53:07,  9.44s/it]"
     ]
    },
    {
     "name": "stdout",
     "output_type": "stream",
     "text": [
      "Best trial:\n",
      "  Value: 74.79328274726868\n",
      "  Params: \n",
      "    num_leaves: 24\n",
      "    learning_rate: 0.051443312607388506\n",
      "    feature_fraction: 0.786698929752137\n",
      "    bagging_fraction: 0.6670848460818386\n",
      "    bagging_freq: 6\n",
      "    min_child_samples: 25\n",
      "Predicted tn for the first month: 141.62369519154868\n"
     ]
    },
    {
     "name": "stderr",
     "output_type": "stream",
     "text": [
      "  8%|██████▎                                                                        | 62/780 [09:42<1:52:51,  9.43s/it]"
     ]
    },
    {
     "name": "stdout",
     "output_type": "stream",
     "text": [
      "Best trial:\n",
      "  Value: 24.909105747938156\n",
      "  Params: \n",
      "    num_leaves: 26\n",
      "    learning_rate: 0.011474764291524404\n",
      "    feature_fraction: 0.9226584865271816\n",
      "    bagging_fraction: 0.9317356205535977\n",
      "    bagging_freq: 3\n",
      "    min_child_samples: 28\n",
      "Predicted tn for the first month: 106.91043491735458\n"
     ]
    },
    {
     "name": "stderr",
     "output_type": "stream",
     "text": [
      "  8%|██████▍                                                                        | 63/780 [09:51<1:52:40,  9.43s/it]"
     ]
    },
    {
     "name": "stdout",
     "output_type": "stream",
     "text": [
      "Best trial:\n",
      "  Value: 53.32784414291382\n",
      "  Params: \n",
      "    num_leaves: 28\n",
      "    learning_rate: 0.04959026638830367\n",
      "    feature_fraction: 0.6801451206855611\n",
      "    bagging_fraction: 0.9892051812923534\n",
      "    bagging_freq: 5\n",
      "    min_child_samples: 36\n",
      "Predicted tn for the first month: 110.83445629788716\n"
     ]
    },
    {
     "name": "stderr",
     "output_type": "stream",
     "text": [
      "  8%|██████▍                                                                        | 64/780 [10:01<1:52:27,  9.42s/it]"
     ]
    },
    {
     "name": "stdout",
     "output_type": "stream",
     "text": [
      "Best trial:\n",
      "  Value: 28.077279448509216\n",
      "  Params: \n",
      "    num_leaves: 20\n",
      "    learning_rate: 0.0655982321672424\n",
      "    feature_fraction: 0.8867062013975782\n",
      "    bagging_fraction: 0.6176024399662849\n",
      "    bagging_freq: 1\n",
      "    min_child_samples: 16\n",
      "Predicted tn for the first month: 126.25541847195943\n"
     ]
    },
    {
     "name": "stderr",
     "output_type": "stream",
     "text": [
      "  8%|██████▌                                                                        | 65/780 [10:10<1:52:13,  9.42s/it]"
     ]
    },
    {
     "name": "stdout",
     "output_type": "stream",
     "text": [
      "Best trial:\n",
      "  Value: 63.422013733536005\n",
      "  Params: \n",
      "    num_leaves: 24\n",
      "    learning_rate: 0.0686143063347516\n",
      "    feature_fraction: 0.8880377493495912\n",
      "    bagging_fraction: 0.9631948086068032\n",
      "    bagging_freq: 1\n",
      "    min_child_samples: 41\n",
      "Predicted tn for the first month: 79.46056041173618\n"
     ]
    },
    {
     "name": "stderr",
     "output_type": "stream",
     "text": [
      "  8%|██████▋                                                                        | 66/780 [10:19<1:52:29,  9.45s/it]"
     ]
    },
    {
     "name": "stdout",
     "output_type": "stream",
     "text": [
      "Best trial:\n",
      "  Value: 20.38695752620697\n",
      "  Params: \n",
      "    num_leaves: 21\n",
      "    learning_rate: 0.02235387175323232\n",
      "    feature_fraction: 0.9271899085067812\n",
      "    bagging_fraction: 0.9127364789843668\n",
      "    bagging_freq: 6\n",
      "    min_child_samples: 33\n",
      "Predicted tn for the first month: 83.98435505805969\n"
     ]
    },
    {
     "name": "stderr",
     "output_type": "stream",
     "text": [
      "  9%|██████▊                                                                        | 67/780 [10:29<1:52:35,  9.47s/it]"
     ]
    },
    {
     "name": "stdout",
     "output_type": "stream",
     "text": [
      "Best trial:\n",
      "  Value: 19.211034439504147\n",
      "  Params: \n",
      "    num_leaves: 39\n",
      "    learning_rate: 0.01639610346664612\n",
      "    feature_fraction: 0.6617650487636102\n",
      "    bagging_fraction: 0.8605689005798702\n",
      "    bagging_freq: 8\n",
      "    min_child_samples: 31\n",
      "Predicted tn for the first month: 123.37389678556602\n"
     ]
    },
    {
     "name": "stderr",
     "output_type": "stream",
     "text": [
      "  9%|██████▉                                                                        | 68/780 [10:39<1:52:42,  9.50s/it]"
     ]
    },
    {
     "name": "stdout",
     "output_type": "stream",
     "text": [
      "Best trial:\n",
      "  Value: 23.380493238568306\n",
      "  Params: \n",
      "    num_leaves: 37\n",
      "    learning_rate: 0.014056783926555816\n",
      "    feature_fraction: 0.867606485389238\n",
      "    bagging_fraction: 0.7366730624563531\n",
      "    bagging_freq: 7\n",
      "    min_child_samples: 29\n",
      "Predicted tn for the first month: 72.37926540458679\n"
     ]
    },
    {
     "name": "stderr",
     "output_type": "stream",
     "text": [
      "  9%|██████▉                                                                        | 69/780 [10:48<1:52:23,  9.48s/it]"
     ]
    },
    {
     "name": "stdout",
     "output_type": "stream",
     "text": [
      "Best trial:\n",
      "  Value: 29.180460393428802\n",
      "  Params: \n",
      "    num_leaves: 21\n",
      "    learning_rate: 0.01411145027306445\n",
      "    feature_fraction: 0.6684993542580385\n",
      "    bagging_fraction: 0.870106820812882\n",
      "    bagging_freq: 1\n",
      "    min_child_samples: 27\n",
      "Predicted tn for the first month: 171.4083150500425\n"
     ]
    },
    {
     "name": "stderr",
     "output_type": "stream",
     "text": [
      "  9%|███████                                                                        | 70/780 [10:57<1:52:06,  9.47s/it]"
     ]
    },
    {
     "name": "stdout",
     "output_type": "stream",
     "text": [
      "Best trial:\n",
      "  Value: 22.943383783102036\n",
      "  Params: \n",
      "    num_leaves: 26\n",
      "    learning_rate: 0.0348387333430217\n",
      "    feature_fraction: 0.631864191280743\n",
      "    bagging_fraction: 0.8737921656302716\n",
      "    bagging_freq: 4\n",
      "    min_child_samples: 43\n",
      "Predicted tn for the first month: 142.71885344209036\n"
     ]
    },
    {
     "name": "stderr",
     "output_type": "stream",
     "text": [
      "  9%|███████▏                                                                       | 71/780 [11:07<1:51:52,  9.47s/it]"
     ]
    },
    {
     "name": "stdout",
     "output_type": "stream",
     "text": [
      "Best trial:\n",
      "  Value: 39.48539665341377\n",
      "  Params: \n",
      "    num_leaves: 20\n",
      "    learning_rate: 0.011946831445898986\n",
      "    feature_fraction: 0.8968963022750593\n",
      "    bagging_fraction: 0.929807408532132\n",
      "    bagging_freq: 2\n",
      "    min_child_samples: 22\n",
      "Predicted tn for the first month: 78.04301438542683\n"
     ]
    },
    {
     "name": "stderr",
     "output_type": "stream",
     "text": [
      "  9%|███████▎                                                                       | 72/780 [11:16<1:51:27,  9.45s/it]"
     ]
    },
    {
     "name": "stdout",
     "output_type": "stream",
     "text": [
      "Best trial:\n",
      "  Value: 24.895728290081024\n",
      "  Params: \n",
      "    num_leaves: 36\n",
      "    learning_rate: 0.013397194126232106\n",
      "    feature_fraction: 0.8719380310853051\n",
      "    bagging_fraction: 0.7274589444941378\n",
      "    bagging_freq: 5\n",
      "    min_child_samples: 28\n",
      "Predicted tn for the first month: 44.355695361213684\n"
     ]
    },
    {
     "name": "stderr",
     "output_type": "stream",
     "text": [
      "  9%|███████▍                                                                       | 73/780 [11:26<1:51:13,  9.44s/it]"
     ]
    },
    {
     "name": "stdout",
     "output_type": "stream",
     "text": [
      "Best trial:\n",
      "  Value: 31.82552171126008\n",
      "  Params: \n",
      "    num_leaves: 31\n",
      "    learning_rate: 0.0630023378494344\n",
      "    feature_fraction: 0.6359187464070785\n",
      "    bagging_fraction: 0.9098472471697255\n",
      "    bagging_freq: 8\n",
      "    min_child_samples: 17\n",
      "Predicted tn for the first month: 126.36555517729839\n"
     ]
    },
    {
     "name": "stderr",
     "output_type": "stream",
     "text": [
      "  9%|███████▍                                                                       | 74/780 [11:35<1:51:02,  9.44s/it]"
     ]
    },
    {
     "name": "stdout",
     "output_type": "stream",
     "text": [
      "Best trial:\n",
      "  Value: 22.072049975395203\n",
      "  Params: \n",
      "    num_leaves: 24\n",
      "    learning_rate: 0.043753786884422496\n",
      "    feature_fraction: 0.7630507323000238\n",
      "    bagging_fraction: 0.8565556911147927\n",
      "    bagging_freq: 3\n",
      "    min_child_samples: 48\n",
      "Predicted tn for the first month: 97.71352497003276\n"
     ]
    },
    {
     "name": "stderr",
     "output_type": "stream",
     "text": [
      " 10%|███████▌                                                                       | 75/780 [11:45<1:51:01,  9.45s/it]"
     ]
    },
    {
     "name": "stdout",
     "output_type": "stream",
     "text": [
      "Best trial:\n",
      "  Value: 32.99150633811951\n",
      "  Params: \n",
      "    num_leaves: 37\n",
      "    learning_rate: 0.02319119843343653\n",
      "    feature_fraction: 0.6387077103640786\n",
      "    bagging_fraction: 0.7408209559757133\n",
      "    bagging_freq: 7\n",
      "    min_child_samples: 16\n",
      "Predicted tn for the first month: 37.46325131853739\n"
     ]
    },
    {
     "name": "stderr",
     "output_type": "stream",
     "text": [
      " 10%|███████▋                                                                       | 76/780 [11:54<1:50:44,  9.44s/it]"
     ]
    },
    {
     "name": "stdout",
     "output_type": "stream",
     "text": [
      "Best trial:\n",
      "  Value: 34.903060644865036\n",
      "  Params: \n",
      "    num_leaves: 22\n",
      "    learning_rate: 0.056897087625814524\n",
      "    feature_fraction: 0.6783704375281786\n",
      "    bagging_fraction: 0.736036884454647\n",
      "    bagging_freq: 4\n",
      "    min_child_samples: 7\n",
      "Predicted tn for the first month: 170.28343863264084\n"
     ]
    },
    {
     "name": "stderr",
     "output_type": "stream",
     "text": [
      " 10%|███████▊                                                                       | 77/780 [12:03<1:50:32,  9.43s/it]"
     ]
    },
    {
     "name": "stdout",
     "output_type": "stream",
     "text": [
      "Best trial:\n",
      "  Value: 73.87230920791626\n",
      "  Params: \n",
      "    num_leaves: 24\n",
      "    learning_rate: 0.06058002087532665\n",
      "    feature_fraction: 0.6003611793029029\n",
      "    bagging_fraction: 0.9043461662783422\n",
      "    bagging_freq: 3\n",
      "    min_child_samples: 42\n",
      "Predicted tn for the first month: 248.07241315210976\n"
     ]
    },
    {
     "name": "stderr",
     "output_type": "stream",
     "text": [
      " 10%|███████▉                                                                       | 78/780 [12:13<1:50:21,  9.43s/it]"
     ]
    },
    {
     "name": "stdout",
     "output_type": "stream",
     "text": [
      "Best trial:\n",
      "  Value: 23.48585593700409\n",
      "  Params: \n",
      "    num_leaves: 28\n",
      "    learning_rate: 0.04202206283541973\n",
      "    feature_fraction: 0.648884941747108\n",
      "    bagging_fraction: 0.7358263075453574\n",
      "    bagging_freq: 9\n",
      "    min_child_samples: 24\n",
      "Predicted tn for the first month: 52.73328006120047\n"
     ]
    },
    {
     "name": "stderr",
     "output_type": "stream",
     "text": [
      " 10%|████████                                                                       | 79/780 [12:22<1:50:11,  9.43s/it]"
     ]
    },
    {
     "name": "stdout",
     "output_type": "stream",
     "text": [
      "Best trial:\n",
      "  Value: 56.24471686081961\n",
      "  Params: \n",
      "    num_leaves: 39\n",
      "    learning_rate: 0.04538684091366687\n",
      "    feature_fraction: 0.7093855474088935\n",
      "    bagging_fraction: 0.7574007269205462\n",
      "    bagging_freq: 7\n",
      "    min_child_samples: 12\n",
      "Predicted tn for the first month: 58.99930127700607\n"
     ]
    },
    {
     "name": "stderr",
     "output_type": "stream",
     "text": [
      " 10%|████████                                                                       | 80/780 [12:32<1:49:57,  9.43s/it]"
     ]
    },
    {
     "name": "stdout",
     "output_type": "stream",
     "text": [
      "Best trial:\n",
      "  Value: 67.453233897686\n",
      "  Params: \n",
      "    num_leaves: 39\n",
      "    learning_rate: 0.018245182176741932\n",
      "    feature_fraction: 0.957705344435373\n",
      "    bagging_fraction: 0.726691174799798\n",
      "    bagging_freq: 2\n",
      "    min_child_samples: 19\n",
      "Predicted tn for the first month: 261.57446163173677\n"
     ]
    },
    {
     "name": "stderr",
     "output_type": "stream",
     "text": [
      " 10%|████████▏                                                                      | 81/780 [12:41<1:49:35,  9.41s/it]"
     ]
    },
    {
     "name": "stdout",
     "output_type": "stream",
     "text": [
      "Best trial:\n",
      "  Value: 28.614632293581963\n",
      "  Params: \n",
      "    num_leaves: 29\n",
      "    learning_rate: 0.015815479556329597\n",
      "    feature_fraction: 0.6367591468229612\n",
      "    bagging_fraction: 0.9918250203106199\n",
      "    bagging_freq: 6\n",
      "    min_child_samples: 7\n",
      "Predicted tn for the first month: 56.732751564257946\n"
     ]
    },
    {
     "name": "stderr",
     "output_type": "stream",
     "text": [
      " 11%|████████▎                                                                      | 82/780 [12:51<1:49:41,  9.43s/it]"
     ]
    },
    {
     "name": "stdout",
     "output_type": "stream",
     "text": [
      "Best trial:\n",
      "  Value: 33.97323727607727\n",
      "  Params: \n",
      "    num_leaves: 32\n",
      "    learning_rate: 0.043220946256055555\n",
      "    feature_fraction: 0.640860988666831\n",
      "    bagging_fraction: 0.6263721919838371\n",
      "    bagging_freq: 7\n",
      "    min_child_samples: 25\n",
      "Predicted tn for the first month: 115.35458196767807\n"
     ]
    },
    {
     "name": "stderr",
     "output_type": "stream",
     "text": [
      " 11%|████████▍                                                                      | 83/780 [13:00<1:49:29,  9.42s/it]"
     ]
    },
    {
     "name": "stdout",
     "output_type": "stream",
     "text": [
      "Best trial:\n",
      "  Value: 24.88275556266308\n",
      "  Params: \n",
      "    num_leaves: 32\n",
      "    learning_rate: 0.051633120413888914\n",
      "    feature_fraction: 0.7144949564349152\n",
      "    bagging_fraction: 0.9692499765149845\n",
      "    bagging_freq: 2\n",
      "    min_child_samples: 48\n",
      "Predicted tn for the first month: 64.14749239081382\n"
     ]
    },
    {
     "name": "stderr",
     "output_type": "stream",
     "text": [
      " 11%|████████▌                                                                      | 84/780 [13:09<1:49:16,  9.42s/it]"
     ]
    },
    {
     "name": "stdout",
     "output_type": "stream",
     "text": [
      "Best trial:\n",
      "  Value: 23.682408928871155\n",
      "  Params: \n",
      "    num_leaves: 23\n",
      "    learning_rate: 0.06530186492063943\n",
      "    feature_fraction: 0.7674107540884141\n",
      "    bagging_fraction: 0.8291839698242972\n",
      "    bagging_freq: 4\n",
      "    min_child_samples: 12\n",
      "Predicted tn for the first month: 105.39642740910847\n"
     ]
    },
    {
     "name": "stderr",
     "output_type": "stream",
     "text": [
      " 11%|████████▌                                                                      | 85/780 [13:19<1:49:11,  9.43s/it]"
     ]
    },
    {
     "name": "stdout",
     "output_type": "stream",
     "text": [
      "Best trial:\n",
      "  Value: 26.341864317655563\n",
      "  Params: \n",
      "    num_leaves: 33\n",
      "    learning_rate: 0.02376680919427901\n",
      "    feature_fraction: 0.6366423163878873\n",
      "    bagging_fraction: 0.9872360531936426\n",
      "    bagging_freq: 5\n",
      "    min_child_samples: 47\n",
      "Predicted tn for the first month: 129.4850030209287\n"
     ]
    },
    {
     "name": "stderr",
     "output_type": "stream",
     "text": [
      " 11%|████████▋                                                                      | 86/780 [13:28<1:49:28,  9.47s/it]"
     ]
    },
    {
     "name": "stdout",
     "output_type": "stream",
     "text": [
      "Best trial:\n",
      "  Value: 44.006123438477516\n",
      "  Params: \n",
      "    num_leaves: 35\n",
      "    learning_rate: 0.01698223114149891\n",
      "    feature_fraction: 0.9901878115395819\n",
      "    bagging_fraction: 0.7504283189392863\n",
      "    bagging_freq: 1\n",
      "    min_child_samples: 5\n",
      "Predicted tn for the first month: 85.08604084491448\n"
     ]
    },
    {
     "name": "stderr",
     "output_type": "stream",
     "text": [
      " 11%|████████▊                                                                      | 87/780 [13:38<1:49:11,  9.45s/it]"
     ]
    },
    {
     "name": "stdout",
     "output_type": "stream",
     "text": [
      "Best trial:\n",
      "  Value: 33.69243460893631\n",
      "  Params: \n",
      "    num_leaves: 22\n",
      "    learning_rate: 0.019292264130939787\n",
      "    feature_fraction: 0.6904606538775526\n",
      "    bagging_fraction: 0.9059531217118436\n",
      "    bagging_freq: 3\n",
      "    min_child_samples: 31\n",
      "Predicted tn for the first month: 62.36974155682882\n"
     ]
    },
    {
     "name": "stderr",
     "output_type": "stream",
     "text": [
      " 11%|████████▉                                                                      | 88/780 [13:47<1:48:54,  9.44s/it]"
     ]
    },
    {
     "name": "stdout",
     "output_type": "stream",
     "text": [
      "Best trial:\n",
      "  Value: 23.346294924616814\n",
      "  Params: \n",
      "    num_leaves: 23\n",
      "    learning_rate: 0.0472136609834706\n",
      "    feature_fraction: 0.8276284448945681\n",
      "    bagging_fraction: 0.8629961305126864\n",
      "    bagging_freq: 3\n",
      "    min_child_samples: 6\n",
      "Predicted tn for the first month: 38.6162758564982\n"
     ]
    },
    {
     "name": "stderr",
     "output_type": "stream",
     "text": [
      " 11%|█████████                                                                      | 89/780 [13:57<1:48:45,  9.44s/it]"
     ]
    },
    {
     "name": "stdout",
     "output_type": "stream",
     "text": [
      "Best trial:\n",
      "  Value: 27.05861485004425\n",
      "  Params: \n",
      "    num_leaves: 38\n",
      "    learning_rate: 0.05026981820716447\n",
      "    feature_fraction: 0.7217217087771014\n",
      "    bagging_fraction: 0.6286114060647766\n",
      "    bagging_freq: 4\n",
      "    min_child_samples: 15\n",
      "Predicted tn for the first month: 62.44780896876017\n"
     ]
    },
    {
     "name": "stderr",
     "output_type": "stream",
     "text": [
      " 12%|█████████                                                                      | 90/780 [14:06<1:48:36,  9.44s/it]"
     ]
    },
    {
     "name": "stdout",
     "output_type": "stream",
     "text": [
      "Best trial:\n",
      "  Value: 37.380583342164755\n",
      "  Params: \n",
      "    num_leaves: 31\n",
      "    learning_rate: 0.01851560142687423\n",
      "    feature_fraction: 0.7509845490461784\n",
      "    bagging_fraction: 0.8172991708355144\n",
      "    bagging_freq: 1\n",
      "    min_child_samples: 7\n",
      "Predicted tn for the first month: 19.82613150689602\n"
     ]
    },
    {
     "name": "stderr",
     "output_type": "stream",
     "text": [
      " 12%|█████████▏                                                                     | 91/780 [14:16<1:48:23,  9.44s/it]"
     ]
    },
    {
     "name": "stdout",
     "output_type": "stream",
     "text": [
      "Best trial:\n",
      "  Value: 19.734829053282738\n",
      "  Params: \n",
      "    num_leaves: 33\n",
      "    learning_rate: 0.02487140872963787\n",
      "    feature_fraction: 0.8184874887505741\n",
      "    bagging_fraction: 0.7750956148997723\n",
      "    bagging_freq: 5\n",
      "    min_child_samples: 30\n",
      "Predicted tn for the first month: 90.12071238585472\n"
     ]
    },
    {
     "name": "stderr",
     "output_type": "stream",
     "text": [
      " 12%|█████████▎                                                                     | 92/780 [14:25<1:48:11,  9.44s/it]"
     ]
    },
    {
     "name": "stdout",
     "output_type": "stream",
     "text": [
      "Best trial:\n",
      "  Value: 9.070203930139542\n",
      "  Params: \n",
      "    num_leaves: 37\n",
      "    learning_rate: 0.09182005638326195\n",
      "    feature_fraction: 0.7905371157154859\n",
      "    bagging_fraction: 0.7738133358336643\n",
      "    bagging_freq: 3\n",
      "    min_child_samples: 6\n",
      "Predicted tn for the first month: 46.25433723045914\n"
     ]
    },
    {
     "name": "stderr",
     "output_type": "stream",
     "text": [
      " 12%|█████████▍                                                                     | 93/780 [14:34<1:47:56,  9.43s/it]"
     ]
    },
    {
     "name": "stdout",
     "output_type": "stream",
     "text": [
      "Best trial:\n",
      "  Value: 20.002005100250244\n",
      "  Params: \n",
      "    num_leaves: 20\n",
      "    learning_rate: 0.017423129057900735\n",
      "    feature_fraction: 0.951869436224887\n",
      "    bagging_fraction: 0.6410832599471927\n",
      "    bagging_freq: 3\n",
      "    min_child_samples: 14\n",
      "Predicted tn for the first month: 84.73230674931366\n"
     ]
    },
    {
     "name": "stderr",
     "output_type": "stream",
     "text": [
      " 12%|█████████▌                                                                     | 94/780 [14:44<1:48:05,  9.45s/it]"
     ]
    },
    {
     "name": "stdout",
     "output_type": "stream",
     "text": [
      "Best trial:\n",
      "  Value: 14.524965271353722\n",
      "  Params: \n",
      "    num_leaves: 40\n",
      "    learning_rate: 0.04143528858745049\n",
      "    feature_fraction: 0.818002769035146\n",
      "    bagging_fraction: 0.7575503701514515\n",
      "    bagging_freq: 2\n",
      "    min_child_samples: 13\n",
      "Predicted tn for the first month: 63.637665030329224\n"
     ]
    },
    {
     "name": "stderr",
     "output_type": "stream",
     "text": [
      " 12%|█████████▌                                                                     | 95/780 [14:53<1:48:00,  9.46s/it]"
     ]
    },
    {
     "name": "stdout",
     "output_type": "stream",
     "text": [
      "Best trial:\n",
      "  Value: 22.02682138979435\n",
      "  Params: \n",
      "    num_leaves: 28\n",
      "    learning_rate: 0.041390588390724146\n",
      "    feature_fraction: 0.9818900432252509\n",
      "    bagging_fraction: 0.9692964067092945\n",
      "    bagging_freq: 4\n",
      "    min_child_samples: 50\n",
      "Predicted tn for the first month: 73.14616006455739\n"
     ]
    },
    {
     "name": "stderr",
     "output_type": "stream",
     "text": [
      " 12%|█████████▋                                                                     | 96/780 [15:03<1:47:48,  9.46s/it]"
     ]
    },
    {
     "name": "stdout",
     "output_type": "stream",
     "text": [
      "Best trial:\n",
      "  Value: 9.438689470291138\n",
      "  Params: \n",
      "    num_leaves: 20\n",
      "    learning_rate: 0.0804404711670124\n",
      "    feature_fraction: 0.8367433929071934\n",
      "    bagging_fraction: 0.730976326667677\n",
      "    bagging_freq: 9\n",
      "    min_child_samples: 37\n",
      "Predicted tn for the first month: 78.84620676358382\n"
     ]
    },
    {
     "name": "stderr",
     "output_type": "stream",
     "text": [
      " 12%|█████████▊                                                                     | 97/780 [15:12<1:47:35,  9.45s/it]"
     ]
    },
    {
     "name": "stdout",
     "output_type": "stream",
     "text": [
      "Best trial:\n",
      "  Value: 11.884024161845446\n",
      "  Params: \n",
      "    num_leaves: 23\n",
      "    learning_rate: 0.01608327460486883\n",
      "    feature_fraction: 0.7354254632234805\n",
      "    bagging_fraction: 0.8800654430056292\n",
      "    bagging_freq: 5\n",
      "    min_child_samples: 42\n",
      "Predicted tn for the first month: 43.1306066291968\n"
     ]
    },
    {
     "name": "stderr",
     "output_type": "stream",
     "text": [
      " 13%|█████████▉                                                                     | 98/780 [15:22<1:47:19,  9.44s/it]"
     ]
    },
    {
     "name": "stdout",
     "output_type": "stream",
     "text": [
      "Best trial:\n",
      "  Value: 18.544558584690094\n",
      "  Params: \n",
      "    num_leaves: 34\n",
      "    learning_rate: 0.04844631087935538\n",
      "    feature_fraction: 0.7004102200206781\n",
      "    bagging_fraction: 0.8424879967921017\n",
      "    bagging_freq: 4\n",
      "    min_child_samples: 41\n",
      "Predicted tn for the first month: 61.63506407802582\n"
     ]
    },
    {
     "name": "stderr",
     "output_type": "stream",
     "text": [
      " 13%|██████████                                                                     | 99/780 [15:31<1:47:03,  9.43s/it]"
     ]
    },
    {
     "name": "stdout",
     "output_type": "stream",
     "text": [
      "Best trial:\n",
      "  Value: 13.87319616600871\n",
      "  Params: \n",
      "    num_leaves: 36\n",
      "    learning_rate: 0.03758252779612978\n",
      "    feature_fraction: 0.6767138311698229\n",
      "    bagging_fraction: 0.6334680549673911\n",
      "    bagging_freq: 3\n",
      "    min_child_samples: 40\n",
      "Predicted tn for the first month: 90.85251327012698\n"
     ]
    },
    {
     "name": "stderr",
     "output_type": "stream",
     "text": [
      " 13%|██████████                                                                    | 100/780 [15:41<1:46:53,  9.43s/it]"
     ]
    },
    {
     "name": "stdout",
     "output_type": "stream",
     "text": [
      "Best trial:\n",
      "  Value: 16.729610435664654\n",
      "  Params: \n",
      "    num_leaves: 30\n",
      "    learning_rate: 0.05718337572491501\n",
      "    feature_fraction: 0.6581818240877245\n",
      "    bagging_fraction: 0.8913279882748629\n",
      "    bagging_freq: 8\n",
      "    min_child_samples: 13\n",
      "Predicted tn for the first month: 73.18311001070022\n"
     ]
    },
    {
     "name": "stderr",
     "output_type": "stream",
     "text": [
      " 13%|██████████                                                                    | 101/780 [15:50<1:46:43,  9.43s/it]"
     ]
    },
    {
     "name": "stdout",
     "output_type": "stream",
     "text": [
      "Best trial:\n",
      "  Value: 55.76200333610177\n",
      "  Params: \n",
      "    num_leaves: 29\n",
      "    learning_rate: 0.04239189496971989\n",
      "    feature_fraction: 0.6116860567725391\n",
      "    bagging_fraction: 0.7455896783032198\n",
      "    bagging_freq: 6\n",
      "    min_child_samples: 29\n",
      "Predicted tn for the first month: 134.66887567994198\n"
     ]
    },
    {
     "name": "stderr",
     "output_type": "stream",
     "text": [
      " 13%|██████████▏                                                                   | 102/780 [15:59<1:46:31,  9.43s/it]"
     ]
    },
    {
     "name": "stdout",
     "output_type": "stream",
     "text": [
      "Best trial:\n",
      "  Value: 12.559569075703621\n",
      "  Params: \n",
      "    num_leaves: 35\n",
      "    learning_rate: 0.07147681808044955\n",
      "    feature_fraction: 0.9869223156281872\n",
      "    bagging_fraction: 0.7211408192333812\n",
      "    bagging_freq: 9\n",
      "    min_child_samples: 18\n",
      "Predicted tn for the first month: 63.987153124005\n"
     ]
    },
    {
     "name": "stderr",
     "output_type": "stream",
     "text": [
      " 13%|██████████▎                                                                   | 103/780 [16:09<1:46:30,  9.44s/it]"
     ]
    },
    {
     "name": "stdout",
     "output_type": "stream",
     "text": [
      "Best trial:\n",
      "  Value: 11.299873607233167\n",
      "  Params: \n",
      "    num_leaves: 37\n",
      "    learning_rate: 0.013514427898287608\n",
      "    feature_fraction: 0.8094339100103358\n",
      "    bagging_fraction: 0.8887117692048647\n",
      "    bagging_freq: 2\n",
      "    min_child_samples: 37\n",
      "Predicted tn for the first month: 69.23720474820335\n"
     ]
    },
    {
     "name": "stderr",
     "output_type": "stream",
     "text": [
      " 13%|██████████▍                                                                   | 104/780 [16:18<1:46:16,  9.43s/it]"
     ]
    },
    {
     "name": "stdout",
     "output_type": "stream",
     "text": [
      "Best trial:\n",
      "  Value: 35.114743039011955\n",
      "  Params: \n",
      "    num_leaves: 28\n",
      "    learning_rate: 0.06989262401205623\n",
      "    feature_fraction: 0.9876791574576915\n",
      "    bagging_fraction: 0.9643952101494662\n",
      "    bagging_freq: 6\n",
      "    min_child_samples: 32\n",
      "Predicted tn for the first month: 57.919423432998656\n"
     ]
    },
    {
     "name": "stderr",
     "output_type": "stream",
     "text": [
      " 13%|██████████▌                                                                   | 105/780 [16:28<1:46:43,  9.49s/it]"
     ]
    },
    {
     "name": "stdout",
     "output_type": "stream",
     "text": [
      "Best trial:\n",
      "  Value: 17.786758095026016\n",
      "  Params: \n",
      "    num_leaves: 36\n",
      "    learning_rate: 0.05032933982936831\n",
      "    feature_fraction: 0.993444455164886\n",
      "    bagging_fraction: 0.7115748616860101\n",
      "    bagging_freq: 5\n",
      "    min_child_samples: 28\n",
      "Predicted tn for the first month: 67.93388768645605\n"
     ]
    },
    {
     "name": "stderr",
     "output_type": "stream",
     "text": [
      " 14%|██████████▌                                                                   | 106/780 [16:37<1:46:23,  9.47s/it]"
     ]
    },
    {
     "name": "stdout",
     "output_type": "stream",
     "text": [
      "Best trial:\n",
      "  Value: 28.516825735569\n",
      "  Params: \n",
      "    num_leaves: 38\n",
      "    learning_rate: 0.015371669419223726\n",
      "    feature_fraction: 0.8702718638132916\n",
      "    bagging_fraction: 0.8350964241948119\n",
      "    bagging_freq: 4\n",
      "    min_child_samples: 47\n",
      "Predicted tn for the first month: 111.75790196453731\n"
     ]
    },
    {
     "name": "stderr",
     "output_type": "stream",
     "text": [
      " 14%|██████████▋                                                                   | 107/780 [16:47<1:46:00,  9.45s/it]"
     ]
    },
    {
     "name": "stdout",
     "output_type": "stream",
     "text": [
      "Best trial:\n",
      "  Value: 10.140021570026875\n",
      "  Params: \n",
      "    num_leaves: 34\n",
      "    learning_rate: 0.0953160110036361\n",
      "    feature_fraction: 0.638937674963069\n",
      "    bagging_fraction: 0.6107237285522654\n",
      "    bagging_freq: 8\n",
      "    min_child_samples: 47\n",
      "Predicted tn for the first month: 85.76679257528305\n"
     ]
    },
    {
     "name": "stderr",
     "output_type": "stream",
     "text": [
      " 14%|██████████▊                                                                   | 108/780 [16:56<1:45:52,  9.45s/it]"
     ]
    },
    {
     "name": "stdout",
     "output_type": "stream",
     "text": [
      "Best trial:\n",
      "  Value: 15.78980815783143\n",
      "  Params: \n",
      "    num_leaves: 23\n",
      "    learning_rate: 0.03039111096773359\n",
      "    feature_fraction: 0.7799712879257223\n",
      "    bagging_fraction: 0.6130331049694276\n",
      "    bagging_freq: 4\n",
      "    min_child_samples: 42\n",
      "Predicted tn for the first month: 64.9200825968774\n"
     ]
    },
    {
     "name": "stderr",
     "output_type": "stream",
     "text": [
      " 14%|██████████▉                                                                   | 109/780 [17:06<1:45:44,  9.45s/it]"
     ]
    },
    {
     "name": "stdout",
     "output_type": "stream",
     "text": [
      "Best trial:\n",
      "  Value: 10.71986499428749\n",
      "  Params: \n",
      "    num_leaves: 35\n",
      "    learning_rate: 0.02463843583975297\n",
      "    feature_fraction: 0.6044174569859456\n",
      "    bagging_fraction: 0.8772831561281906\n",
      "    bagging_freq: 2\n",
      "    min_child_samples: 10\n",
      "Predicted tn for the first month: 65.86596747749647\n"
     ]
    },
    {
     "name": "stderr",
     "output_type": "stream",
     "text": [
      " 14%|███████████                                                                   | 110/780 [17:15<1:45:17,  9.43s/it]"
     ]
    },
    {
     "name": "stdout",
     "output_type": "stream",
     "text": [
      "Best trial:\n",
      "  Value: 8.894340045750141\n",
      "  Params: \n",
      "    num_leaves: 25\n",
      "    learning_rate: 0.027277734369544403\n",
      "    feature_fraction: 0.8861706810113437\n",
      "    bagging_fraction: 0.726339375084795\n",
      "    bagging_freq: 5\n",
      "    min_child_samples: 33\n",
      "Predicted tn for the first month: 75.73907259054978\n"
     ]
    },
    {
     "name": "stderr",
     "output_type": "stream",
     "text": [
      " 14%|███████████                                                                   | 111/780 [17:24<1:45:07,  9.43s/it]"
     ]
    },
    {
     "name": "stdout",
     "output_type": "stream",
     "text": [
      "Best trial:\n",
      "  Value: 51.06448316574097\n",
      "  Params: \n",
      "    num_leaves: 24\n",
      "    learning_rate: 0.024309479867042606\n",
      "    feature_fraction: 0.8899928434703471\n",
      "    bagging_fraction: 0.9605155357115652\n",
      "    bagging_freq: 6\n",
      "    min_child_samples: 8\n",
      "Predicted tn for the first month: 163.67777974700928\n",
      "Using single month validation due to insufficient data for multiple splits.\n"
     ]
    },
    {
     "name": "stderr",
     "output_type": "stream",
     "text": [
      " 14%|███████████▏                                                                  | 112/780 [17:29<1:27:15,  7.84s/it]"
     ]
    },
    {
     "name": "stdout",
     "output_type": "stream",
     "text": [
      "Best trial:\n",
      "  Value: 189.97650146484375\n",
      "  Params: \n",
      "    num_leaves: 30\n",
      "    learning_rate: 0.036161536834294794\n",
      "    feature_fraction: 0.7500710606498533\n",
      "    bagging_fraction: 0.7537850795696576\n",
      "    bagging_freq: 3\n",
      "    min_child_samples: 14\n",
      "Predicted tn for the first month: 550.8072233496093\n"
     ]
    },
    {
     "name": "stderr",
     "output_type": "stream",
     "text": [
      " 14%|███████████▎                                                                  | 113/780 [17:38<1:32:26,  8.32s/it]"
     ]
    },
    {
     "name": "stdout",
     "output_type": "stream",
     "text": [
      "Best trial:\n",
      "  Value: 17.694140195846558\n",
      "  Params: \n",
      "    num_leaves: 29\n",
      "    learning_rate: 0.01835091329360413\n",
      "    feature_fraction: 0.7069581700646095\n",
      "    bagging_fraction: 0.968592799702341\n",
      "    bagging_freq: 10\n",
      "    min_child_samples: 24\n",
      "Predicted tn for the first month: 60.66986006224314\n"
     ]
    },
    {
     "name": "stderr",
     "output_type": "stream",
     "text": [
      " 15%|███████████▍                                                                  | 114/780 [17:47<1:36:13,  8.67s/it]"
     ]
    },
    {
     "name": "stdout",
     "output_type": "stream",
     "text": [
      "Best trial:\n",
      "  Value: 32.308611400425434\n",
      "  Params: \n",
      "    num_leaves: 26\n",
      "    learning_rate: 0.09719757899544446\n",
      "    feature_fraction: 0.8303701012279685\n",
      "    bagging_fraction: 0.975074400208466\n",
      "    bagging_freq: 3\n",
      "    min_child_samples: 11\n",
      "Predicted tn for the first month: 152.39065371505103\n"
     ]
    },
    {
     "name": "stderr",
     "output_type": "stream",
     "text": [
      " 15%|███████████▌                                                                  | 115/780 [17:57<1:38:35,  8.90s/it]"
     ]
    },
    {
     "name": "stdout",
     "output_type": "stream",
     "text": [
      "Best trial:\n",
      "  Value: 10.416461288928986\n",
      "  Params: \n",
      "    num_leaves: 36\n",
      "    learning_rate: 0.04797138307882547\n",
      "    feature_fraction: 0.6652604265651221\n",
      "    bagging_fraction: 0.7540046037446048\n",
      "    bagging_freq: 3\n",
      "    min_child_samples: 23\n",
      "Predicted tn for the first month: 79.24986663188298\n"
     ]
    },
    {
     "name": "stderr",
     "output_type": "stream",
     "text": [
      " 15%|███████████▌                                                                  | 116/780 [18:06<1:40:15,  9.06s/it]"
     ]
    },
    {
     "name": "stdout",
     "output_type": "stream",
     "text": [
      "Best trial:\n",
      "  Value: 24.535960108041763\n",
      "  Params: \n",
      "    num_leaves: 26\n",
      "    learning_rate: 0.05088543455608772\n",
      "    feature_fraction: 0.6750684739484969\n",
      "    bagging_fraction: 0.9027016404269652\n",
      "    bagging_freq: 8\n",
      "    min_child_samples: 38\n",
      "Predicted tn for the first month: 69.18229503288269\n"
     ]
    },
    {
     "name": "stderr",
     "output_type": "stream",
     "text": [
      " 15%|███████████▋                                                                  | 117/780 [18:16<1:41:26,  9.18s/it]"
     ]
    },
    {
     "name": "stdout",
     "output_type": "stream",
     "text": [
      "Best trial:\n",
      "  Value: 18.211488962173462\n",
      "  Params: \n",
      "    num_leaves: 23\n",
      "    learning_rate: 0.027145513007642993\n",
      "    feature_fraction: 0.6611740104420946\n",
      "    bagging_fraction: 0.6398854558906731\n",
      "    bagging_freq: 7\n",
      "    min_child_samples: 36\n",
      "Predicted tn for the first month: 79.43822238479615\n"
     ]
    },
    {
     "name": "stderr",
     "output_type": "stream",
     "text": [
      " 15%|███████████▊                                                                  | 118/780 [18:25<1:42:00,  9.25s/it]"
     ]
    },
    {
     "name": "stdout",
     "output_type": "stream",
     "text": [
      "Best trial:\n",
      "  Value: 45.15290284156799\n",
      "  Params: \n",
      "    num_leaves: 34\n",
      "    learning_rate: 0.011767735203546554\n",
      "    feature_fraction: 0.668583769251677\n",
      "    bagging_fraction: 0.7068028113233453\n",
      "    bagging_freq: 6\n",
      "    min_child_samples: 8\n",
      "Predicted tn for the first month: 137.67567351133346\n"
     ]
    },
    {
     "name": "stderr",
     "output_type": "stream",
     "text": [
      " 15%|███████████▉                                                                  | 119/780 [18:35<1:42:24,  9.30s/it]"
     ]
    },
    {
     "name": "stdout",
     "output_type": "stream",
     "text": [
      "Best trial:\n",
      "  Value: 15.406885176897049\n",
      "  Params: \n",
      "    num_leaves: 25\n",
      "    learning_rate: 0.027303996692297165\n",
      "    feature_fraction: 0.8370796955510468\n",
      "    bagging_fraction: 0.6610610279561314\n",
      "    bagging_freq: 4\n",
      "    min_child_samples: 16\n",
      "Predicted tn for the first month: 61.92525582769394\n"
     ]
    },
    {
     "name": "stderr",
     "output_type": "stream",
     "text": [
      " 15%|████████████                                                                  | 120/780 [18:44<1:42:48,  9.35s/it]"
     ]
    },
    {
     "name": "stdout",
     "output_type": "stream",
     "text": [
      "Best trial:\n",
      "  Value: 15.583129778504372\n",
      "  Params: \n",
      "    num_leaves: 34\n",
      "    learning_rate: 0.02249559554624528\n",
      "    feature_fraction: 0.6909072989735432\n",
      "    bagging_fraction: 0.7753715369072876\n",
      "    bagging_freq: 4\n",
      "    min_child_samples: 17\n",
      "Predicted tn for the first month: 52.32350996718088\n"
     ]
    },
    {
     "name": "stderr",
     "output_type": "stream",
     "text": [
      " 16%|████████████                                                                  | 121/780 [18:54<1:42:56,  9.37s/it]"
     ]
    },
    {
     "name": "stdout",
     "output_type": "stream",
     "text": [
      "Best trial:\n",
      "  Value: 23.663469687104225\n",
      "  Params: \n",
      "    num_leaves: 26\n",
      "    learning_rate: 0.03150899312614459\n",
      "    feature_fraction: 0.9033428792199768\n",
      "    bagging_fraction: 0.7374026615007385\n",
      "    bagging_freq: 6\n",
      "    min_child_samples: 26\n",
      "Predicted tn for the first month: 62.3634374048233\n"
     ]
    },
    {
     "name": "stderr",
     "output_type": "stream",
     "text": [
      " 16%|████████████▏                                                                 | 122/780 [19:03<1:43:01,  9.39s/it]"
     ]
    },
    {
     "name": "stdout",
     "output_type": "stream",
     "text": [
      "Best trial:\n",
      "  Value: 17.273222234100103\n",
      "  Params: \n",
      "    num_leaves: 27\n",
      "    learning_rate: 0.029307744754573054\n",
      "    feature_fraction: 0.6096326982466438\n",
      "    bagging_fraction: 0.7935482201137138\n",
      "    bagging_freq: 9\n",
      "    min_child_samples: 24\n",
      "Predicted tn for the first month: 66.28849514473914\n"
     ]
    },
    {
     "name": "stderr",
     "output_type": "stream",
     "text": [
      " 16%|████████████▎                                                                 | 123/780 [19:12<1:43:01,  9.41s/it]"
     ]
    },
    {
     "name": "stdout",
     "output_type": "stream",
     "text": [
      "Best trial:\n",
      "  Value: 17.38137373328209\n",
      "  Params: \n",
      "    num_leaves: 31\n",
      "    learning_rate: 0.09649599753381279\n",
      "    feature_fraction: 0.6985685345320798\n",
      "    bagging_fraction: 0.9675276822733778\n",
      "    bagging_freq: 8\n",
      "    min_child_samples: 7\n",
      "Predicted tn for the first month: 52.07056173764229\n"
     ]
    },
    {
     "name": "stderr",
     "output_type": "stream",
     "text": [
      " 16%|████████████▍                                                                 | 124/780 [19:22<1:43:02,  9.42s/it]"
     ]
    },
    {
     "name": "stdout",
     "output_type": "stream",
     "text": [
      "Best trial:\n",
      "  Value: 33.755034774541855\n",
      "  Params: \n",
      "    num_leaves: 26\n",
      "    learning_rate: 0.03175529825905279\n",
      "    feature_fraction: 0.713661004824491\n",
      "    bagging_fraction: 0.7305230757027112\n",
      "    bagging_freq: 10\n",
      "    min_child_samples: 47\n",
      "Predicted tn for the first month: 150.79376787949244\n"
     ]
    },
    {
     "name": "stderr",
     "output_type": "stream",
     "text": [
      " 16%|████████████▌                                                                 | 125/780 [19:31<1:42:45,  9.41s/it]"
     ]
    },
    {
     "name": "stdout",
     "output_type": "stream",
     "text": [
      "Best trial:\n",
      "  Value: 15.079017532989383\n",
      "  Params: \n",
      "    num_leaves: 27\n",
      "    learning_rate: 0.0110293159902469\n",
      "    feature_fraction: 0.8430391388713921\n",
      "    bagging_fraction: 0.8891860567246822\n",
      "    bagging_freq: 10\n",
      "    min_child_samples: 43\n",
      "Predicted tn for the first month: 69.32904903751533\n"
     ]
    },
    {
     "name": "stderr",
     "output_type": "stream",
     "text": [
      " 16%|████████████▌                                                                 | 126/780 [19:41<1:42:38,  9.42s/it]"
     ]
    },
    {
     "name": "stdout",
     "output_type": "stream",
     "text": [
      "Best trial:\n",
      "  Value: 28.311957746744156\n",
      "  Params: \n",
      "    num_leaves: 20\n",
      "    learning_rate: 0.038944106094794706\n",
      "    feature_fraction: 0.6261732267304494\n",
      "    bagging_fraction: 0.776227179178126\n",
      "    bagging_freq: 1\n",
      "    min_child_samples: 23\n",
      "Predicted tn for the first month: 101.97438217053731\n"
     ]
    },
    {
     "name": "stderr",
     "output_type": "stream",
     "text": [
      " 16%|████████████▋                                                                 | 127/780 [19:50<1:42:42,  9.44s/it]"
     ]
    },
    {
     "name": "stdout",
     "output_type": "stream",
     "text": [
      "Best trial:\n",
      "  Value: 5.984671821817756\n",
      "  Params: \n",
      "    num_leaves: 20\n",
      "    learning_rate: 0.01153526906444005\n",
      "    feature_fraction: 0.9861887281190563\n",
      "    bagging_fraction: 0.7093331315920597\n",
      "    bagging_freq: 4\n",
      "    min_child_samples: 39\n",
      "Predicted tn for the first month: 62.175750090454024\n"
     ]
    },
    {
     "name": "stderr",
     "output_type": "stream",
     "text": [
      " 16%|████████████▊                                                                 | 128/780 [20:00<1:42:26,  9.43s/it]"
     ]
    },
    {
     "name": "stdout",
     "output_type": "stream",
     "text": [
      "Best trial:\n",
      "  Value: 34.522061854600906\n",
      "  Params: \n",
      "    num_leaves: 24\n",
      "    learning_rate: 0.01534279084381876\n",
      "    feature_fraction: 0.9117985129904147\n",
      "    bagging_fraction: 0.6039301746184546\n",
      "    bagging_freq: 4\n",
      "    min_child_samples: 21\n",
      "Predicted tn for the first month: 85.08202277844747\n"
     ]
    },
    {
     "name": "stderr",
     "output_type": "stream",
     "text": [
      " 17%|████████████▉                                                                 | 129/780 [20:09<1:42:12,  9.42s/it]"
     ]
    },
    {
     "name": "stdout",
     "output_type": "stream",
     "text": [
      "Best trial:\n",
      "  Value: 73.63116231560707\n",
      "  Params: \n",
      "    num_leaves: 31\n",
      "    learning_rate: 0.018005117443707218\n",
      "    feature_fraction: 0.6784419181323297\n",
      "    bagging_fraction: 0.6639986740092919\n",
      "    bagging_freq: 7\n",
      "    min_child_samples: 20\n",
      "Predicted tn for the first month: 269.8648325134977\n"
     ]
    },
    {
     "name": "stderr",
     "output_type": "stream",
     "text": [
      " 17%|█████████████                                                                 | 130/780 [20:18<1:42:02,  9.42s/it]"
     ]
    },
    {
     "name": "stdout",
     "output_type": "stream",
     "text": [
      "Best trial:\n",
      "  Value: 20.40735074877739\n",
      "  Params: \n",
      "    num_leaves: 32\n",
      "    learning_rate: 0.011581486948272553\n",
      "    feature_fraction: 0.812025489581114\n",
      "    bagging_fraction: 0.9830070772111663\n",
      "    bagging_freq: 8\n",
      "    min_child_samples: 17\n",
      "Predicted tn for the first month: 30.1387257318147\n"
     ]
    },
    {
     "name": "stderr",
     "output_type": "stream",
     "text": [
      " 17%|█████████████                                                                 | 131/780 [20:28<1:41:54,  9.42s/it]"
     ]
    },
    {
     "name": "stdout",
     "output_type": "stream",
     "text": [
      "Best trial:\n",
      "  Value: 17.329771757125854\n",
      "  Params: \n",
      "    num_leaves: 38\n",
      "    learning_rate: 0.047416065540633066\n",
      "    feature_fraction: 0.8797595443598882\n",
      "    bagging_fraction: 0.7682988657754172\n",
      "    bagging_freq: 1\n",
      "    min_child_samples: 31\n",
      "Predicted tn for the first month: 29.04248341471672\n"
     ]
    },
    {
     "name": "stderr",
     "output_type": "stream",
     "text": [
      " 17%|█████████████▏                                                                | 132/780 [20:37<1:41:52,  9.43s/it]"
     ]
    },
    {
     "name": "stdout",
     "output_type": "stream",
     "text": [
      "Best trial:\n",
      "  Value: 17.513509191572666\n",
      "  Params: \n",
      "    num_leaves: 31\n",
      "    learning_rate: 0.044172936483267235\n",
      "    feature_fraction: 0.9864095089775587\n",
      "    bagging_fraction: 0.9332315231609077\n",
      "    bagging_freq: 7\n",
      "    min_child_samples: 9\n",
      "Predicted tn for the first month: 123.06579521505833\n"
     ]
    },
    {
     "name": "stderr",
     "output_type": "stream",
     "text": [
      " 17%|█████████████▎                                                                | 133/780 [20:47<1:41:42,  9.43s/it]"
     ]
    },
    {
     "name": "stdout",
     "output_type": "stream",
     "text": [
      "Best trial:\n",
      "  Value: 16.396613895893097\n",
      "  Params: \n",
      "    num_leaves: 25\n",
      "    learning_rate: 0.0525084469827741\n",
      "    feature_fraction: 0.9549840133929361\n",
      "    bagging_fraction: 0.970790116507129\n",
      "    bagging_freq: 6\n",
      "    min_child_samples: 13\n",
      "Predicted tn for the first month: 93.62307922684987\n"
     ]
    },
    {
     "name": "stderr",
     "output_type": "stream",
     "text": [
      " 17%|█████████████▍                                                                | 134/780 [20:56<1:41:36,  9.44s/it]"
     ]
    },
    {
     "name": "stdout",
     "output_type": "stream",
     "text": [
      "Best trial:\n",
      "  Value: 24.273096688091755\n",
      "  Params: \n",
      "    num_leaves: 37\n",
      "    learning_rate: 0.09195949761521258\n",
      "    feature_fraction: 0.7529682686004536\n",
      "    bagging_fraction: 0.9373511805279552\n",
      "    bagging_freq: 5\n",
      "    min_child_samples: 16\n",
      "Predicted tn for the first month: 128.78974985788346\n"
     ]
    },
    {
     "name": "stderr",
     "output_type": "stream",
     "text": [
      " 17%|█████████████▌                                                                | 135/780 [21:06<1:41:20,  9.43s/it]"
     ]
    },
    {
     "name": "stdout",
     "output_type": "stream",
     "text": [
      "Best trial:\n",
      "  Value: 26.506252646446228\n",
      "  Params: \n",
      "    num_leaves: 23\n",
      "    learning_rate: 0.06634291310731977\n",
      "    feature_fraction: 0.7802258619532303\n",
      "    bagging_fraction: 0.640645713920593\n",
      "    bagging_freq: 7\n",
      "    min_child_samples: 33\n",
      "Predicted tn for the first month: 69.25281992993672\n"
     ]
    },
    {
     "name": "stderr",
     "output_type": "stream",
     "text": [
      " 17%|█████████████▌                                                                | 136/780 [21:15<1:41:13,  9.43s/it]"
     ]
    },
    {
     "name": "stdout",
     "output_type": "stream",
     "text": [
      "Best trial:\n",
      "  Value: 30.949799418449402\n",
      "  Params: \n",
      "    num_leaves: 24\n",
      "    learning_rate: 0.02911749654827385\n",
      "    feature_fraction: 0.6585267208224173\n",
      "    bagging_fraction: 0.6660367750625977\n",
      "    bagging_freq: 1\n",
      "    min_child_samples: 22\n",
      "Predicted tn for the first month: 89.47040754981994\n"
     ]
    },
    {
     "name": "stderr",
     "output_type": "stream",
     "text": [
      " 18%|█████████████▋                                                                | 137/780 [21:24<1:41:00,  9.43s/it]"
     ]
    },
    {
     "name": "stdout",
     "output_type": "stream",
     "text": [
      "Best trial:\n",
      "  Value: 10.23740018159151\n",
      "  Params: \n",
      "    num_leaves: 21\n",
      "    learning_rate: 0.09715399679699323\n",
      "    feature_fraction: 0.6256024860043065\n",
      "    bagging_fraction: 0.6201431029852186\n",
      "    bagging_freq: 10\n",
      "    min_child_samples: 50\n",
      "Predicted tn for the first month: 43.953527454435026\n"
     ]
    },
    {
     "name": "stderr",
     "output_type": "stream",
     "text": [
      " 18%|█████████████▊                                                                | 138/780 [21:34<1:41:04,  9.45s/it]"
     ]
    },
    {
     "name": "stdout",
     "output_type": "stream",
     "text": [
      "Best trial:\n",
      "  Value: 8.4259616099298\n",
      "  Params: \n",
      "    num_leaves: 20\n",
      "    learning_rate: 0.03624585732875413\n",
      "    feature_fraction: 0.6058757025997515\n",
      "    bagging_fraction: 0.925053397647977\n",
      "    bagging_freq: 3\n",
      "    min_child_samples: 48\n",
      "Predicted tn for the first month: 68.75207251445134\n"
     ]
    },
    {
     "name": "stderr",
     "output_type": "stream",
     "text": [
      " 18%|█████████████▉                                                                | 139/780 [21:43<1:40:55,  9.45s/it]"
     ]
    },
    {
     "name": "stdout",
     "output_type": "stream",
     "text": [
      "Best trial:\n",
      "  Value: 18.901153072714806\n",
      "  Params: \n",
      "    num_leaves: 24\n",
      "    learning_rate: 0.04775822801255018\n",
      "    feature_fraction: 0.7890673226056182\n",
      "    bagging_fraction: 0.813332172208615\n",
      "    bagging_freq: 9\n",
      "    min_child_samples: 44\n",
      "Predicted tn for the first month: 66.75877268829028\n"
     ]
    },
    {
     "name": "stderr",
     "output_type": "stream",
     "text": [
      " 18%|██████████████                                                                | 140/780 [21:53<1:40:52,  9.46s/it]"
     ]
    },
    {
     "name": "stdout",
     "output_type": "stream",
     "text": [
      "Best trial:\n",
      "  Value: 15.308190792798996\n",
      "  Params: \n",
      "    num_leaves: 29\n",
      "    learning_rate: 0.01375885770887185\n",
      "    feature_fraction: 0.7175090853352522\n",
      "    bagging_fraction: 0.8750922545005393\n",
      "    bagging_freq: 4\n",
      "    min_child_samples: 47\n",
      "Predicted tn for the first month: 58.858041604169216\n"
     ]
    },
    {
     "name": "stderr",
     "output_type": "stream",
     "text": [
      " 18%|██████████████                                                                | 141/780 [22:02<1:40:43,  9.46s/it]"
     ]
    },
    {
     "name": "stdout",
     "output_type": "stream",
     "text": [
      "Best trial:\n",
      "  Value: 31.22850000858307\n",
      "  Params: \n",
      "    num_leaves: 27\n",
      "    learning_rate: 0.038926098575565456\n",
      "    feature_fraction: 0.8865119907166197\n",
      "    bagging_fraction: 0.6169005381293873\n",
      "    bagging_freq: 8\n",
      "    min_child_samples: 10\n",
      "Predicted tn for the first month: 40.399018048032126\n"
     ]
    },
    {
     "name": "stderr",
     "output_type": "stream",
     "text": [
      " 18%|██████████████▏                                                               | 142/780 [22:12<1:40:47,  9.48s/it]"
     ]
    },
    {
     "name": "stdout",
     "output_type": "stream",
     "text": [
      "Best trial:\n",
      "  Value: 14.867792531847954\n",
      "  Params: \n",
      "    num_leaves: 23\n",
      "    learning_rate: 0.018448605969526542\n",
      "    feature_fraction: 0.9804473555798827\n",
      "    bagging_fraction: 0.928639993593902\n",
      "    bagging_freq: 5\n",
      "    min_child_samples: 6\n",
      "Predicted tn for the first month: 66.78554179254328\n"
     ]
    },
    {
     "name": "stderr",
     "output_type": "stream",
     "text": [
      " 18%|██████████████▎                                                               | 143/780 [22:21<1:40:18,  9.45s/it]"
     ]
    },
    {
     "name": "stdout",
     "output_type": "stream",
     "text": [
      "Best trial:\n",
      "  Value: 8.826627559959888\n",
      "  Params: \n",
      "    num_leaves: 40\n",
      "    learning_rate: 0.010379670819257298\n",
      "    feature_fraction: 0.6068458867415529\n",
      "    bagging_fraction: 0.9081204322166947\n",
      "    bagging_freq: 6\n",
      "    min_child_samples: 48\n",
      "Predicted tn for the first month: 32.282271590711275\n"
     ]
    },
    {
     "name": "stderr",
     "output_type": "stream",
     "text": [
      " 18%|██████████████▍                                                               | 144/780 [22:31<1:40:07,  9.45s/it]"
     ]
    },
    {
     "name": "stdout",
     "output_type": "stream",
     "text": [
      "Best trial:\n",
      "  Value: 25.06793736666441\n",
      "  Params: \n",
      "    num_leaves: 29\n",
      "    learning_rate: 0.038372873933387834\n",
      "    feature_fraction: 0.9351913885008689\n",
      "    bagging_fraction: 0.6113815046709382\n",
      "    bagging_freq: 2\n",
      "    min_child_samples: 14\n",
      "Predicted tn for the first month: 118.18482755861442\n",
      "Using single month validation due to insufficient data for multiple splits.\n"
     ]
    },
    {
     "name": "stderr",
     "output_type": "stream",
     "text": [
      " 19%|██████████████▌                                                               | 145/780 [22:35<1:23:12,  7.86s/it]"
     ]
    },
    {
     "name": "stdout",
     "output_type": "stream",
     "text": [
      "Best trial:\n",
      "  Value: 93.37204875946045\n",
      "  Params: \n",
      "    num_leaves: 27\n",
      "    learning_rate: 0.019332964948837048\n",
      "    feature_fraction: 0.825451880498752\n",
      "    bagging_fraction: 0.9236506094809602\n",
      "    bagging_freq: 10\n",
      "    min_child_samples: 43\n",
      "Predicted tn for the first month: 83.55115935760499\n"
     ]
    },
    {
     "name": "stderr",
     "output_type": "stream",
     "text": [
      " 19%|██████████████▌                                                               | 146/780 [22:44<1:28:06,  8.34s/it]"
     ]
    },
    {
     "name": "stdout",
     "output_type": "stream",
     "text": [
      "Best trial:\n",
      "  Value: 10.16902306303382\n",
      "  Params: \n",
      "    num_leaves: 30\n",
      "    learning_rate: 0.03199646584690997\n",
      "    feature_fraction: 0.6195484001277033\n",
      "    bagging_fraction: 0.6220525316066219\n",
      "    bagging_freq: 9\n",
      "    min_child_samples: 10\n",
      "Predicted tn for the first month: 31.38955001133919\n"
     ]
    },
    {
     "name": "stderr",
     "output_type": "stream",
     "text": [
      " 19%|██████████████▋                                                               | 147/780 [22:54<1:31:28,  8.67s/it]"
     ]
    },
    {
     "name": "stdout",
     "output_type": "stream",
     "text": [
      "Best trial:\n",
      "  Value: 12.140518680214882\n",
      "  Params: \n",
      "    num_leaves: 36\n",
      "    learning_rate: 0.011517896538483874\n",
      "    feature_fraction: 0.6705668128550129\n",
      "    bagging_fraction: 0.7178794689710152\n",
      "    bagging_freq: 10\n",
      "    min_child_samples: 50\n",
      "Predicted tn for the first month: 51.015164029062\n"
     ]
    },
    {
     "name": "stderr",
     "output_type": "stream",
     "text": [
      " 19%|██████████████▊                                                               | 148/780 [23:03<1:33:47,  8.90s/it]"
     ]
    },
    {
     "name": "stdout",
     "output_type": "stream",
     "text": [
      "Best trial:\n",
      "  Value: 14.191501811146736\n",
      "  Params: \n",
      "    num_leaves: 25\n",
      "    learning_rate: 0.016076709384328713\n",
      "    feature_fraction: 0.7055654309685832\n",
      "    bagging_fraction: 0.7535985832004923\n",
      "    bagging_freq: 6\n",
      "    min_child_samples: 12\n",
      "Predicted tn for the first month: 58.26142250420889\n"
     ]
    },
    {
     "name": "stderr",
     "output_type": "stream",
     "text": [
      " 19%|██████████████▉                                                               | 149/780 [23:13<1:35:25,  9.07s/it]"
     ]
    },
    {
     "name": "stdout",
     "output_type": "stream",
     "text": [
      "Best trial:\n",
      "  Value: 27.10515435039997\n",
      "  Params: \n",
      "    num_leaves: 30\n",
      "    learning_rate: 0.027922386111974427\n",
      "    feature_fraction: 0.9490332298311586\n",
      "    bagging_fraction: 0.6780833519529424\n",
      "    bagging_freq: 2\n",
      "    min_child_samples: 13\n",
      "Predicted tn for the first month: 17.20865270707448\n"
     ]
    },
    {
     "name": "stderr",
     "output_type": "stream",
     "text": [
      " 19%|███████████████                                                               | 150/780 [23:22<1:36:26,  9.18s/it]"
     ]
    },
    {
     "name": "stdout",
     "output_type": "stream",
     "text": [
      "Best trial:\n",
      "  Value: 7.132385462522507\n",
      "  Params: \n",
      "    num_leaves: 25\n",
      "    learning_rate: 0.08274850153395431\n",
      "    feature_fraction: 0.9911338630626422\n",
      "    bagging_fraction: 0.8993428680950859\n",
      "    bagging_freq: 2\n",
      "    min_child_samples: 16\n",
      "Predicted tn for the first month: 31.57952417652766\n"
     ]
    },
    {
     "name": "stderr",
     "output_type": "stream",
     "text": [
      " 19%|███████████████                                                               | 151/780 [23:31<1:37:05,  9.26s/it]"
     ]
    },
    {
     "name": "stdout",
     "output_type": "stream",
     "text": [
      "Best trial:\n",
      "  Value: 9.101506274193525\n",
      "  Params: \n",
      "    num_leaves: 38\n",
      "    learning_rate: 0.023069270706789366\n",
      "    feature_fraction: 0.9516688734028352\n",
      "    bagging_fraction: 0.6370756879749936\n",
      "    bagging_freq: 1\n",
      "    min_child_samples: 45\n",
      "Predicted tn for the first month: 44.99149986810048\n"
     ]
    },
    {
     "name": "stderr",
     "output_type": "stream",
     "text": [
      " 19%|███████████████▏                                                              | 152/780 [23:41<1:37:38,  9.33s/it]"
     ]
    },
    {
     "name": "stdout",
     "output_type": "stream",
     "text": [
      "Best trial:\n",
      "  Value: 11.746244912967086\n",
      "  Params: \n",
      "    num_leaves: 23\n",
      "    learning_rate: 0.04567030930591629\n",
      "    feature_fraction: 0.7135754365535862\n",
      "    bagging_fraction: 0.6810361605075519\n",
      "    bagging_freq: 5\n",
      "    min_child_samples: 28\n",
      "Predicted tn for the first month: 35.34520323694587\n"
     ]
    },
    {
     "name": "stderr",
     "output_type": "stream",
     "text": [
      " 20%|███████████████▎                                                              | 153/780 [23:50<1:37:50,  9.36s/it]"
     ]
    },
    {
     "name": "stdout",
     "output_type": "stream",
     "text": [
      "Best trial:\n",
      "  Value: 8.485531184822321\n",
      "  Params: \n",
      "    num_leaves: 20\n",
      "    learning_rate: 0.045188054022284055\n",
      "    feature_fraction: 0.7835242137279689\n",
      "    bagging_fraction: 0.9434139496616435\n",
      "    bagging_freq: 2\n",
      "    min_child_samples: 12\n",
      "Predicted tn for the first month: 20.732559988981087\n"
     ]
    },
    {
     "name": "stderr",
     "output_type": "stream",
     "text": [
      " 20%|███████████████▍                                                              | 154/780 [24:00<1:37:58,  9.39s/it]"
     ]
    },
    {
     "name": "stdout",
     "output_type": "stream",
     "text": [
      "Best trial:\n",
      "  Value: 15.098681584000587\n",
      "  Params: \n",
      "    num_leaves: 38\n",
      "    learning_rate: 0.08753660935248517\n",
      "    feature_fraction: 0.7007996060340198\n",
      "    bagging_fraction: 0.9411921864682022\n",
      "    bagging_freq: 10\n",
      "    min_child_samples: 12\n",
      "Predicted tn for the first month: 48.824993413756694\n"
     ]
    },
    {
     "name": "stderr",
     "output_type": "stream",
     "text": [
      " 20%|███████████████▍                                                              | 155/780 [24:09<1:38:11,  9.43s/it]"
     ]
    },
    {
     "name": "stdout",
     "output_type": "stream",
     "text": [
      "Best trial:\n",
      "  Value: 11.362119898200035\n",
      "  Params: \n",
      "    num_leaves: 29\n",
      "    learning_rate: 0.0739025382021942\n",
      "    feature_fraction: 0.9273857437287224\n",
      "    bagging_fraction: 0.7953398376799076\n",
      "    bagging_freq: 5\n",
      "    min_child_samples: 35\n",
      "Predicted tn for the first month: 34.616322544358574\n"
     ]
    },
    {
     "name": "stderr",
     "output_type": "stream",
     "text": [
      " 20%|███████████████▌                                                              | 156/780 [24:19<1:38:07,  9.44s/it]"
     ]
    },
    {
     "name": "stdout",
     "output_type": "stream",
     "text": [
      "Best trial:\n",
      "  Value: 14.261470712721348\n",
      "  Params: \n",
      "    num_leaves: 21\n",
      "    learning_rate: 0.01657542956543084\n",
      "    feature_fraction: 0.7841613910612683\n",
      "    bagging_fraction: 0.7405030508899787\n",
      "    bagging_freq: 4\n",
      "    min_child_samples: 21\n",
      "Predicted tn for the first month: 33.46136826644739\n"
     ]
    },
    {
     "name": "stderr",
     "output_type": "stream",
     "text": [
      " 20%|███████████████▋                                                              | 157/780 [24:28<1:37:57,  9.43s/it]"
     ]
    },
    {
     "name": "stdout",
     "output_type": "stream",
     "text": [
      "Best trial:\n",
      "  Value: 12.606158837676048\n",
      "  Params: \n",
      "    num_leaves: 20\n",
      "    learning_rate: 0.04501818616541926\n",
      "    feature_fraction: 0.9367931317039715\n",
      "    bagging_fraction: 0.61026353600311\n",
      "    bagging_freq: 5\n",
      "    min_child_samples: 27\n",
      "Predicted tn for the first month: 45.87369472806613\n"
     ]
    },
    {
     "name": "stderr",
     "output_type": "stream",
     "text": [
      " 20%|███████████████▊                                                              | 158/780 [24:38<1:37:47,  9.43s/it]"
     ]
    },
    {
     "name": "stdout",
     "output_type": "stream",
     "text": [
      "Best trial:\n",
      "  Value: 25.353768395259976\n",
      "  Params: \n",
      "    num_leaves: 37\n",
      "    learning_rate: 0.012948530154604574\n",
      "    feature_fraction: 0.8609778848815534\n",
      "    bagging_fraction: 0.7138011094550609\n",
      "    bagging_freq: 6\n",
      "    min_child_samples: 28\n",
      "Predicted tn for the first month: 24.3492608230416\n"
     ]
    },
    {
     "name": "stderr",
     "output_type": "stream",
     "text": [
      " 20%|███████████████▉                                                              | 159/780 [24:47<1:37:49,  9.45s/it]"
     ]
    },
    {
     "name": "stdout",
     "output_type": "stream",
     "text": [
      "Best trial:\n",
      "  Value: 12.062044307589531\n",
      "  Params: \n",
      "    num_leaves: 36\n",
      "    learning_rate: 0.054582966230686904\n",
      "    feature_fraction: 0.6234693090414898\n",
      "    bagging_fraction: 0.6499731949245144\n",
      "    bagging_freq: 4\n",
      "    min_child_samples: 39\n",
      "Predicted tn for the first month: 48.49305179171562\n"
     ]
    },
    {
     "name": "stderr",
     "output_type": "stream",
     "text": [
      " 21%|████████████████                                                              | 160/780 [24:57<1:37:48,  9.47s/it]"
     ]
    },
    {
     "name": "stdout",
     "output_type": "stream",
     "text": [
      "Best trial:\n",
      "  Value: 8.896103296428919\n",
      "  Params: \n",
      "    num_leaves: 35\n",
      "    learning_rate: 0.029719111288159277\n",
      "    feature_fraction: 0.6150264559098175\n",
      "    bagging_fraction: 0.631710378483786\n",
      "    bagging_freq: 9\n",
      "    min_child_samples: 27\n",
      "Predicted tn for the first month: 27.605608395465214\n"
     ]
    },
    {
     "name": "stderr",
     "output_type": "stream",
     "text": [
      " 21%|████████████████                                                              | 161/780 [25:06<1:37:32,  9.45s/it]"
     ]
    },
    {
     "name": "stdout",
     "output_type": "stream",
     "text": [
      "Best trial:\n",
      "  Value: 5.088359490968287\n",
      "  Params: \n",
      "    num_leaves: 25\n",
      "    learning_rate: 0.022009985039737612\n",
      "    feature_fraction: 0.7165555540343809\n",
      "    bagging_fraction: 0.8992976614277631\n",
      "    bagging_freq: 1\n",
      "    min_child_samples: 26\n",
      "Predicted tn for the first month: 27.127764197394054\n"
     ]
    },
    {
     "name": "stderr",
     "output_type": "stream",
     "text": [
      " 21%|████████████████▏                                                             | 162/780 [25:16<1:37:17,  9.45s/it]"
     ]
    },
    {
     "name": "stdout",
     "output_type": "stream",
     "text": [
      "Best trial:\n",
      "  Value: 8.130211867392063\n",
      "  Params: \n",
      "    num_leaves: 22\n",
      "    learning_rate: 0.017383197123292542\n",
      "    feature_fraction: 0.8187836806248459\n",
      "    bagging_fraction: 0.9588105260909411\n",
      "    bagging_freq: 6\n",
      "    min_child_samples: 28\n",
      "Predicted tn for the first month: 34.31245981036345\n"
     ]
    },
    {
     "name": "stderr",
     "output_type": "stream",
     "text": [
      " 21%|████████████████▎                                                             | 163/780 [25:25<1:37:10,  9.45s/it]"
     ]
    },
    {
     "name": "stdout",
     "output_type": "stream",
     "text": [
      "Best trial:\n",
      "  Value: 5.32262871414423\n",
      "  Params: \n",
      "    num_leaves: 29\n",
      "    learning_rate: 0.04532661992735794\n",
      "    feature_fraction: 0.6871879773750051\n",
      "    bagging_fraction: 0.946373184223685\n",
      "    bagging_freq: 5\n",
      "    min_child_samples: 10\n",
      "Predicted tn for the first month: 31.441184158933957\n"
     ]
    },
    {
     "name": "stderr",
     "output_type": "stream",
     "text": [
      " 21%|████████████████▍                                                             | 164/780 [25:34<1:36:52,  9.44s/it]"
     ]
    },
    {
     "name": "stdout",
     "output_type": "stream",
     "text": [
      "Best trial:\n",
      "  Value: 13.475186683237553\n",
      "  Params: \n",
      "    num_leaves: 37\n",
      "    learning_rate: 0.03529578673367479\n",
      "    feature_fraction: 0.6236150565899643\n",
      "    bagging_fraction: 0.7655366927331351\n",
      "    bagging_freq: 1\n",
      "    min_child_samples: 22\n",
      "Predicted tn for the first month: 34.72601677501043\n"
     ]
    },
    {
     "name": "stderr",
     "output_type": "stream",
     "text": [
      " 21%|████████████████▌                                                             | 165/780 [25:44<1:36:41,  9.43s/it]"
     ]
    },
    {
     "name": "stdout",
     "output_type": "stream",
     "text": [
      "Best trial:\n",
      "  Value: 18.254786748439074\n",
      "  Params: \n",
      "    num_leaves: 40\n",
      "    learning_rate: 0.013049318458657495\n",
      "    feature_fraction: 0.79040178487033\n",
      "    bagging_fraction: 0.8745190707168384\n",
      "    bagging_freq: 7\n",
      "    min_child_samples: 38\n",
      "Predicted tn for the first month: 26.767183049332303\n"
     ]
    },
    {
     "name": "stderr",
     "output_type": "stream",
     "text": [
      " 21%|████████████████▌                                                             | 166/780 [25:53<1:37:10,  9.50s/it]"
     ]
    },
    {
     "name": "stdout",
     "output_type": "stream",
     "text": [
      "Best trial:\n",
      "  Value: 25.50388738512993\n",
      "  Params: \n",
      "    num_leaves: 27\n",
      "    learning_rate: 0.05863764130837397\n",
      "    feature_fraction: 0.9048508004789321\n",
      "    bagging_fraction: 0.7651054150923986\n",
      "    bagging_freq: 3\n",
      "    min_child_samples: 35\n",
      "Predicted tn for the first month: 77.76025866270065\n"
     ]
    },
    {
     "name": "stderr",
     "output_type": "stream",
     "text": [
      " 21%|████████████████▋                                                             | 167/780 [26:04<1:41:26,  9.93s/it]"
     ]
    },
    {
     "name": "stdout",
     "output_type": "stream",
     "text": [
      "Best trial:\n",
      "  Value: 19.225153416395187\n",
      "  Params: \n",
      "    num_leaves: 37\n",
      "    learning_rate: 0.05559022241674562\n",
      "    feature_fraction: 0.8284077931814633\n",
      "    bagging_fraction: 0.7151697251508352\n",
      "    bagging_freq: 2\n",
      "    min_child_samples: 36\n",
      "Predicted tn for the first month: 28.005793371569315\n"
     ]
    },
    {
     "name": "stderr",
     "output_type": "stream",
     "text": [
      " 22%|████████████████▊                                                             | 168/780 [26:15<1:42:25, 10.04s/it]"
     ]
    },
    {
     "name": "stdout",
     "output_type": "stream",
     "text": [
      "Best trial:\n",
      "  Value: 7.549473822116852\n",
      "  Params: \n",
      "    num_leaves: 32\n",
      "    learning_rate: 0.03347226772842836\n",
      "    feature_fraction: 0.9224319442208474\n",
      "    bagging_fraction: 0.8157329004787431\n",
      "    bagging_freq: 3\n",
      "    min_child_samples: 20\n",
      "Predicted tn for the first month: 21.058310032513937\n"
     ]
    },
    {
     "name": "stderr",
     "output_type": "stream",
     "text": [
      " 22%|████████████████▉                                                             | 169/780 [26:24<1:41:10,  9.93s/it]"
     ]
    },
    {
     "name": "stdout",
     "output_type": "stream",
     "text": [
      "Best trial:\n",
      "  Value: 3.0845857225358486\n",
      "  Params: \n",
      "    num_leaves: 30\n",
      "    learning_rate: 0.06176794476665791\n",
      "    feature_fraction: 0.7087011251598198\n",
      "    bagging_fraction: 0.7877943154811344\n",
      "    bagging_freq: 4\n",
      "    min_child_samples: 26\n",
      "Predicted tn for the first month: 13.053613327302932\n"
     ]
    },
    {
     "name": "stderr",
     "output_type": "stream",
     "text": [
      " 22%|█████████████████                                                             | 170/780 [26:34<1:40:10,  9.85s/it]"
     ]
    },
    {
     "name": "stdout",
     "output_type": "stream",
     "text": [
      "Best trial:\n",
      "  Value: 6.985649965703487\n",
      "  Params: \n",
      "    num_leaves: 25\n",
      "    learning_rate: 0.018495863104921215\n",
      "    feature_fraction: 0.6757284284674038\n",
      "    bagging_fraction: 0.9848447103150549\n",
      "    bagging_freq: 10\n",
      "    min_child_samples: 16\n",
      "Predicted tn for the first month: 28.958310814391773\n"
     ]
    },
    {
     "name": "stderr",
     "output_type": "stream",
     "text": [
      " 22%|█████████████████                                                             | 171/780 [26:44<1:39:14,  9.78s/it]"
     ]
    },
    {
     "name": "stdout",
     "output_type": "stream",
     "text": [
      "Best trial:\n",
      "  Value: 12.403252303600311\n",
      "  Params: \n",
      "    num_leaves: 20\n",
      "    learning_rate: 0.028828095799370585\n",
      "    feature_fraction: 0.779045373882503\n",
      "    bagging_fraction: 0.7714062036513624\n",
      "    bagging_freq: 4\n",
      "    min_child_samples: 37\n",
      "Predicted tn for the first month: 28.24499726175944\n",
      "Using single month validation due to insufficient data for multiple splits.\n"
     ]
    },
    {
     "name": "stderr",
     "output_type": "stream",
     "text": [
      " 22%|█████████████████▏                                                            | 172/780 [26:48<1:22:21,  8.13s/it]"
     ]
    },
    {
     "name": "stdout",
     "output_type": "stream",
     "text": [
      "Best trial:\n",
      "  Value: 53.35506534576416\n",
      "  Params: \n",
      "    num_leaves: 40\n",
      "    learning_rate: 0.01730877562309782\n",
      "    feature_fraction: 0.6545228112755725\n",
      "    bagging_fraction: 0.8199511344033619\n",
      "    bagging_freq: 4\n",
      "    min_child_samples: 13\n",
      "Predicted tn for the first month: 194.37787536499025\n"
     ]
    },
    {
     "name": "stderr",
     "output_type": "stream",
     "text": [
      " 22%|█████████████████▎                                                            | 173/780 [26:59<1:30:14,  8.92s/it]"
     ]
    },
    {
     "name": "stdout",
     "output_type": "stream",
     "text": [
      "Best trial:\n",
      "  Value: 13.920264732092619\n",
      "  Params: \n",
      "    num_leaves: 22\n",
      "    learning_rate: 0.030675149737217935\n",
      "    feature_fraction: 0.6416187845933736\n",
      "    bagging_fraction: 0.9025847120999718\n",
      "    bagging_freq: 5\n",
      "    min_child_samples: 44\n",
      "Predicted tn for the first month: 17.009404935059546\n"
     ]
    },
    {
     "name": "stderr",
     "output_type": "stream",
     "text": [
      " 22%|█████████████████▍                                                            | 174/780 [27:09<1:34:38,  9.37s/it]"
     ]
    },
    {
     "name": "stdout",
     "output_type": "stream",
     "text": [
      "Best trial:\n",
      "  Value: 12.95608065649867\n",
      "  Params: \n",
      "    num_leaves: 40\n",
      "    learning_rate: 0.013714472325603175\n",
      "    feature_fraction: 0.8011792846469414\n",
      "    bagging_fraction: 0.6258321343850467\n",
      "    bagging_freq: 3\n",
      "    min_child_samples: 41\n",
      "Predicted tn for the first month: 34.83025837189039\n",
      "Using single month validation due to insufficient data for multiple splits.\n"
     ]
    },
    {
     "name": "stderr",
     "output_type": "stream",
     "text": [
      " 22%|█████████████████▌                                                            | 175/780 [27:14<1:19:26,  7.88s/it]"
     ]
    },
    {
     "name": "stdout",
     "output_type": "stream",
     "text": [
      "Best trial:\n",
      "  Value: 13.228920141855877\n",
      "  Params: \n",
      "    num_leaves: 31\n",
      "    learning_rate: 0.02116198642067863\n",
      "    feature_fraction: 0.9222007976430082\n",
      "    bagging_fraction: 0.8654292442719247\n",
      "    bagging_freq: 2\n",
      "    min_child_samples: 5\n",
      "Predicted tn for the first month: 122.86592036173504\n"
     ]
    },
    {
     "name": "stderr",
     "output_type": "stream",
     "text": [
      " 23%|█████████████████▌                                                            | 176/780 [27:23<1:25:29,  8.49s/it]"
     ]
    },
    {
     "name": "stdout",
     "output_type": "stream",
     "text": [
      "Best trial:\n",
      "  Value: 5.317491667345166\n",
      "  Params: \n",
      "    num_leaves: 30\n",
      "    learning_rate: 0.020331283893339755\n",
      "    feature_fraction: 0.9446000021333425\n",
      "    bagging_fraction: 0.7335536576643085\n",
      "    bagging_freq: 6\n",
      "    min_child_samples: 24\n",
      "Predicted tn for the first month: 22.53158429545164\n"
     ]
    },
    {
     "name": "stderr",
     "output_type": "stream",
     "text": [
      " 23%|█████████████████▋                                                            | 177/780 [27:33<1:29:33,  8.91s/it]"
     ]
    },
    {
     "name": "stdout",
     "output_type": "stream",
     "text": [
      "Best trial:\n",
      "  Value: 7.081828095018864\n",
      "  Params: \n",
      "    num_leaves: 34\n",
      "    learning_rate: 0.015205443874088174\n",
      "    feature_fraction: 0.7177210003301937\n",
      "    bagging_fraction: 0.973495628032202\n",
      "    bagging_freq: 1\n",
      "    min_child_samples: 25\n",
      "Predicted tn for the first month: 20.200429250804586\n"
     ]
    },
    {
     "name": "stderr",
     "output_type": "stream",
     "text": [
      " 23%|█████████████████▊                                                            | 178/780 [27:43<1:31:58,  9.17s/it]"
     ]
    },
    {
     "name": "stdout",
     "output_type": "stream",
     "text": [
      "Best trial:\n",
      "  Value: 14.114282608032227\n",
      "  Params: \n",
      "    num_leaves: 25\n",
      "    learning_rate: 0.06856134656615238\n",
      "    feature_fraction: 0.9487139384548521\n",
      "    bagging_fraction: 0.6716322745811237\n",
      "    bagging_freq: 2\n",
      "    min_child_samples: 22\n",
      "Predicted tn for the first month: 33.10355663912455\n"
     ]
    },
    {
     "name": "stderr",
     "output_type": "stream",
     "text": [
      " 23%|█████████████████▉                                                            | 179/780 [27:53<1:33:39,  9.35s/it]"
     ]
    },
    {
     "name": "stdout",
     "output_type": "stream",
     "text": [
      "Best trial:\n",
      "  Value: 7.170176353305578\n",
      "  Params: \n",
      "    num_leaves: 33\n",
      "    learning_rate: 0.04083974122542966\n",
      "    feature_fraction: 0.8235174529899335\n",
      "    bagging_fraction: 0.7174636628409605\n",
      "    bagging_freq: 9\n",
      "    min_child_samples: 27\n",
      "Predicted tn for the first month: 31.427805901436013\n"
     ]
    },
    {
     "name": "stderr",
     "output_type": "stream",
     "text": [
      " 23%|██████████████████                                                            | 180/780 [28:02<1:34:01,  9.40s/it]"
     ]
    },
    {
     "name": "stdout",
     "output_type": "stream",
     "text": [
      "Best trial:\n",
      "  Value: 5.668819390237331\n",
      "  Params: \n",
      "    num_leaves: 28\n",
      "    learning_rate: 0.03671916586512997\n",
      "    feature_fraction: 0.9301759031669634\n",
      "    bagging_fraction: 0.7448257597948827\n",
      "    bagging_freq: 1\n",
      "    min_child_samples: 8\n",
      "Predicted tn for the first month: 31.50463827738921\n"
     ]
    },
    {
     "name": "stderr",
     "output_type": "stream",
     "text": [
      " 23%|██████████████████                                                            | 181/780 [28:12<1:34:14,  9.44s/it]"
     ]
    },
    {
     "name": "stdout",
     "output_type": "stream",
     "text": [
      "Best trial:\n",
      "  Value: 9.668712947517633\n",
      "  Params: \n",
      "    num_leaves: 29\n",
      "    learning_rate: 0.08116635419988037\n",
      "    feature_fraction: 0.8854443526938024\n",
      "    bagging_fraction: 0.669420306844183\n",
      "    bagging_freq: 10\n",
      "    min_child_samples: 5\n",
      "Predicted tn for the first month: 23.538145801670492\n"
     ]
    },
    {
     "name": "stderr",
     "output_type": "stream",
     "text": [
      " 23%|██████████████████▏                                                           | 182/780 [28:22<1:35:00,  9.53s/it]"
     ]
    },
    {
     "name": "stdout",
     "output_type": "stream",
     "text": [
      "Best trial:\n",
      "  Value: 4.484280904754996\n",
      "  Params: \n",
      "    num_leaves: 32\n",
      "    learning_rate: 0.03605565959951905\n",
      "    feature_fraction: 0.7277156904026791\n",
      "    bagging_fraction: 0.7078252567242054\n",
      "    bagging_freq: 6\n",
      "    min_child_samples: 46\n",
      "Predicted tn for the first month: 30.168320031558675\n"
     ]
    },
    {
     "name": "stderr",
     "output_type": "stream",
     "text": [
      " 23%|██████████████████▎                                                           | 183/780 [28:32<1:36:02,  9.65s/it]"
     ]
    },
    {
     "name": "stdout",
     "output_type": "stream",
     "text": [
      "Best trial:\n",
      "  Value: 6.9398263692855835\n",
      "  Params: \n",
      "    num_leaves: 36\n",
      "    learning_rate: 0.08399094054330739\n",
      "    feature_fraction: 0.8602885052665635\n",
      "    bagging_fraction: 0.6198532924753782\n",
      "    bagging_freq: 6\n",
      "    min_child_samples: 34\n",
      "Predicted tn for the first month: 29.4574807484595\n"
     ]
    },
    {
     "name": "stderr",
     "output_type": "stream",
     "text": [
      " 24%|██████████████████▍                                                           | 184/780 [28:42<1:37:06,  9.78s/it]"
     ]
    },
    {
     "name": "stdout",
     "output_type": "stream",
     "text": [
      "Best trial:\n",
      "  Value: 6.912721365690231\n",
      "  Params: \n",
      "    num_leaves: 20\n",
      "    learning_rate: 0.016436372314963442\n",
      "    feature_fraction: 0.6858809215635272\n",
      "    bagging_fraction: 0.7737683492875859\n",
      "    bagging_freq: 8\n",
      "    min_child_samples: 10\n",
      "Predicted tn for the first month: 24.834170861504873\n"
     ]
    },
    {
     "name": "stderr",
     "output_type": "stream",
     "text": [
      " 24%|██████████████████▌                                                           | 185/780 [28:52<1:38:12,  9.90s/it]"
     ]
    },
    {
     "name": "stdout",
     "output_type": "stream",
     "text": [
      "Best trial:\n",
      "  Value: 12.666698828339577\n",
      "  Params: \n",
      "    num_leaves: 35\n",
      "    learning_rate: 0.02753285701493097\n",
      "    feature_fraction: 0.8925946523339163\n",
      "    bagging_fraction: 0.6099425607850419\n",
      "    bagging_freq: 1\n",
      "    min_child_samples: 19\n",
      "Predicted tn for the first month: 72.48760093060811\n"
     ]
    },
    {
     "name": "stderr",
     "output_type": "stream",
     "text": [
      " 24%|██████████████████▌                                                           | 186/780 [29:01<1:36:57,  9.79s/it]"
     ]
    },
    {
     "name": "stdout",
     "output_type": "stream",
     "text": [
      "Best trial:\n",
      "  Value: 6.023533208295703\n",
      "  Params: \n",
      "    num_leaves: 35\n",
      "    learning_rate: 0.0558369806714209\n",
      "    feature_fraction: 0.6264083728560089\n",
      "    bagging_fraction: 0.8322944176219774\n",
      "    bagging_freq: 4\n",
      "    min_child_samples: 27\n",
      "Predicted tn for the first month: 8.732341614069938\n"
     ]
    },
    {
     "name": "stderr",
     "output_type": "stream",
     "text": [
      " 24%|██████████████████▋                                                           | 187/780 [29:12<1:37:48,  9.90s/it]"
     ]
    },
    {
     "name": "stdout",
     "output_type": "stream",
     "text": [
      "Best trial:\n",
      "  Value: 5.6035300474613905\n",
      "  Params: \n",
      "    num_leaves: 27\n",
      "    learning_rate: 0.011604032647744372\n",
      "    feature_fraction: 0.7964355215109795\n",
      "    bagging_fraction: 0.6440752984432446\n",
      "    bagging_freq: 9\n",
      "    min_child_samples: 15\n",
      "Predicted tn for the first month: 25.731549977050225\n"
     ]
    },
    {
     "name": "stderr",
     "output_type": "stream",
     "text": [
      " 24%|██████████████████▊                                                           | 188/780 [29:21<1:37:19,  9.86s/it]"
     ]
    },
    {
     "name": "stdout",
     "output_type": "stream",
     "text": [
      "Best trial:\n",
      "  Value: 6.088865026831627\n",
      "  Params: \n",
      "    num_leaves: 27\n",
      "    learning_rate: 0.07105550355825532\n",
      "    feature_fraction: 0.9368047371572961\n",
      "    bagging_fraction: 0.6608238400157773\n",
      "    bagging_freq: 7\n",
      "    min_child_samples: 49\n",
      "Predicted tn for the first month: 21.28631081121127\n"
     ]
    },
    {
     "name": "stderr",
     "output_type": "stream",
     "text": [
      " 24%|██████████████████▉                                                           | 189/780 [29:31<1:36:47,  9.83s/it]"
     ]
    },
    {
     "name": "stdout",
     "output_type": "stream",
     "text": [
      "Best trial:\n",
      "  Value: 11.827383804367855\n",
      "  Params: \n",
      "    num_leaves: 24\n",
      "    learning_rate: 0.07450709055091168\n",
      "    feature_fraction: 0.8712773790421083\n",
      "    bagging_fraction: 0.7486791841239897\n",
      "    bagging_freq: 9\n",
      "    min_child_samples: 17\n",
      "Predicted tn for the first month: 37.0765850178584\n"
     ]
    },
    {
     "name": "stderr",
     "output_type": "stream",
     "text": [
      " 24%|███████████████████                                                           | 190/780 [29:41<1:36:37,  9.83s/it]"
     ]
    },
    {
     "name": "stdout",
     "output_type": "stream",
     "text": [
      "Best trial:\n",
      "  Value: 19.498957335948944\n",
      "  Params: \n",
      "    num_leaves: 24\n",
      "    learning_rate: 0.028261796226270938\n",
      "    feature_fraction: 0.6604622824228604\n",
      "    bagging_fraction: 0.8910519529101893\n",
      "    bagging_freq: 4\n",
      "    min_child_samples: 36\n",
      "Predicted tn for the first month: 26.678358381849925\n"
     ]
    },
    {
     "name": "stderr",
     "output_type": "stream",
     "text": [
      " 24%|███████████████████                                                           | 191/780 [29:50<1:35:28,  9.73s/it]"
     ]
    },
    {
     "name": "stdout",
     "output_type": "stream",
     "text": [
      "Best trial:\n",
      "  Value: 10.989040829241276\n",
      "  Params: \n",
      "    num_leaves: 35\n",
      "    learning_rate: 0.02090348876638141\n",
      "    feature_fraction: 0.7059326560937765\n",
      "    bagging_fraction: 0.8398941357085252\n",
      "    bagging_freq: 2\n",
      "    min_child_samples: 6\n",
      "Predicted tn for the first month: 6.416788821451815\n"
     ]
    },
    {
     "name": "stderr",
     "output_type": "stream",
     "text": [
      " 25%|███████████████████▏                                                          | 192/780 [30:00<1:35:03,  9.70s/it]"
     ]
    },
    {
     "name": "stdout",
     "output_type": "stream",
     "text": [
      "Best trial:\n",
      "  Value: 7.355608817189932\n",
      "  Params: \n",
      "    num_leaves: 40\n",
      "    learning_rate: 0.05496536957046286\n",
      "    feature_fraction: 0.9470358369466398\n",
      "    bagging_fraction: 0.6209205276569397\n",
      "    bagging_freq: 8\n",
      "    min_child_samples: 9\n",
      "Predicted tn for the first month: 61.09870248086611\n",
      "Using single month validation due to insufficient data for multiple splits.\n"
     ]
    },
    {
     "name": "stderr",
     "output_type": "stream",
     "text": [
      " 25%|███████████████████▎                                                          | 193/780 [30:04<1:18:51,  8.06s/it]"
     ]
    },
    {
     "name": "stdout",
     "output_type": "stream",
     "text": [
      "Best trial:\n",
      "  Value: 10.803900003433228\n",
      "  Params: \n",
      "    num_leaves: 24\n",
      "    learning_rate: 0.06387392133038254\n",
      "    feature_fraction: 0.6322572673723438\n",
      "    bagging_fraction: 0.8352537593351602\n",
      "    bagging_freq: 1\n",
      "    min_child_samples: 39\n",
      "Predicted tn for the first month: 40.76353020362854\n"
     ]
    },
    {
     "name": "stderr",
     "output_type": "stream",
     "text": [
      " 25%|███████████████████▍                                                          | 194/780 [30:14<1:23:36,  8.56s/it]"
     ]
    },
    {
     "name": "stdout",
     "output_type": "stream",
     "text": [
      "Best trial:\n",
      "  Value: 13.848982552066445\n",
      "  Params: \n",
      "    num_leaves: 38\n",
      "    learning_rate: 0.015992723135029252\n",
      "    feature_fraction: 0.8734836126940166\n",
      "    bagging_fraction: 0.9939560525994229\n",
      "    bagging_freq: 4\n",
      "    min_child_samples: 32\n",
      "Predicted tn for the first month: 46.900690774471364\n"
     ]
    },
    {
     "name": "stderr",
     "output_type": "stream",
     "text": [
      " 25%|███████████████████▌                                                          | 195/780 [30:24<1:27:36,  8.99s/it]"
     ]
    },
    {
     "name": "stdout",
     "output_type": "stream",
     "text": [
      "Best trial:\n",
      "  Value: 13.130406689830124\n",
      "  Params: \n",
      "    num_leaves: 25\n",
      "    learning_rate: 0.026243317578502963\n",
      "    feature_fraction: 0.6349602841101913\n",
      "    bagging_fraction: 0.7924522768419938\n",
      "    bagging_freq: 1\n",
      "    min_child_samples: 11\n",
      "Predicted tn for the first month: 31.67896499047081\n"
     ]
    },
    {
     "name": "stderr",
     "output_type": "stream",
     "text": [
      " 25%|███████████████████▌                                                          | 196/780 [30:34<1:29:46,  9.22s/it]"
     ]
    },
    {
     "name": "stdout",
     "output_type": "stream",
     "text": [
      "Best trial:\n",
      "  Value: 7.7866147588938475\n",
      "  Params: \n",
      "    num_leaves: 30\n",
      "    learning_rate: 0.04167281337449085\n",
      "    feature_fraction: 0.7808812812912098\n",
      "    bagging_fraction: 0.8828988876909873\n",
      "    bagging_freq: 9\n",
      "    min_child_samples: 18\n",
      "Predicted tn for the first month: 21.198759071946938\n"
     ]
    },
    {
     "name": "stderr",
     "output_type": "stream",
     "text": [
      " 25%|███████████████████▋                                                          | 197/780 [30:44<1:31:36,  9.43s/it]"
     ]
    },
    {
     "name": "stdout",
     "output_type": "stream",
     "text": [
      "Best trial:\n",
      "  Value: 6.10406993329525\n",
      "  Params: \n",
      "    num_leaves: 40\n",
      "    learning_rate: 0.02974562179141208\n",
      "    feature_fraction: 0.8684498944888768\n",
      "    bagging_fraction: 0.7678459823054922\n",
      "    bagging_freq: 4\n",
      "    min_child_samples: 42\n",
      "Predicted tn for the first month: 12.172219232765833\n"
     ]
    },
    {
     "name": "stderr",
     "output_type": "stream",
     "text": [
      " 25%|███████████████████▊                                                          | 198/780 [30:53<1:31:58,  9.48s/it]"
     ]
    },
    {
     "name": "stdout",
     "output_type": "stream",
     "text": [
      "Best trial:\n",
      "  Value: 2.663591216201894\n",
      "  Params: \n",
      "    num_leaves: 24\n",
      "    learning_rate: 0.012870458850201133\n",
      "    feature_fraction: 0.8409194522131811\n",
      "    bagging_fraction: 0.7181053315108359\n",
      "    bagging_freq: 9\n",
      "    min_child_samples: 14\n",
      "Predicted tn for the first month: 21.083897529478147\n"
     ]
    },
    {
     "name": "stderr",
     "output_type": "stream",
     "text": [
      " 26%|███████████████████▉                                                          | 199/780 [31:03<1:32:08,  9.51s/it]"
     ]
    },
    {
     "name": "stdout",
     "output_type": "stream",
     "text": [
      "Best trial:\n",
      "  Value: 5.956327594816685\n",
      "  Params: \n",
      "    num_leaves: 24\n",
      "    learning_rate: 0.02755884210806474\n",
      "    feature_fraction: 0.6459376824934453\n",
      "    bagging_fraction: 0.6963337557432303\n",
      "    bagging_freq: 5\n",
      "    min_child_samples: 9\n",
      "Predicted tn for the first month: 13.572124201750755\n"
     ]
    },
    {
     "name": "stderr",
     "output_type": "stream",
     "text": [
      " 26%|████████████████████                                                          | 200/780 [31:13<1:32:46,  9.60s/it]"
     ]
    },
    {
     "name": "stdout",
     "output_type": "stream",
     "text": [
      "Best trial:\n",
      "  Value: 6.495976742357016\n",
      "  Params: \n",
      "    num_leaves: 20\n",
      "    learning_rate: 0.032205311365807975\n",
      "    feature_fraction: 0.7052605572277284\n",
      "    bagging_fraction: 0.847353685742372\n",
      "    bagging_freq: 2\n",
      "    min_child_samples: 15\n",
      "Predicted tn for the first month: 14.021025870990753\n"
     ]
    },
    {
     "name": "stderr",
     "output_type": "stream",
     "text": [
      " 26%|████████████████████                                                          | 201/780 [31:22<1:32:47,  9.62s/it]"
     ]
    },
    {
     "name": "stdout",
     "output_type": "stream",
     "text": [
      "Best trial:\n",
      "  Value: 7.4283061269670725\n",
      "  Params: \n",
      "    num_leaves: 21\n",
      "    learning_rate: 0.03146997463973007\n",
      "    feature_fraction: 0.7383580802062761\n",
      "    bagging_fraction: 0.8734653072762092\n",
      "    bagging_freq: 7\n",
      "    min_child_samples: 8\n",
      "Predicted tn for the first month: 11.678604892576535\n"
     ]
    },
    {
     "name": "stderr",
     "output_type": "stream",
     "text": [
      " 26%|████████████████████▏                                                         | 202/780 [31:32<1:32:20,  9.59s/it]"
     ]
    },
    {
     "name": "stdout",
     "output_type": "stream",
     "text": [
      "Best trial:\n",
      "  Value: 8.939295078162104\n",
      "  Params: \n",
      "    num_leaves: 38\n",
      "    learning_rate: 0.049063409794662845\n",
      "    feature_fraction: 0.8815688507527507\n",
      "    bagging_fraction: 0.6079310331110642\n",
      "    bagging_freq: 9\n",
      "    min_child_samples: 6\n",
      "Predicted tn for the first month: 10.239259956489503\n"
     ]
    },
    {
     "name": "stderr",
     "output_type": "stream",
     "text": [
      " 26%|████████████████████▎                                                         | 203/780 [31:42<1:32:39,  9.64s/it]"
     ]
    },
    {
     "name": "stdout",
     "output_type": "stream",
     "text": [
      "Best trial:\n",
      "  Value: 10.772623300552368\n",
      "  Params: \n",
      "    num_leaves: 30\n",
      "    learning_rate: 0.035964403623032486\n",
      "    feature_fraction: 0.6262297022514262\n",
      "    bagging_fraction: 0.9354024233408221\n",
      "    bagging_freq: 1\n",
      "    min_child_samples: 30\n",
      "Predicted tn for the first month: 36.65818663597107\n"
     ]
    },
    {
     "name": "stderr",
     "output_type": "stream",
     "text": [
      " 26%|████████████████████▍                                                         | 204/780 [31:51<1:32:22,  9.62s/it]"
     ]
    },
    {
     "name": "stdout",
     "output_type": "stream",
     "text": [
      "Best trial:\n",
      "  Value: 6.496896604541689\n",
      "  Params: \n",
      "    num_leaves: 28\n",
      "    learning_rate: 0.02779485224089841\n",
      "    feature_fraction: 0.9507517739999148\n",
      "    bagging_fraction: 0.7383629030100989\n",
      "    bagging_freq: 7\n",
      "    min_child_samples: 41\n",
      "Predicted tn for the first month: 16.73718329538862\n"
     ]
    },
    {
     "name": "stderr",
     "output_type": "stream",
     "text": [
      " 26%|████████████████████▌                                                         | 205/780 [32:01<1:32:22,  9.64s/it]"
     ]
    },
    {
     "name": "stdout",
     "output_type": "stream",
     "text": [
      "Best trial:\n",
      "  Value: 9.001493640244007\n",
      "  Params: \n",
      "    num_leaves: 34\n",
      "    learning_rate: 0.018712399439447806\n",
      "    feature_fraction: 0.9994256831317531\n",
      "    bagging_fraction: 0.6360739145623523\n",
      "    bagging_freq: 10\n",
      "    min_child_samples: 18\n",
      "Predicted tn for the first month: 21.146913210213977\n"
     ]
    },
    {
     "name": "stderr",
     "output_type": "stream",
     "text": [
      " 26%|████████████████████▌                                                         | 206/780 [32:11<1:32:17,  9.65s/it]"
     ]
    },
    {
     "name": "stdout",
     "output_type": "stream",
     "text": [
      "Best trial:\n",
      "  Value: 5.394221544265747\n",
      "  Params: \n",
      "    num_leaves: 38\n",
      "    learning_rate: 0.05650068492993203\n",
      "    feature_fraction: 0.9296960931464091\n",
      "    bagging_fraction: 0.762261231043389\n",
      "    bagging_freq: 6\n",
      "    min_child_samples: 47\n",
      "Predicted tn for the first month: 19.844729197638827\n"
     ]
    },
    {
     "name": "stderr",
     "output_type": "stream",
     "text": [
      " 27%|████████████████████▋                                                         | 207/780 [32:20<1:31:48,  9.61s/it]"
     ]
    },
    {
     "name": "stdout",
     "output_type": "stream",
     "text": [
      "Best trial:\n",
      "  Value: 4.0026933355256915\n",
      "  Params: \n",
      "    num_leaves: 29\n",
      "    learning_rate: 0.018669721062852362\n",
      "    feature_fraction: 0.6937274800799531\n",
      "    bagging_fraction: 0.6549612896870531\n",
      "    bagging_freq: 3\n",
      "    min_child_samples: 20\n",
      "Predicted tn for the first month: 8.945690045068265\n"
     ]
    },
    {
     "name": "stderr",
     "output_type": "stream",
     "text": [
      " 27%|████████████████████▊                                                         | 208/780 [32:30<1:32:11,  9.67s/it]"
     ]
    },
    {
     "name": "stdout",
     "output_type": "stream",
     "text": [
      "Best trial:\n",
      "  Value: 5.546967521309853\n",
      "  Params: \n",
      "    num_leaves: 30\n",
      "    learning_rate: 0.030654815820029827\n",
      "    feature_fraction: 0.914009651741045\n",
      "    bagging_fraction: 0.6411662639936049\n",
      "    bagging_freq: 9\n",
      "    min_child_samples: 32\n",
      "Predicted tn for the first month: 17.734115046195985\n",
      "Using single month validation due to insufficient data for multiple splits.\n"
     ]
    },
    {
     "name": "stderr",
     "output_type": "stream",
     "text": [
      " 27%|████████████████████▉                                                         | 209/780 [32:34<1:16:42,  8.06s/it]"
     ]
    },
    {
     "name": "stdout",
     "output_type": "stream",
     "text": [
      "Best trial:\n",
      "  Value: 38.00421078999837\n",
      "  Params: \n",
      "    num_leaves: 32\n",
      "    learning_rate: 0.014166896691897345\n",
      "    feature_fraction: 0.9275815357182804\n",
      "    bagging_fraction: 0.9974874114978155\n",
      "    bagging_freq: 3\n",
      "    min_child_samples: 49\n",
      "Predicted tn for the first month: 80.17510985432942\n"
     ]
    },
    {
     "name": "stderr",
     "output_type": "stream",
     "text": [
      " 27%|█████████████████████                                                         | 210/780 [32:44<1:20:44,  8.50s/it]"
     ]
    },
    {
     "name": "stdout",
     "output_type": "stream",
     "text": [
      "Best trial:\n",
      "  Value: 9.123938765376806\n",
      "  Params: \n",
      "    num_leaves: 20\n",
      "    learning_rate: 0.012088785077607054\n",
      "    feature_fraction: 0.8425412155785159\n",
      "    bagging_fraction: 0.8703965682574306\n",
      "    bagging_freq: 7\n",
      "    min_child_samples: 5\n",
      "Predicted tn for the first month: 10.107924160188345\n",
      "Using single month validation due to insufficient data for multiple splits.\n"
     ]
    },
    {
     "name": "stderr",
     "output_type": "stream",
     "text": [
      " 27%|█████████████████████                                                         | 211/780 [32:48<1:08:12,  7.19s/it]"
     ]
    },
    {
     "name": "stdout",
     "output_type": "stream",
     "text": [
      "Best trial:\n",
      "  Value: 5.690169811248779\n",
      "  Params: \n",
      "    num_leaves: 22\n",
      "    learning_rate: 0.032010017567520616\n",
      "    feature_fraction: 0.8258915833067181\n",
      "    bagging_fraction: 0.8156765601375222\n",
      "    bagging_freq: 6\n",
      "    min_child_samples: 12\n",
      "Predicted tn for the first month: 45.1756100956726\n"
     ]
    },
    {
     "name": "stderr",
     "output_type": "stream",
     "text": [
      " 27%|█████████████████████▏                                                        | 212/780 [32:57<1:15:01,  7.93s/it]"
     ]
    },
    {
     "name": "stdout",
     "output_type": "stream",
     "text": [
      "Best trial:\n",
      "  Value: 10.94968674739357\n",
      "  Params: \n",
      "    num_leaves: 28\n",
      "    learning_rate: 0.05798280220111341\n",
      "    feature_fraction: 0.6834763788033171\n",
      "    bagging_fraction: 0.7351789073736972\n",
      "    bagging_freq: 5\n",
      "    min_child_samples: 28\n",
      "Predicted tn for the first month: 29.091215042808553\n"
     ]
    },
    {
     "name": "stderr",
     "output_type": "stream",
     "text": [
      " 27%|█████████████████████▎                                                        | 213/780 [33:07<1:19:13,  8.38s/it]"
     ]
    },
    {
     "name": "stdout",
     "output_type": "stream",
     "text": [
      "Best trial:\n",
      "  Value: 6.956333465874195\n",
      "  Params: \n",
      "    num_leaves: 32\n",
      "    learning_rate: 0.06597398314182172\n",
      "    feature_fraction: 0.8028920996216904\n",
      "    bagging_fraction: 0.6588922879893003\n",
      "    bagging_freq: 2\n",
      "    min_child_samples: 40\n",
      "Predicted tn for the first month: 18.930811613709132\n"
     ]
    },
    {
     "name": "stderr",
     "output_type": "stream",
     "text": [
      " 27%|█████████████████████▍                                                        | 214/780 [33:16<1:22:20,  8.73s/it]"
     ]
    },
    {
     "name": "stdout",
     "output_type": "stream",
     "text": [
      "Best trial:\n",
      "  Value: 3.673972174525261\n",
      "  Params: \n",
      "    num_leaves: 29\n",
      "    learning_rate: 0.03294162220156115\n",
      "    feature_fraction: 0.9543909489389466\n",
      "    bagging_fraction: 0.6640339535625607\n",
      "    bagging_freq: 9\n",
      "    min_child_samples: 14\n",
      "Predicted tn for the first month: 20.847854156751634\n"
     ]
    },
    {
     "name": "stderr",
     "output_type": "stream",
     "text": [
      " 28%|█████████████████████▌                                                        | 215/780 [33:26<1:24:23,  8.96s/it]"
     ]
    },
    {
     "name": "stdout",
     "output_type": "stream",
     "text": [
      "Best trial:\n",
      "  Value: 10.803053103387356\n",
      "  Params: \n",
      "    num_leaves: 40\n",
      "    learning_rate: 0.02699829989446454\n",
      "    feature_fraction: 0.6354472298018218\n",
      "    bagging_fraction: 0.6647933453114132\n",
      "    bagging_freq: 9\n",
      "    min_child_samples: 43\n",
      "Predicted tn for the first month: 6.619625811592738\n"
     ]
    },
    {
     "name": "stderr",
     "output_type": "stream",
     "text": [
      " 28%|█████████████████████▌                                                        | 216/780 [33:36<1:25:59,  9.15s/it]"
     ]
    },
    {
     "name": "stdout",
     "output_type": "stream",
     "text": [
      "Best trial:\n",
      "  Value: 17.614556847140193\n",
      "  Params: \n",
      "    num_leaves: 25\n",
      "    learning_rate: 0.01284092178278417\n",
      "    feature_fraction: 0.9299802028115195\n",
      "    bagging_fraction: 0.9704560596233328\n",
      "    bagging_freq: 1\n",
      "    min_child_samples: 17\n",
      "Predicted tn for the first month: 9.323404986246429\n"
     ]
    },
    {
     "name": "stderr",
     "output_type": "stream",
     "text": [
      " 28%|█████████████████████▋                                                        | 217/780 [33:45<1:26:52,  9.26s/it]"
     ]
    },
    {
     "name": "stdout",
     "output_type": "stream",
     "text": [
      "Best trial:\n",
      "  Value: 5.0466805920004845\n",
      "  Params: \n",
      "    num_leaves: 24\n",
      "    learning_rate: 0.016306019167235244\n",
      "    feature_fraction: 0.6175700152337762\n",
      "    bagging_fraction: 0.6014292091621901\n",
      "    bagging_freq: 6\n",
      "    min_child_samples: 27\n",
      "Predicted tn for the first month: 24.20894910533428\n"
     ]
    },
    {
     "name": "stderr",
     "output_type": "stream",
     "text": [
      " 28%|█████████████████████▊                                                        | 218/780 [33:55<1:27:19,  9.32s/it]"
     ]
    },
    {
     "name": "stdout",
     "output_type": "stream",
     "text": [
      "Best trial:\n",
      "  Value: 8.225722305476665\n",
      "  Params: \n",
      "    num_leaves: 28\n",
      "    learning_rate: 0.03372902736256688\n",
      "    feature_fraction: 0.8925092061179452\n",
      "    bagging_fraction: 0.698102933598857\n",
      "    bagging_freq: 10\n",
      "    min_child_samples: 43\n",
      "Predicted tn for the first month: 23.716076777070363\n"
     ]
    },
    {
     "name": "stderr",
     "output_type": "stream",
     "text": [
      " 28%|█████████████████████▉                                                        | 219/780 [34:04<1:28:06,  9.42s/it]"
     ]
    },
    {
     "name": "stdout",
     "output_type": "stream",
     "text": [
      "Best trial:\n",
      "  Value: 3.9323406817857176\n",
      "  Params: \n",
      "    num_leaves: 27\n",
      "    learning_rate: 0.0930501204393536\n",
      "    feature_fraction: 0.9879672045649592\n",
      "    bagging_fraction: 0.6591501029488799\n",
      "    bagging_freq: 3\n",
      "    min_child_samples: 24\n",
      "Predicted tn for the first month: 0.9054741794615984\n"
     ]
    },
    {
     "name": "stderr",
     "output_type": "stream",
     "text": [
      " 28%|██████████████████████                                                        | 220/780 [34:14<1:28:28,  9.48s/it]"
     ]
    },
    {
     "name": "stdout",
     "output_type": "stream",
     "text": [
      "Best trial:\n",
      "  Value: 12.710680413991213\n",
      "  Params: \n",
      "    num_leaves: 31\n",
      "    learning_rate: 0.0614949524386954\n",
      "    feature_fraction: 0.8472745284110699\n",
      "    bagging_fraction: 0.6340728446457072\n",
      "    bagging_freq: 3\n",
      "    min_child_samples: 17\n",
      "Predicted tn for the first month: 23.486482660010655\n"
     ]
    },
    {
     "name": "stderr",
     "output_type": "stream",
     "text": [
      " 28%|██████████████████████                                                        | 221/780 [34:24<1:29:20,  9.59s/it]"
     ]
    },
    {
     "name": "stdout",
     "output_type": "stream",
     "text": [
      "Best trial:\n",
      "  Value: 11.309742540121078\n",
      "  Params: \n",
      "    num_leaves: 37\n",
      "    learning_rate: 0.01506630345865489\n",
      "    feature_fraction: 0.696304284478496\n",
      "    bagging_fraction: 0.9631494869720509\n",
      "    bagging_freq: 5\n",
      "    min_child_samples: 9\n",
      "Predicted tn for the first month: 12.974511730683645\n"
     ]
    },
    {
     "name": "stderr",
     "output_type": "stream",
     "text": [
      " 28%|██████████████████████▏                                                       | 222/780 [34:33<1:29:40,  9.64s/it]"
     ]
    },
    {
     "name": "stdout",
     "output_type": "stream",
     "text": [
      "Best trial:\n",
      "  Value: 7.361788108944893\n",
      "  Params: \n",
      "    num_leaves: 31\n",
      "    learning_rate: 0.019086397170318885\n",
      "    feature_fraction: 0.9518746285595722\n",
      "    bagging_fraction: 0.6039947750357693\n",
      "    bagging_freq: 3\n",
      "    min_child_samples: 10\n",
      "Predicted tn for the first month: 19.787138410031\n"
     ]
    },
    {
     "name": "stderr",
     "output_type": "stream",
     "text": [
      " 29%|██████████████████████▎                                                       | 223/780 [34:43<1:29:32,  9.65s/it]"
     ]
    },
    {
     "name": "stdout",
     "output_type": "stream",
     "text": [
      "Best trial:\n",
      "  Value: 6.128386212512851\n",
      "  Params: \n",
      "    num_leaves: 25\n",
      "    learning_rate: 0.06312252637185282\n",
      "    feature_fraction: 0.8012647497791182\n",
      "    bagging_fraction: 0.8741309907276396\n",
      "    bagging_freq: 7\n",
      "    min_child_samples: 8\n",
      "Predicted tn for the first month: 18.576300867673556\n"
     ]
    },
    {
     "name": "stderr",
     "output_type": "stream",
     "text": [
      " 29%|██████████████████████▍                                                       | 224/780 [34:53<1:29:41,  9.68s/it]"
     ]
    },
    {
     "name": "stdout",
     "output_type": "stream",
     "text": [
      "Best trial:\n",
      "  Value: 7.449466083198786\n",
      "  Params: \n",
      "    num_leaves: 35\n",
      "    learning_rate: 0.07571439763048626\n",
      "    feature_fraction: 0.681422246366193\n",
      "    bagging_fraction: 0.6109250931880944\n",
      "    bagging_freq: 5\n",
      "    min_child_samples: 18\n",
      "Predicted tn for the first month: 19.4306566549174\n"
     ]
    },
    {
     "name": "stderr",
     "output_type": "stream",
     "text": [
      " 29%|██████████████████████▍                                                       | 225/780 [35:03<1:29:45,  9.70s/it]"
     ]
    },
    {
     "name": "stdout",
     "output_type": "stream",
     "text": [
      "Best trial:\n",
      "  Value: 4.823714438825846\n",
      "  Params: \n",
      "    num_leaves: 25\n",
      "    learning_rate: 0.02138630697488963\n",
      "    feature_fraction: 0.8465836904526994\n",
      "    bagging_fraction: 0.9438222828927603\n",
      "    bagging_freq: 9\n",
      "    min_child_samples: 7\n",
      "Predicted tn for the first month: 20.212238348345757\n"
     ]
    },
    {
     "name": "stderr",
     "output_type": "stream",
     "text": [
      " 29%|██████████████████████▌                                                       | 226/780 [35:12<1:29:32,  9.70s/it]"
     ]
    },
    {
     "name": "stdout",
     "output_type": "stream",
     "text": [
      "Best trial:\n",
      "  Value: 10.470818474888802\n",
      "  Params: \n",
      "    num_leaves: 25\n",
      "    learning_rate: 0.022377237918263727\n",
      "    feature_fraction: 0.7401559036652783\n",
      "    bagging_fraction: 0.8104034364830988\n",
      "    bagging_freq: 4\n",
      "    min_child_samples: 19\n",
      "Predicted tn for the first month: 18.86128525096178\n"
     ]
    },
    {
     "name": "stderr",
     "output_type": "stream",
     "text": [
      " 29%|██████████████████████▋                                                       | 227/780 [35:22<1:30:18,  9.80s/it]"
     ]
    },
    {
     "name": "stdout",
     "output_type": "stream",
     "text": [
      "Best trial:\n",
      "  Value: 8.303628108464181\n",
      "  Params: \n",
      "    num_leaves: 22\n",
      "    learning_rate: 0.07442790284024592\n",
      "    feature_fraction: 0.7152199554919689\n",
      "    bagging_fraction: 0.7599095129277303\n",
      "    bagging_freq: 2\n",
      "    min_child_samples: 48\n",
      "Predicted tn for the first month: 9.73849576066196\n"
     ]
    },
    {
     "name": "stderr",
     "output_type": "stream",
     "text": [
      " 29%|██████████████████████▊                                                       | 228/780 [35:32<1:30:12,  9.81s/it]"
     ]
    },
    {
     "name": "stdout",
     "output_type": "stream",
     "text": [
      "Best trial:\n",
      "  Value: 6.842071534600109\n",
      "  Params: \n",
      "    num_leaves: 38\n",
      "    learning_rate: 0.055790329280360144\n",
      "    feature_fraction: 0.6250022614183763\n",
      "    bagging_fraction: 0.7095493152363965\n",
      "    bagging_freq: 2\n",
      "    min_child_samples: 11\n",
      "Predicted tn for the first month: 11.041992585161925\n"
     ]
    },
    {
     "name": "stderr",
     "output_type": "stream",
     "text": [
      " 29%|██████████████████████▉                                                       | 229/780 [35:42<1:29:44,  9.77s/it]"
     ]
    },
    {
     "name": "stdout",
     "output_type": "stream",
     "text": [
      "Best trial:\n",
      "  Value: 6.85581137612462\n",
      "  Params: \n",
      "    num_leaves: 21\n",
      "    learning_rate: 0.04973058929378186\n",
      "    feature_fraction: 0.7015214779948876\n",
      "    bagging_fraction: 0.8184139893724193\n",
      "    bagging_freq: 8\n",
      "    min_child_samples: 43\n",
      "Predicted tn for the first month: 11.275884218850932\n"
     ]
    },
    {
     "name": "stderr",
     "output_type": "stream",
     "text": [
      " 29%|███████████████████████                                                       | 230/780 [35:51<1:29:17,  9.74s/it]"
     ]
    },
    {
     "name": "stdout",
     "output_type": "stream",
     "text": [
      "Best trial:\n",
      "  Value: 9.280419434886426\n",
      "  Params: \n",
      "    num_leaves: 20\n",
      "    learning_rate: 0.03351770772054928\n",
      "    feature_fraction: 0.6987324477769907\n",
      "    bagging_fraction: 0.762336408223095\n",
      "    bagging_freq: 3\n",
      "    min_child_samples: 14\n",
      "Predicted tn for the first month: 23.54454420521617\n"
     ]
    },
    {
     "name": "stderr",
     "output_type": "stream",
     "text": [
      " 30%|███████████████████████                                                       | 231/780 [36:02<1:30:25,  9.88s/it]"
     ]
    },
    {
     "name": "stdout",
     "output_type": "stream",
     "text": [
      "Best trial:\n",
      "  Value: 5.284790605306625\n",
      "  Params: \n",
      "    num_leaves: 37\n",
      "    learning_rate: 0.011910890542421664\n",
      "    feature_fraction: 0.9105746109164917\n",
      "    bagging_fraction: 0.6487155118499536\n",
      "    bagging_freq: 3\n",
      "    min_child_samples: 10\n",
      "Predicted tn for the first month: 14.455941619183221\n"
     ]
    },
    {
     "name": "stderr",
     "output_type": "stream",
     "text": [
      " 30%|███████████████████████▏                                                      | 232/780 [36:12<1:30:13,  9.88s/it]"
     ]
    },
    {
     "name": "stdout",
     "output_type": "stream",
     "text": [
      "Best trial:\n",
      "  Value: 5.022210329305381\n",
      "  Params: \n",
      "    num_leaves: 40\n",
      "    learning_rate: 0.014422519759292804\n",
      "    feature_fraction: 0.9670765545209266\n",
      "    bagging_fraction: 0.9456160820617449\n",
      "    bagging_freq: 1\n",
      "    min_child_samples: 46\n",
      "Predicted tn for the first month: 15.550255922387839\n"
     ]
    },
    {
     "name": "stderr",
     "output_type": "stream",
     "text": [
      " 30%|███████████████████████▎                                                      | 233/780 [36:22<1:32:35, 10.16s/it]"
     ]
    },
    {
     "name": "stdout",
     "output_type": "stream",
     "text": [
      "Best trial:\n",
      "  Value: 7.0491435043513775\n",
      "  Params: \n",
      "    num_leaves: 21\n",
      "    learning_rate: 0.09581219906859297\n",
      "    feature_fraction: 0.6922646690212415\n",
      "    bagging_fraction: 0.6987560257865961\n",
      "    bagging_freq: 3\n",
      "    min_child_samples: 21\n",
      "Predicted tn for the first month: 7.333078340616226\n",
      "Using single month validation due to insufficient data for multiple splits.\n"
     ]
    },
    {
     "name": "stderr",
     "output_type": "stream",
     "text": [
      " 30%|███████████████████████▍                                                      | 234/780 [36:27<1:17:11,  8.48s/it]"
     ]
    },
    {
     "name": "stdout",
     "output_type": "stream",
     "text": [
      "Best trial:\n",
      "  Value: 8.31921535730362\n",
      "  Params: \n",
      "    num_leaves: 21\n",
      "    learning_rate: 0.01469226025255068\n",
      "    feature_fraction: 0.8274662918037788\n",
      "    bagging_fraction: 0.7900614818326006\n",
      "    bagging_freq: 6\n",
      "    min_child_samples: 43\n",
      "Predicted tn for the first month: 41.63141493738175\n"
     ]
    },
    {
     "name": "stderr",
     "output_type": "stream",
     "text": [
      " 30%|███████████████████████▌                                                      | 235/780 [36:37<1:22:34,  9.09s/it]"
     ]
    },
    {
     "name": "stdout",
     "output_type": "stream",
     "text": [
      "Best trial:\n",
      "  Value: 9.132221281528473\n",
      "  Params: \n",
      "    num_leaves: 38\n",
      "    learning_rate: 0.012500809241325605\n",
      "    feature_fraction: 0.7863802008937515\n",
      "    bagging_fraction: 0.7224033878954286\n",
      "    bagging_freq: 5\n",
      "    min_child_samples: 9\n",
      "Predicted tn for the first month: 14.680520095354716\n"
     ]
    },
    {
     "name": "stderr",
     "output_type": "stream",
     "text": [
      " 30%|███████████████████████▌                                                      | 236/780 [36:49<1:28:17,  9.74s/it]"
     ]
    },
    {
     "name": "stdout",
     "output_type": "stream",
     "text": [
      "Best trial:\n",
      "  Value: 3.9912031344138086\n",
      "  Params: \n",
      "    num_leaves: 33\n",
      "    learning_rate: 0.07266710903742836\n",
      "    feature_fraction: 0.7200861175835592\n",
      "    bagging_fraction: 0.6197150025818501\n",
      "    bagging_freq: 4\n",
      "    min_child_samples: 5\n",
      "Predicted tn for the first month: 19.57415593255489\n"
     ]
    },
    {
     "name": "stderr",
     "output_type": "stream",
     "text": [
      " 30%|███████████████████████▋                                                      | 237/780 [37:00<1:31:34, 10.12s/it]"
     ]
    },
    {
     "name": "stdout",
     "output_type": "stream",
     "text": [
      "Best trial:\n",
      "  Value: 9.448436230421066\n",
      "  Params: \n",
      "    num_leaves: 38\n",
      "    learning_rate: 0.04783864620456962\n",
      "    feature_fraction: 0.7249328853882534\n",
      "    bagging_fraction: 0.7097791558398314\n",
      "    bagging_freq: 8\n",
      "    min_child_samples: 33\n",
      "Predicted tn for the first month: 8.376556753190359\n"
     ]
    },
    {
     "name": "stderr",
     "output_type": "stream",
     "text": [
      " 31%|███████████████████████▊                                                      | 238/780 [37:11<1:33:15, 10.32s/it]"
     ]
    },
    {
     "name": "stdout",
     "output_type": "stream",
     "text": [
      "Best trial:\n",
      "  Value: 4.162207571789622\n",
      "  Params: \n",
      "    num_leaves: 25\n",
      "    learning_rate: 0.011773230128508413\n",
      "    feature_fraction: 0.8787694360165722\n",
      "    bagging_fraction: 0.9694055191824057\n",
      "    bagging_freq: 1\n",
      "    min_child_samples: 19\n",
      "Predicted tn for the first month: 16.502655002446573\n"
     ]
    },
    {
     "name": "stderr",
     "output_type": "stream",
     "text": [
      " 31%|███████████████████████▉                                                      | 239/780 [37:22<1:34:54, 10.53s/it]"
     ]
    },
    {
     "name": "stdout",
     "output_type": "stream",
     "text": [
      "Best trial:\n",
      "  Value: 4.459341342560947\n",
      "  Params: \n",
      "    num_leaves: 38\n",
      "    learning_rate: 0.05287042137612231\n",
      "    feature_fraction: 0.9679329231776197\n",
      "    bagging_fraction: 0.7533413822142144\n",
      "    bagging_freq: 4\n",
      "    min_child_samples: 23\n",
      "Predicted tn for the first month: 18.959208298582833\n"
     ]
    },
    {
     "name": "stderr",
     "output_type": "stream",
     "text": [
      " 31%|████████████████████████                                                      | 240/780 [37:32<1:35:22, 10.60s/it]"
     ]
    },
    {
     "name": "stdout",
     "output_type": "stream",
     "text": [
      "Best trial:\n",
      "  Value: 4.414689970202744\n",
      "  Params: \n",
      "    num_leaves: 33\n",
      "    learning_rate: 0.016573149246534007\n",
      "    feature_fraction: 0.8406415066004155\n",
      "    bagging_fraction: 0.9570628734370394\n",
      "    bagging_freq: 4\n",
      "    min_child_samples: 9\n",
      "Predicted tn for the first month: 15.520931777918936\n"
     ]
    },
    {
     "name": "stderr",
     "output_type": "stream",
     "text": [
      " 31%|████████████████████████                                                      | 241/780 [37:43<1:35:10, 10.59s/it]"
     ]
    },
    {
     "name": "stdout",
     "output_type": "stream",
     "text": [
      "Best trial:\n",
      "  Value: 3.919916285201907\n",
      "  Params: \n",
      "    num_leaves: 21\n",
      "    learning_rate: 0.05111532627338358\n",
      "    feature_fraction: 0.789727008889869\n",
      "    bagging_fraction: 0.9164369735365923\n",
      "    bagging_freq: 6\n",
      "    min_child_samples: 16\n",
      "Predicted tn for the first month: 17.209269987187785\n"
     ]
    },
    {
     "name": "stderr",
     "output_type": "stream",
     "text": [
      " 31%|████████████████████████▏                                                     | 242/780 [37:54<1:35:44, 10.68s/it]"
     ]
    },
    {
     "name": "stdout",
     "output_type": "stream",
     "text": [
      "Best trial:\n",
      "  Value: 11.82682617008686\n",
      "  Params: \n",
      "    num_leaves: 20\n",
      "    learning_rate: 0.023700700772107616\n",
      "    feature_fraction: 0.7743412490112235\n",
      "    bagging_fraction: 0.8420527090910614\n",
      "    bagging_freq: 10\n",
      "    min_child_samples: 34\n",
      "Predicted tn for the first month: 50.09029999821981\n"
     ]
    },
    {
     "name": "stderr",
     "output_type": "stream",
     "text": [
      " 31%|████████████████████████▎                                                     | 243/780 [38:04<1:35:30, 10.67s/it]"
     ]
    },
    {
     "name": "stdout",
     "output_type": "stream",
     "text": [
      "Best trial:\n",
      "  Value: 6.413364979438484\n",
      "  Params: \n",
      "    num_leaves: 38\n",
      "    learning_rate: 0.07409415501409616\n",
      "    feature_fraction: 0.871580440705414\n",
      "    bagging_fraction: 0.7741663193256973\n",
      "    bagging_freq: 8\n",
      "    min_child_samples: 9\n",
      "Predicted tn for the first month: 17.981859972946047\n"
     ]
    },
    {
     "name": "stderr",
     "output_type": "stream",
     "text": [
      " 31%|████████████████████████▍                                                     | 244/780 [38:15<1:35:24, 10.68s/it]"
     ]
    },
    {
     "name": "stdout",
     "output_type": "stream",
     "text": [
      "Best trial:\n",
      "  Value: 12.120176162570715\n",
      "  Params: \n",
      "    num_leaves: 27\n",
      "    learning_rate: 0.026401547456285087\n",
      "    feature_fraction: 0.6671104267584941\n",
      "    bagging_fraction: 0.92674880999847\n",
      "    bagging_freq: 4\n",
      "    min_child_samples: 46\n",
      "Predicted tn for the first month: 11.049674892880121\n"
     ]
    },
    {
     "name": "stderr",
     "output_type": "stream",
     "text": [
      " 31%|████████████████████████▌                                                     | 245/780 [38:26<1:35:10, 10.67s/it]"
     ]
    },
    {
     "name": "stdout",
     "output_type": "stream",
     "text": [
      "Best trial:\n",
      "  Value: 5.823315046727657\n",
      "  Params: \n",
      "    num_leaves: 27\n",
      "    learning_rate: 0.04695388787254076\n",
      "    feature_fraction: 0.7111534133483168\n",
      "    bagging_fraction: 0.718403905542755\n",
      "    bagging_freq: 6\n",
      "    min_child_samples: 8\n",
      "Predicted tn for the first month: 15.655724172779719\n"
     ]
    },
    {
     "name": "stderr",
     "output_type": "stream",
     "text": [
      " 32%|████████████████████████▌                                                     | 246/780 [38:36<1:34:34, 10.63s/it]"
     ]
    },
    {
     "name": "stdout",
     "output_type": "stream",
     "text": [
      "Best trial:\n",
      "  Value: 5.26557981967926\n",
      "  Params: \n",
      "    num_leaves: 40\n",
      "    learning_rate: 0.052949551876544744\n",
      "    feature_fraction: 0.747785986245178\n",
      "    bagging_fraction: 0.6638612071378732\n",
      "    bagging_freq: 4\n",
      "    min_child_samples: 14\n",
      "Predicted tn for the first month: 15.680635045356752\n"
     ]
    },
    {
     "name": "stderr",
     "output_type": "stream",
     "text": [
      " 32%|████████████████████████▋                                                     | 247/780 [38:47<1:33:23, 10.51s/it]"
     ]
    },
    {
     "name": "stdout",
     "output_type": "stream",
     "text": [
      "Best trial:\n",
      "  Value: 9.010485053062439\n",
      "  Params: \n",
      "    num_leaves: 30\n",
      "    learning_rate: 0.050671811899356996\n",
      "    feature_fraction: 0.9197563344642304\n",
      "    bagging_fraction: 0.9202643902585366\n",
      "    bagging_freq: 4\n",
      "    min_child_samples: 13\n",
      "Predicted tn for the first month: 2.6828900638516746\n"
     ]
    },
    {
     "name": "stderr",
     "output_type": "stream",
     "text": [
      " 32%|████████████████████████▊                                                     | 248/780 [38:56<1:31:33, 10.33s/it]"
     ]
    },
    {
     "name": "stdout",
     "output_type": "stream",
     "text": [
      "Best trial:\n",
      "  Value: 8.330611297744326\n",
      "  Params: \n",
      "    num_leaves: 30\n",
      "    learning_rate: 0.029715013097851194\n",
      "    feature_fraction: 0.6349593521807894\n",
      "    bagging_fraction: 0.6492386276681043\n",
      "    bagging_freq: 7\n",
      "    min_child_samples: 22\n",
      "Predicted tn for the first month: 18.107803397984405\n"
     ]
    },
    {
     "name": "stderr",
     "output_type": "stream",
     "text": [
      " 32%|████████████████████████▉                                                     | 249/780 [39:06<1:29:46, 10.14s/it]"
     ]
    },
    {
     "name": "stdout",
     "output_type": "stream",
     "text": [
      "Best trial:\n",
      "  Value: 12.450506262481213\n",
      "  Params: \n",
      "    num_leaves: 32\n",
      "    learning_rate: 0.07325642077917464\n",
      "    feature_fraction: 0.9905051410207317\n",
      "    bagging_fraction: 0.81318351160927\n",
      "    bagging_freq: 1\n",
      "    min_child_samples: 37\n",
      "Predicted tn for the first month: 4.304299924284617\n"
     ]
    },
    {
     "name": "stderr",
     "output_type": "stream",
     "text": [
      " 32%|█████████████████████████                                                     | 250/780 [39:16<1:28:41, 10.04s/it]"
     ]
    },
    {
     "name": "stdout",
     "output_type": "stream",
     "text": [
      "Best trial:\n",
      "  Value: 8.685857448726892\n",
      "  Params: \n",
      "    num_leaves: 28\n",
      "    learning_rate: 0.05285817416784597\n",
      "    feature_fraction: 0.799396700576249\n",
      "    bagging_fraction: 0.8265211784890404\n",
      "    bagging_freq: 3\n",
      "    min_child_samples: 6\n",
      "Predicted tn for the first month: 1.65187819767692\n"
     ]
    },
    {
     "name": "stderr",
     "output_type": "stream",
     "text": [
      " 32%|█████████████████████████                                                     | 251/780 [39:27<1:30:37, 10.28s/it]"
     ]
    },
    {
     "name": "stdout",
     "output_type": "stream",
     "text": [
      "Best trial:\n",
      "  Value: 6.582344670285238\n",
      "  Params: \n",
      "    num_leaves: 37\n",
      "    learning_rate: 0.028771007636886062\n",
      "    feature_fraction: 0.9158064400402666\n",
      "    bagging_fraction: 0.8447258421013146\n",
      "    bagging_freq: 1\n",
      "    min_child_samples: 23\n",
      "Predicted tn for the first month: 44.370005815791316\n"
     ]
    },
    {
     "name": "stderr",
     "output_type": "stream",
     "text": [
      " 32%|█████████████████████████▏                                                    | 252/780 [39:38<1:32:01, 10.46s/it]"
     ]
    },
    {
     "name": "stdout",
     "output_type": "stream",
     "text": [
      "Best trial:\n",
      "  Value: 7.3985080905258656\n",
      "  Params: \n",
      "    num_leaves: 31\n",
      "    learning_rate: 0.06925130354251076\n",
      "    feature_fraction: 0.717743670998007\n",
      "    bagging_fraction: 0.6790748897057071\n",
      "    bagging_freq: 7\n",
      "    min_child_samples: 41\n",
      "Predicted tn for the first month: 14.53213828586658\n"
     ]
    },
    {
     "name": "stderr",
     "output_type": "stream",
     "text": [
      " 32%|█████████████████████████▎                                                    | 253/780 [39:48<1:30:56, 10.35s/it]"
     ]
    },
    {
     "name": "stdout",
     "output_type": "stream",
     "text": [
      "Best trial:\n",
      "  Value: 4.090763837099075\n",
      "  Params: \n",
      "    num_leaves: 20\n",
      "    learning_rate: 0.017615274001406625\n",
      "    feature_fraction: 0.784961592476157\n",
      "    bagging_fraction: 0.6681434938529027\n",
      "    bagging_freq: 9\n",
      "    min_child_samples: 6\n",
      "Predicted tn for the first month: 23.110677483067512\n"
     ]
    },
    {
     "name": "stderr",
     "output_type": "stream",
     "text": [
      " 33%|█████████████████████████▍                                                    | 254/780 [39:58<1:31:07, 10.40s/it]"
     ]
    },
    {
     "name": "stdout",
     "output_type": "stream",
     "text": [
      "Best trial:\n",
      "  Value: 8.933152556419373\n",
      "  Params: \n",
      "    num_leaves: 36\n",
      "    learning_rate: 0.013330847781838417\n",
      "    feature_fraction: 0.8265755278367136\n",
      "    bagging_fraction: 0.6299967286579148\n",
      "    bagging_freq: 4\n",
      "    min_child_samples: 48\n",
      "Predicted tn for the first month: 25.95347426387787\n"
     ]
    },
    {
     "name": "stderr",
     "output_type": "stream",
     "text": [
      " 33%|█████████████████████████▌                                                    | 255/780 [40:08<1:30:32, 10.35s/it]"
     ]
    },
    {
     "name": "stdout",
     "output_type": "stream",
     "text": [
      "Best trial:\n",
      "  Value: 6.81609904859215\n",
      "  Params: \n",
      "    num_leaves: 36\n",
      "    learning_rate: 0.058774597126504916\n",
      "    feature_fraction: 0.8793265177086114\n",
      "    bagging_fraction: 0.9295239055430431\n",
      "    bagging_freq: 4\n",
      "    min_child_samples: 13\n",
      "Predicted tn for the first month: 19.736383386450807\n"
     ]
    },
    {
     "name": "stderr",
     "output_type": "stream",
     "text": [
      " 33%|█████████████████████████▌                                                    | 256/780 [40:19<1:29:51, 10.29s/it]"
     ]
    },
    {
     "name": "stdout",
     "output_type": "stream",
     "text": [
      "Best trial:\n",
      "  Value: 4.70720249414444\n",
      "  Params: \n",
      "    num_leaves: 21\n",
      "    learning_rate: 0.011601730546551484\n",
      "    feature_fraction: 0.7043090635605023\n",
      "    bagging_fraction: 0.9890637712971055\n",
      "    bagging_freq: 10\n",
      "    min_child_samples: 41\n",
      "Predicted tn for the first month: 26.29399495141983\n"
     ]
    },
    {
     "name": "stderr",
     "output_type": "stream",
     "text": [
      " 33%|█████████████████████████▋                                                    | 257/780 [40:29<1:28:43, 10.18s/it]"
     ]
    },
    {
     "name": "stdout",
     "output_type": "stream",
     "text": [
      "Best trial:\n",
      "  Value: 4.709091505035758\n",
      "  Params: \n",
      "    num_leaves: 29\n",
      "    learning_rate: 0.02381017091634542\n",
      "    feature_fraction: 0.6667713900737439\n",
      "    bagging_fraction: 0.810376088633092\n",
      "    bagging_freq: 5\n",
      "    min_child_samples: 30\n",
      "Predicted tn for the first month: 17.1495542009751\n"
     ]
    },
    {
     "name": "stderr",
     "output_type": "stream",
     "text": [
      " 33%|█████████████████████████▊                                                    | 258/780 [40:39<1:29:16, 10.26s/it]"
     ]
    },
    {
     "name": "stdout",
     "output_type": "stream",
     "text": [
      "Best trial:\n",
      "  Value: 4.257641315460205\n",
      "  Params: \n",
      "    num_leaves: 29\n",
      "    learning_rate: 0.01979984253489371\n",
      "    feature_fraction: 0.9926455943550709\n",
      "    bagging_fraction: 0.6572058260749002\n",
      "    bagging_freq: 5\n",
      "    min_child_samples: 40\n",
      "Predicted tn for the first month: 13.62434254969279\n"
     ]
    },
    {
     "name": "stderr",
     "output_type": "stream",
     "text": [
      " 33%|█████████████████████████▉                                                    | 259/780 [40:49<1:28:34, 10.20s/it]"
     ]
    },
    {
     "name": "stdout",
     "output_type": "stream",
     "text": [
      "Best trial:\n",
      "  Value: 3.6394819086417556\n",
      "  Params: \n",
      "    num_leaves: 38\n",
      "    learning_rate: 0.019967256917721922\n",
      "    feature_fraction: 0.9030647837258666\n",
      "    bagging_fraction: 0.7007495128539307\n",
      "    bagging_freq: 5\n",
      "    min_child_samples: 10\n",
      "Predicted tn for the first month: 40.53272334501525\n"
     ]
    },
    {
     "name": "stderr",
     "output_type": "stream",
     "text": [
      " 33%|██████████████████████████                                                    | 260/780 [40:59<1:27:05, 10.05s/it]"
     ]
    },
    {
     "name": "stdout",
     "output_type": "stream",
     "text": [
      "Best trial:\n",
      "  Value: 3.5158749371767044\n",
      "  Params: \n",
      "    num_leaves: 29\n",
      "    learning_rate: 0.03054819959827484\n",
      "    feature_fraction: 0.9980971400174083\n",
      "    bagging_fraction: 0.9429872551969382\n",
      "    bagging_freq: 2\n",
      "    min_child_samples: 19\n",
      "Predicted tn for the first month: 11.428955010779699\n"
     ]
    },
    {
     "name": "stderr",
     "output_type": "stream",
     "text": [
      " 33%|██████████████████████████                                                    | 261/780 [41:08<1:25:48,  9.92s/it]"
     ]
    },
    {
     "name": "stdout",
     "output_type": "stream",
     "text": [
      "Best trial:\n",
      "  Value: 3.366957489401102\n",
      "  Params: \n",
      "    num_leaves: 22\n",
      "    learning_rate: 0.06502060939911862\n",
      "    feature_fraction: 0.9603876977013089\n",
      "    bagging_fraction: 0.766422857773767\n",
      "    bagging_freq: 2\n",
      "    min_child_samples: 11\n",
      "Predicted tn for the first month: 13.999821729957262\n"
     ]
    },
    {
     "name": "stderr",
     "output_type": "stream",
     "text": [
      " 34%|██████████████████████████▏                                                   | 262/780 [41:18<1:25:03,  9.85s/it]"
     ]
    },
    {
     "name": "stdout",
     "output_type": "stream",
     "text": [
      "Best trial:\n",
      "  Value: 5.809141907840967\n",
      "  Params: \n",
      "    num_leaves: 37\n",
      "    learning_rate: 0.06014828001696524\n",
      "    feature_fraction: 0.7579374218553183\n",
      "    bagging_fraction: 0.9581534636383742\n",
      "    bagging_freq: 8\n",
      "    min_child_samples: 29\n",
      "Predicted tn for the first month: 14.51260164831241\n"
     ]
    },
    {
     "name": "stderr",
     "output_type": "stream",
     "text": [
      " 34%|██████████████████████████▎                                                   | 263/780 [41:28<1:25:09,  9.88s/it]"
     ]
    },
    {
     "name": "stdout",
     "output_type": "stream",
     "text": [
      "Best trial:\n",
      "  Value: 3.3438293440267444\n",
      "  Params: \n",
      "    num_leaves: 29\n",
      "    learning_rate: 0.03505765785631499\n",
      "    feature_fraction: 0.6872372950934025\n",
      "    bagging_fraction: 0.7032724976319601\n",
      "    bagging_freq: 10\n",
      "    min_child_samples: 44\n",
      "Predicted tn for the first month: 32.14552084729751\n"
     ]
    },
    {
     "name": "stderr",
     "output_type": "stream",
     "text": [
      " 34%|██████████████████████████▍                                                   | 264/780 [41:38<1:24:19,  9.81s/it]"
     ]
    },
    {
     "name": "stdout",
     "output_type": "stream",
     "text": [
      "Best trial:\n",
      "  Value: 2.189965020865202\n",
      "  Params: \n",
      "    num_leaves: 29\n",
      "    learning_rate: 0.03510827451936528\n",
      "    feature_fraction: 0.7165642458764486\n",
      "    bagging_fraction: 0.8765953846565024\n",
      "    bagging_freq: 6\n",
      "    min_child_samples: 26\n",
      "Predicted tn for the first month: 7.345831688117186\n"
     ]
    },
    {
     "name": "stderr",
     "output_type": "stream",
     "text": [
      " 34%|██████████████████████████▌                                                   | 265/780 [41:47<1:23:28,  9.73s/it]"
     ]
    },
    {
     "name": "stdout",
     "output_type": "stream",
     "text": [
      "Best trial:\n",
      "  Value: 11.914556384086609\n",
      "  Params: \n",
      "    num_leaves: 36\n",
      "    learning_rate: 0.06236325388564713\n",
      "    feature_fraction: 0.9540488095420068\n",
      "    bagging_fraction: 0.7692968096669772\n",
      "    bagging_freq: 9\n",
      "    min_child_samples: 48\n",
      "Predicted tn for the first month: 29.796211682395935\n"
     ]
    },
    {
     "name": "stderr",
     "output_type": "stream",
     "text": [
      " 34%|██████████████████████████▌                                                   | 266/780 [41:57<1:23:01,  9.69s/it]"
     ]
    },
    {
     "name": "stdout",
     "output_type": "stream",
     "text": [
      "Best trial:\n",
      "  Value: 3.3746468871831894\n",
      "  Params: \n",
      "    num_leaves: 35\n",
      "    learning_rate: 0.07812994650689437\n",
      "    feature_fraction: 0.6854971878582135\n",
      "    bagging_fraction: 0.9828526440308682\n",
      "    bagging_freq: 10\n",
      "    min_child_samples: 16\n",
      "Predicted tn for the first month: 17.72436168442726\n"
     ]
    },
    {
     "name": "stderr",
     "output_type": "stream",
     "text": [
      " 34%|██████████████████████████▋                                                   | 267/780 [42:06<1:22:20,  9.63s/it]"
     ]
    },
    {
     "name": "stdout",
     "output_type": "stream",
     "text": [
      "Best trial:\n",
      "  Value: 5.095542527735233\n",
      "  Params: \n",
      "    num_leaves: 27\n",
      "    learning_rate: 0.04986753214071624\n",
      "    feature_fraction: 0.9631918119804046\n",
      "    bagging_fraction: 0.8273828097563053\n",
      "    bagging_freq: 3\n",
      "    min_child_samples: 32\n",
      "Predicted tn for the first month: 4.817919169473648\n"
     ]
    },
    {
     "name": "stderr",
     "output_type": "stream",
     "text": [
      " 34%|██████████████████████████▊                                                   | 268/780 [42:16<1:22:04,  9.62s/it]"
     ]
    },
    {
     "name": "stdout",
     "output_type": "stream",
     "text": [
      "Best trial:\n",
      "  Value: 4.6123800333589315\n",
      "  Params: \n",
      "    num_leaves: 29\n",
      "    learning_rate: 0.021743638112017537\n",
      "    feature_fraction: 0.6597127275617793\n",
      "    bagging_fraction: 0.6444072075920676\n",
      "    bagging_freq: 4\n",
      "    min_child_samples: 19\n",
      "Predicted tn for the first month: 14.65708754153212\n"
     ]
    },
    {
     "name": "stderr",
     "output_type": "stream",
     "text": [
      " 34%|██████████████████████████▉                                                   | 269/780 [42:26<1:22:05,  9.64s/it]"
     ]
    },
    {
     "name": "stdout",
     "output_type": "stream",
     "text": [
      "Best trial:\n",
      "  Value: 4.717991796322167\n",
      "  Params: \n",
      "    num_leaves: 26\n",
      "    learning_rate: 0.022214669984966347\n",
      "    feature_fraction: 0.8079581354384139\n",
      "    bagging_fraction: 0.6612629688912746\n",
      "    bagging_freq: 4\n",
      "    min_child_samples: 42\n",
      "Predicted tn for the first month: 18.903669149500328\n"
     ]
    },
    {
     "name": "stderr",
     "output_type": "stream",
     "text": [
      " 35%|███████████████████████████                                                   | 270/780 [42:36<1:22:49,  9.74s/it]"
     ]
    },
    {
     "name": "stdout",
     "output_type": "stream",
     "text": [
      "Best trial:\n",
      "  Value: 5.0139009756967425\n",
      "  Params: \n",
      "    num_leaves: 28\n",
      "    learning_rate: 0.026897516492756866\n",
      "    feature_fraction: 0.71028561726505\n",
      "    bagging_fraction: 0.7575578411634902\n",
      "    bagging_freq: 4\n",
      "    min_child_samples: 41\n",
      "Predicted tn for the first month: 7.562327491072813\n"
     ]
    },
    {
     "name": "stderr",
     "output_type": "stream",
     "text": [
      " 35%|███████████████████████████                                                   | 271/780 [42:46<1:23:21,  9.83s/it]"
     ]
    },
    {
     "name": "stdout",
     "output_type": "stream",
     "text": [
      "Best trial:\n",
      "  Value: 7.975246608257294\n",
      "  Params: \n",
      "    num_leaves: 23\n",
      "    learning_rate: 0.01509851150426859\n",
      "    feature_fraction: 0.812191000893789\n",
      "    bagging_fraction: 0.9146625801821777\n",
      "    bagging_freq: 7\n",
      "    min_child_samples: 9\n",
      "Predicted tn for the first month: 14.233853411458334\n"
     ]
    },
    {
     "name": "stderr",
     "output_type": "stream",
     "text": [
      " 35%|███████████████████████████▏                                                  | 272/780 [42:55<1:23:21,  9.84s/it]"
     ]
    },
    {
     "name": "stdout",
     "output_type": "stream",
     "text": [
      "Best trial:\n",
      "  Value: 2.4517675042152405\n",
      "  Params: \n",
      "    num_leaves: 40\n",
      "    learning_rate: 0.011420325341548224\n",
      "    feature_fraction: 0.8071427839832923\n",
      "    bagging_fraction: 0.9580050478528355\n",
      "    bagging_freq: 4\n",
      "    min_child_samples: 41\n",
      "Predicted tn for the first month: 16.662341657621067\n"
     ]
    },
    {
     "name": "stderr",
     "output_type": "stream",
     "text": [
      " 35%|███████████████████████████▎                                                  | 273/780 [43:05<1:23:19,  9.86s/it]"
     ]
    },
    {
     "name": "stdout",
     "output_type": "stream",
     "text": [
      "Best trial:\n",
      "  Value: 6.619099542498589\n",
      "  Params: \n",
      "    num_leaves: 36\n",
      "    learning_rate: 0.048439529119077215\n",
      "    feature_fraction: 0.6589004031566971\n",
      "    bagging_fraction: 0.8229917475185555\n",
      "    bagging_freq: 4\n",
      "    min_child_samples: 47\n",
      "Predicted tn for the first month: 14.289122511507669\n"
     ]
    },
    {
     "name": "stderr",
     "output_type": "stream",
     "text": [
      " 35%|███████████████████████████▍                                                  | 274/780 [43:15<1:23:45,  9.93s/it]"
     ]
    },
    {
     "name": "stdout",
     "output_type": "stream",
     "text": [
      "Best trial:\n",
      "  Value: 9.12465787678957\n",
      "  Params: \n",
      "    num_leaves: 37\n",
      "    learning_rate: 0.0980414458675104\n",
      "    feature_fraction: 0.780754375170589\n",
      "    bagging_fraction: 0.7263965859279822\n",
      "    bagging_freq: 8\n",
      "    min_child_samples: 36\n",
      "Predicted tn for the first month: 37.873312561728156\n"
     ]
    },
    {
     "name": "stderr",
     "output_type": "stream",
     "text": [
      " 35%|███████████████████████████▌                                                  | 275/780 [43:26<1:24:42, 10.06s/it]"
     ]
    },
    {
     "name": "stdout",
     "output_type": "stream",
     "text": [
      "Best trial:\n",
      "  Value: 5.470413709059358\n",
      "  Params: \n",
      "    num_leaves: 39\n",
      "    learning_rate: 0.04716822481843304\n",
      "    feature_fraction: 0.6061510493847754\n",
      "    bagging_fraction: 0.8472681637554889\n",
      "    bagging_freq: 6\n",
      "    min_child_samples: 15\n",
      "Predicted tn for the first month: 15.476334220430852\n"
     ]
    },
    {
     "name": "stderr",
     "output_type": "stream",
     "text": [
      " 35%|███████████████████████████▌                                                  | 276/780 [43:36<1:23:49,  9.98s/it]"
     ]
    },
    {
     "name": "stdout",
     "output_type": "stream",
     "text": [
      "Best trial:\n",
      "  Value: 3.9924261271953583\n",
      "  Params: \n",
      "    num_leaves: 31\n",
      "    learning_rate: 0.08083727715297977\n",
      "    feature_fraction: 0.8824715210197749\n",
      "    bagging_fraction: 0.8152068926269533\n",
      "    bagging_freq: 8\n",
      "    min_child_samples: 49\n",
      "Predicted tn for the first month: 14.779430866187415\n"
     ]
    },
    {
     "name": "stderr",
     "output_type": "stream",
     "text": [
      " 36%|███████████████████████████▋                                                  | 277/780 [43:45<1:23:12,  9.93s/it]"
     ]
    },
    {
     "name": "stdout",
     "output_type": "stream",
     "text": [
      "Best trial:\n",
      "  Value: 3.371388800442219\n",
      "  Params: \n",
      "    num_leaves: 37\n",
      "    learning_rate: 0.02628032500041288\n",
      "    feature_fraction: 0.6411377756292987\n",
      "    bagging_fraction: 0.7645660541821307\n",
      "    bagging_freq: 9\n",
      "    min_child_samples: 18\n",
      "Predicted tn for the first month: 23.86443423646132\n"
     ]
    },
    {
     "name": "stderr",
     "output_type": "stream",
     "text": [
      " 36%|███████████████████████████▊                                                  | 278/780 [43:55<1:23:21,  9.96s/it]"
     ]
    },
    {
     "name": "stdout",
     "output_type": "stream",
     "text": [
      "Best trial:\n",
      "  Value: 4.13898529112339\n",
      "  Params: \n",
      "    num_leaves: 23\n",
      "    learning_rate: 0.08084067062432268\n",
      "    feature_fraction: 0.8733292847160028\n",
      "    bagging_fraction: 0.987407307493802\n",
      "    bagging_freq: 5\n",
      "    min_child_samples: 35\n",
      "Predicted tn for the first month: 12.828110803263984\n"
     ]
    },
    {
     "name": "stderr",
     "output_type": "stream",
     "text": [
      " 36%|███████████████████████████▉                                                  | 279/780 [44:05<1:23:08,  9.96s/it]"
     ]
    },
    {
     "name": "stdout",
     "output_type": "stream",
     "text": [
      "Best trial:\n",
      "  Value: 9.316941320896149\n",
      "  Params: \n",
      "    num_leaves: 23\n",
      "    learning_rate: 0.09252349223969619\n",
      "    feature_fraction: 0.9236878942194017\n",
      "    bagging_fraction: 0.6492373914366226\n",
      "    bagging_freq: 10\n",
      "    min_child_samples: 26\n",
      "Predicted tn for the first month: 41.87813506414413\n"
     ]
    },
    {
     "name": "stderr",
     "output_type": "stream",
     "text": [
      " 36%|████████████████████████████                                                  | 280/780 [44:15<1:22:10,  9.86s/it]"
     ]
    },
    {
     "name": "stdout",
     "output_type": "stream",
     "text": [
      "Best trial:\n",
      "  Value: 4.597899243235588\n",
      "  Params: \n",
      "    num_leaves: 25\n",
      "    learning_rate: 0.029182908065455124\n",
      "    feature_fraction: 0.9640994475882739\n",
      "    bagging_fraction: 0.9706264202235053\n",
      "    bagging_freq: 5\n",
      "    min_child_samples: 12\n",
      "Predicted tn for the first month: 19.10578909022649\n"
     ]
    },
    {
     "name": "stderr",
     "output_type": "stream",
     "text": [
      " 36%|████████████████████████████                                                  | 281/780 [44:25<1:22:03,  9.87s/it]"
     ]
    },
    {
     "name": "stdout",
     "output_type": "stream",
     "text": [
      "Best trial:\n",
      "  Value: 5.769737144932151\n",
      "  Params: \n",
      "    num_leaves: 37\n",
      "    learning_rate: 0.010439911155385282\n",
      "    feature_fraction: 0.7830964782708834\n",
      "    bagging_fraction: 0.8335257325136712\n",
      "    bagging_freq: 1\n",
      "    min_child_samples: 23\n",
      "Predicted tn for the first month: 22.29211577915986\n"
     ]
    },
    {
     "name": "stderr",
     "output_type": "stream",
     "text": [
      " 36%|████████████████████████████▏                                                 | 282/780 [44:36<1:23:53, 10.11s/it]"
     ]
    },
    {
     "name": "stdout",
     "output_type": "stream",
     "text": [
      "Best trial:\n",
      "  Value: 6.8458662033081055\n",
      "  Params: \n",
      "    num_leaves: 30\n",
      "    learning_rate: 0.027666533054665123\n",
      "    feature_fraction: 0.7426091973034441\n",
      "    bagging_fraction: 0.6021852659599934\n",
      "    bagging_freq: 2\n",
      "    min_child_samples: 36\n",
      "Predicted tn for the first month: 13.30230251230965\n"
     ]
    },
    {
     "name": "stderr",
     "output_type": "stream",
     "text": [
      " 36%|████████████████████████████▎                                                 | 283/780 [44:46<1:24:45, 10.23s/it]"
     ]
    },
    {
     "name": "stdout",
     "output_type": "stream",
     "text": [
      "Best trial:\n",
      "  Value: 4.417242206633091\n",
      "  Params: \n",
      "    num_leaves: 31\n",
      "    learning_rate: 0.0167283755593028\n",
      "    feature_fraction: 0.9122956370278033\n",
      "    bagging_fraction: 0.848233357057292\n",
      "    bagging_freq: 4\n",
      "    min_child_samples: 45\n",
      "Predicted tn for the first month: 9.783119250904718\n"
     ]
    },
    {
     "name": "stderr",
     "output_type": "stream",
     "text": [
      " 36%|████████████████████████████▍                                                 | 284/780 [44:56<1:24:01, 10.16s/it]"
     ]
    },
    {
     "name": "stdout",
     "output_type": "stream",
     "text": [
      "Best trial:\n",
      "  Value: 3.1865625167265534\n",
      "  Params: \n",
      "    num_leaves: 38\n",
      "    learning_rate: 0.010359253330187428\n",
      "    feature_fraction: 0.7043814519814278\n",
      "    bagging_fraction: 0.8454264474584525\n",
      "    bagging_freq: 5\n",
      "    min_child_samples: 49\n",
      "Predicted tn for the first month: 8.71103997865677\n"
     ]
    },
    {
     "name": "stderr",
     "output_type": "stream",
     "text": [
      " 37%|████████████████████████████▌                                                 | 285/780 [45:06<1:22:17,  9.97s/it]"
     ]
    },
    {
     "name": "stdout",
     "output_type": "stream",
     "text": [
      "Best trial:\n",
      "  Value: 2.9790487810969353\n",
      "  Params: \n",
      "    num_leaves: 32\n",
      "    learning_rate: 0.06685819920435349\n",
      "    feature_fraction: 0.9671450536089519\n",
      "    bagging_fraction: 0.9760564918905297\n",
      "    bagging_freq: 5\n",
      "    min_child_samples: 43\n",
      "Predicted tn for the first month: 21.04582581725915\n"
     ]
    },
    {
     "name": "stderr",
     "output_type": "stream",
     "text": [
      " 37%|████████████████████████████▌                                                 | 286/780 [45:15<1:21:16,  9.87s/it]"
     ]
    },
    {
     "name": "stdout",
     "output_type": "stream",
     "text": [
      "Best trial:\n",
      "  Value: 4.741104915738106\n",
      "  Params: \n",
      "    num_leaves: 35\n",
      "    learning_rate: 0.012332404932230187\n",
      "    feature_fraction: 0.7494360321908136\n",
      "    bagging_fraction: 0.9841932850279701\n",
      "    bagging_freq: 1\n",
      "    min_child_samples: 30\n",
      "Predicted tn for the first month: 10.755184209868112\n"
     ]
    },
    {
     "name": "stderr",
     "output_type": "stream",
     "text": [
      " 37%|████████████████████████████▋                                                 | 287/780 [45:25<1:20:28,  9.80s/it]"
     ]
    },
    {
     "name": "stdout",
     "output_type": "stream",
     "text": [
      "Best trial:\n",
      "  Value: 7.951894383877516\n",
      "  Params: \n",
      "    num_leaves: 33\n",
      "    learning_rate: 0.08296635454618065\n",
      "    feature_fraction: 0.7660784824157794\n",
      "    bagging_fraction: 0.6951281789241068\n",
      "    bagging_freq: 1\n",
      "    min_child_samples: 7\n",
      "Predicted tn for the first month: 2.031702470093568\n"
     ]
    },
    {
     "name": "stderr",
     "output_type": "stream",
     "text": [
      " 37%|████████████████████████████▊                                                 | 288/780 [45:35<1:21:53,  9.99s/it]"
     ]
    },
    {
     "name": "stdout",
     "output_type": "stream",
     "text": [
      "Best trial:\n",
      "  Value: 9.462752249091864\n",
      "  Params: \n",
      "    num_leaves: 27\n",
      "    learning_rate: 0.036996165429265586\n",
      "    feature_fraction: 0.7943538672465724\n",
      "    bagging_fraction: 0.7704050887335047\n",
      "    bagging_freq: 10\n",
      "    min_child_samples: 30\n",
      "Predicted tn for the first month: 21.473621559551557\n"
     ]
    },
    {
     "name": "stderr",
     "output_type": "stream",
     "text": [
      " 37%|████████████████████████████▉                                                 | 289/780 [45:45<1:21:55, 10.01s/it]"
     ]
    },
    {
     "name": "stdout",
     "output_type": "stream",
     "text": [
      "Best trial:\n",
      "  Value: 3.137657538987696\n",
      "  Params: \n",
      "    num_leaves: 21\n",
      "    learning_rate: 0.05044781719776855\n",
      "    feature_fraction: 0.6271830671053322\n",
      "    bagging_fraction: 0.9357608334524175\n",
      "    bagging_freq: 8\n",
      "    min_child_samples: 13\n",
      "Predicted tn for the first month: 16.6570674827981\n"
     ]
    },
    {
     "name": "stderr",
     "output_type": "stream",
     "text": [
      " 37%|█████████████████████████████                                                 | 290/780 [45:55<1:21:52, 10.03s/it]"
     ]
    },
    {
     "name": "stdout",
     "output_type": "stream",
     "text": [
      "Best trial:\n",
      "  Value: 8.766761362552643\n",
      "  Params: \n",
      "    num_leaves: 38\n",
      "    learning_rate: 0.08212126626126727\n",
      "    feature_fraction: 0.7118575168514959\n",
      "    bagging_fraction: 0.9991505731961661\n",
      "    bagging_freq: 6\n",
      "    min_child_samples: 48\n",
      "Predicted tn for the first month: 14.326320717608134\n"
     ]
    },
    {
     "name": "stderr",
     "output_type": "stream",
     "text": [
      " 37%|█████████████████████████████                                                 | 291/780 [46:05<1:20:33,  9.88s/it]"
     ]
    },
    {
     "name": "stdout",
     "output_type": "stream",
     "text": [
      "Best trial:\n",
      "  Value: 2.64006310980767\n",
      "  Params: \n",
      "    num_leaves: 33\n",
      "    learning_rate: 0.04889742481565338\n",
      "    feature_fraction: 0.7572557318717477\n",
      "    bagging_fraction: 0.6798271573177967\n",
      "    bagging_freq: 2\n",
      "    min_child_samples: 17\n",
      "Predicted tn for the first month: 16.42425663813551\n",
      "Using single month validation due to insufficient data for multiple splits.\n"
     ]
    },
    {
     "name": "stderr",
     "output_type": "stream",
     "text": [
      " 37%|█████████████████████████████▏                                                | 292/780 [46:09<1:06:35,  8.19s/it]"
     ]
    },
    {
     "name": "stdout",
     "output_type": "stream",
     "text": [
      "Best trial:\n",
      "  Value: 9.172558631215777\n",
      "  Params: \n",
      "    num_leaves: 35\n",
      "    learning_rate: 0.044918211908563085\n",
      "    feature_fraction: 0.6139123916033352\n",
      "    bagging_fraction: 0.6882684927901759\n",
      "    bagging_freq: 9\n",
      "    min_child_samples: 14\n",
      "Predicted tn for the first month: 53.89392862747737\n"
     ]
    },
    {
     "name": "stderr",
     "output_type": "stream",
     "text": [
      " 38%|█████████████████████████████▎                                                | 293/780 [46:19<1:09:40,  8.58s/it]"
     ]
    },
    {
     "name": "stdout",
     "output_type": "stream",
     "text": [
      "Best trial:\n",
      "  Value: 4.995299942791462\n",
      "  Params: \n",
      "    num_leaves: 33\n",
      "    learning_rate: 0.09324933610030235\n",
      "    feature_fraction: 0.8409738716225972\n",
      "    bagging_fraction: 0.8290611361054452\n",
      "    bagging_freq: 3\n",
      "    min_child_samples: 7\n",
      "Predicted tn for the first month: 15.747663298919996\n"
     ]
    },
    {
     "name": "stderr",
     "output_type": "stream",
     "text": [
      " 38%|█████████████████████████████▍                                                | 294/780 [46:29<1:13:17,  9.05s/it]"
     ]
    },
    {
     "name": "stdout",
     "output_type": "stream",
     "text": [
      "Best trial:\n",
      "  Value: 3.238082565367222\n",
      "  Params: \n",
      "    num_leaves: 27\n",
      "    learning_rate: 0.0403025813481081\n",
      "    feature_fraction: 0.9534300189713578\n",
      "    bagging_fraction: 0.8996094216519634\n",
      "    bagging_freq: 8\n",
      "    min_child_samples: 27\n",
      "Predicted tn for the first month: 11.846251699150404\n"
     ]
    },
    {
     "name": "stderr",
     "output_type": "stream",
     "text": [
      " 38%|█████████████████████████████▌                                                | 295/780 [46:39<1:15:15,  9.31s/it]"
     ]
    },
    {
     "name": "stdout",
     "output_type": "stream",
     "text": [
      "Best trial:\n",
      "  Value: 3.4534499645233154\n",
      "  Params: \n",
      "    num_leaves: 23\n",
      "    learning_rate: 0.04765338358546846\n",
      "    feature_fraction: 0.8447680148168495\n",
      "    bagging_fraction: 0.9542444059170552\n",
      "    bagging_freq: 8\n",
      "    min_child_samples: 38\n",
      "Predicted tn for the first month: 5.47638005100886\n"
     ]
    },
    {
     "name": "stderr",
     "output_type": "stream",
     "text": [
      " 38%|█████████████████████████████▌                                                | 296/780 [46:49<1:16:17,  9.46s/it]"
     ]
    },
    {
     "name": "stdout",
     "output_type": "stream",
     "text": [
      "Best trial:\n",
      "  Value: 3.7003127904608846\n",
      "  Params: \n",
      "    num_leaves: 24\n",
      "    learning_rate: 0.04341888322721895\n",
      "    feature_fraction: 0.9522266746391741\n",
      "    bagging_fraction: 0.9399497153195417\n",
      "    bagging_freq: 8\n",
      "    min_child_samples: 18\n",
      "Predicted tn for the first month: 14.800174210019907\n"
     ]
    },
    {
     "name": "stderr",
     "output_type": "stream",
     "text": [
      " 38%|█████████████████████████████▋                                                | 297/780 [46:59<1:17:12,  9.59s/it]"
     ]
    },
    {
     "name": "stdout",
     "output_type": "stream",
     "text": [
      "Best trial:\n",
      "  Value: 8.653591951355338\n",
      "  Params: \n",
      "    num_leaves: 20\n",
      "    learning_rate: 0.022800366811439172\n",
      "    feature_fraction: 0.9221179772309114\n",
      "    bagging_fraction: 0.8491212446557256\n",
      "    bagging_freq: 5\n",
      "    min_child_samples: 37\n",
      "Predicted tn for the first month: 23.540619187859296\n"
     ]
    },
    {
     "name": "stderr",
     "output_type": "stream",
     "text": [
      " 38%|█████████████████████████████▊                                                | 298/780 [47:08<1:17:56,  9.70s/it]"
     ]
    },
    {
     "name": "stdout",
     "output_type": "stream",
     "text": [
      "Best trial:\n",
      "  Value: 2.62060936819762\n",
      "  Params: \n",
      "    num_leaves: 20\n",
      "    learning_rate: 0.06086780529015613\n",
      "    feature_fraction: 0.8881757898443698\n",
      "    bagging_fraction: 0.766397351418237\n",
      "    bagging_freq: 9\n",
      "    min_child_samples: 11\n",
      "Predicted tn for the first month: 4.122761673106551\n"
     ]
    },
    {
     "name": "stderr",
     "output_type": "stream",
     "text": [
      " 38%|█████████████████████████████▉                                                | 299/780 [47:18<1:17:19,  9.64s/it]"
     ]
    },
    {
     "name": "stdout",
     "output_type": "stream",
     "text": [
      "Best trial:\n",
      "  Value: 11.282020085025579\n",
      "  Params: \n",
      "    num_leaves: 23\n",
      "    learning_rate: 0.09984849798119617\n",
      "    feature_fraction: 0.8516116067347728\n",
      "    bagging_fraction: 0.8180012092872454\n",
      "    bagging_freq: 1\n",
      "    min_child_samples: 22\n",
      "Predicted tn for the first month: 41.91627653451085\n"
     ]
    },
    {
     "name": "stderr",
     "output_type": "stream",
     "text": [
      " 38%|██████████████████████████████                                                | 300/780 [47:27<1:16:47,  9.60s/it]"
     ]
    },
    {
     "name": "stdout",
     "output_type": "stream",
     "text": [
      "Best trial:\n",
      "  Value: 3.6687718452885747\n",
      "  Params: \n",
      "    num_leaves: 39\n",
      "    learning_rate: 0.020932784199192738\n",
      "    feature_fraction: 0.8182187070247511\n",
      "    bagging_fraction: 0.6992149083226452\n",
      "    bagging_freq: 10\n",
      "    min_child_samples: 29\n",
      "Predicted tn for the first month: 15.590213340728482\n"
     ]
    },
    {
     "name": "stderr",
     "output_type": "stream",
     "text": [
      " 39%|██████████████████████████████                                                | 301/780 [47:37<1:16:20,  9.56s/it]"
     ]
    },
    {
     "name": "stdout",
     "output_type": "stream",
     "text": [
      "Best trial:\n",
      "  Value: 1.1387212495319545\n",
      "  Params: \n",
      "    num_leaves: 31\n",
      "    learning_rate: 0.07856463286709958\n",
      "    feature_fraction: 0.885786066588944\n",
      "    bagging_fraction: 0.665929403876315\n",
      "    bagging_freq: 3\n",
      "    min_child_samples: 26\n",
      "Predicted tn for the first month: 9.537608327800035\n"
     ]
    },
    {
     "name": "stderr",
     "output_type": "stream",
     "text": [
      " 39%|██████████████████████████████▏                                               | 302/780 [47:46<1:15:56,  9.53s/it]"
     ]
    },
    {
     "name": "stdout",
     "output_type": "stream",
     "text": [
      "Best trial:\n",
      "  Value: 3.1128487698733807\n",
      "  Params: \n",
      "    num_leaves: 38\n",
      "    learning_rate: 0.011725154457935821\n",
      "    feature_fraction: 0.8650283748024248\n",
      "    bagging_fraction: 0.7068819045861603\n",
      "    bagging_freq: 4\n",
      "    min_child_samples: 26\n",
      "Predicted tn for the first month: 14.182900016933283\n"
     ]
    },
    {
     "name": "stderr",
     "output_type": "stream",
     "text": [
      " 39%|██████████████████████████████▎                                               | 303/780 [47:56<1:15:40,  9.52s/it]"
     ]
    },
    {
     "name": "stdout",
     "output_type": "stream",
     "text": [
      "Best trial:\n",
      "  Value: 8.93856592476368\n",
      "  Params: \n",
      "    num_leaves: 40\n",
      "    learning_rate: 0.05500212868765082\n",
      "    feature_fraction: 0.62995562149478\n",
      "    bagging_fraction: 0.6727745862440276\n",
      "    bagging_freq: 4\n",
      "    min_child_samples: 9\n",
      "Predicted tn for the first month: 20.94152503478686\n"
     ]
    },
    {
     "name": "stderr",
     "output_type": "stream",
     "text": [
      " 39%|██████████████████████████████▍                                               | 304/780 [48:05<1:15:33,  9.53s/it]"
     ]
    },
    {
     "name": "stdout",
     "output_type": "stream",
     "text": [
      "Best trial:\n",
      "  Value: 4.237835266627371\n",
      "  Params: \n",
      "    num_leaves: 37\n",
      "    learning_rate: 0.09508365453734688\n",
      "    feature_fraction: 0.8963877108201495\n",
      "    bagging_fraction: 0.6913979821966456\n",
      "    bagging_freq: 10\n",
      "    min_child_samples: 48\n",
      "Predicted tn for the first month: 11.490167471985021\n"
     ]
    },
    {
     "name": "stderr",
     "output_type": "stream",
     "text": [
      " 39%|██████████████████████████████▌                                               | 305/780 [48:15<1:15:27,  9.53s/it]"
     ]
    },
    {
     "name": "stdout",
     "output_type": "stream",
     "text": [
      "Best trial:\n",
      "  Value: 2.2325912453234196\n",
      "  Params: \n",
      "    num_leaves: 30\n",
      "    learning_rate: 0.010984539112545653\n",
      "    feature_fraction: 0.8988009318916123\n",
      "    bagging_fraction: 0.6104571255450252\n",
      "    bagging_freq: 8\n",
      "    min_child_samples: 48\n",
      "Predicted tn for the first month: 6.260502492273648\n"
     ]
    },
    {
     "name": "stderr",
     "output_type": "stream",
     "text": [
      " 39%|██████████████████████████████▌                                               | 306/780 [48:25<1:16:04,  9.63s/it]"
     ]
    },
    {
     "name": "stdout",
     "output_type": "stream",
     "text": [
      "Best trial:\n",
      "  Value: 4.332838797941804\n",
      "  Params: \n",
      "    num_leaves: 29\n",
      "    learning_rate: 0.022301639306029943\n",
      "    feature_fraction: 0.8589234882332479\n",
      "    bagging_fraction: 0.6365117153760375\n",
      "    bagging_freq: 4\n",
      "    min_child_samples: 6\n",
      "Predicted tn for the first month: 14.146715002279281\n"
     ]
    },
    {
     "name": "stderr",
     "output_type": "stream",
     "text": [
      " 39%|██████████████████████████████▋                                               | 307/780 [48:34<1:15:41,  9.60s/it]"
     ]
    },
    {
     "name": "stdout",
     "output_type": "stream",
     "text": [
      "Best trial:\n",
      "  Value: 6.896289378404617\n",
      "  Params: \n",
      "    num_leaves: 23\n",
      "    learning_rate: 0.06976559057729213\n",
      "    feature_fraction: 0.8685709642818482\n",
      "    bagging_fraction: 0.7002510447867131\n",
      "    bagging_freq: 10\n",
      "    min_child_samples: 27\n",
      "Predicted tn for the first month: 33.36737500068664\n"
     ]
    },
    {
     "name": "stderr",
     "output_type": "stream",
     "text": [
      " 39%|██████████████████████████████▊                                               | 308/780 [48:44<1:15:18,  9.57s/it]"
     ]
    },
    {
     "name": "stdout",
     "output_type": "stream",
     "text": [
      "Best trial:\n",
      "  Value: 3.9263450475409627\n",
      "  Params: \n",
      "    num_leaves: 39\n",
      "    learning_rate: 0.08237425975885204\n",
      "    feature_fraction: 0.7891184492770973\n",
      "    bagging_fraction: 0.7893759578477083\n",
      "    bagging_freq: 7\n",
      "    min_child_samples: 42\n",
      "Predicted tn for the first month: 3.772274202156862\n"
     ]
    },
    {
     "name": "stderr",
     "output_type": "stream",
     "text": [
      " 40%|██████████████████████████████▉                                               | 309/780 [48:53<1:15:10,  9.58s/it]"
     ]
    },
    {
     "name": "stdout",
     "output_type": "stream",
     "text": [
      "Best trial:\n",
      "  Value: 2.4613315009046346\n",
      "  Params: \n",
      "    num_leaves: 37\n",
      "    learning_rate: 0.03692954109722993\n",
      "    feature_fraction: 0.8486925195896481\n",
      "    bagging_fraction: 0.6898058882604418\n",
      "    bagging_freq: 6\n",
      "    min_child_samples: 39\n",
      "Predicted tn for the first month: 13.097736667955914\n"
     ]
    },
    {
     "name": "stderr",
     "output_type": "stream",
     "text": [
      " 40%|██████████████████████████████▉                                               | 310/780 [49:03<1:15:29,  9.64s/it]"
     ]
    },
    {
     "name": "stdout",
     "output_type": "stream",
     "text": [
      "Best trial:\n",
      "  Value: 3.2655009783338755\n",
      "  Params: \n",
      "    num_leaves: 39\n",
      "    learning_rate: 0.02744574139956877\n",
      "    feature_fraction: 0.9996046745204294\n",
      "    bagging_fraction: 0.8799493007783588\n",
      "    bagging_freq: 9\n",
      "    min_child_samples: 30\n",
      "Predicted tn for the first month: 15.371482555702725\n"
     ]
    },
    {
     "name": "stderr",
     "output_type": "stream",
     "text": [
      " 40%|███████████████████████████████                                               | 311/780 [49:13<1:15:18,  9.63s/it]"
     ]
    },
    {
     "name": "stdout",
     "output_type": "stream",
     "text": [
      "Best trial:\n",
      "  Value: 2.4997371900826693\n",
      "  Params: \n",
      "    num_leaves: 39\n",
      "    learning_rate: 0.06637940465263824\n",
      "    feature_fraction: 0.7497350305696407\n",
      "    bagging_fraction: 0.7709404565428734\n",
      "    bagging_freq: 9\n",
      "    min_child_samples: 43\n",
      "Predicted tn for the first month: 9.36901587476929\n"
     ]
    },
    {
     "name": "stderr",
     "output_type": "stream",
     "text": [
      " 40%|███████████████████████████████▏                                              | 312/780 [49:22<1:15:03,  9.62s/it]"
     ]
    },
    {
     "name": "stdout",
     "output_type": "stream",
     "text": [
      "Best trial:\n",
      "  Value: 2.5979087780578993\n",
      "  Params: \n",
      "    num_leaves: 25\n",
      "    learning_rate: 0.01027782262026858\n",
      "    feature_fraction: 0.7349317094078596\n",
      "    bagging_fraction: 0.7233338659359894\n",
      "    bagging_freq: 2\n",
      "    min_child_samples: 16\n",
      "Predicted tn for the first month: 7.615710820791982\n"
     ]
    },
    {
     "name": "stderr",
     "output_type": "stream",
     "text": [
      " 40%|███████████████████████████████▎                                              | 313/780 [49:32<1:14:46,  9.61s/it]"
     ]
    },
    {
     "name": "stdout",
     "output_type": "stream",
     "text": [
      "Best trial:\n",
      "  Value: 4.675330623984337\n",
      "  Params: \n",
      "    num_leaves: 28\n",
      "    learning_rate: 0.05840668166382434\n",
      "    feature_fraction: 0.9806805142582845\n",
      "    bagging_fraction: 0.780070814747937\n",
      "    bagging_freq: 7\n",
      "    min_child_samples: 12\n",
      "Predicted tn for the first month: 5.877640884092648\n"
     ]
    },
    {
     "name": "stderr",
     "output_type": "stream",
     "text": [
      " 40%|███████████████████████████████▍                                              | 314/780 [49:42<1:14:25,  9.58s/it]"
     ]
    },
    {
     "name": "stdout",
     "output_type": "stream",
     "text": [
      "Best trial:\n",
      "  Value: 2.0794899463653564\n",
      "  Params: \n",
      "    num_leaves: 31\n",
      "    learning_rate: 0.09108517056611726\n",
      "    feature_fraction: 0.9982941896586561\n",
      "    bagging_fraction: 0.9485254487856242\n",
      "    bagging_freq: 10\n",
      "    min_child_samples: 36\n",
      "Predicted tn for the first month: 9.131930852336884\n"
     ]
    },
    {
     "name": "stderr",
     "output_type": "stream",
     "text": [
      " 40%|███████████████████████████████▌                                              | 315/780 [49:51<1:14:12,  9.57s/it]"
     ]
    },
    {
     "name": "stdout",
     "output_type": "stream",
     "text": [
      "Best trial:\n",
      "  Value: 3.0081243366003036\n",
      "  Params: \n",
      "    num_leaves: 29\n",
      "    learning_rate: 0.02181501320105223\n",
      "    feature_fraction: 0.7827708611147877\n",
      "    bagging_fraction: 0.9950439108665342\n",
      "    bagging_freq: 7\n",
      "    min_child_samples: 15\n",
      "Predicted tn for the first month: 12.993917493817012\n"
     ]
    },
    {
     "name": "stderr",
     "output_type": "stream",
     "text": [
      " 41%|███████████████████████████████▌                                              | 316/780 [50:01<1:14:39,  9.65s/it]"
     ]
    },
    {
     "name": "stdout",
     "output_type": "stream",
     "text": [
      "Best trial:\n",
      "  Value: 4.335430599749088\n",
      "  Params: \n",
      "    num_leaves: 20\n",
      "    learning_rate: 0.03771548193347545\n",
      "    feature_fraction: 0.7855356738404273\n",
      "    bagging_fraction: 0.9148931878404151\n",
      "    bagging_freq: 10\n",
      "    min_child_samples: 26\n",
      "Predicted tn for the first month: 13.224444181498686\n"
     ]
    },
    {
     "name": "stderr",
     "output_type": "stream",
     "text": [
      " 41%|███████████████████████████████▋                                              | 317/780 [50:10<1:14:05,  9.60s/it]"
     ]
    },
    {
     "name": "stdout",
     "output_type": "stream",
     "text": [
      "Best trial:\n",
      "  Value: 4.028456170111895\n",
      "  Params: \n",
      "    num_leaves: 35\n",
      "    learning_rate: 0.04266122095860146\n",
      "    feature_fraction: 0.6521001282817704\n",
      "    bagging_fraction: 0.9717656718845863\n",
      "    bagging_freq: 2\n",
      "    min_child_samples: 6\n",
      "Predicted tn for the first month: 4.755927400827625\n"
     ]
    },
    {
     "name": "stderr",
     "output_type": "stream",
     "text": [
      " 41%|███████████████████████████████▊                                              | 318/780 [50:20<1:13:34,  9.56s/it]"
     ]
    },
    {
     "name": "stdout",
     "output_type": "stream",
     "text": [
      "Best trial:\n",
      "  Value: 12.221410989761353\n",
      "  Params: \n",
      "    num_leaves: 27\n",
      "    learning_rate: 0.04946845469552961\n",
      "    feature_fraction: 0.6777454880185495\n",
      "    bagging_fraction: 0.911453860296691\n",
      "    bagging_freq: 7\n",
      "    min_child_samples: 27\n",
      "Predicted tn for the first month: 33.084378370908105\n"
     ]
    },
    {
     "name": "stderr",
     "output_type": "stream",
     "text": [
      " 41%|███████████████████████████████▉                                              | 319/780 [50:30<1:13:54,  9.62s/it]"
     ]
    },
    {
     "name": "stdout",
     "output_type": "stream",
     "text": [
      "Best trial:\n",
      "  Value: 2.789850041270256\n",
      "  Params: \n",
      "    num_leaves: 35\n",
      "    learning_rate: 0.014976503329141745\n",
      "    feature_fraction: 0.6707984282961195\n",
      "    bagging_fraction: 0.7897382307316516\n",
      "    bagging_freq: 6\n",
      "    min_child_samples: 15\n",
      "Predicted tn for the first month: 8.8877150143226\n"
     ]
    },
    {
     "name": "stderr",
     "output_type": "stream",
     "text": [
      " 41%|████████████████████████████████                                              | 320/780 [50:39<1:13:53,  9.64s/it]"
     ]
    },
    {
     "name": "stdout",
     "output_type": "stream",
     "text": [
      "Best trial:\n",
      "  Value: 7.414977595210075\n",
      "  Params: \n",
      "    num_leaves: 29\n",
      "    learning_rate: 0.03603618954644679\n",
      "    feature_fraction: 0.6409193145880073\n",
      "    bagging_fraction: 0.7357226548237548\n",
      "    bagging_freq: 3\n",
      "    min_child_samples: 31\n",
      "Predicted tn for the first month: 29.888824239908853\n"
     ]
    },
    {
     "name": "stderr",
     "output_type": "stream",
     "text": [
      " 41%|████████████████████████████████                                              | 321/780 [50:49<1:13:31,  9.61s/it]"
     ]
    },
    {
     "name": "stdout",
     "output_type": "stream",
     "text": [
      "Best trial:\n",
      "  Value: 2.058063719421625\n",
      "  Params: \n",
      "    num_leaves: 35\n",
      "    learning_rate: 0.03274274584888925\n",
      "    feature_fraction: 0.9882348936628198\n",
      "    bagging_fraction: 0.8669914976418759\n",
      "    bagging_freq: 4\n",
      "    min_child_samples: 23\n",
      "Predicted tn for the first month: 13.358503339600563\n"
     ]
    },
    {
     "name": "stderr",
     "output_type": "stream",
     "text": [
      " 41%|████████████████████████████████▏                                             | 322/780 [50:58<1:13:17,  9.60s/it]"
     ]
    },
    {
     "name": "stdout",
     "output_type": "stream",
     "text": [
      "Best trial:\n",
      "  Value: 6.778664097189903\n",
      "  Params: \n",
      "    num_leaves: 29\n",
      "    learning_rate: 0.05033600876100541\n",
      "    feature_fraction: 0.6380042754496152\n",
      "    bagging_fraction: 0.7262264264162439\n",
      "    bagging_freq: 6\n",
      "    min_child_samples: 9\n",
      "Predicted tn for the first month: 1.6697783379109699\n"
     ]
    },
    {
     "name": "stderr",
     "output_type": "stream",
     "text": [
      " 41%|████████████████████████████████▎                                             | 323/780 [51:08<1:13:05,  9.60s/it]"
     ]
    },
    {
     "name": "stdout",
     "output_type": "stream",
     "text": [
      "Best trial:\n",
      "  Value: 4.030894642695785\n",
      "  Params: \n",
      "    num_leaves: 35\n",
      "    learning_rate: 0.013904355953153771\n",
      "    feature_fraction: 0.754705148798793\n",
      "    bagging_fraction: 0.8017955195883211\n",
      "    bagging_freq: 2\n",
      "    min_child_samples: 8\n",
      "Predicted tn for the first month: 13.105230020860036\n"
     ]
    },
    {
     "name": "stderr",
     "output_type": "stream",
     "text": [
      " 42%|████████████████████████████████▍                                             | 324/780 [51:18<1:13:00,  9.61s/it]"
     ]
    },
    {
     "name": "stdout",
     "output_type": "stream",
     "text": [
      "Best trial:\n",
      "  Value: 2.0682293819263577\n",
      "  Params: \n",
      "    num_leaves: 32\n",
      "    learning_rate: 0.08656126055378446\n",
      "    feature_fraction: 0.6853515801851096\n",
      "    bagging_fraction: 0.8282434634900318\n",
      "    bagging_freq: 4\n",
      "    min_child_samples: 7\n",
      "Predicted tn for the first month: 12.333605820409854\n"
     ]
    },
    {
     "name": "stderr",
     "output_type": "stream",
     "text": [
      " 42%|████████████████████████████████▌                                             | 325/780 [51:27<1:12:41,  9.59s/it]"
     ]
    },
    {
     "name": "stdout",
     "output_type": "stream",
     "text": [
      "Best trial:\n",
      "  Value: 3.2156513035297394\n",
      "  Params: \n",
      "    num_leaves: 29\n",
      "    learning_rate: 0.010630454573167362\n",
      "    feature_fraction: 0.6580619812929546\n",
      "    bagging_fraction: 0.7008455416636838\n",
      "    bagging_freq: 4\n",
      "    min_child_samples: 33\n",
      "Predicted tn for the first month: 14.49772169574201\n"
     ]
    },
    {
     "name": "stderr",
     "output_type": "stream",
     "text": [
      " 42%|████████████████████████████████▌                                             | 326/780 [51:37<1:12:21,  9.56s/it]"
     ]
    },
    {
     "name": "stdout",
     "output_type": "stream",
     "text": [
      "Best trial:\n",
      "  Value: 3.6054465575143695\n",
      "  Params: \n",
      "    num_leaves: 32\n",
      "    learning_rate: 0.031419325489015285\n",
      "    feature_fraction: 0.9050212626061921\n",
      "    bagging_fraction: 0.9190332353720468\n",
      "    bagging_freq: 2\n",
      "    min_child_samples: 32\n",
      "Predicted tn for the first month: 12.827078304436208\n"
     ]
    },
    {
     "name": "stderr",
     "output_type": "stream",
     "text": [
      " 42%|████████████████████████████████▋                                             | 327/780 [51:46<1:12:00,  9.54s/it]"
     ]
    },
    {
     "name": "stdout",
     "output_type": "stream",
     "text": [
      "Best trial:\n",
      "  Value: 2.590940630994737\n",
      "  Params: \n",
      "    num_leaves: 20\n",
      "    learning_rate: 0.03219608094858344\n",
      "    feature_fraction: 0.6162688778551209\n",
      "    bagging_fraction: 0.8391578494255978\n",
      "    bagging_freq: 7\n",
      "    min_child_samples: 38\n",
      "Predicted tn for the first month: 8.898158317498169\n"
     ]
    },
    {
     "name": "stderr",
     "output_type": "stream",
     "text": [
      " 42%|████████████████████████████████▊                                             | 328/780 [51:56<1:11:46,  9.53s/it]"
     ]
    },
    {
     "name": "stdout",
     "output_type": "stream",
     "text": [
      "Best trial:\n",
      "  Value: 4.188301257789135\n",
      "  Params: \n",
      "    num_leaves: 21\n",
      "    learning_rate: 0.04746378862934938\n",
      "    feature_fraction: 0.7988807531661156\n",
      "    bagging_fraction: 0.651422350992214\n",
      "    bagging_freq: 7\n",
      "    min_child_samples: 42\n",
      "Predicted tn for the first month: 16.02058583686193\n"
     ]
    },
    {
     "name": "stderr",
     "output_type": "stream",
     "text": [
      " 42%|████████████████████████████████▉                                             | 329/780 [52:05<1:11:30,  9.51s/it]"
     ]
    },
    {
     "name": "stdout",
     "output_type": "stream",
     "text": [
      "Best trial:\n",
      "  Value: 2.4039381116162986\n",
      "  Params: \n",
      "    num_leaves: 23\n",
      "    learning_rate: 0.05196040303822103\n",
      "    feature_fraction: 0.6324928656907474\n",
      "    bagging_fraction: 0.9552497209600336\n",
      "    bagging_freq: 6\n",
      "    min_child_samples: 38\n",
      "Predicted tn for the first month: 8.38313164807275\n"
     ]
    },
    {
     "name": "stderr",
     "output_type": "stream",
     "text": [
      " 42%|█████████████████████████████████                                             | 330/780 [52:15<1:11:19,  9.51s/it]"
     ]
    },
    {
     "name": "stdout",
     "output_type": "stream",
     "text": [
      "Best trial:\n",
      "  Value: 5.349651217460632\n",
      "  Params: \n",
      "    num_leaves: 40\n",
      "    learning_rate: 0.023635818276379915\n",
      "    feature_fraction: 0.813827045009332\n",
      "    bagging_fraction: 0.6228829326762312\n",
      "    bagging_freq: 7\n",
      "    min_child_samples: 5\n",
      "Predicted tn for the first month: 6.934882373839507\n"
     ]
    },
    {
     "name": "stderr",
     "output_type": "stream",
     "text": [
      " 42%|█████████████████████████████████                                             | 331/780 [52:24<1:11:10,  9.51s/it]"
     ]
    },
    {
     "name": "stdout",
     "output_type": "stream",
     "text": [
      "Best trial:\n",
      "  Value: 1.725782767869532\n",
      "  Params: \n",
      "    num_leaves: 25\n",
      "    learning_rate: 0.0851423274935591\n",
      "    feature_fraction: 0.6305081710333714\n",
      "    bagging_fraction: 0.9184694430050591\n",
      "    bagging_freq: 6\n",
      "    min_child_samples: 43\n",
      "Predicted tn for the first month: 5.518507456690669\n"
     ]
    },
    {
     "name": "stderr",
     "output_type": "stream",
     "text": [
      " 43%|█████████████████████████████████▏                                            | 332/780 [52:34<1:10:56,  9.50s/it]"
     ]
    },
    {
     "name": "stdout",
     "output_type": "stream",
     "text": [
      "Best trial:\n",
      "  Value: 3.4748912304639816\n",
      "  Params: \n",
      "    num_leaves: 30\n",
      "    learning_rate: 0.05973465928446654\n",
      "    feature_fraction: 0.7551114710341039\n",
      "    bagging_fraction: 0.7883414422031548\n",
      "    bagging_freq: 4\n",
      "    min_child_samples: 40\n",
      "Predicted tn for the first month: 6.742642474730809\n"
     ]
    },
    {
     "name": "stderr",
     "output_type": "stream",
     "text": [
      " 43%|█████████████████████████████████▎                                            | 333/780 [52:43<1:10:48,  9.50s/it]"
     ]
    },
    {
     "name": "stdout",
     "output_type": "stream",
     "text": [
      "Best trial:\n",
      "  Value: 3.106241498608142\n",
      "  Params: \n",
      "    num_leaves: 31\n",
      "    learning_rate: 0.08493619845897575\n",
      "    feature_fraction: 0.7131904237575326\n",
      "    bagging_fraction: 0.7820961973615443\n",
      "    bagging_freq: 8\n",
      "    min_child_samples: 47\n",
      "Predicted tn for the first month: 8.700266610700687\n",
      "Using single month validation due to insufficient data for multiple splits.\n"
     ]
    },
    {
     "name": "stderr",
     "output_type": "stream",
     "text": [
      " 43%|██████████████████████████████████▎                                             | 334/780 [52:47<58:44,  7.90s/it]"
     ]
    },
    {
     "name": "stdout",
     "output_type": "stream",
     "text": [
      "Best trial:\n",
      "  Value: 7.898855618068151\n",
      "  Params: \n",
      "    num_leaves: 27\n",
      "    learning_rate: 0.08737525214781093\n",
      "    feature_fraction: 0.9182843777005211\n",
      "    bagging_fraction: 0.7069154449769692\n",
      "    bagging_freq: 4\n",
      "    min_child_samples: 48\n",
      "Predicted tn for the first month: 41.43101572816031\n"
     ]
    },
    {
     "name": "stderr",
     "output_type": "stream",
     "text": [
      " 43%|█████████████████████████████████▌                                            | 335/780 [52:57<1:02:10,  8.38s/it]"
     ]
    },
    {
     "name": "stdout",
     "output_type": "stream",
     "text": [
      "Best trial:\n",
      "  Value: 2.7125737527385354\n",
      "  Params: \n",
      "    num_leaves: 24\n",
      "    learning_rate: 0.045334019871649235\n",
      "    feature_fraction: 0.7426873780721709\n",
      "    bagging_fraction: 0.9181412685313769\n",
      "    bagging_freq: 1\n",
      "    min_child_samples: 23\n",
      "Predicted tn for the first month: 7.806444135038654\n"
     ]
    },
    {
     "name": "stderr",
     "output_type": "stream",
     "text": [
      " 43%|█████████████████████████████████▌                                            | 336/780 [53:06<1:04:29,  8.72s/it]"
     ]
    },
    {
     "name": "stdout",
     "output_type": "stream",
     "text": [
      "Best trial:\n",
      "  Value: 5.030728776007891\n",
      "  Params: \n",
      "    num_leaves: 40\n",
      "    learning_rate: 0.018337007467897633\n",
      "    feature_fraction: 0.9748380880493244\n",
      "    bagging_fraction: 0.7715827510086309\n",
      "    bagging_freq: 1\n",
      "    min_child_samples: 30\n",
      "Predicted tn for the first month: 1.079944131231308\n"
     ]
    },
    {
     "name": "stderr",
     "output_type": "stream",
     "text": [
      " 43%|█████████████████████████████████▋                                            | 337/780 [53:16<1:06:08,  8.96s/it]"
     ]
    },
    {
     "name": "stdout",
     "output_type": "stream",
     "text": [
      "Best trial:\n",
      "  Value: 3.3947068732231855\n",
      "  Params: \n",
      "    num_leaves: 35\n",
      "    learning_rate: 0.07552268069762934\n",
      "    feature_fraction: 0.6651896248947994\n",
      "    bagging_fraction: 0.6446976192608809\n",
      "    bagging_freq: 9\n",
      "    min_child_samples: 33\n",
      "Predicted tn for the first month: 11.811777415922483\n"
     ]
    },
    {
     "name": "stderr",
     "output_type": "stream",
     "text": [
      " 43%|█████████████████████████████████▊                                            | 338/780 [53:26<1:07:25,  9.15s/it]"
     ]
    },
    {
     "name": "stdout",
     "output_type": "stream",
     "text": [
      "Best trial:\n",
      "  Value: 4.5357124619185925\n",
      "  Params: \n",
      "    num_leaves: 31\n",
      "    learning_rate: 0.02795427994926609\n",
      "    feature_fraction: 0.8600762768560646\n",
      "    bagging_fraction: 0.7817507051054016\n",
      "    bagging_freq: 9\n",
      "    min_child_samples: 15\n",
      "Predicted tn for the first month: 1.0393966021434466\n"
     ]
    },
    {
     "name": "stderr",
     "output_type": "stream",
     "text": [
      " 43%|█████████████████████████████████▉                                            | 339/780 [53:35<1:08:06,  9.27s/it]"
     ]
    },
    {
     "name": "stdout",
     "output_type": "stream",
     "text": [
      "Best trial:\n",
      "  Value: 2.1654175147414207\n",
      "  Params: \n",
      "    num_leaves: 28\n",
      "    learning_rate: 0.08642861226434909\n",
      "    feature_fraction: 0.8626114607501606\n",
      "    bagging_fraction: 0.687671625840496\n",
      "    bagging_freq: 2\n",
      "    min_child_samples: 46\n",
      "Predicted tn for the first month: 10.715074186550776\n"
     ]
    },
    {
     "name": "stderr",
     "output_type": "stream",
     "text": [
      " 44%|██████████████████████████████████                                            | 340/780 [53:45<1:08:27,  9.34s/it]"
     ]
    },
    {
     "name": "stdout",
     "output_type": "stream",
     "text": [
      "Best trial:\n",
      "  Value: 6.346026215702295\n",
      "  Params: \n",
      "    num_leaves: 30\n",
      "    learning_rate: 0.02092968599605884\n",
      "    feature_fraction: 0.6660799124669817\n",
      "    bagging_fraction: 0.8864760548869313\n",
      "    bagging_freq: 8\n",
      "    min_child_samples: 48\n",
      "Predicted tn for the first month: 9.738086607484817\n"
     ]
    },
    {
     "name": "stderr",
     "output_type": "stream",
     "text": [
      " 44%|██████████████████████████████████                                            | 341/780 [53:54<1:08:43,  9.39s/it]"
     ]
    },
    {
     "name": "stdout",
     "output_type": "stream",
     "text": [
      "Best trial:\n",
      "  Value: 4.969961305992911\n",
      "  Params: \n",
      "    num_leaves: 26\n",
      "    learning_rate: 0.049747241646102995\n",
      "    feature_fraction: 0.8855501927418463\n",
      "    bagging_fraction: 0.918660238086881\n",
      "    bagging_freq: 1\n",
      "    min_child_samples: 30\n",
      "Predicted tn for the first month: 1.3504008380967316\n"
     ]
    },
    {
     "name": "stderr",
     "output_type": "stream",
     "text": [
      " 44%|██████████████████████████████████▏                                           | 342/780 [54:04<1:08:47,  9.42s/it]"
     ]
    },
    {
     "name": "stdout",
     "output_type": "stream",
     "text": [
      "Best trial:\n",
      "  Value: 2.341487504541874\n",
      "  Params: \n",
      "    num_leaves: 32\n",
      "    learning_rate: 0.01248039445228811\n",
      "    feature_fraction: 0.9455247725412792\n",
      "    bagging_fraction: 0.7627275006841274\n",
      "    bagging_freq: 6\n",
      "    min_child_samples: 26\n",
      "Predicted tn for the first month: 8.013373337539038\n"
     ]
    },
    {
     "name": "stderr",
     "output_type": "stream",
     "text": [
      " 44%|██████████████████████████████████▎                                           | 343/780 [54:13<1:09:05,  9.49s/it]"
     ]
    },
    {
     "name": "stdout",
     "output_type": "stream",
     "text": [
      "Best trial:\n",
      "  Value: 4.677330730482936\n",
      "  Params: \n",
      "    num_leaves: 29\n",
      "    learning_rate: 0.029049668192975754\n",
      "    feature_fraction: 0.7407579626792088\n",
      "    bagging_fraction: 0.6897520014958761\n",
      "    bagging_freq: 7\n",
      "    min_child_samples: 47\n",
      "Predicted tn for the first month: 1.3325850194048883\n"
     ]
    },
    {
     "name": "stderr",
     "output_type": "stream",
     "text": [
      " 44%|██████████████████████████████████▍                                           | 344/780 [54:23<1:08:58,  9.49s/it]"
     ]
    },
    {
     "name": "stdout",
     "output_type": "stream",
     "text": [
      "Best trial:\n",
      "  Value: 4.287384310504422\n",
      "  Params: \n",
      "    num_leaves: 37\n",
      "    learning_rate: 0.02135374652195606\n",
      "    feature_fraction: 0.844372878496483\n",
      "    bagging_fraction: 0.7309730459849783\n",
      "    bagging_freq: 6\n",
      "    min_child_samples: 35\n",
      "Predicted tn for the first month: 1.3621749624690414\n"
     ]
    },
    {
     "name": "stderr",
     "output_type": "stream",
     "text": [
      " 44%|██████████████████████████████████▌                                           | 345/780 [54:32<1:08:48,  9.49s/it]"
     ]
    },
    {
     "name": "stdout",
     "output_type": "stream",
     "text": [
      "Best trial:\n",
      "  Value: 4.624465689063072\n",
      "  Params: \n",
      "    num_leaves: 35\n",
      "    learning_rate: 0.08529747772907446\n",
      "    feature_fraction: 0.6766805685779969\n",
      "    bagging_fraction: 0.8432877904837297\n",
      "    bagging_freq: 8\n",
      "    min_child_samples: 45\n",
      "Predicted tn for the first month: 0.850346712243557\n"
     ]
    },
    {
     "name": "stderr",
     "output_type": "stream",
     "text": [
      " 44%|██████████████████████████████████▌                                           | 346/780 [54:42<1:08:43,  9.50s/it]"
     ]
    },
    {
     "name": "stdout",
     "output_type": "stream",
     "text": [
      "Best trial:\n",
      "  Value: 3.6696999967098236\n",
      "  Params: \n",
      "    num_leaves: 30\n",
      "    learning_rate: 0.012479376480367477\n",
      "    feature_fraction: 0.6161981746559956\n",
      "    bagging_fraction: 0.6862172277969335\n",
      "    bagging_freq: 6\n",
      "    min_child_samples: 41\n",
      "Predicted tn for the first month: 10.523394978154501\n"
     ]
    },
    {
     "name": "stderr",
     "output_type": "stream",
     "text": [
      " 44%|██████████████████████████████████▋                                           | 347/780 [54:51<1:08:37,  9.51s/it]"
     ]
    },
    {
     "name": "stdout",
     "output_type": "stream",
     "text": [
      "Best trial:\n",
      "  Value: 4.9632190726697445\n",
      "  Params: \n",
      "    num_leaves: 35\n",
      "    learning_rate: 0.08311264241061662\n",
      "    feature_fraction: 0.8776596471247795\n",
      "    bagging_fraction: 0.8604666029718153\n",
      "    bagging_freq: 9\n",
      "    min_child_samples: 30\n",
      "Predicted tn for the first month: 9.039957426582971\n"
     ]
    },
    {
     "name": "stderr",
     "output_type": "stream",
     "text": [
      " 45%|██████████████████████████████████▊                                           | 348/780 [55:01<1:08:23,  9.50s/it]"
     ]
    },
    {
     "name": "stdout",
     "output_type": "stream",
     "text": [
      "Best trial:\n",
      "  Value: 1.8517649807035923\n",
      "  Params: \n",
      "    num_leaves: 31\n",
      "    learning_rate: 0.01621572881731274\n",
      "    feature_fraction: 0.9370326808591359\n",
      "    bagging_fraction: 0.7859136874297045\n",
      "    bagging_freq: 7\n",
      "    min_child_samples: 10\n",
      "Predicted tn for the first month: 10.915631643515429\n"
     ]
    },
    {
     "name": "stderr",
     "output_type": "stream",
     "text": [
      " 45%|██████████████████████████████████▉                                           | 349/780 [55:10<1:08:13,  9.50s/it]"
     ]
    },
    {
     "name": "stdout",
     "output_type": "stream",
     "text": [
      "Best trial:\n",
      "  Value: 4.989385636523366\n",
      "  Params: \n",
      "    num_leaves: 22\n",
      "    learning_rate: 0.08387697654614887\n",
      "    feature_fraction: 0.8351431047218381\n",
      "    bagging_fraction: 0.8763709916523756\n",
      "    bagging_freq: 2\n",
      "    min_child_samples: 14\n",
      "Predicted tn for the first month: 12.05833591356357\n",
      "Using single month validation due to insufficient data for multiple splits.\n"
     ]
    },
    {
     "name": "stderr",
     "output_type": "stream",
     "text": [
      " 45%|███████████████████████████████████▉                                            | 350/780 [55:14<56:37,  7.90s/it]"
     ]
    },
    {
     "name": "stdout",
     "output_type": "stream",
     "text": [
      "Best trial:\n",
      "  Value: 16.497012853622437\n",
      "  Params: \n",
      "    num_leaves: 27\n",
      "    learning_rate: 0.05054748871094916\n",
      "    feature_fraction: 0.6487943144191688\n",
      "    bagging_fraction: 0.8125911956489377\n",
      "    bagging_freq: 5\n",
      "    min_child_samples: 14\n",
      "Predicted tn for the first month: 63.02004273933411\n",
      "Using single month validation due to insufficient data for multiple splits.\n"
     ]
    },
    {
     "name": "stderr",
     "output_type": "stream",
     "text": [
      " 45%|████████████████████████████████████                                            | 351/780 [55:19<48:25,  6.77s/it]"
     ]
    },
    {
     "name": "stdout",
     "output_type": "stream",
     "text": [
      "Best trial:\n",
      "  Value: 13.044689536094666\n",
      "  Params: \n",
      "    num_leaves: 24\n",
      "    learning_rate: 0.0854578542446763\n",
      "    feature_fraction: 0.674306079644364\n",
      "    bagging_fraction: 0.8257178887601747\n",
      "    bagging_freq: 3\n",
      "    min_child_samples: 32\n",
      "Predicted tn for the first month: 25.005310087623595\n"
     ]
    },
    {
     "name": "stderr",
     "output_type": "stream",
     "text": [
      " 45%|████████████████████████████████████                                            | 352/780 [55:28<54:07,  7.59s/it]"
     ]
    },
    {
     "name": "stdout",
     "output_type": "stream",
     "text": [
      "Best trial:\n",
      "  Value: 2.9686874505132437\n",
      "  Params: \n",
      "    num_leaves: 28\n",
      "    learning_rate: 0.01249948645877506\n",
      "    feature_fraction: 0.7862004119877377\n",
      "    bagging_fraction: 0.7606635881598975\n",
      "    bagging_freq: 6\n",
      "    min_child_samples: 47\n",
      "Predicted tn for the first month: 7.939858315394322\n"
     ]
    },
    {
     "name": "stderr",
     "output_type": "stream",
     "text": [
      " 45%|████████████████████████████████████▏                                           | 353/780 [55:38<58:23,  8.21s/it]"
     ]
    },
    {
     "name": "stdout",
     "output_type": "stream",
     "text": [
      "Best trial:\n",
      "  Value: 1.9548031380400062\n",
      "  Params: \n",
      "    num_leaves: 28\n",
      "    learning_rate: 0.07672138115098213\n",
      "    feature_fraction: 0.9059790591711453\n",
      "    bagging_fraction: 0.9436850249706312\n",
      "    bagging_freq: 9\n",
      "    min_child_samples: 11\n",
      "Predicted tn for the first month: 7.831595838735502\n"
     ]
    },
    {
     "name": "stderr",
     "output_type": "stream",
     "text": [
      " 45%|███████████████████████████████████▍                                          | 354/780 [55:47<1:01:01,  8.59s/it]"
     ]
    },
    {
     "name": "stdout",
     "output_type": "stream",
     "text": [
      "Best trial:\n",
      "  Value: 4.788418068084866\n",
      "  Params: \n",
      "    num_leaves: 36\n",
      "    learning_rate: 0.016042990266936716\n",
      "    feature_fraction: 0.959552086518641\n",
      "    bagging_fraction: 0.8922607610925616\n",
      "    bagging_freq: 9\n",
      "    min_child_samples: 48\n",
      "Predicted tn for the first month: 1.1762732969432075\n"
     ]
    },
    {
     "name": "stderr",
     "output_type": "stream",
     "text": [
      " 46%|███████████████████████████████████▌                                          | 355/780 [55:57<1:02:42,  8.85s/it]"
     ]
    },
    {
     "name": "stdout",
     "output_type": "stream",
     "text": [
      "Best trial:\n",
      "  Value: 3.1601500138640404\n",
      "  Params: \n",
      "    num_leaves: 32\n",
      "    learning_rate: 0.052035064600955534\n",
      "    feature_fraction: 0.8024710724562844\n",
      "    bagging_fraction: 0.8028939286200788\n",
      "    bagging_freq: 6\n",
      "    min_child_samples: 26\n",
      "Predicted tn for the first month: 14.339825003848077\n"
     ]
    },
    {
     "name": "stderr",
     "output_type": "stream",
     "text": [
      " 46%|███████████████████████████████████▌                                          | 356/780 [56:06<1:03:58,  9.05s/it]"
     ]
    },
    {
     "name": "stdout",
     "output_type": "stream",
     "text": [
      "Best trial:\n",
      "  Value: 3.4898662492632866\n",
      "  Params: \n",
      "    num_leaves: 24\n",
      "    learning_rate: 0.03681796027789792\n",
      "    feature_fraction: 0.8266707657484079\n",
      "    bagging_fraction: 0.9387490003525363\n",
      "    bagging_freq: 5\n",
      "    min_child_samples: 31\n",
      "Predicted tn for the first month: 5.771197468415896\n"
     ]
    },
    {
     "name": "stderr",
     "output_type": "stream",
     "text": [
      " 46%|███████████████████████████████████▋                                          | 357/780 [56:16<1:05:04,  9.23s/it]"
     ]
    },
    {
     "name": "stdout",
     "output_type": "stream",
     "text": [
      "Best trial:\n",
      "  Value: 2.163296539336443\n",
      "  Params: \n",
      "    num_leaves: 22\n",
      "    learning_rate: 0.012428741897325577\n",
      "    feature_fraction: 0.6027879481669948\n",
      "    bagging_fraction: 0.9772205319199374\n",
      "    bagging_freq: 1\n",
      "    min_child_samples: 18\n",
      "Predicted tn for the first month: 8.632211659536361\n",
      "Using single month validation due to insufficient data for multiple splits.\n"
     ]
    },
    {
     "name": "stderr",
     "output_type": "stream",
     "text": [
      " 46%|████████████████████████████████████▋                                           | 358/780 [56:20<54:27,  7.74s/it]"
     ]
    },
    {
     "name": "stdout",
     "output_type": "stream",
     "text": [
      "Best trial:\n",
      "  Value: 11.761606846536909\n",
      "  Params: \n",
      "    num_leaves: 35\n",
      "    learning_rate: 0.0881146974348325\n",
      "    feature_fraction: 0.9888991123405807\n",
      "    bagging_fraction: 0.9805231512077676\n",
      "    bagging_freq: 5\n",
      "    min_child_samples: 47\n",
      "Predicted tn for the first month: 27.974977005533493\n"
     ]
    },
    {
     "name": "stderr",
     "output_type": "stream",
     "text": [
      " 46%|████████████████████████████████████▊                                           | 359/780 [56:30<58:43,  8.37s/it]"
     ]
    },
    {
     "name": "stdout",
     "output_type": "stream",
     "text": [
      "Best trial:\n",
      "  Value: 3.8534075571224093\n",
      "  Params: \n",
      "    num_leaves: 33\n",
      "    learning_rate: 0.05185845140581762\n",
      "    feature_fraction: 0.8258779620409125\n",
      "    bagging_fraction: 0.7124705776724598\n",
      "    bagging_freq: 6\n",
      "    min_child_samples: 20\n",
      "Predicted tn for the first month: 20.0961649977835\n"
     ]
    },
    {
     "name": "stderr",
     "output_type": "stream",
     "text": [
      " 46%|████████████████████████████████████                                          | 360/780 [56:40<1:01:16,  8.75s/it]"
     ]
    },
    {
     "name": "stdout",
     "output_type": "stream",
     "text": [
      "Best trial:\n",
      "  Value: 6.257330637425184\n",
      "  Params: \n",
      "    num_leaves: 34\n",
      "    learning_rate: 0.03390892816184452\n",
      "    feature_fraction: 0.9831982718030676\n",
      "    bagging_fraction: 0.9164597915782061\n",
      "    bagging_freq: 1\n",
      "    min_child_samples: 31\n",
      "Predicted tn for the first month: 21.72705182665189\n"
     ]
    },
    {
     "name": "stderr",
     "output_type": "stream",
     "text": [
      " 46%|████████████████████████████████████                                          | 361/780 [56:49<1:02:56,  9.01s/it]"
     ]
    },
    {
     "name": "stdout",
     "output_type": "stream",
     "text": [
      "Best trial:\n",
      "  Value: 2.0289187524467707\n",
      "  Params: \n",
      "    num_leaves: 23\n",
      "    learning_rate: 0.04641877947850901\n",
      "    feature_fraction: 0.6509512131389265\n",
      "    bagging_fraction: 0.7939016719139124\n",
      "    bagging_freq: 5\n",
      "    min_child_samples: 33\n",
      "Predicted tn for the first month: 16.80066248667677\n"
     ]
    },
    {
     "name": "stderr",
     "output_type": "stream",
     "text": [
      " 46%|████████████████████████████████████▏                                         | 362/780 [56:59<1:04:21,  9.24s/it]"
     ]
    },
    {
     "name": "stdout",
     "output_type": "stream",
     "text": [
      "Best trial:\n",
      "  Value: 3.9454100243747234\n",
      "  Params: \n",
      "    num_leaves: 31\n",
      "    learning_rate: 0.05821764586549104\n",
      "    feature_fraction: 0.936153444295948\n",
      "    bagging_fraction: 0.8770082172536917\n",
      "    bagging_freq: 3\n",
      "    min_child_samples: 25\n",
      "Predicted tn for the first month: 4.733676645858288\n"
     ]
    },
    {
     "name": "stderr",
     "output_type": "stream",
     "text": [
      " 47%|████████████████████████████████████▎                                         | 363/780 [57:09<1:05:22,  9.41s/it]"
     ]
    },
    {
     "name": "stdout",
     "output_type": "stream",
     "text": [
      "Best trial:\n",
      "  Value: 3.797814443707466\n",
      "  Params: \n",
      "    num_leaves: 36\n",
      "    learning_rate: 0.050457122138303244\n",
      "    feature_fraction: 0.6549461545633277\n",
      "    bagging_fraction: 0.830986114794204\n",
      "    bagging_freq: 1\n",
      "    min_child_samples: 34\n",
      "Predicted tn for the first month: 7.66197919005394\n"
     ]
    },
    {
     "name": "stderr",
     "output_type": "stream",
     "text": [
      " 47%|████████████████████████████████████▍                                         | 364/780 [57:19<1:06:13,  9.55s/it]"
     ]
    },
    {
     "name": "stdout",
     "output_type": "stream",
     "text": [
      "Best trial:\n",
      "  Value: 2.110244944691658\n",
      "  Params: \n",
      "    num_leaves: 39\n",
      "    learning_rate: 0.06172943966127099\n",
      "    feature_fraction: 0.9764587449096558\n",
      "    bagging_fraction: 0.6362344288611232\n",
      "    bagging_freq: 2\n",
      "    min_child_samples: 32\n",
      "Predicted tn for the first month: 10.605999985812506\n"
     ]
    },
    {
     "name": "stderr",
     "output_type": "stream",
     "text": [
      " 47%|████████████████████████████████████▌                                         | 365/780 [57:28<1:06:26,  9.61s/it]"
     ]
    },
    {
     "name": "stdout",
     "output_type": "stream",
     "text": [
      "Best trial:\n",
      "  Value: 3.0861412640661\n",
      "  Params: \n",
      "    num_leaves: 22\n",
      "    learning_rate: 0.06091374438776366\n",
      "    feature_fraction: 0.7669940091002063\n",
      "    bagging_fraction: 0.9409219387349035\n",
      "    bagging_freq: 4\n",
      "    min_child_samples: 20\n",
      "Predicted tn for the first month: 9.281112508310875\n"
     ]
    },
    {
     "name": "stderr",
     "output_type": "stream",
     "text": [
      " 47%|████████████████████████████████████▌                                         | 366/780 [57:38<1:06:32,  9.64s/it]"
     ]
    },
    {
     "name": "stdout",
     "output_type": "stream",
     "text": [
      "Best trial:\n",
      "  Value: 4.436193973757327\n",
      "  Params: \n",
      "    num_leaves: 30\n",
      "    learning_rate: 0.02148952683800139\n",
      "    feature_fraction: 0.9541453204413683\n",
      "    bagging_fraction: 0.6330729464282795\n",
      "    bagging_freq: 6\n",
      "    min_child_samples: 14\n",
      "Predicted tn for the first month: 8.473879992377759\n"
     ]
    },
    {
     "name": "stderr",
     "output_type": "stream",
     "text": [
      " 47%|████████████████████████████████████▋                                         | 367/780 [57:48<1:06:39,  9.68s/it]"
     ]
    },
    {
     "name": "stdout",
     "output_type": "stream",
     "text": [
      "Best trial:\n",
      "  Value: 4.976223677396774\n",
      "  Params: \n",
      "    num_leaves: 36\n",
      "    learning_rate: 0.022854606435935135\n",
      "    feature_fraction: 0.7041481930260858\n",
      "    bagging_fraction: 0.9399683156708217\n",
      "    bagging_freq: 1\n",
      "    min_child_samples: 6\n",
      "Predicted tn for the first month: 4.546958990049662\n"
     ]
    },
    {
     "name": "stderr",
     "output_type": "stream",
     "text": [
      " 47%|████████████████████████████████████▊                                         | 368/780 [57:57<1:06:19,  9.66s/it]"
     ]
    },
    {
     "name": "stdout",
     "output_type": "stream",
     "text": [
      "Best trial:\n",
      "  Value: 3.14103935303865\n",
      "  Params: \n",
      "    num_leaves: 21\n",
      "    learning_rate: 0.09009851729607907\n",
      "    feature_fraction: 0.6245769260527797\n",
      "    bagging_fraction: 0.9832587914390324\n",
      "    bagging_freq: 7\n",
      "    min_child_samples: 37\n",
      "Predicted tn for the first month: 8.800264991468142\n",
      "Using single month validation due to insufficient data for multiple splits.\n"
     ]
    },
    {
     "name": "stderr",
     "output_type": "stream",
     "text": [
      " 47%|█████████████████████████████████████▊                                          | 369/780 [58:02<55:00,  8.03s/it]"
     ]
    },
    {
     "name": "stdout",
     "output_type": "stream",
     "text": [
      "Best trial:\n",
      "  Value: 4.329102839742388\n",
      "  Params: \n",
      "    num_leaves: 35\n",
      "    learning_rate: 0.07711250551046385\n",
      "    feature_fraction: 0.6708890269086206\n",
      "    bagging_fraction: 0.9077661096629095\n",
      "    bagging_freq: 2\n",
      "    min_child_samples: 22\n",
      "Predicted tn for the first month: 24.903172781072342\n"
     ]
    },
    {
     "name": "stderr",
     "output_type": "stream",
     "text": [
      " 47%|█████████████████████████████████████▉                                          | 370/780 [58:11<57:48,  8.46s/it]"
     ]
    },
    {
     "name": "stdout",
     "output_type": "stream",
     "text": [
      "Best trial:\n",
      "  Value: 3.5704115740954876\n",
      "  Params: \n",
      "    num_leaves: 32\n",
      "    learning_rate: 0.062122844899069773\n",
      "    feature_fraction: 0.9123248962294721\n",
      "    bagging_fraction: 0.7453125380558907\n",
      "    bagging_freq: 2\n",
      "    min_child_samples: 14\n",
      "Predicted tn for the first month: 8.657481710591316\n"
     ]
    },
    {
     "name": "stderr",
     "output_type": "stream",
     "text": [
      " 48%|█████████████████████████████████████                                         | 371/780 [58:21<1:00:08,  8.82s/it]"
     ]
    },
    {
     "name": "stdout",
     "output_type": "stream",
     "text": [
      "Best trial:\n",
      "  Value: 3.2561603616923094\n",
      "  Params: \n",
      "    num_leaves: 22\n",
      "    learning_rate: 0.03066840063190137\n",
      "    feature_fraction: 0.892408365516218\n",
      "    bagging_fraction: 0.8289548602589123\n",
      "    bagging_freq: 3\n",
      "    min_child_samples: 12\n",
      "Predicted tn for the first month: 7.895341677469809\n"
     ]
    },
    {
     "name": "stderr",
     "output_type": "stream",
     "text": [
      " 48%|█████████████████████████████████████▏                                        | 372/780 [58:31<1:01:58,  9.11s/it]"
     ]
    },
    {
     "name": "stdout",
     "output_type": "stream",
     "text": [
      "Best trial:\n",
      "  Value: 5.080909906886518\n",
      "  Params: \n",
      "    num_leaves: 39\n",
      "    learning_rate: 0.07220279240551758\n",
      "    feature_fraction: 0.821543859334996\n",
      "    bagging_fraction: 0.7730232825387393\n",
      "    bagging_freq: 4\n",
      "    min_child_samples: 22\n",
      "Predicted tn for the first month: 12.990384948673247\n"
     ]
    },
    {
     "name": "stderr",
     "output_type": "stream",
     "text": [
      " 48%|█████████████████████████████████████▎                                        | 373/780 [58:40<1:02:47,  9.26s/it]"
     ]
    },
    {
     "name": "stdout",
     "output_type": "stream",
     "text": [
      "Best trial:\n",
      "  Value: 0.7845712462440133\n",
      "  Params: \n",
      "    num_leaves: 34\n",
      "    learning_rate: 0.021750438888164032\n",
      "    feature_fraction: 0.7102211566405193\n",
      "    bagging_fraction: 0.6741925517991184\n",
      "    bagging_freq: 3\n",
      "    min_child_samples: 38\n",
      "Predicted tn for the first month: 7.097155829529961\n"
     ]
    },
    {
     "name": "stderr",
     "output_type": "stream",
     "text": [
      " 48%|█████████████████████████████████████▍                                        | 374/780 [58:50<1:03:01,  9.31s/it]"
     ]
    },
    {
     "name": "stdout",
     "output_type": "stream",
     "text": [
      "Best trial:\n",
      "  Value: 1.8525565564632416\n",
      "  Params: \n",
      "    num_leaves: 32\n",
      "    learning_rate: 0.010192247886681409\n",
      "    feature_fraction: 0.895045744065849\n",
      "    bagging_fraction: 0.6629927812800651\n",
      "    bagging_freq: 7\n",
      "    min_child_samples: 22\n",
      "Predicted tn for the first month: 9.63229582585176\n"
     ]
    },
    {
     "name": "stderr",
     "output_type": "stream",
     "text": [
      " 48%|█████████████████████████████████████▌                                        | 375/780 [58:59<1:03:35,  9.42s/it]"
     ]
    },
    {
     "name": "stdout",
     "output_type": "stream",
     "text": [
      "Best trial:\n",
      "  Value: 4.706076009199023\n",
      "  Params: \n",
      "    num_leaves: 38\n",
      "    learning_rate: 0.013796250845523042\n",
      "    feature_fraction: 0.8215846060483941\n",
      "    bagging_fraction: 0.6929868929363255\n",
      "    bagging_freq: 10\n",
      "    min_child_samples: 12\n",
      "Predicted tn for the first month: 7.484884220678012\n"
     ]
    },
    {
     "name": "stderr",
     "output_type": "stream",
     "text": [
      " 48%|█████████████████████████████████████▌                                        | 376/780 [59:09<1:04:32,  9.58s/it]"
     ]
    },
    {
     "name": "stdout",
     "output_type": "stream",
     "text": [
      "Best trial:\n",
      "  Value: 3.0808562515303493\n",
      "  Params: \n",
      "    num_leaves: 21\n",
      "    learning_rate: 0.08865633137143106\n",
      "    feature_fraction: 0.9553311358274906\n",
      "    bagging_fraction: 0.7070693615301604\n",
      "    bagging_freq: 7\n",
      "    min_child_samples: 38\n",
      "Predicted tn for the first month: 6.964259172697266\n"
     ]
    },
    {
     "name": "stderr",
     "output_type": "stream",
     "text": [
      " 48%|█████████████████████████████████████▋                                        | 377/780 [59:19<1:04:28,  9.60s/it]"
     ]
    },
    {
     "name": "stdout",
     "output_type": "stream",
     "text": [
      "Best trial:\n",
      "  Value: 2.6385987857356668\n",
      "  Params: \n",
      "    num_leaves: 29\n",
      "    learning_rate: 0.033326126427000294\n",
      "    feature_fraction: 0.9494207430283766\n",
      "    bagging_fraction: 0.895522354967889\n",
      "    bagging_freq: 3\n",
      "    min_child_samples: 20\n",
      "Predicted tn for the first month: 9.01850336514016\n"
     ]
    },
    {
     "name": "stderr",
     "output_type": "stream",
     "text": [
      " 48%|█████████████████████████████████████▊                                        | 378/780 [59:29<1:05:03,  9.71s/it]"
     ]
    },
    {
     "name": "stdout",
     "output_type": "stream",
     "text": [
      "Best trial:\n",
      "  Value: 3.4864725470542908\n",
      "  Params: \n",
      "    num_leaves: 38\n",
      "    learning_rate: 0.044676865477996326\n",
      "    feature_fraction: 0.6245549445499115\n",
      "    bagging_fraction: 0.8165437694831041\n",
      "    bagging_freq: 7\n",
      "    min_child_samples: 32\n",
      "Predicted tn for the first month: 11.559968310176531\n"
     ]
    },
    {
     "name": "stderr",
     "output_type": "stream",
     "text": [
      " 49%|█████████████████████████████████████▉                                        | 379/780 [59:38<1:04:44,  9.69s/it]"
     ]
    },
    {
     "name": "stdout",
     "output_type": "stream",
     "text": [
      "Best trial:\n",
      "  Value: 3.7813062448985875\n",
      "  Params: \n",
      "    num_leaves: 39\n",
      "    learning_rate: 0.011552646277147803\n",
      "    feature_fraction: 0.9202675486793056\n",
      "    bagging_fraction: 0.8692839468362298\n",
      "    bagging_freq: 9\n",
      "    min_child_samples: 45\n",
      "Predicted tn for the first month: 1.2068867315935095\n",
      "Using single month validation due to insufficient data for multiple splits.\n"
     ]
    },
    {
     "name": "stderr",
     "output_type": "stream",
     "text": [
      " 49%|██████████████████████████████████████▉                                         | 380/780 [59:43<54:59,  8.25s/it]"
     ]
    },
    {
     "name": "stdout",
     "output_type": "stream",
     "text": [
      "Best trial:\n",
      "  Value: 3.796473503112793\n",
      "  Params: \n",
      "    num_leaves: 33\n",
      "    learning_rate: 0.06037145462646586\n",
      "    feature_fraction: 0.9981694367128298\n",
      "    bagging_fraction: 0.8185698785994848\n",
      "    bagging_freq: 5\n",
      "    min_child_samples: 29\n",
      "Predicted tn for the first month: 10.37245359893799\n"
     ]
    },
    {
     "name": "stderr",
     "output_type": "stream",
     "text": [
      " 49%|███████████████████████████████████████                                         | 381/780 [59:53<57:21,  8.63s/it]"
     ]
    },
    {
     "name": "stdout",
     "output_type": "stream",
     "text": [
      "Best trial:\n",
      "  Value: 5.484610036015511\n",
      "  Params: \n",
      "    num_leaves: 39\n",
      "    learning_rate: 0.07361818148827781\n",
      "    feature_fraction: 0.6508006248613266\n",
      "    bagging_fraction: 0.7339077514982835\n",
      "    bagging_freq: 4\n",
      "    min_child_samples: 13\n",
      "Predicted tn for the first month: 16.409332440067928\n"
     ]
    },
    {
     "name": "stderr",
     "output_type": "stream",
     "text": [
      " 49%|██████████████████████████████████████▏                                       | 382/780 [1:00:02<59:08,  8.92s/it]"
     ]
    },
    {
     "name": "stdout",
     "output_type": "stream",
     "text": [
      "Best trial:\n",
      "  Value: 4.432618105784059\n",
      "  Params: \n",
      "    num_leaves: 40\n",
      "    learning_rate: 0.09358103989652768\n",
      "    feature_fraction: 0.9885296902373425\n",
      "    bagging_fraction: 0.701380283889316\n",
      "    bagging_freq: 1\n",
      "    min_child_samples: 19\n",
      "Predicted tn for the first month: 9.142280803560814\n"
     ]
    },
    {
     "name": "stderr",
     "output_type": "stream",
     "text": [
      " 49%|█████████████████████████████████████▎                                      | 383/780 [1:00:12<1:00:24,  9.13s/it]"
     ]
    },
    {
     "name": "stdout",
     "output_type": "stream",
     "text": [
      "Best trial:\n",
      "  Value: 1.7870406460133381\n",
      "  Params: \n",
      "    num_leaves: 38\n",
      "    learning_rate: 0.02574523495206798\n",
      "    feature_fraction: 0.7808145075342549\n",
      "    bagging_fraction: 0.8199569314281817\n",
      "    bagging_freq: 8\n",
      "    min_child_samples: 21\n",
      "Predicted tn for the first month: 6.073821644073116\n"
     ]
    },
    {
     "name": "stderr",
     "output_type": "stream",
     "text": [
      " 49%|█████████████████████████████████████▍                                      | 384/780 [1:00:22<1:01:04,  9.25s/it]"
     ]
    },
    {
     "name": "stdout",
     "output_type": "stream",
     "text": [
      "Best trial:\n",
      "  Value: 1.5274955974891782\n",
      "  Params: \n",
      "    num_leaves: 40\n",
      "    learning_rate: 0.03513798672001556\n",
      "    feature_fraction: 0.8694205180016754\n",
      "    bagging_fraction: 0.8602610127943013\n",
      "    bagging_freq: 1\n",
      "    min_child_samples: 17\n",
      "Predicted tn for the first month: 9.390281670159101\n"
     ]
    },
    {
     "name": "stderr",
     "output_type": "stream",
     "text": [
      " 49%|█████████████████████████████████████▌                                      | 385/780 [1:00:31<1:01:44,  9.38s/it]"
     ]
    },
    {
     "name": "stdout",
     "output_type": "stream",
     "text": [
      "Best trial:\n",
      "  Value: 1.530271254479885\n",
      "  Params: \n",
      "    num_leaves: 28\n",
      "    learning_rate: 0.05164135565874376\n",
      "    feature_fraction: 0.8742972950741569\n",
      "    bagging_fraction: 0.7126677682519085\n",
      "    bagging_freq: 1\n",
      "    min_child_samples: 11\n",
      "Predicted tn for the first month: 6.798296685506503\n"
     ]
    },
    {
     "name": "stderr",
     "output_type": "stream",
     "text": [
      " 49%|█████████████████████████████████████▌                                      | 386/780 [1:00:41<1:02:17,  9.49s/it]"
     ]
    },
    {
     "name": "stdout",
     "output_type": "stream",
     "text": [
      "Best trial:\n",
      "  Value: 4.338990330696106\n",
      "  Params: \n",
      "    num_leaves: 27\n",
      "    learning_rate: 0.014939979668850984\n",
      "    feature_fraction: 0.7044454694834079\n",
      "    bagging_fraction: 0.6511038474460862\n",
      "    bagging_freq: 4\n",
      "    min_child_samples: 10\n",
      "Predicted tn for the first month: 17.49193583920479\n"
     ]
    },
    {
     "name": "stderr",
     "output_type": "stream",
     "text": [
      " 50%|█████████████████████████████████████▋                                      | 387/780 [1:00:51<1:02:56,  9.61s/it]"
     ]
    },
    {
     "name": "stdout",
     "output_type": "stream",
     "text": [
      "Best trial:\n",
      "  Value: 1.946898749738466\n",
      "  Params: \n",
      "    num_leaves: 30\n",
      "    learning_rate: 0.014180747034158355\n",
      "    feature_fraction: 0.7945142982001208\n",
      "    bagging_fraction: 0.986027290101881\n",
      "    bagging_freq: 9\n",
      "    min_child_samples: 11\n",
      "Predicted tn for the first month: 9.767093337472925\n"
     ]
    },
    {
     "name": "stderr",
     "output_type": "stream",
     "text": [
      " 50%|█████████████████████████████████████▊                                      | 388/780 [1:01:01<1:03:44,  9.76s/it]"
     ]
    },
    {
     "name": "stdout",
     "output_type": "stream",
     "text": [
      "Best trial:\n",
      "  Value: 2.641817484050989\n",
      "  Params: \n",
      "    num_leaves: 35\n",
      "    learning_rate: 0.020110147154591744\n",
      "    feature_fraction: 0.7610307831848417\n",
      "    bagging_fraction: 0.6766959580976886\n",
      "    bagging_freq: 5\n",
      "    min_child_samples: 23\n",
      "Predicted tn for the first month: 4.489984172789256\n"
     ]
    },
    {
     "name": "stderr",
     "output_type": "stream",
     "text": [
      " 50%|█████████████████████████████████████▉                                      | 389/780 [1:01:11<1:03:46,  9.79s/it]"
     ]
    },
    {
     "name": "stdout",
     "output_type": "stream",
     "text": [
      "Best trial:\n",
      "  Value: 3.6396406702697277\n",
      "  Params: \n",
      "    num_leaves: 40\n",
      "    learning_rate: 0.06850018511558807\n",
      "    feature_fraction: 0.6738055628591277\n",
      "    bagging_fraction: 0.6994209545055867\n",
      "    bagging_freq: 9\n",
      "    min_child_samples: 42\n",
      "Predicted tn for the first month: 0.19554166449387866\n",
      "Using single month validation due to insufficient data for multiple splits.\n"
     ]
    },
    {
     "name": "stderr",
     "output_type": "stream",
     "text": [
      " 50%|███████████████████████████████████████                                       | 390/780 [1:01:15<52:56,  8.14s/it]"
     ]
    },
    {
     "name": "stdout",
     "output_type": "stream",
     "text": [
      "Best trial:\n",
      "  Value: 2.8441186462129866\n",
      "  Params: \n",
      "    num_leaves: 25\n",
      "    learning_rate: 0.02362954922738005\n",
      "    feature_fraction: 0.8086694464734057\n",
      "    bagging_fraction: 0.7004694269226016\n",
      "    bagging_freq: 2\n",
      "    min_child_samples: 22\n",
      "Predicted tn for the first month: 10.871508709155492\n"
     ]
    },
    {
     "name": "stderr",
     "output_type": "stream",
     "text": [
      " 50%|███████████████████████████████████████                                       | 391/780 [1:01:25<55:41,  8.59s/it]"
     ]
    },
    {
     "name": "stdout",
     "output_type": "stream",
     "text": [
      "Best trial:\n",
      "  Value: 3.0118143064901233\n",
      "  Params: \n",
      "    num_leaves: 32\n",
      "    learning_rate: 0.017776768471006926\n",
      "    feature_fraction: 0.6998331307586751\n",
      "    bagging_fraction: 0.9245633808553438\n",
      "    bagging_freq: 9\n",
      "    min_child_samples: 27\n",
      "Predicted tn for the first month: 9.226729156748453\n"
     ]
    },
    {
     "name": "stderr",
     "output_type": "stream",
     "text": [
      " 50%|███████████████████████████████████████▏                                      | 392/780 [1:01:34<57:28,  8.89s/it]"
     ]
    },
    {
     "name": "stdout",
     "output_type": "stream",
     "text": [
      "Best trial:\n",
      "  Value: 1.91422438621521\n",
      "  Params: \n",
      "    num_leaves: 22\n",
      "    learning_rate: 0.06033759298679057\n",
      "    feature_fraction: 0.9018861672011564\n",
      "    bagging_fraction: 0.9685520064928446\n",
      "    bagging_freq: 7\n",
      "    min_child_samples: 23\n",
      "Predicted tn for the first month: 6.53882335931619\n"
     ]
    },
    {
     "name": "stderr",
     "output_type": "stream",
     "text": [
      " 50%|███████████████████████████████████████▎                                      | 393/780 [1:01:44<58:48,  9.12s/it]"
     ]
    },
    {
     "name": "stdout",
     "output_type": "stream",
     "text": [
      "Best trial:\n",
      "  Value: 1.740886878222227\n",
      "  Params: \n",
      "    num_leaves: 39\n",
      "    learning_rate: 0.016800017960252375\n",
      "    feature_fraction: 0.6631323929310063\n",
      "    bagging_fraction: 0.6527894015964788\n",
      "    bagging_freq: 9\n",
      "    min_child_samples: 36\n",
      "Predicted tn for the first month: 5.45522248387893\n"
     ]
    },
    {
     "name": "stderr",
     "output_type": "stream",
     "text": [
      " 51%|███████████████████████████████████████▍                                      | 394/780 [1:01:54<59:45,  9.29s/it]"
     ]
    },
    {
     "name": "stdout",
     "output_type": "stream",
     "text": [
      "Best trial:\n",
      "  Value: 4.165638796985149\n",
      "  Params: \n",
      "    num_leaves: 27\n",
      "    learning_rate: 0.015674706444337005\n",
      "    feature_fraction: 0.8083349152868696\n",
      "    bagging_fraction: 0.8568718575447998\n",
      "    bagging_freq: 4\n",
      "    min_child_samples: 28\n",
      "Predicted tn for the first month: 3.0066400329264007\n",
      "Using single month validation due to insufficient data for multiple splits.\n"
     ]
    },
    {
     "name": "stderr",
     "output_type": "stream",
     "text": [
      " 51%|███████████████████████████████████████▌                                      | 395/780 [1:01:58<49:58,  7.79s/it]"
     ]
    },
    {
     "name": "stdout",
     "output_type": "stream",
     "text": [
      "Best trial:\n",
      "  Value: 9.567928703767913\n",
      "  Params: \n",
      "    num_leaves: 28\n",
      "    learning_rate: 0.013849592222275255\n",
      "    feature_fraction: 0.9321676962899644\n",
      "    bagging_fraction: 0.7041240399868407\n",
      "    bagging_freq: 8\n",
      "    min_child_samples: 24\n",
      "Predicted tn for the first month: 16.423148778993742\n"
     ]
    },
    {
     "name": "stderr",
     "output_type": "stream",
     "text": [
      " 51%|███████████████████████████████████████▌                                      | 396/780 [1:02:08<53:56,  8.43s/it]"
     ]
    },
    {
     "name": "stdout",
     "output_type": "stream",
     "text": [
      "Best trial:\n",
      "  Value: 4.414774037897587\n",
      "  Params: \n",
      "    num_leaves: 27\n",
      "    learning_rate: 0.02548190500988816\n",
      "    feature_fraction: 0.7348416603281362\n",
      "    bagging_fraction: 0.7736780970996772\n",
      "    bagging_freq: 9\n",
      "    min_child_samples: 29\n",
      "Predicted tn for the first month: 12.747406638216177\n"
     ]
    },
    {
     "name": "stderr",
     "output_type": "stream",
     "text": [
      " 51%|███████████████████████████████████████▋                                      | 397/780 [1:02:18<56:15,  8.81s/it]"
     ]
    },
    {
     "name": "stdout",
     "output_type": "stream",
     "text": [
      "Best trial:\n",
      "  Value: 5.1572874784469604\n",
      "  Params: \n",
      "    num_leaves: 40\n",
      "    learning_rate: 0.0197273011487216\n",
      "    feature_fraction: 0.9897465812071324\n",
      "    bagging_fraction: 0.9581087139401303\n",
      "    bagging_freq: 6\n",
      "    min_child_samples: 15\n",
      "Predicted tn for the first month: 13.980249993220964\n"
     ]
    },
    {
     "name": "stderr",
     "output_type": "stream",
     "text": [
      " 51%|███████████████████████████████████████▊                                      | 398/780 [1:02:27<57:43,  9.07s/it]"
     ]
    },
    {
     "name": "stdout",
     "output_type": "stream",
     "text": [
      "Best trial:\n",
      "  Value: 1.7631300194188952\n",
      "  Params: \n",
      "    num_leaves: 30\n",
      "    learning_rate: 0.014678129519194677\n",
      "    feature_fraction: 0.7569499440917744\n",
      "    bagging_fraction: 0.7088837765260508\n",
      "    bagging_freq: 5\n",
      "    min_child_samples: 45\n",
      "Predicted tn for the first month: 4.765333323732416\n",
      "Using single month validation due to insufficient data for multiple splits.\n"
     ]
    },
    {
     "name": "stderr",
     "output_type": "stream",
     "text": [
      " 51%|███████████████████████████████████████▉                                      | 399/780 [1:02:32<48:15,  7.60s/it]"
     ]
    },
    {
     "name": "stdout",
     "output_type": "stream",
     "text": [
      "Best trial:\n",
      "  Value: 2.0859657983694757\n",
      "  Params: \n",
      "    num_leaves: 40\n",
      "    learning_rate: 0.062108823109362304\n",
      "    feature_fraction: 0.61753817915286\n",
      "    bagging_fraction: 0.7047990867191324\n",
      "    bagging_freq: 8\n",
      "    min_child_samples: 45\n",
      "Predicted tn for the first month: 20.36732576895816\n",
      "Using single month validation due to insufficient data for multiple splits.\n"
     ]
    },
    {
     "name": "stderr",
     "output_type": "stream",
     "text": [
      " 51%|████████████████████████████████████████                                      | 400/780 [1:02:36<41:48,  6.60s/it]"
     ]
    },
    {
     "name": "stdout",
     "output_type": "stream",
     "text": [
      "Best trial:\n",
      "  Value: 4.000549865620477\n",
      "  Params: \n",
      "    num_leaves: 25\n",
      "    learning_rate: 0.010789460564661835\n",
      "    feature_fraction: 0.825356182700511\n",
      "    bagging_fraction: 0.7269181540520726\n",
      "    bagging_freq: 1\n",
      "    min_child_samples: 21\n",
      "Predicted tn for the first month: 25.25949001169886\n"
     ]
    },
    {
     "name": "stderr",
     "output_type": "stream",
     "text": [
      " 51%|████████████████████████████████████████                                      | 401/780 [1:02:46<47:54,  7.58s/it]"
     ]
    },
    {
     "name": "stdout",
     "output_type": "stream",
     "text": [
      "Best trial:\n",
      "  Value: 7.490349015221\n",
      "  Params: \n",
      "    num_leaves: 23\n",
      "    learning_rate: 0.018324165171074405\n",
      "    feature_fraction: 0.7401350572316683\n",
      "    bagging_fraction: 0.8873485439094704\n",
      "    bagging_freq: 7\n",
      "    min_child_samples: 28\n",
      "Predicted tn for the first month: 14.977295852603913\n"
     ]
    },
    {
     "name": "stderr",
     "output_type": "stream",
     "text": [
      " 52%|████████████████████████████████████████▏                                     | 402/780 [1:02:55<51:50,  8.23s/it]"
     ]
    },
    {
     "name": "stdout",
     "output_type": "stream",
     "text": [
      "Best trial:\n",
      "  Value: 3.6065715234726667\n",
      "  Params: \n",
      "    num_leaves: 33\n",
      "    learning_rate: 0.03606463616927822\n",
      "    feature_fraction: 0.6086146672710712\n",
      "    bagging_fraction: 0.6818705202834455\n",
      "    bagging_freq: 7\n",
      "    min_child_samples: 24\n",
      "Predicted tn for the first month: 2.2055575235271454\n",
      "Using single month validation due to insufficient data for multiple splits.\n"
     ]
    },
    {
     "name": "stderr",
     "output_type": "stream",
     "text": [
      " 52%|████████████████████████████████████████▎                                     | 403/780 [1:03:00<44:02,  7.01s/it]"
     ]
    },
    {
     "name": "stdout",
     "output_type": "stream",
     "text": [
      "Best trial:\n",
      "  Value: 4.244415657860892\n",
      "  Params: \n",
      "    num_leaves: 34\n",
      "    learning_rate: 0.05038227888749229\n",
      "    feature_fraction: 0.8011177295301438\n",
      "    bagging_fraction: 0.7962757697486594\n",
      "    bagging_freq: 5\n",
      "    min_child_samples: 41\n",
      "Predicted tn for the first month: 15.230285703942435\n"
     ]
    },
    {
     "name": "stderr",
     "output_type": "stream",
     "text": [
      " 52%|████████████████████████████████████████▍                                     | 404/780 [1:03:09<48:52,  7.80s/it]"
     ]
    },
    {
     "name": "stdout",
     "output_type": "stream",
     "text": [
      "Best trial:\n",
      "  Value: 2.272395007312298\n",
      "  Params: \n",
      "    num_leaves: 26\n",
      "    learning_rate: 0.04862561889679094\n",
      "    feature_fraction: 0.7017264092214434\n",
      "    bagging_fraction: 0.8318692386314748\n",
      "    bagging_freq: 8\n",
      "    min_child_samples: 6\n",
      "Predicted tn for the first month: 3.9632751788476153\n"
     ]
    },
    {
     "name": "stderr",
     "output_type": "stream",
     "text": [
      " 52%|████████████████████████████████████████▌                                     | 405/780 [1:03:19<52:42,  8.43s/it]"
     ]
    },
    {
     "name": "stdout",
     "output_type": "stream",
     "text": [
      "Best trial:\n",
      "  Value: 1.8395456299185753\n",
      "  Params: \n",
      "    num_leaves: 39\n",
      "    learning_rate: 0.08091469111386226\n",
      "    feature_fraction: 0.7641430878553443\n",
      "    bagging_fraction: 0.6086141488737749\n",
      "    bagging_freq: 10\n",
      "    min_child_samples: 28\n",
      "Predicted tn for the first month: 7.842837489126523\n",
      "Using single month validation due to insufficient data for multiple splits.\n"
     ]
    },
    {
     "name": "stderr",
     "output_type": "stream",
     "text": [
      " 52%|████████████████████████████████████████▌                                     | 406/780 [1:03:23<44:44,  7.18s/it]"
     ]
    },
    {
     "name": "stdout",
     "output_type": "stream",
     "text": [
      "Best trial:\n",
      "  Value: 5.430175645010812\n",
      "  Params: \n",
      "    num_leaves: 27\n",
      "    learning_rate: 0.028810523608978265\n",
      "    feature_fraction: 0.8881380214302319\n",
      "    bagging_fraction: 0.9844150683751416\n",
      "    bagging_freq: 10\n",
      "    min_child_samples: 11\n",
      "Predicted tn for the first month: 18.798365762656076\n"
     ]
    },
    {
     "name": "stderr",
     "output_type": "stream",
     "text": [
      " 52%|████████████████████████████████████████▋                                     | 407/780 [1:03:33<49:21,  7.94s/it]"
     ]
    },
    {
     "name": "stdout",
     "output_type": "stream",
     "text": [
      "Best trial:\n",
      "  Value: 2.3697762563824654\n",
      "  Params: \n",
      "    num_leaves: 39\n",
      "    learning_rate: 0.023472576039087357\n",
      "    feature_fraction: 0.8058303851296174\n",
      "    bagging_fraction: 0.7238892089403908\n",
      "    bagging_freq: 2\n",
      "    min_child_samples: 34\n",
      "Predicted tn for the first month: 9.785618350407779\n"
     ]
    },
    {
     "name": "stderr",
     "output_type": "stream",
     "text": [
      " 52%|████████████████████████████████████████▊                                     | 408/780 [1:03:43<52:36,  8.49s/it]"
     ]
    },
    {
     "name": "stdout",
     "output_type": "stream",
     "text": [
      "Best trial:\n",
      "  Value: 1.6990412510931492\n",
      "  Params: \n",
      "    num_leaves: 31\n",
      "    learning_rate: 0.011752480400171685\n",
      "    feature_fraction: 0.87759306332947\n",
      "    bagging_fraction: 0.8340319547223961\n",
      "    bagging_freq: 7\n",
      "    min_child_samples: 11\n",
      "Predicted tn for the first month: 6.971278339757919\n"
     ]
    },
    {
     "name": "stderr",
     "output_type": "stream",
     "text": [
      " 52%|████████████████████████████████████████▉                                     | 409/780 [1:03:52<54:24,  8.80s/it]"
     ]
    },
    {
     "name": "stdout",
     "output_type": "stream",
     "text": [
      "Best trial:\n",
      "  Value: 3.7185844480991364\n",
      "  Params: \n",
      "    num_leaves: 36\n",
      "    learning_rate: 0.09005934991592797\n",
      "    feature_fraction: 0.9277890084285301\n",
      "    bagging_fraction: 0.9892280466950115\n",
      "    bagging_freq: 10\n",
      "    min_child_samples: 12\n",
      "Predicted tn for the first month: 10.91402664305687\n"
     ]
    },
    {
     "name": "stderr",
     "output_type": "stream",
     "text": [
      " 53%|█████████████████████████████████████████                                     | 410/780 [1:04:02<55:34,  9.01s/it]"
     ]
    },
    {
     "name": "stdout",
     "output_type": "stream",
     "text": [
      "Best trial:\n",
      "  Value: 3.1829212736338377\n",
      "  Params: \n",
      "    num_leaves: 20\n",
      "    learning_rate: 0.021700761370428756\n",
      "    feature_fraction: 0.8740617140580793\n",
      "    bagging_fraction: 0.8906310715015565\n",
      "    bagging_freq: 3\n",
      "    min_child_samples: 34\n",
      "Predicted tn for the first month: 10.186717496936717\n"
     ]
    },
    {
     "name": "stderr",
     "output_type": "stream",
     "text": [
      " 53%|█████████████████████████████████████████                                     | 411/780 [1:04:11<56:23,  9.17s/it]"
     ]
    },
    {
     "name": "stdout",
     "output_type": "stream",
     "text": [
      "Best trial:\n",
      "  Value: 2.811519711278379\n",
      "  Params: \n",
      "    num_leaves: 26\n",
      "    learning_rate: 0.029480803920814265\n",
      "    feature_fraction: 0.6090199236729567\n",
      "    bagging_fraction: 0.878438422252934\n",
      "    bagging_freq: 4\n",
      "    min_child_samples: 35\n",
      "Predicted tn for the first month: 7.130190858449142\n"
     ]
    },
    {
     "name": "stderr",
     "output_type": "stream",
     "text": [
      " 53%|█████████████████████████████████████████▏                                    | 412/780 [1:04:21<57:28,  9.37s/it]"
     ]
    },
    {
     "name": "stdout",
     "output_type": "stream",
     "text": [
      "Best trial:\n",
      "  Value: 2.0257687466219068\n",
      "  Params: \n",
      "    num_leaves: 29\n",
      "    learning_rate: 0.04956330547006807\n",
      "    feature_fraction: 0.7910241216268966\n",
      "    bagging_fraction: 0.9758408274480099\n",
      "    bagging_freq: 7\n",
      "    min_child_samples: 33\n",
      "Predicted tn for the first month: 4.29467751522084\n"
     ]
    },
    {
     "name": "stderr",
     "output_type": "stream",
     "text": [
      " 53%|█████████████████████████████████████████▎                                    | 413/780 [1:04:31<57:51,  9.46s/it]"
     ]
    },
    {
     "name": "stdout",
     "output_type": "stream",
     "text": [
      "Best trial:\n",
      "  Value: 3.208636950701475\n",
      "  Params: \n",
      "    num_leaves: 25\n",
      "    learning_rate: 0.01937299622994795\n",
      "    feature_fraction: 0.7818548379983092\n",
      "    bagging_fraction: 0.8864369452028145\n",
      "    bagging_freq: 3\n",
      "    min_child_samples: 20\n",
      "Predicted tn for the first month: 13.607417516962688\n",
      "Using single month validation due to insufficient data for multiple splits.\n"
     ]
    },
    {
     "name": "stderr",
     "output_type": "stream",
     "text": [
      " 53%|█████████████████████████████████████████▍                                    | 414/780 [1:04:35<48:10,  7.90s/it]"
     ]
    },
    {
     "name": "stdout",
     "output_type": "stream",
     "text": [
      "Best trial:\n",
      "  Value: 6.820933855138719\n",
      "  Params: \n",
      "    num_leaves: 35\n",
      "    learning_rate: 0.021687164396115184\n",
      "    feature_fraction: 0.6627304619175473\n",
      "    bagging_fraction: 0.8757329516034205\n",
      "    bagging_freq: 6\n",
      "    min_child_samples: 29\n",
      "Predicted tn for the first month: 12.929693795324265\n"
     ]
    },
    {
     "name": "stderr",
     "output_type": "stream",
     "text": [
      " 53%|█████████████████████████████████████████▌                                    | 415/780 [1:04:45<51:19,  8.44s/it]"
     ]
    },
    {
     "name": "stdout",
     "output_type": "stream",
     "text": [
      "Best trial:\n",
      "  Value: 4.558501288294792\n",
      "  Params: \n",
      "    num_leaves: 21\n",
      "    learning_rate: 0.03134193278092506\n",
      "    feature_fraction: 0.6801835591313465\n",
      "    bagging_fraction: 0.7999598050108042\n",
      "    bagging_freq: 6\n",
      "    min_child_samples: 11\n",
      "Predicted tn for the first month: 11.054920779393514\n"
     ]
    },
    {
     "name": "stderr",
     "output_type": "stream",
     "text": [
      " 53%|█████████████████████████████████████████▌                                    | 416/780 [1:04:55<53:36,  8.84s/it]"
     ]
    },
    {
     "name": "stdout",
     "output_type": "stream",
     "text": [
      "Best trial:\n",
      "  Value: 3.5471024941653013\n",
      "  Params: \n",
      "    num_leaves: 29\n",
      "    learning_rate: 0.01515091677760949\n",
      "    feature_fraction: 0.6170601890423789\n",
      "    bagging_fraction: 0.7546411908291566\n",
      "    bagging_freq: 2\n",
      "    min_child_samples: 46\n",
      "Predicted tn for the first month: 4.406673361617725\n"
     ]
    },
    {
     "name": "stderr",
     "output_type": "stream",
     "text": [
      " 53%|█████████████████████████████████████████▋                                    | 417/780 [1:05:04<55:06,  9.11s/it]"
     ]
    },
    {
     "name": "stdout",
     "output_type": "stream",
     "text": [
      "Best trial:\n",
      "  Value: 1.7947503055911511\n",
      "  Params: \n",
      "    num_leaves: 40\n",
      "    learning_rate: 0.012392936876760028\n",
      "    feature_fraction: 0.9496772896881996\n",
      "    bagging_fraction: 0.697067582837942\n",
      "    bagging_freq: 8\n",
      "    min_child_samples: 13\n",
      "Predicted tn for the first month: 4.713089170244386\n"
     ]
    },
    {
     "name": "stderr",
     "output_type": "stream",
     "text": [
      " 54%|█████████████████████████████████████████▊                                    | 418/780 [1:05:14<56:24,  9.35s/it]"
     ]
    },
    {
     "name": "stdout",
     "output_type": "stream",
     "text": [
      "Best trial:\n",
      "  Value: 2.8955493345856667\n",
      "  Params: \n",
      "    num_leaves: 23\n",
      "    learning_rate: 0.09508947914333099\n",
      "    feature_fraction: 0.7655588374594438\n",
      "    bagging_fraction: 0.7424969348012446\n",
      "    bagging_freq: 3\n",
      "    min_child_samples: 14\n",
      "Predicted tn for the first month: 8.695369168941179\n"
     ]
    },
    {
     "name": "stderr",
     "output_type": "stream",
     "text": [
      " 54%|█████████████████████████████████████████▉                                    | 419/780 [1:05:24<57:16,  9.52s/it]"
     ]
    },
    {
     "name": "stdout",
     "output_type": "stream",
     "text": [
      "Best trial:\n",
      "  Value: 2.3616687655448914\n",
      "  Params: \n",
      "    num_leaves: 38\n",
      "    learning_rate: 0.013335587589583918\n",
      "    feature_fraction: 0.8781174127381068\n",
      "    bagging_fraction: 0.7240195913683397\n",
      "    bagging_freq: 10\n",
      "    min_child_samples: 32\n",
      "Predicted tn for the first month: 2.1246449929563203\n"
     ]
    },
    {
     "name": "stderr",
     "output_type": "stream",
     "text": [
      " 54%|██████████████████████████████████████████                                    | 420/780 [1:05:34<57:14,  9.54s/it]"
     ]
    },
    {
     "name": "stdout",
     "output_type": "stream",
     "text": [
      "Best trial:\n",
      "  Value: 7.003359884023666\n",
      "  Params: \n",
      "    num_leaves: 23\n",
      "    learning_rate: 0.039430337635206106\n",
      "    feature_fraction: 0.7064153570050162\n",
      "    bagging_fraction: 0.7731058656948084\n",
      "    bagging_freq: 9\n",
      "    min_child_samples: 17\n",
      "Predicted tn for the first month: 10.926673348261515\n"
     ]
    },
    {
     "name": "stderr",
     "output_type": "stream",
     "text": [
      " 54%|██████████████████████████████████████████                                    | 421/780 [1:05:44<57:44,  9.65s/it]"
     ]
    },
    {
     "name": "stdout",
     "output_type": "stream",
     "text": [
      "Best trial:\n",
      "  Value: 3.5855278158560395\n",
      "  Params: \n",
      "    num_leaves: 23\n",
      "    learning_rate: 0.05319717129268546\n",
      "    feature_fraction: 0.9701121359505872\n",
      "    bagging_fraction: 0.7978263715277237\n",
      "    bagging_freq: 9\n",
      "    min_child_samples: 7\n",
      "Predicted tn for the first month: 10.647610826977889\n"
     ]
    },
    {
     "name": "stderr",
     "output_type": "stream",
     "text": [
      " 54%|██████████████████████████████████████████▏                                   | 422/780 [1:05:54<57:56,  9.71s/it]"
     ]
    },
    {
     "name": "stdout",
     "output_type": "stream",
     "text": [
      "Best trial:\n",
      "  Value: 2.8571800449863076\n",
      "  Params: \n",
      "    num_leaves: 29\n",
      "    learning_rate: 0.07885483538598152\n",
      "    feature_fraction: 0.646161124434422\n",
      "    bagging_fraction: 0.6396190770928425\n",
      "    bagging_freq: 7\n",
      "    min_child_samples: 18\n",
      "Predicted tn for the first month: 3.3158300101451075\n"
     ]
    },
    {
     "name": "stderr",
     "output_type": "stream",
     "text": [
      " 54%|██████████████████████████████████████████▎                                   | 423/780 [1:06:03<57:55,  9.74s/it]"
     ]
    },
    {
     "name": "stdout",
     "output_type": "stream",
     "text": [
      "Best trial:\n",
      "  Value: 3.2354356544092298\n",
      "  Params: \n",
      "    num_leaves: 31\n",
      "    learning_rate: 0.01640199815169022\n",
      "    feature_fraction: 0.8787837003825614\n",
      "    bagging_fraction: 0.8989923593953721\n",
      "    bagging_freq: 3\n",
      "    min_child_samples: 9\n",
      "Predicted tn for the first month: 0.4886117137446006\n"
     ]
    },
    {
     "name": "stderr",
     "output_type": "stream",
     "text": [
      " 54%|██████████████████████████████████████████▍                                   | 424/780 [1:06:13<57:35,  9.71s/it]"
     ]
    },
    {
     "name": "stdout",
     "output_type": "stream",
     "text": [
      "Best trial:\n",
      "  Value: 6.353411199524999\n",
      "  Params: \n",
      "    num_leaves: 33\n",
      "    learning_rate: 0.06376557929791232\n",
      "    feature_fraction: 0.627054879785488\n",
      "    bagging_fraction: 0.8915161921842439\n",
      "    bagging_freq: 4\n",
      "    min_child_samples: 17\n",
      "Predicted tn for the first month: 0.761441626098156\n"
     ]
    },
    {
     "name": "stderr",
     "output_type": "stream",
     "text": [
      " 54%|██████████████████████████████████████████▍                                   | 425/780 [1:06:23<57:28,  9.71s/it]"
     ]
    },
    {
     "name": "stdout",
     "output_type": "stream",
     "text": [
      "Best trial:\n",
      "  Value: 3.6488024843856692\n",
      "  Params: \n",
      "    num_leaves: 32\n",
      "    learning_rate: 0.01095043804937663\n",
      "    feature_fraction: 0.9186307800343947\n",
      "    bagging_fraction: 0.6294384307843973\n",
      "    bagging_freq: 7\n",
      "    min_child_samples: 11\n",
      "Predicted tn for the first month: 3.5631716958467163\n"
     ]
    },
    {
     "name": "stderr",
     "output_type": "stream",
     "text": [
      " 55%|██████████████████████████████████████████▌                                   | 426/780 [1:06:33<57:37,  9.77s/it]"
     ]
    },
    {
     "name": "stdout",
     "output_type": "stream",
     "text": [
      "Best trial:\n",
      "  Value: 4.0292784152552485\n",
      "  Params: \n",
      "    num_leaves: 35\n",
      "    learning_rate: 0.013279505639839694\n",
      "    feature_fraction: 0.6515991810865503\n",
      "    bagging_fraction: 0.6379044681740036\n",
      "    bagging_freq: 4\n",
      "    min_child_samples: 23\n",
      "Predicted tn for the first month: 5.8129358283027015\n"
     ]
    },
    {
     "name": "stderr",
     "output_type": "stream",
     "text": [
      " 55%|██████████████████████████████████████████▋                                   | 427/780 [1:06:42<57:02,  9.70s/it]"
     ]
    },
    {
     "name": "stdout",
     "output_type": "stream",
     "text": [
      "Best trial:\n",
      "  Value: 1.7882353020831943\n",
      "  Params: \n",
      "    num_leaves: 32\n",
      "    learning_rate: 0.035115299912686825\n",
      "    feature_fraction: 0.9069090437989316\n",
      "    bagging_fraction: 0.6233756542585379\n",
      "    bagging_freq: 3\n",
      "    min_child_samples: 30\n",
      "Predicted tn for the first month: 4.163250006685654\n"
     ]
    },
    {
     "name": "stderr",
     "output_type": "stream",
     "text": [
      " 55%|██████████████████████████████████████████▊                                   | 428/780 [1:06:52<56:44,  9.67s/it]"
     ]
    },
    {
     "name": "stdout",
     "output_type": "stream",
     "text": [
      "Best trial:\n",
      "  Value: 5.110165674239397\n",
      "  Params: \n",
      "    num_leaves: 30\n",
      "    learning_rate: 0.039984149549686994\n",
      "    feature_fraction: 0.622561361591669\n",
      "    bagging_fraction: 0.6496388432562513\n",
      "    bagging_freq: 2\n",
      "    min_child_samples: 32\n",
      "Predicted tn for the first month: 13.012675794823169\n"
     ]
    },
    {
     "name": "stderr",
     "output_type": "stream",
     "text": [
      " 55%|██████████████████████████████████████████▉                                   | 429/780 [1:07:01<56:26,  9.65s/it]"
     ]
    },
    {
     "name": "stdout",
     "output_type": "stream",
     "text": [
      "Best trial:\n",
      "  Value: 0.97131622210145\n",
      "  Params: \n",
      "    num_leaves: 37\n",
      "    learning_rate: 0.06251328590375871\n",
      "    feature_fraction: 0.8064444606736645\n",
      "    bagging_fraction: 0.9225093026424823\n",
      "    bagging_freq: 3\n",
      "    min_child_samples: 7\n",
      "Predicted tn for the first month: 6.552893328623374\n"
     ]
    },
    {
     "name": "stderr",
     "output_type": "stream",
     "text": [
      " 55%|███████████████████████████████████████████                                   | 430/780 [1:07:11<56:36,  9.70s/it]"
     ]
    },
    {
     "name": "stdout",
     "output_type": "stream",
     "text": [
      "Best trial:\n",
      "  Value: 4.436886295676231\n",
      "  Params: \n",
      "    num_leaves: 28\n",
      "    learning_rate: 0.01855361104575036\n",
      "    feature_fraction: 0.9156213552384372\n",
      "    bagging_fraction: 0.7065689275553477\n",
      "    bagging_freq: 8\n",
      "    min_child_samples: 49\n",
      "Predicted tn for the first month: 9.463828344170253\n"
     ]
    },
    {
     "name": "stderr",
     "output_type": "stream",
     "text": [
      " 55%|███████████████████████████████████████████                                   | 431/780 [1:07:21<56:19,  9.68s/it]"
     ]
    },
    {
     "name": "stdout",
     "output_type": "stream",
     "text": [
      "Best trial:\n",
      "  Value: 0.6968500157818198\n",
      "  Params: \n",
      "    num_leaves: 22\n",
      "    learning_rate: 0.012871813681280356\n",
      "    feature_fraction: 0.6771901953530611\n",
      "    bagging_fraction: 0.8907437049573572\n",
      "    bagging_freq: 3\n",
      "    min_child_samples: 30\n",
      "Predicted tn for the first month: 3.8640566734693444\n"
     ]
    },
    {
     "name": "stderr",
     "output_type": "stream",
     "text": [
      " 55%|███████████████████████████████████████████▏                                  | 432/780 [1:07:31<56:48,  9.80s/it]"
     ]
    },
    {
     "name": "stdout",
     "output_type": "stream",
     "text": [
      "Best trial:\n",
      "  Value: 3.2285137344151735\n",
      "  Params: \n",
      "    num_leaves: 31\n",
      "    learning_rate: 0.035429048128179104\n",
      "    feature_fraction: 0.884131941601472\n",
      "    bagging_fraction: 0.9557081856902686\n",
      "    bagging_freq: 5\n",
      "    min_child_samples: 15\n",
      "Predicted tn for the first month: 4.615075038174789\n",
      "Using single month validation due to insufficient data for multiple splits.\n"
     ]
    },
    {
     "name": "stderr",
     "output_type": "stream",
     "text": [
      " 56%|███████████████████████████████████████████▎                                  | 433/780 [1:07:35<47:08,  8.15s/it]"
     ]
    },
    {
     "name": "stdout",
     "output_type": "stream",
     "text": [
      "Best trial:\n",
      "  Value: 9.109184154442378\n",
      "  Params: \n",
      "    num_leaves: 37\n",
      "    learning_rate: 0.011895517375938962\n",
      "    feature_fraction: 0.776034496449806\n",
      "    bagging_fraction: 0.896098619549561\n",
      "    bagging_freq: 3\n",
      "    min_child_samples: 17\n",
      "Predicted tn for the first month: 15.43364426491601\n"
     ]
    },
    {
     "name": "stderr",
     "output_type": "stream",
     "text": [
      " 56%|███████████████████████████████████████████▍                                  | 434/780 [1:07:45<49:27,  8.58s/it]"
     ]
    },
    {
     "name": "stdout",
     "output_type": "stream",
     "text": [
      "Best trial:\n",
      "  Value: 2.119162507355213\n",
      "  Params: \n",
      "    num_leaves: 20\n",
      "    learning_rate: 0.01610943009364392\n",
      "    feature_fraction: 0.8111841401363737\n",
      "    bagging_fraction: 0.7846498398196687\n",
      "    bagging_freq: 5\n",
      "    min_child_samples: 10\n",
      "Predicted tn for the first month: 9.222277518205642\n",
      "Using single month validation due to insufficient data for multiple splits.\n"
     ]
    },
    {
     "name": "stderr",
     "output_type": "stream",
     "text": [
      " 56%|███████████████████████████████████████████▌                                  | 435/780 [1:07:49<41:46,  7.27s/it]"
     ]
    },
    {
     "name": "stdout",
     "output_type": "stream",
     "text": [
      "Best trial:\n",
      "  Value: 9.005738760743823\n",
      "  Params: \n",
      "    num_leaves: 35\n",
      "    learning_rate: 0.02362545821244572\n",
      "    feature_fraction: 0.8797065962909151\n",
      "    bagging_fraction: 0.6708795471857633\n",
      "    bagging_freq: 7\n",
      "    min_child_samples: 22\n",
      "Predicted tn for the first month: 17.305208634553637\n"
     ]
    },
    {
     "name": "stderr",
     "output_type": "stream",
     "text": [
      " 56%|███████████████████████████████████████████▌                                  | 436/780 [1:07:59<45:42,  7.97s/it]"
     ]
    },
    {
     "name": "stdout",
     "output_type": "stream",
     "text": [
      "Best trial:\n",
      "  Value: 1.6987800002098083\n",
      "  Params: \n",
      "    num_leaves: 27\n",
      "    learning_rate: 0.047405175784299175\n",
      "    feature_fraction: 0.6927967185266005\n",
      "    bagging_fraction: 0.7778245959072021\n",
      "    bagging_freq: 9\n",
      "    min_child_samples: 36\n",
      "Predicted tn for the first month: 4.521255841676841\n"
     ]
    },
    {
     "name": "stderr",
     "output_type": "stream",
     "text": [
      " 56%|███████████████████████████████████████████▋                                  | 437/780 [1:08:08<48:30,  8.48s/it]"
     ]
    },
    {
     "name": "stdout",
     "output_type": "stream",
     "text": [
      "Best trial:\n",
      "  Value: 3.1676618941128254\n",
      "  Params: \n",
      "    num_leaves: 34\n",
      "    learning_rate: 0.06419222675930271\n",
      "    feature_fraction: 0.7819966437714676\n",
      "    bagging_fraction: 0.8181213882797365\n",
      "    bagging_freq: 2\n",
      "    min_child_samples: 9\n",
      "Predicted tn for the first month: 3.5549674796501796\n"
     ]
    },
    {
     "name": "stderr",
     "output_type": "stream",
     "text": [
      " 56%|███████████████████████████████████████████▊                                  | 438/780 [1:08:18<50:13,  8.81s/it]"
     ]
    },
    {
     "name": "stdout",
     "output_type": "stream",
     "text": [
      "Best trial:\n",
      "  Value: 2.966742110904306\n",
      "  Params: \n",
      "    num_leaves: 29\n",
      "    learning_rate: 0.07012055256718092\n",
      "    feature_fraction: 0.6442219035554307\n",
      "    bagging_fraction: 0.9129857732344424\n",
      "    bagging_freq: 3\n",
      "    min_child_samples: 32\n",
      "Predicted tn for the first month: 20.963897488761347\n"
     ]
    },
    {
     "name": "stderr",
     "output_type": "stream",
     "text": [
      " 56%|███████████████████████████████████████████▉                                  | 439/780 [1:08:28<51:37,  9.08s/it]"
     ]
    },
    {
     "name": "stdout",
     "output_type": "stream",
     "text": [
      "Best trial:\n",
      "  Value: 0.8729487489908934\n",
      "  Params: \n",
      "    num_leaves: 39\n",
      "    learning_rate: 0.040042782234942724\n",
      "    feature_fraction: 0.8410698350861221\n",
      "    bagging_fraction: 0.639466932107862\n",
      "    bagging_freq: 8\n",
      "    min_child_samples: 13\n",
      "Predicted tn for the first month: 3.899912492717107\n"
     ]
    },
    {
     "name": "stderr",
     "output_type": "stream",
     "text": [
      " 56%|████████████████████████████████████████████                                  | 440/780 [1:08:37<52:41,  9.30s/it]"
     ]
    },
    {
     "name": "stdout",
     "output_type": "stream",
     "text": [
      "Best trial:\n",
      "  Value: 2.4812418525107205\n",
      "  Params: \n",
      "    num_leaves: 30\n",
      "    learning_rate: 0.07920793578475227\n",
      "    feature_fraction: 0.8578984785417247\n",
      "    bagging_fraction: 0.8263109892285229\n",
      "    bagging_freq: 5\n",
      "    min_child_samples: 20\n",
      "Predicted tn for the first month: 6.4084508520909145\n"
     ]
    },
    {
     "name": "stderr",
     "output_type": "stream",
     "text": [
      " 57%|████████████████████████████████████████████                                  | 441/780 [1:08:47<53:08,  9.40s/it]"
     ]
    },
    {
     "name": "stdout",
     "output_type": "stream",
     "text": [
      "Best trial:\n",
      "  Value: 3.3125425605103374\n",
      "  Params: \n",
      "    num_leaves: 22\n",
      "    learning_rate: 0.04427739120523002\n",
      "    feature_fraction: 0.6340793313568389\n",
      "    bagging_fraction: 0.6219328156358763\n",
      "    bagging_freq: 7\n",
      "    min_child_samples: 41\n",
      "Predicted tn for the first month: 0.6756800502516827\n"
     ]
    },
    {
     "name": "stderr",
     "output_type": "stream",
     "text": [
      " 57%|████████████████████████████████████████████▏                                 | 442/780 [1:08:57<53:17,  9.46s/it]"
     ]
    },
    {
     "name": "stdout",
     "output_type": "stream",
     "text": [
      "Best trial:\n",
      "  Value: 2.4907837891951203\n",
      "  Params: \n",
      "    num_leaves: 38\n",
      "    learning_rate: 0.030180174359655695\n",
      "    feature_fraction: 0.9665029383234853\n",
      "    bagging_fraction: 0.7612651177725528\n",
      "    bagging_freq: 2\n",
      "    min_child_samples: 38\n",
      "Predicted tn for the first month: 0.6260799798146883\n"
     ]
    },
    {
     "name": "stderr",
     "output_type": "stream",
     "text": [
      " 57%|████████████████████████████████████████████▎                                 | 443/780 [1:09:06<53:32,  9.53s/it]"
     ]
    },
    {
     "name": "stdout",
     "output_type": "stream",
     "text": [
      "Best trial:\n",
      "  Value: 1.8690412491559982\n",
      "  Params: \n",
      "    num_leaves: 36\n",
      "    learning_rate: 0.023238397855103697\n",
      "    feature_fraction: 0.6288419490752829\n",
      "    bagging_fraction: 0.9186872658859364\n",
      "    bagging_freq: 7\n",
      "    min_child_samples: 41\n",
      "Predicted tn for the first month: 6.18072998591423\n",
      "Using single month validation due to insufficient data for multiple splits.\n"
     ]
    },
    {
     "name": "stderr",
     "output_type": "stream",
     "text": [
      " 57%|████████████████████████████████████████████▍                                 | 444/780 [1:09:11<44:28,  7.94s/it]"
     ]
    },
    {
     "name": "stdout",
     "output_type": "stream",
     "text": [
      "Best trial:\n",
      "  Value: 2.754389834403992\n",
      "  Params: \n",
      "    num_leaves: 22\n",
      "    learning_rate: 0.013077320649844076\n",
      "    feature_fraction: 0.9826337086354323\n",
      "    bagging_fraction: 0.6099033963009484\n",
      "    bagging_freq: 3\n",
      "    min_child_samples: 15\n",
      "Predicted tn for the first month: 8.68074996257782\n",
      "Using single month validation due to insufficient data for multiple splits.\n"
     ]
    },
    {
     "name": "stderr",
     "output_type": "stream",
     "text": [
      " 57%|████████████████████████████████████████████▌                                 | 445/780 [1:09:15<38:07,  6.83s/it]"
     ]
    },
    {
     "name": "stdout",
     "output_type": "stream",
     "text": [
      "Best trial:\n",
      "  Value: 1.3219657795769828\n",
      "  Params: \n",
      "    num_leaves: 31\n",
      "    learning_rate: 0.037833926449909974\n",
      "    feature_fraction: 0.7394690136933592\n",
      "    bagging_fraction: 0.856391527543564\n",
      "    bagging_freq: 10\n",
      "    min_child_samples: 31\n",
      "Predicted tn for the first month: 11.543864217256818\n"
     ]
    },
    {
     "name": "stderr",
     "output_type": "stream",
     "text": [
      " 57%|████████████████████████████████████████████▌                                 | 446/780 [1:09:24<42:29,  7.63s/it]"
     ]
    },
    {
     "name": "stdout",
     "output_type": "stream",
     "text": [
      "Best trial:\n",
      "  Value: 3.111553430557251\n",
      "  Params: \n",
      "    num_leaves: 40\n",
      "    learning_rate: 0.06807131431622282\n",
      "    feature_fraction: 0.9793539852251921\n",
      "    bagging_fraction: 0.8327405211456252\n",
      "    bagging_freq: 6\n",
      "    min_child_samples: 37\n",
      "Predicted tn for the first month: 3.1606933611949284\n"
     ]
    },
    {
     "name": "stderr",
     "output_type": "stream",
     "text": [
      " 57%|████████████████████████████████████████████▋                                 | 447/780 [1:09:34<45:46,  8.25s/it]"
     ]
    },
    {
     "name": "stdout",
     "output_type": "stream",
     "text": [
      "Best trial:\n",
      "  Value: 2.8609843421145342\n",
      "  Params: \n",
      "    num_leaves: 28\n",
      "    learning_rate: 0.07505124714296824\n",
      "    feature_fraction: 0.9935111383604814\n",
      "    bagging_fraction: 0.9661830268549233\n",
      "    bagging_freq: 4\n",
      "    min_child_samples: 30\n",
      "Predicted tn for the first month: 0.26051330612532797\n"
     ]
    },
    {
     "name": "stderr",
     "output_type": "stream",
     "text": [
      " 57%|████████████████████████████████████████████▊                                 | 448/780 [1:09:44<47:53,  8.65s/it]"
     ]
    },
    {
     "name": "stdout",
     "output_type": "stream",
     "text": [
      "Best trial:\n",
      "  Value: 1.8123912438750267\n",
      "  Params: \n",
      "    num_leaves: 38\n",
      "    learning_rate: 0.012682360814508353\n",
      "    feature_fraction: 0.9833294653628676\n",
      "    bagging_fraction: 0.7519295161175772\n",
      "    bagging_freq: 4\n",
      "    min_child_samples: 14\n",
      "Predicted tn for the first month: 3.448844173850119\n"
     ]
    },
    {
     "name": "stderr",
     "output_type": "stream",
     "text": [
      " 58%|████████████████████████████████████████████▉                                 | 449/780 [1:09:53<49:26,  8.96s/it]"
     ]
    },
    {
     "name": "stdout",
     "output_type": "stream",
     "text": [
      "Best trial:\n",
      "  Value: 0.8879434340633452\n",
      "  Params: \n",
      "    num_leaves: 39\n",
      "    learning_rate: 0.04157894289201925\n",
      "    feature_fraction: 0.630301754450031\n",
      "    bagging_fraction: 0.8098605960300839\n",
      "    bagging_freq: 7\n",
      "    min_child_samples: 48\n",
      "Predicted tn for the first month: 5.927579164141615\n"
     ]
    },
    {
     "name": "stderr",
     "output_type": "stream",
     "text": [
      " 58%|████████████████████████████████████████████▉                                 | 450/780 [1:10:03<50:26,  9.17s/it]"
     ]
    },
    {
     "name": "stdout",
     "output_type": "stream",
     "text": [
      "Best trial:\n",
      "  Value: 3.7634887993335724\n",
      "  Params: \n",
      "    num_leaves: 31\n",
      "    learning_rate: 0.03594210845990891\n",
      "    feature_fraction: 0.7054625816158202\n",
      "    bagging_fraction: 0.6648721064230869\n",
      "    bagging_freq: 6\n",
      "    min_child_samples: 42\n",
      "Predicted tn for the first month: 0.8691475406567255\n"
     ]
    },
    {
     "name": "stderr",
     "output_type": "stream",
     "text": [
      " 58%|█████████████████████████████████████████████                                 | 451/780 [1:10:13<51:02,  9.31s/it]"
     ]
    },
    {
     "name": "stdout",
     "output_type": "stream",
     "text": [
      "Best trial:\n",
      "  Value: 0.7153475098311901\n",
      "  Params: \n",
      "    num_leaves: 24\n",
      "    learning_rate: 0.031213176030120273\n",
      "    feature_fraction: 0.6391341544665513\n",
      "    bagging_fraction: 0.8883720817812746\n",
      "    bagging_freq: 3\n",
      "    min_child_samples: 27\n",
      "Predicted tn for the first month: 3.3669849943228565\n",
      "Using single month validation due to insufficient data for multiple splits.\n"
     ]
    },
    {
     "name": "stderr",
     "output_type": "stream",
     "text": [
      " 58%|█████████████████████████████████████████████▏                                | 452/780 [1:10:17<42:34,  7.79s/it]"
     ]
    },
    {
     "name": "stdout",
     "output_type": "stream",
     "text": [
      "Best trial:\n",
      "  Value: 10.408189518111092\n",
      "  Params: \n",
      "    num_leaves: 22\n",
      "    learning_rate: 0.054891890762689015\n",
      "    feature_fraction: 0.8473094005445159\n",
      "    bagging_fraction: 0.8615305014576451\n",
      "    bagging_freq: 3\n",
      "    min_child_samples: 27\n",
      "Predicted tn for the first month: 12.040969991743905\n"
     ]
    },
    {
     "name": "stderr",
     "output_type": "stream",
     "text": [
      " 58%|█████████████████████████████████████████████▎                                | 453/780 [1:10:26<45:20,  8.32s/it]"
     ]
    },
    {
     "name": "stdout",
     "output_type": "stream",
     "text": [
      "Best trial:\n",
      "  Value: 2.534415028989315\n",
      "  Params: \n",
      "    num_leaves: 30\n",
      "    learning_rate: 0.0945537686880908\n",
      "    feature_fraction: 0.8813766477068519\n",
      "    bagging_fraction: 0.8419076388471922\n",
      "    bagging_freq: 2\n",
      "    min_child_samples: 11\n",
      "Predicted tn for the first month: 7.268580844861666\n"
     ]
    },
    {
     "name": "stderr",
     "output_type": "stream",
     "text": [
      " 58%|█████████████████████████████████████████████▍                                | 454/780 [1:10:37<48:27,  8.92s/it]"
     ]
    },
    {
     "name": "stdout",
     "output_type": "stream",
     "text": [
      "Best trial:\n",
      "  Value: 0.5541475005447865\n",
      "  Params: \n",
      "    num_leaves: 40\n",
      "    learning_rate: 0.024271255235932817\n",
      "    feature_fraction: 0.7077303660104738\n",
      "    bagging_fraction: 0.9540163581977227\n",
      "    bagging_freq: 8\n",
      "    min_child_samples: 39\n",
      "Predicted tn for the first month: 5.056368333464749\n"
     ]
    },
    {
     "name": "stderr",
     "output_type": "stream",
     "text": [
      " 58%|█████████████████████████████████████████████▌                                | 455/780 [1:10:46<49:35,  9.16s/it]"
     ]
    },
    {
     "name": "stdout",
     "output_type": "stream",
     "text": [
      "Best trial:\n",
      "  Value: 1.86557999253273\n",
      "  Params: \n",
      "    num_leaves: 27\n",
      "    learning_rate: 0.06176352555402926\n",
      "    feature_fraction: 0.9530853667666287\n",
      "    bagging_fraction: 0.7047387915717834\n",
      "    bagging_freq: 10\n",
      "    min_child_samples: 50\n",
      "Predicted tn for the first month: 5.843139968435366\n"
     ]
    },
    {
     "name": "stderr",
     "output_type": "stream",
     "text": [
      " 58%|█████████████████████████████████████████████▌                                | 456/780 [1:10:56<50:32,  9.36s/it]"
     ]
    },
    {
     "name": "stdout",
     "output_type": "stream",
     "text": [
      "Best trial:\n",
      "  Value: 2.3505059480667114\n",
      "  Params: \n",
      "    num_leaves: 30\n",
      "    learning_rate: 0.01677531621581623\n",
      "    feature_fraction: 0.7340779477397807\n",
      "    bagging_fraction: 0.7186279356622159\n",
      "    bagging_freq: 3\n",
      "    min_child_samples: 45\n",
      "Predicted tn for the first month: 2.506749159488678\n"
     ]
    },
    {
     "name": "stderr",
     "output_type": "stream",
     "text": [
      " 59%|█████████████████████████████████████████████▋                                | 457/780 [1:11:06<51:01,  9.48s/it]"
     ]
    },
    {
     "name": "stdout",
     "output_type": "stream",
     "text": [
      "Best trial:\n",
      "  Value: 2.056787509471178\n",
      "  Params: \n",
      "    num_leaves: 27\n",
      "    learning_rate: 0.08334760426534284\n",
      "    feature_fraction: 0.764861624696856\n",
      "    bagging_fraction: 0.8635761629210439\n",
      "    bagging_freq: 9\n",
      "    min_child_samples: 46\n",
      "Predicted tn for the first month: 13.768325008327166\n"
     ]
    },
    {
     "name": "stderr",
     "output_type": "stream",
     "text": [
      " 59%|█████████████████████████████████████████████▊                                | 458/780 [1:11:16<51:18,  9.56s/it]"
     ]
    },
    {
     "name": "stdout",
     "output_type": "stream",
     "text": [
      "Best trial:\n",
      "  Value: 3.0756568731740117\n",
      "  Params: \n",
      "    num_leaves: 25\n",
      "    learning_rate: 0.055183639998354496\n",
      "    feature_fraction: 0.9259300842011793\n",
      "    bagging_fraction: 0.6780924598181569\n",
      "    bagging_freq: 9\n",
      "    min_child_samples: 9\n",
      "Predicted tn for the first month: 8.534226659096678\n"
     ]
    },
    {
     "name": "stderr",
     "output_type": "stream",
     "text": [
      " 59%|█████████████████████████████████████████████▉                                | 459/780 [1:11:25<51:04,  9.55s/it]"
     ]
    },
    {
     "name": "stdout",
     "output_type": "stream",
     "text": [
      "Best trial:\n",
      "  Value: 1.2280262457206845\n",
      "  Params: \n",
      "    num_leaves: 21\n",
      "    learning_rate: 0.03017668734900175\n",
      "    feature_fraction: 0.6827018269810635\n",
      "    bagging_fraction: 0.8834819397804863\n",
      "    bagging_freq: 9\n",
      "    min_child_samples: 7\n",
      "Predicted tn for the first month: 2.225759182822108\n",
      "Using single month validation due to insufficient data for multiple splits.\n"
     ]
    },
    {
     "name": "stderr",
     "output_type": "stream",
     "text": [
      " 59%|██████████████████████████████████████████████                                | 460/780 [1:11:29<42:18,  7.93s/it]"
     ]
    },
    {
     "name": "stdout",
     "output_type": "stream",
     "text": [
      "Best trial:\n",
      "  Value: 4.321365028619766\n",
      "  Params: \n",
      "    num_leaves: 24\n",
      "    learning_rate: 0.06415510431251902\n",
      "    feature_fraction: 0.9554256317431261\n",
      "    bagging_fraction: 0.7496611186522543\n",
      "    bagging_freq: 7\n",
      "    min_child_samples: 32\n",
      "Predicted tn for the first month: 14.416335005350113\n"
     ]
    },
    {
     "name": "stderr",
     "output_type": "stream",
     "text": [
      " 59%|██████████████████████████████████████████████                                | 461/780 [1:11:39<44:53,  8.44s/it]"
     ]
    },
    {
     "name": "stdout",
     "output_type": "stream",
     "text": [
      "Best trial:\n",
      "  Value: 1.0040868911892176\n",
      "  Params: \n",
      "    num_leaves: 40\n",
      "    learning_rate: 0.0847895498238189\n",
      "    feature_fraction: 0.6548538230688724\n",
      "    bagging_fraction: 0.7488411160394479\n",
      "    bagging_freq: 1\n",
      "    min_child_samples: 25\n",
      "Predicted tn for the first month: 3.483820010369221\n",
      "Using single month validation due to insufficient data for multiple splits.\n"
     ]
    },
    {
     "name": "stderr",
     "output_type": "stream",
     "text": [
      " 59%|██████████████████████████████████████████████▏                               | 462/780 [1:11:43<37:59,  7.17s/it]"
     ]
    },
    {
     "name": "stdout",
     "output_type": "stream",
     "text": [
      "Best trial:\n",
      "  Value: 5.117342473939061\n",
      "  Params: \n",
      "    num_leaves: 38\n",
      "    learning_rate: 0.017007579257339773\n",
      "    feature_fraction: 0.7849190956895125\n",
      "    bagging_fraction: 0.7991694320646548\n",
      "    bagging_freq: 1\n",
      "    min_child_samples: 31\n",
      "Predicted tn for the first month: 5.127967519080043\n",
      "Using single month validation due to insufficient data for multiple splits.\n"
     ]
    },
    {
     "name": "stderr",
     "output_type": "stream",
     "text": [
      " 59%|██████████████████████████████████████████████▎                               | 463/780 [1:11:47<33:07,  6.27s/it]"
     ]
    },
    {
     "name": "stdout",
     "output_type": "stream",
     "text": [
      "Best trial:\n",
      "  Value: 3.342792436480522\n",
      "  Params: \n",
      "    num_leaves: 34\n",
      "    learning_rate: 0.02188816951991399\n",
      "    feature_fraction: 0.7008979197068743\n",
      "    bagging_fraction: 0.8742259998647213\n",
      "    bagging_freq: 6\n",
      "    min_child_samples: 33\n",
      "Predicted tn for the first month: 18.017602409243587\n"
     ]
    },
    {
     "name": "stderr",
     "output_type": "stream",
     "text": [
      " 59%|██████████████████████████████████████████████▍                               | 464/780 [1:11:57<38:32,  7.32s/it]"
     ]
    },
    {
     "name": "stdout",
     "output_type": "stream",
     "text": [
      "Best trial:\n",
      "  Value: 1.3879037350416183\n",
      "  Params: \n",
      "    num_leaves: 35\n",
      "    learning_rate: 0.03262931392970323\n",
      "    feature_fraction: 0.6244751683977111\n",
      "    bagging_fraction: 0.9743692116486158\n",
      "    bagging_freq: 6\n",
      "    min_child_samples: 30\n",
      "Predicted tn for the first month: 4.718454164306323\n",
      "Using single month validation due to insufficient data for multiple splits.\n"
     ]
    },
    {
     "name": "stderr",
     "output_type": "stream",
     "text": [
      " 60%|██████████████████████████████████████████████▌                               | 465/780 [1:12:01<33:39,  6.41s/it]"
     ]
    },
    {
     "name": "stdout",
     "output_type": "stream",
     "text": [
      "Best trial:\n",
      "  Value: 4.614525079727173\n",
      "  Params: \n",
      "    num_leaves: 40\n",
      "    learning_rate: 0.04494179640102984\n",
      "    feature_fraction: 0.9256009178174858\n",
      "    bagging_fraction: 0.9553051971892813\n",
      "    bagging_freq: 4\n",
      "    min_child_samples: 22\n",
      "Predicted tn for the first month: 13.328784987716675\n"
     ]
    },
    {
     "name": "stderr",
     "output_type": "stream",
     "text": [
      " 60%|██████████████████████████████████████████████▌                               | 466/780 [1:12:11<38:43,  7.40s/it]"
     ]
    },
    {
     "name": "stdout",
     "output_type": "stream",
     "text": [
      "Best trial:\n",
      "  Value: 0.8400893956422806\n",
      "  Params: \n",
      "    num_leaves: 35\n",
      "    learning_rate: 0.015854875838701262\n",
      "    feature_fraction: 0.9018023361872036\n",
      "    bagging_fraction: 0.8797057359108902\n",
      "    bagging_freq: 1\n",
      "    min_child_samples: 17\n",
      "Predicted tn for the first month: 5.400231657052834\n"
     ]
    },
    {
     "name": "stderr",
     "output_type": "stream",
     "text": [
      " 60%|██████████████████████████████████████████████▋                               | 467/780 [1:12:21<42:07,  8.08s/it]"
     ]
    },
    {
     "name": "stdout",
     "output_type": "stream",
     "text": [
      "Best trial:\n",
      "  Value: 3.364998087286949\n",
      "  Params: \n",
      "    num_leaves: 26\n",
      "    learning_rate: 0.02191742394392079\n",
      "    feature_fraction: 0.9307999969452663\n",
      "    bagging_fraction: 0.7628587559609464\n",
      "    bagging_freq: 6\n",
      "    min_child_samples: 7\n",
      "Predicted tn for the first month: 7.268349208543301\n"
     ]
    },
    {
     "name": "stderr",
     "output_type": "stream",
     "text": [
      " 60%|██████████████████████████████████████████████▊                               | 468/780 [1:12:30<44:12,  8.50s/it]"
     ]
    },
    {
     "name": "stdout",
     "output_type": "stream",
     "text": [
      "Best trial:\n",
      "  Value: 0.6962431194260716\n",
      "  Params: \n",
      "    num_leaves: 20\n",
      "    learning_rate: 0.010062176377904469\n",
      "    feature_fraction: 0.6950154910627031\n",
      "    bagging_fraction: 0.8155031925862727\n",
      "    bagging_freq: 2\n",
      "    min_child_samples: 48\n",
      "Predicted tn for the first month: 5.531143335864345\n"
     ]
    },
    {
     "name": "stderr",
     "output_type": "stream",
     "text": [
      " 60%|██████████████████████████████████████████████▉                               | 469/780 [1:12:40<45:38,  8.80s/it]"
     ]
    },
    {
     "name": "stdout",
     "output_type": "stream",
     "text": [
      "Best trial:\n",
      "  Value: 0.587975638336502\n",
      "  Params: \n",
      "    num_leaves: 31\n",
      "    learning_rate: 0.02542887245766292\n",
      "    feature_fraction: 0.8884859576432498\n",
      "    bagging_fraction: 0.8592668263125685\n",
      "    bagging_freq: 5\n",
      "    min_child_samples: 19\n",
      "Predicted tn for the first month: 2.940001663566778\n"
     ]
    },
    {
     "name": "stderr",
     "output_type": "stream",
     "text": [
      " 60%|███████████████████████████████████████████████                               | 470/780 [1:12:50<46:49,  9.06s/it]"
     ]
    },
    {
     "name": "stdout",
     "output_type": "stream",
     "text": [
      "Best trial:\n",
      "  Value: 0.6761293765157461\n",
      "  Params: \n",
      "    num_leaves: 26\n",
      "    learning_rate: 0.026846301718465013\n",
      "    feature_fraction: 0.86344962650143\n",
      "    bagging_fraction: 0.7082067295990185\n",
      "    bagging_freq: 8\n",
      "    min_child_samples: 14\n",
      "Predicted tn for the first month: 3.5523016709812483\n",
      "Using single month validation due to insufficient data for multiple splits.\n"
     ]
    },
    {
     "name": "stderr",
     "output_type": "stream",
     "text": [
      " 60%|███████████████████████████████████████████████                               | 471/780 [1:12:54<39:16,  7.63s/it]"
     ]
    },
    {
     "name": "stdout",
     "output_type": "stream",
     "text": [
      "Best trial:\n",
      "  Value: 6.614538499287196\n",
      "  Params: \n",
      "    num_leaves: 22\n",
      "    learning_rate: 0.0295022990119075\n",
      "    feature_fraction: 0.866641912230155\n",
      "    bagging_fraction: 0.8015299565044257\n",
      "    bagging_freq: 10\n",
      "    min_child_samples: 9\n",
      "Predicted tn for the first month: 13.114368591755458\n"
     ]
    },
    {
     "name": "stderr",
     "output_type": "stream",
     "text": [
      " 61%|███████████████████████████████████████████████▏                              | 472/780 [1:13:03<41:59,  8.18s/it]"
     ]
    },
    {
     "name": "stdout",
     "output_type": "stream",
     "text": [
      "Best trial:\n",
      "  Value: 3.418875932635274\n",
      "  Params: \n",
      "    num_leaves: 27\n",
      "    learning_rate: 0.03582871469468364\n",
      "    feature_fraction: 0.7398178218612121\n",
      "    bagging_fraction: 0.9727907366533605\n",
      "    bagging_freq: 4\n",
      "    min_child_samples: 50\n",
      "Predicted tn for the first month: 0.2725033108040318\n"
     ]
    },
    {
     "name": "stderr",
     "output_type": "stream",
     "text": [
      " 61%|███████████████████████████████████████████████▎                              | 473/780 [1:13:13<44:03,  8.61s/it]"
     ]
    },
    {
     "name": "stdout",
     "output_type": "stream",
     "text": [
      "Best trial:\n",
      "  Value: 1.6935049816966057\n",
      "  Params: \n",
      "    num_leaves: 32\n",
      "    learning_rate: 0.058117078296628585\n",
      "    feature_fraction: 0.9031961273203715\n",
      "    bagging_fraction: 0.9821645766433471\n",
      "    bagging_freq: 9\n",
      "    min_child_samples: 30\n",
      "Predicted tn for the first month: 5.10085333568573\n"
     ]
    },
    {
     "name": "stderr",
     "output_type": "stream",
     "text": [
      " 61%|███████████████████████████████████████████████▍                              | 474/780 [1:13:22<45:23,  8.90s/it]"
     ]
    },
    {
     "name": "stdout",
     "output_type": "stream",
     "text": [
      "Best trial:\n",
      "  Value: 1.869354985654354\n",
      "  Params: \n",
      "    num_leaves: 23\n",
      "    learning_rate: 0.03771605710554028\n",
      "    feature_fraction: 0.7203768893921983\n",
      "    bagging_fraction: 0.6784250813289718\n",
      "    bagging_freq: 5\n",
      "    min_child_samples: 19\n",
      "Predicted tn for the first month: 6.879252509362896\n"
     ]
    },
    {
     "name": "stderr",
     "output_type": "stream",
     "text": [
      " 61%|███████████████████████████████████████████████▍                              | 475/780 [1:13:32<46:28,  9.14s/it]"
     ]
    },
    {
     "name": "stdout",
     "output_type": "stream",
     "text": [
      "Best trial:\n",
      "  Value: 0.9309165467275307\n",
      "  Params: \n",
      "    num_leaves: 29\n",
      "    learning_rate: 0.013949490481602647\n",
      "    feature_fraction: 0.6163111770235753\n",
      "    bagging_fraction: 0.6983086990922921\n",
      "    bagging_freq: 10\n",
      "    min_child_samples: 33\n",
      "Predicted tn for the first month: 4.249581672319074\n"
     ]
    },
    {
     "name": "stderr",
     "output_type": "stream",
     "text": [
      " 61%|███████████████████████████████████████████████▌                              | 476/780 [1:13:42<46:54,  9.26s/it]"
     ]
    },
    {
     "name": "stdout",
     "output_type": "stream",
     "text": [
      "Best trial:\n",
      "  Value: 0.5852818683488294\n",
      "  Params: \n",
      "    num_leaves: 22\n",
      "    learning_rate: 0.02317164350864425\n",
      "    feature_fraction: 0.7791462022236126\n",
      "    bagging_fraction: 0.6994298842895262\n",
      "    bagging_freq: 1\n",
      "    min_child_samples: 11\n",
      "Predicted tn for the first month: 3.8426475061540057\n"
     ]
    },
    {
     "name": "stderr",
     "output_type": "stream",
     "text": [
      " 61%|███████████████████████████████████████████████▋                              | 477/780 [1:13:51<47:13,  9.35s/it]"
     ]
    },
    {
     "name": "stdout",
     "output_type": "stream",
     "text": [
      "Best trial:\n",
      "  Value: 3.9488853067159653\n",
      "  Params: \n",
      "    num_leaves: 33\n",
      "    learning_rate: 0.07818391768417256\n",
      "    feature_fraction: 0.6243519924236648\n",
      "    bagging_fraction: 0.9995781090526168\n",
      "    bagging_freq: 8\n",
      "    min_child_samples: 8\n",
      "Predicted tn for the first month: 1.9856350328763324\n"
     ]
    },
    {
     "name": "stderr",
     "output_type": "stream",
     "text": [
      " 61%|███████████████████████████████████████████████▊                              | 478/780 [1:14:01<47:41,  9.48s/it]"
     ]
    },
    {
     "name": "stdout",
     "output_type": "stream",
     "text": [
      "Best trial:\n",
      "  Value: 1.37027247576043\n",
      "  Params: \n",
      "    num_leaves: 39\n",
      "    learning_rate: 0.03812432327291646\n",
      "    feature_fraction: 0.7772473703534808\n",
      "    bagging_fraction: 0.9464689424925021\n",
      "    bagging_freq: 8\n",
      "    min_child_samples: 23\n",
      "Predicted tn for the first month: 3.5335958259955795\n"
     ]
    },
    {
     "name": "stderr",
     "output_type": "stream",
     "text": [
      " 61%|███████████████████████████████████████████████▉                              | 479/780 [1:14:11<47:43,  9.51s/it]"
     ]
    },
    {
     "name": "stdout",
     "output_type": "stream",
     "text": [
      "Best trial:\n",
      "  Value: 1.4834137433208525\n",
      "  Params: \n",
      "    num_leaves: 32\n",
      "    learning_rate: 0.012021736098661433\n",
      "    feature_fraction: 0.6226590675506736\n",
      "    bagging_fraction: 0.7015962146261996\n",
      "    bagging_freq: 5\n",
      "    min_child_samples: 40\n",
      "Predicted tn for the first month: 2.0290724849554898\n"
     ]
    },
    {
     "name": "stderr",
     "output_type": "stream",
     "text": [
      " 62%|████████████████████████████████████████████████                              | 480/780 [1:14:20<47:36,  9.52s/it]"
     ]
    },
    {
     "name": "stdout",
     "output_type": "stream",
     "text": [
      "Best trial:\n",
      "  Value: 0.9635312643367797\n",
      "  Params: \n",
      "    num_leaves: 27\n",
      "    learning_rate: 0.02316964217391644\n",
      "    feature_fraction: 0.8078586329854281\n",
      "    bagging_fraction: 0.8045607775187966\n",
      "    bagging_freq: 7\n",
      "    min_child_samples: 41\n",
      "Predicted tn for the first month: 7.007147480526567\n"
     ]
    },
    {
     "name": "stderr",
     "output_type": "stream",
     "text": [
      " 62%|████████████████████████████████████████████████                              | 481/780 [1:14:30<47:27,  9.52s/it]"
     ]
    },
    {
     "name": "stdout",
     "output_type": "stream",
     "text": [
      "Best trial:\n",
      "  Value: 2.1946280864067376\n",
      "  Params: \n",
      "    num_leaves: 32\n",
      "    learning_rate: 0.033073100793630635\n",
      "    feature_fraction: 0.6906781011808589\n",
      "    bagging_fraction: 0.996275060636141\n",
      "    bagging_freq: 2\n",
      "    min_child_samples: 9\n",
      "Predicted tn for the first month: 0.6853858532019457\n",
      "Using single month validation due to insufficient data for multiple splits.\n"
     ]
    },
    {
     "name": "stderr",
     "output_type": "stream",
     "text": [
      " 62%|████████████████████████████████████████████████▏                             | 482/780 [1:14:34<39:22,  7.93s/it]"
     ]
    },
    {
     "name": "stdout",
     "output_type": "stream",
     "text": [
      "Best trial:\n",
      "  Value: 8.724114227294923\n",
      "  Params: \n",
      "    num_leaves: 34\n",
      "    learning_rate: 0.025207248066113762\n",
      "    feature_fraction: 0.9113210982413199\n",
      "    bagging_fraction: 0.7017888658382567\n",
      "    bagging_freq: 3\n",
      "    min_child_samples: 50\n",
      "Predicted tn for the first month: 2.98561572807312\n"
     ]
    },
    {
     "name": "stderr",
     "output_type": "stream",
     "text": [
      " 62%|████████████████████████████████████████████████▎                             | 483/780 [1:14:43<41:42,  8.42s/it]"
     ]
    },
    {
     "name": "stdout",
     "output_type": "stream",
     "text": [
      "Best trial:\n",
      "  Value: 1.1974459239281714\n",
      "  Params: \n",
      "    num_leaves: 24\n",
      "    learning_rate: 0.019450162987953674\n",
      "    feature_fraction: 0.7788317020368055\n",
      "    bagging_fraction: 0.8991600039778983\n",
      "    bagging_freq: 9\n",
      "    min_child_samples: 8\n",
      "Predicted tn for the first month: 2.29820333709836\n"
     ]
    },
    {
     "name": "stderr",
     "output_type": "stream",
     "text": [
      " 62%|████████████████████████████████████████████████▍                             | 484/780 [1:14:53<43:16,  8.77s/it]"
     ]
    },
    {
     "name": "stdout",
     "output_type": "stream",
     "text": [
      "Best trial:\n",
      "  Value: 1.621493453742005\n",
      "  Params: \n",
      "    num_leaves: 36\n",
      "    learning_rate: 0.01205954483988334\n",
      "    feature_fraction: 0.7315309993641782\n",
      "    bagging_fraction: 0.9143575169772863\n",
      "    bagging_freq: 8\n",
      "    min_child_samples: 19\n",
      "Predicted tn for the first month: 3.234568308307032\n"
     ]
    },
    {
     "name": "stderr",
     "output_type": "stream",
     "text": [
      " 62%|████████████████████████████████████████████████▌                             | 485/780 [1:15:03<44:17,  9.01s/it]"
     ]
    },
    {
     "name": "stdout",
     "output_type": "stream",
     "text": [
      "Best trial:\n",
      "  Value: 1.0585543811321259\n",
      "  Params: \n",
      "    num_leaves: 39\n",
      "    learning_rate: 0.02748260393794607\n",
      "    feature_fraction: 0.8039414697913192\n",
      "    bagging_fraction: 0.7582096894563185\n",
      "    bagging_freq: 3\n",
      "    min_child_samples: 38\n",
      "Predicted tn for the first month: 3.3461791523663202\n"
     ]
    },
    {
     "name": "stderr",
     "output_type": "stream",
     "text": [
      " 62%|████████████████████████████████████████████████▌                             | 486/780 [1:15:12<44:52,  9.16s/it]"
     ]
    },
    {
     "name": "stdout",
     "output_type": "stream",
     "text": [
      "Best trial:\n",
      "  Value: 1.3109462659340352\n",
      "  Params: \n",
      "    num_leaves: 29\n",
      "    learning_rate: 0.016768136862977935\n",
      "    feature_fraction: 0.6152049854954033\n",
      "    bagging_fraction: 0.8783755090527554\n",
      "    bagging_freq: 4\n",
      "    min_child_samples: 9\n",
      "Predicted tn for the first month: 3.3762716534769037\n"
     ]
    },
    {
     "name": "stderr",
     "output_type": "stream",
     "text": [
      " 62%|████████████████████████████████████████████████▋                             | 487/780 [1:15:22<45:19,  9.28s/it]"
     ]
    },
    {
     "name": "stdout",
     "output_type": "stream",
     "text": [
      "Best trial:\n",
      "  Value: 0.42183999298140407\n",
      "  Params: \n",
      "    num_leaves: 40\n",
      "    learning_rate: 0.01596720342678503\n",
      "    feature_fraction: 0.898630603668459\n",
      "    bagging_fraction: 0.8806564855234664\n",
      "    bagging_freq: 9\n",
      "    min_child_samples: 30\n",
      "Predicted tn for the first month: 2.920400007555634\n"
     ]
    },
    {
     "name": "stderr",
     "output_type": "stream",
     "text": [
      " 63%|████████████████████████████████████████████████▊                             | 488/780 [1:15:31<45:41,  9.39s/it]"
     ]
    },
    {
     "name": "stdout",
     "output_type": "stream",
     "text": [
      "Best trial:\n",
      "  Value: 1.8796181416837499\n",
      "  Params: \n",
      "    num_leaves: 37\n",
      "    learning_rate: 0.050520932261085914\n",
      "    feature_fraction: 0.9271930831453115\n",
      "    bagging_fraction: 0.6431549601582282\n",
      "    bagging_freq: 1\n",
      "    min_child_samples: 33\n",
      "Predicted tn for the first month: 8.649185844168613\n"
     ]
    },
    {
     "name": "stderr",
     "output_type": "stream",
     "text": [
      " 63%|████████████████████████████████████████████████▉                             | 489/780 [1:15:41<45:44,  9.43s/it]"
     ]
    },
    {
     "name": "stdout",
     "output_type": "stream",
     "text": [
      "Best trial:\n",
      "  Value: 1.2052509356290102\n",
      "  Params: \n",
      "    num_leaves: 30\n",
      "    learning_rate: 0.0753244796960957\n",
      "    feature_fraction: 0.9519740887967796\n",
      "    bagging_fraction: 0.6485117915033979\n",
      "    bagging_freq: 3\n",
      "    min_child_samples: 30\n",
      "Predicted tn for the first month: 4.834197517082691\n",
      "Using single month validation due to insufficient data for multiple splits.\n"
     ]
    },
    {
     "name": "stderr",
     "output_type": "stream",
     "text": [
      " 63%|█████████████████████████████████████████████████                             | 490/780 [1:15:45<38:02,  7.87s/it]"
     ]
    },
    {
     "name": "stdout",
     "output_type": "stream",
     "text": [
      "Best trial:\n",
      "  Value: 4.491690117865801\n",
      "  Params: \n",
      "    num_leaves: 23\n",
      "    learning_rate: 0.014912154046195947\n",
      "    feature_fraction: 0.7511495829346936\n",
      "    bagging_fraction: 0.8494295586681919\n",
      "    bagging_freq: 2\n",
      "    min_child_samples: 8\n",
      "Predicted tn for the first month: 11.298050062171221\n"
     ]
    },
    {
     "name": "stderr",
     "output_type": "stream",
     "text": [
      " 63%|█████████████████████████████████████████████████                             | 491/780 [1:15:55<40:20,  8.38s/it]"
     ]
    },
    {
     "name": "stdout",
     "output_type": "stream",
     "text": [
      "Best trial:\n",
      "  Value: 2.2689443547278643\n",
      "  Params: \n",
      "    num_leaves: 25\n",
      "    learning_rate: 0.019276168525992208\n",
      "    feature_fraction: 0.792640800369861\n",
      "    bagging_fraction: 0.8236538655541734\n",
      "    bagging_freq: 10\n",
      "    min_child_samples: 11\n",
      "Predicted tn for the first month: 1.1390991722345352\n"
     ]
    },
    {
     "name": "stderr",
     "output_type": "stream",
     "text": [
      " 63%|█████████████████████████████████████████████████▏                            | 492/780 [1:16:04<41:54,  8.73s/it]"
     ]
    },
    {
     "name": "stdout",
     "output_type": "stream",
     "text": [
      "Best trial:\n",
      "  Value: 1.3547206167131662\n",
      "  Params: \n",
      "    num_leaves: 21\n",
      "    learning_rate: 0.026415633994923107\n",
      "    feature_fraction: 0.8225601105117601\n",
      "    bagging_fraction: 0.9959493198927709\n",
      "    bagging_freq: 9\n",
      "    min_child_samples: 9\n",
      "Predicted tn for the first month: 6.060607500007947\n",
      "Using single month validation due to insufficient data for multiple splits.\n"
     ]
    },
    {
     "name": "stderr",
     "output_type": "stream",
     "text": [
      " 63%|█████████████████████████████████████████████████▎                            | 493/780 [1:16:08<35:14,  7.37s/it]"
     ]
    },
    {
     "name": "stdout",
     "output_type": "stream",
     "text": [
      "Best trial:\n",
      "  Value: 1.590127594769001\n",
      "  Params: \n",
      "    num_leaves: 40\n",
      "    learning_rate: 0.08655260916740275\n",
      "    feature_fraction: 0.821249899914178\n",
      "    bagging_fraction: 0.9569745050534193\n",
      "    bagging_freq: 7\n",
      "    min_child_samples: 41\n",
      "Predicted tn for the first month: 13.357672500140668\n"
     ]
    },
    {
     "name": "stderr",
     "output_type": "stream",
     "text": [
      " 63%|█████████████████████████████████████████████████▍                            | 494/780 [1:16:18<38:30,  8.08s/it]"
     ]
    },
    {
     "name": "stdout",
     "output_type": "stream",
     "text": [
      "Best trial:\n",
      "  Value: 1.6377043835818768\n",
      "  Params: \n",
      "    num_leaves: 29\n",
      "    learning_rate: 0.01138282756919874\n",
      "    feature_fraction: 0.6429158595913241\n",
      "    bagging_fraction: 0.8542061309027\n",
      "    bagging_freq: 2\n",
      "    min_child_samples: 40\n",
      "Predicted tn for the first month: 0.6787799805239836\n"
     ]
    },
    {
     "name": "stderr",
     "output_type": "stream",
     "text": [
      " 63%|█████████████████████████████████████████████████▌                            | 495/780 [1:16:28<40:37,  8.55s/it]"
     ]
    },
    {
     "name": "stdout",
     "output_type": "stream",
     "text": [
      "Best trial:\n",
      "  Value: 1.0986131194513291\n",
      "  Params: \n",
      "    num_leaves: 28\n",
      "    learning_rate: 0.04470291123263554\n",
      "    feature_fraction: 0.9760440847720189\n",
      "    bagging_fraction: 0.9790476576553259\n",
      "    bagging_freq: 8\n",
      "    min_child_samples: 41\n",
      "Predicted tn for the first month: 1.4564599959252278\n"
     ]
    },
    {
     "name": "stderr",
     "output_type": "stream",
     "text": [
      " 64%|█████████████████████████████████████████████████▌                            | 496/780 [1:16:37<42:00,  8.88s/it]"
     ]
    },
    {
     "name": "stdout",
     "output_type": "stream",
     "text": [
      "Best trial:\n",
      "  Value: 3.3456150218844414\n",
      "  Params: \n",
      "    num_leaves: 33\n",
      "    learning_rate: 0.07910350147258528\n",
      "    feature_fraction: 0.6537584614229295\n",
      "    bagging_fraction: 0.9749253954803552\n",
      "    bagging_freq: 9\n",
      "    min_child_samples: 29\n",
      "Predicted tn for the first month: 2.006549995702108\n"
     ]
    },
    {
     "name": "stderr",
     "output_type": "stream",
     "text": [
      " 64%|█████████████████████████████████████████████████▋                            | 497/780 [1:16:47<43:06,  9.14s/it]"
     ]
    },
    {
     "name": "stdout",
     "output_type": "stream",
     "text": [
      "Best trial:\n",
      "  Value: 4.110997296869755\n",
      "  Params: \n",
      "    num_leaves: 38\n",
      "    learning_rate: 0.027498711385872555\n",
      "    feature_fraction: 0.7394811998869956\n",
      "    bagging_fraction: 0.7676890612975144\n",
      "    bagging_freq: 7\n",
      "    min_child_samples: 49\n",
      "Predicted tn for the first month: 6.93036915356795\n"
     ]
    },
    {
     "name": "stderr",
     "output_type": "stream",
     "text": [
      " 64%|█████████████████████████████████████████████████▊                            | 498/780 [1:16:57<43:36,  9.28s/it]"
     ]
    },
    {
     "name": "stdout",
     "output_type": "stream",
     "text": [
      "Best trial:\n",
      "  Value: 3.7040668707340956\n",
      "  Params: \n",
      "    num_leaves: 35\n",
      "    learning_rate: 0.07267750037168981\n",
      "    feature_fraction: 0.8191211846444004\n",
      "    bagging_fraction: 0.6732211985332044\n",
      "    bagging_freq: 6\n",
      "    min_child_samples: 20\n",
      "Predicted tn for the first month: 1.1433399864371616\n"
     ]
    },
    {
     "name": "stderr",
     "output_type": "stream",
     "text": [
      " 64%|█████████████████████████████████████████████████▉                            | 499/780 [1:17:06<43:53,  9.37s/it]"
     ]
    },
    {
     "name": "stdout",
     "output_type": "stream",
     "text": [
      "Best trial:\n",
      "  Value: 1.8184987374115735\n",
      "  Params: \n",
      "    num_leaves: 20\n",
      "    learning_rate: 0.016944168838001074\n",
      "    feature_fraction: 0.8780925691155224\n",
      "    bagging_fraction: 0.6874067434578718\n",
      "    bagging_freq: 8\n",
      "    min_child_samples: 30\n",
      "Predicted tn for the first month: 4.795725840472182\n",
      "Using single month validation due to insufficient data for multiple splits.\n"
     ]
    },
    {
     "name": "stderr",
     "output_type": "stream",
     "text": [
      " 64%|██████████████████████████████████████████████████                            | 500/780 [1:17:11<36:28,  7.82s/it]"
     ]
    },
    {
     "name": "stdout",
     "output_type": "stream",
     "text": [
      "Best trial:\n",
      "  Value: 7.917917534708977\n",
      "  Params: \n",
      "    num_leaves: 31\n",
      "    learning_rate: 0.04280321036811242\n",
      "    feature_fraction: 0.8703317081884405\n",
      "    bagging_fraction: 0.6180764785744738\n",
      "    bagging_freq: 10\n",
      "    min_child_samples: 19\n",
      "Predicted tn for the first month: 14.219207581095695\n",
      "Using single month validation due to insufficient data for multiple splits.\n"
     ]
    },
    {
     "name": "stderr",
     "output_type": "stream",
     "text": [
      " 64%|██████████████████████████████████████████████████                            | 501/780 [1:17:15<31:18,  6.73s/it]"
     ]
    },
    {
     "name": "stdout",
     "output_type": "stream",
     "text": [
      "Best trial:\n",
      "  Value: 3.730987908691168\n",
      "  Params: \n",
      "    num_leaves: 26\n",
      "    learning_rate: 0.03562695513597147\n",
      "    feature_fraction: 0.657410615103193\n",
      "    bagging_fraction: 0.8784334177868035\n",
      "    bagging_freq: 6\n",
      "    min_child_samples: 7\n",
      "Predicted tn for the first month: 6.927682089706659\n"
     ]
    },
    {
     "name": "stderr",
     "output_type": "stream",
     "text": [
      " 64%|██████████████████████████████████████████████████▏                           | 502/780 [1:17:24<35:10,  7.59s/it]"
     ]
    },
    {
     "name": "stdout",
     "output_type": "stream",
     "text": [
      "Best trial:\n",
      "  Value: 1.6838128175586462\n",
      "  Params: \n",
      "    num_leaves: 37\n",
      "    learning_rate: 0.01043839073865047\n",
      "    feature_fraction: 0.7690398104714944\n",
      "    bagging_fraction: 0.7029765696057035\n",
      "    bagging_freq: 4\n",
      "    min_child_samples: 30\n",
      "Predicted tn for the first month: 1.6653000134678682\n"
     ]
    },
    {
     "name": "stderr",
     "output_type": "stream",
     "text": [
      " 64%|██████████████████████████████████████████████████▎                           | 503/780 [1:17:34<37:48,  8.19s/it]"
     ]
    },
    {
     "name": "stdout",
     "output_type": "stream",
     "text": [
      "Best trial:\n",
      "  Value: 0.7620540625648573\n",
      "  Params: \n",
      "    num_leaves: 39\n",
      "    learning_rate: 0.01563914435813695\n",
      "    feature_fraction: 0.922285701325696\n",
      "    bagging_fraction: 0.8207338724548114\n",
      "    bagging_freq: 2\n",
      "    min_child_samples: 12\n",
      "Predicted tn for the first month: 1.9564566625660658\n"
     ]
    },
    {
     "name": "stderr",
     "output_type": "stream",
     "text": [
      " 65%|██████████████████████████████████████████████████▍                           | 504/780 [1:17:44<39:36,  8.61s/it]"
     ]
    },
    {
     "name": "stdout",
     "output_type": "stream",
     "text": [
      "Best trial:\n",
      "  Value: 1.796387511305511\n",
      "  Params: \n",
      "    num_leaves: 39\n",
      "    learning_rate: 0.0820411631631517\n",
      "    feature_fraction: 0.7986334322259772\n",
      "    bagging_fraction: 0.6712176795983672\n",
      "    bagging_freq: 1\n",
      "    min_child_samples: 21\n",
      "Predicted tn for the first month: 0.11992585777396958\n"
     ]
    },
    {
     "name": "stderr",
     "output_type": "stream",
     "text": [
      " 65%|██████████████████████████████████████████████████▌                           | 505/780 [1:17:53<40:42,  8.88s/it]"
     ]
    },
    {
     "name": "stdout",
     "output_type": "stream",
     "text": [
      "Best trial:\n",
      "  Value: 1.7714706398546696\n",
      "  Params: \n",
      "    num_leaves: 34\n",
      "    learning_rate: 0.013121572371490189\n",
      "    feature_fraction: 0.9498604697069121\n",
      "    bagging_fraction: 0.7570055044612382\n",
      "    bagging_freq: 3\n",
      "    min_child_samples: 20\n",
      "Predicted tn for the first month: 8.70885332235098\n"
     ]
    },
    {
     "name": "stderr",
     "output_type": "stream",
     "text": [
      " 65%|██████████████████████████████████████████████████▌                           | 506/780 [1:18:03<41:40,  9.13s/it]"
     ]
    },
    {
     "name": "stdout",
     "output_type": "stream",
     "text": [
      "Best trial:\n",
      "  Value: 1.9461862836033106\n",
      "  Params: \n",
      "    num_leaves: 38\n",
      "    learning_rate: 0.03744282413350284\n",
      "    feature_fraction: 0.7474864674317103\n",
      "    bagging_fraction: 0.731916485147849\n",
      "    bagging_freq: 10\n",
      "    min_child_samples: 45\n",
      "Predicted tn for the first month: 8.826251689872345\n",
      "Using single month validation due to insufficient data for multiple splits.\n"
     ]
    },
    {
     "name": "stderr",
     "output_type": "stream",
     "text": [
      " 65%|██████████████████████████████████████████████████▋                           | 507/780 [1:18:07<34:49,  7.65s/it]"
     ]
    },
    {
     "name": "stdout",
     "output_type": "stream",
     "text": [
      "Best trial:\n",
      "  Value: 4.603127096380506\n",
      "  Params: \n",
      "    num_leaves: 21\n",
      "    learning_rate: 0.010040060840140558\n",
      "    feature_fraction: 0.6413458090673684\n",
      "    bagging_fraction: 0.8433488847338231\n",
      "    bagging_freq: 2\n",
      "    min_child_samples: 15\n",
      "Predicted tn for the first month: 7.203857087835584\n"
     ]
    },
    {
     "name": "stderr",
     "output_type": "stream",
     "text": [
      " 65%|██████████████████████████████████████████████████▊                           | 508/780 [1:18:16<37:15,  8.22s/it]"
     ]
    },
    {
     "name": "stdout",
     "output_type": "stream",
     "text": [
      "Best trial:\n",
      "  Value: 2.2653056262061\n",
      "  Params: \n",
      "    num_leaves: 38\n",
      "    learning_rate: 0.015172613174418013\n",
      "    feature_fraction: 0.7556997180267084\n",
      "    bagging_fraction: 0.6270576991134185\n",
      "    bagging_freq: 7\n",
      "    min_child_samples: 18\n",
      "Predicted tn for the first month: 7.309133332493901\n"
     ]
    },
    {
     "name": "stderr",
     "output_type": "stream",
     "text": [
      " 65%|██████████████████████████████████████████████████▉                           | 509/780 [1:18:27<40:04,  8.87s/it]"
     ]
    },
    {
     "name": "stdout",
     "output_type": "stream",
     "text": [
      "Best trial:\n",
      "  Value: 0.9496837486512959\n",
      "  Params: \n",
      "    num_leaves: 38\n",
      "    learning_rate: 0.027677041132037356\n",
      "    feature_fraction: 0.876201489393933\n",
      "    bagging_fraction: 0.8734320365990855\n",
      "    bagging_freq: 3\n",
      "    min_child_samples: 43\n",
      "Predicted tn for the first month: 1.01858915686965\n"
     ]
    },
    {
     "name": "stderr",
     "output_type": "stream",
     "text": [
      " 65%|███████████████████████████████████████████████████                           | 510/780 [1:18:37<41:16,  9.17s/it]"
     ]
    },
    {
     "name": "stdout",
     "output_type": "stream",
     "text": [
      "Best trial:\n",
      "  Value: 2.1624812185764313\n",
      "  Params: \n",
      "    num_leaves: 38\n",
      "    learning_rate: 0.09732871692738235\n",
      "    feature_fraction: 0.8120849776108218\n",
      "    bagging_fraction: 0.6616728855978031\n",
      "    bagging_freq: 4\n",
      "    min_child_samples: 15\n",
      "Predicted tn for the first month: 0.7522366604870558\n",
      "Using single month validation due to insufficient data for multiple splits.\n"
     ]
    },
    {
     "name": "stderr",
     "output_type": "stream",
     "text": [
      " 66%|███████████████████████████████████████████████████                           | 511/780 [1:18:41<34:36,  7.72s/it]"
     ]
    },
    {
     "name": "stdout",
     "output_type": "stream",
     "text": [
      "Best trial:\n",
      "  Value: 4.85419499874115\n",
      "  Params: \n",
      "    num_leaves: 35\n",
      "    learning_rate: 0.014447441871229011\n",
      "    feature_fraction: 0.9018669691950829\n",
      "    bagging_fraction: 0.6603162289008943\n",
      "    bagging_freq: 4\n",
      "    min_child_samples: 5\n",
      "Predicted tn for the first month: 9.60945498790741\n"
     ]
    },
    {
     "name": "stderr",
     "output_type": "stream",
     "text": [
      " 66%|███████████████████████████████████████████████████▏                          | 512/780 [1:18:51<37:13,  8.33s/it]"
     ]
    },
    {
     "name": "stdout",
     "output_type": "stream",
     "text": [
      "Best trial:\n",
      "  Value: 4.428970046341419\n",
      "  Params: \n",
      "    num_leaves: 36\n",
      "    learning_rate: 0.049720400994044116\n",
      "    feature_fraction: 0.6288143512414828\n",
      "    bagging_fraction: 0.6256227839675602\n",
      "    bagging_freq: 4\n",
      "    min_child_samples: 29\n",
      "Predicted tn for the first month: 5.376280030827522\n",
      "Using single month validation due to insufficient data for multiple splits.\n"
     ]
    },
    {
     "name": "stderr",
     "output_type": "stream",
     "text": [
      " 66%|███████████████████████████████████████████████████▎                          | 513/780 [1:18:55<31:40,  7.12s/it]"
     ]
    },
    {
     "name": "stdout",
     "output_type": "stream",
     "text": [
      "Best trial:\n",
      "  Value: 8.130782175064088\n",
      "  Params: \n",
      "    num_leaves: 21\n",
      "    learning_rate: 0.011501504018934943\n",
      "    feature_fraction: 0.7652308598600807\n",
      "    bagging_fraction: 0.8104970030984565\n",
      "    bagging_freq: 3\n",
      "    min_child_samples: 11\n",
      "Predicted tn for the first month: 6.587627901763917\n"
     ]
    },
    {
     "name": "stderr",
     "output_type": "stream",
     "text": [
      " 66%|███████████████████████████████████████████████████▍                          | 514/780 [1:19:05<34:51,  7.86s/it]"
     ]
    },
    {
     "name": "stdout",
     "output_type": "stream",
     "text": [
      "Best trial:\n",
      "  Value: 1.9381319005042315\n",
      "  Params: \n",
      "    num_leaves: 32\n",
      "    learning_rate: 0.02865063333884611\n",
      "    feature_fraction: 0.64810708249344\n",
      "    bagging_fraction: 0.6675183165614624\n",
      "    bagging_freq: 1\n",
      "    min_child_samples: 20\n",
      "Predicted tn for the first month: 4.424108353210688\n",
      "Using single month validation due to insufficient data for multiple splits.\n"
     ]
    },
    {
     "name": "stderr",
     "output_type": "stream",
     "text": [
      " 66%|███████████████████████████████████████████████████▌                          | 515/780 [1:19:09<29:59,  6.79s/it]"
     ]
    },
    {
     "name": "stdout",
     "output_type": "stream",
     "text": [
      "Best trial:\n",
      "  Value: 7.1027099291483555\n",
      "  Params: \n",
      "    num_leaves: 24\n",
      "    learning_rate: 0.042944684963354206\n",
      "    feature_fraction: 0.6273023409056531\n",
      "    bagging_fraction: 0.7912051447421133\n",
      "    bagging_freq: 7\n",
      "    min_child_samples: 19\n",
      "Predicted tn for the first month: 13.2275199777476\n"
     ]
    },
    {
     "name": "stderr",
     "output_type": "stream",
     "text": [
      " 66%|███████████████████████████████████████████████████▌                          | 516/780 [1:19:19<33:51,  7.70s/it]"
     ]
    },
    {
     "name": "stdout",
     "output_type": "stream",
     "text": [
      "Best trial:\n",
      "  Value: 0.9591675212141126\n",
      "  Params: \n",
      "    num_leaves: 24\n",
      "    learning_rate: 0.07400468092867256\n",
      "    feature_fraction: 0.6773394870641289\n",
      "    bagging_fraction: 0.6629077147030547\n",
      "    bagging_freq: 4\n",
      "    min_child_samples: 37\n",
      "Predicted tn for the first month: 3.8281700028416017\n"
     ]
    },
    {
     "name": "stderr",
     "output_type": "stream",
     "text": [
      " 66%|███████████████████████████████████████████████████▋                          | 517/780 [1:19:29<36:41,  8.37s/it]"
     ]
    },
    {
     "name": "stdout",
     "output_type": "stream",
     "text": [
      "Best trial:\n",
      "  Value: 1.249818418174982\n",
      "  Params: \n",
      "    num_leaves: 34\n",
      "    learning_rate: 0.057474384600865285\n",
      "    feature_fraction: 0.8522856509517347\n",
      "    bagging_fraction: 0.959204519169123\n",
      "    bagging_freq: 2\n",
      "    min_child_samples: 48\n",
      "Predicted tn for the first month: 1.54081583215038\n"
     ]
    },
    {
     "name": "stderr",
     "output_type": "stream",
     "text": [
      " 66%|███████████████████████████████████████████████████▊                          | 518/780 [1:19:38<38:14,  8.76s/it]"
     ]
    },
    {
     "name": "stdout",
     "output_type": "stream",
     "text": [
      "Best trial:\n",
      "  Value: 2.369033799972385\n",
      "  Params: \n",
      "    num_leaves: 25\n",
      "    learning_rate: 0.0337271941589089\n",
      "    feature_fraction: 0.8631851202460752\n",
      "    bagging_fraction: 0.6322376103657481\n",
      "    bagging_freq: 7\n",
      "    min_child_samples: 33\n",
      "Predicted tn for the first month: 9.651743355196217\n"
     ]
    },
    {
     "name": "stderr",
     "output_type": "stream",
     "text": [
      " 67%|███████████████████████████████████████████████████▉                          | 519/780 [1:19:48<39:28,  9.07s/it]"
     ]
    },
    {
     "name": "stdout",
     "output_type": "stream",
     "text": [
      "Best trial:\n",
      "  Value: 2.8973812586045824\n",
      "  Params: \n",
      "    num_leaves: 32\n",
      "    learning_rate: 0.03221302455750607\n",
      "    feature_fraction: 0.714742261518962\n",
      "    bagging_fraction: 0.8576809088356094\n",
      "    bagging_freq: 4\n",
      "    min_child_samples: 22\n",
      "Predicted tn for the first month: 3.583082474270736\n"
     ]
    },
    {
     "name": "stderr",
     "output_type": "stream",
     "text": [
      " 67%|████████████████████████████████████████████████████                          | 520/780 [1:19:58<40:15,  9.29s/it]"
     ]
    },
    {
     "name": "stdout",
     "output_type": "stream",
     "text": [
      "Best trial:\n",
      "  Value: 0.9576793853193521\n",
      "  Params: \n",
      "    num_leaves: 25\n",
      "    learning_rate: 0.011917586817592238\n",
      "    feature_fraction: 0.7897321248196099\n",
      "    bagging_fraction: 0.7730041654896666\n",
      "    bagging_freq: 6\n",
      "    min_child_samples: 46\n",
      "Predicted tn for the first month: 4.465092498464585\n"
     ]
    },
    {
     "name": "stderr",
     "output_type": "stream",
     "text": [
      " 67%|████████████████████████████████████████████████████                          | 521/780 [1:20:08<40:43,  9.44s/it]"
     ]
    },
    {
     "name": "stdout",
     "output_type": "stream",
     "text": [
      "Best trial:\n",
      "  Value: 0.5205743786646053\n",
      "  Params: \n",
      "    num_leaves: 39\n",
      "    learning_rate: 0.039057255656515584\n",
      "    feature_fraction: 0.7416369857458469\n",
      "    bagging_fraction: 0.8864590445907863\n",
      "    bagging_freq: 4\n",
      "    min_child_samples: 29\n",
      "Predicted tn for the first month: 1.7392708318113785\n",
      "Using single month validation due to insufficient data for multiple splits.\n"
     ]
    },
    {
     "name": "stderr",
     "output_type": "stream",
     "text": [
      " 67%|████████████████████████████████████████████████████▏                         | 522/780 [1:20:12<33:55,  7.89s/it]"
     ]
    },
    {
     "name": "stdout",
     "output_type": "stream",
     "text": [
      "Best trial:\n",
      "  Value: 6.557570099830627\n",
      "  Params: \n",
      "    num_leaves: 27\n",
      "    learning_rate: 0.0376953893941168\n",
      "    feature_fraction: 0.7347166360000632\n",
      "    bagging_fraction: 0.9853456135737252\n",
      "    bagging_freq: 9\n",
      "    min_child_samples: 5\n",
      "Predicted tn for the first month: 7.856499997749328\n"
     ]
    },
    {
     "name": "stderr",
     "output_type": "stream",
     "text": [
      " 67%|████████████████████████████████████████████████████▎                         | 523/780 [1:20:22<36:12,  8.45s/it]"
     ]
    },
    {
     "name": "stdout",
     "output_type": "stream",
     "text": [
      "Best trial:\n",
      "  Value: 2.6400928385555744\n",
      "  Params: \n",
      "    num_leaves: 25\n",
      "    learning_rate: 0.053859234377370856\n",
      "    feature_fraction: 0.6513060733410145\n",
      "    bagging_fraction: 0.9235196639346763\n",
      "    bagging_freq: 5\n",
      "    min_child_samples: 5\n",
      "Predicted tn for the first month: 3.237007567392965\n"
     ]
    },
    {
     "name": "stderr",
     "output_type": "stream",
     "text": [
      " 67%|████████████████████████████████████████████████████▍                         | 524/780 [1:20:32<37:54,  8.89s/it]"
     ]
    },
    {
     "name": "stdout",
     "output_type": "stream",
     "text": [
      "Best trial:\n",
      "  Value: 2.8137330869212747\n",
      "  Params: \n",
      "    num_leaves: 35\n",
      "    learning_rate: 0.06164575691683221\n",
      "    feature_fraction: 0.7669746621750582\n",
      "    bagging_fraction: 0.9953169268452998\n",
      "    bagging_freq: 9\n",
      "    min_child_samples: 10\n",
      "Predicted tn for the first month: 1.53149835503151\n"
     ]
    },
    {
     "name": "stderr",
     "output_type": "stream",
     "text": [
      " 67%|████████████████████████████████████████████████████▌                         | 525/780 [1:20:41<38:46,  9.13s/it]"
     ]
    },
    {
     "name": "stdout",
     "output_type": "stream",
     "text": [
      "Best trial:\n",
      "  Value: 0.6641025114804506\n",
      "  Params: \n",
      "    num_leaves: 28\n",
      "    learning_rate: 0.025729584179606326\n",
      "    feature_fraction: 0.6362412099949202\n",
      "    bagging_fraction: 0.8296247424199489\n",
      "    bagging_freq: 2\n",
      "    min_child_samples: 41\n",
      "Predicted tn for the first month: 2.618641662041346\n"
     ]
    },
    {
     "name": "stderr",
     "output_type": "stream",
     "text": [
      " 67%|████████████████████████████████████████████████████▌                         | 526/780 [1:20:51<39:17,  9.28s/it]"
     ]
    },
    {
     "name": "stdout",
     "output_type": "stream",
     "text": [
      "Best trial:\n",
      "  Value: 1.3196737207472324\n",
      "  Params: \n",
      "    num_leaves: 34\n",
      "    learning_rate: 0.013389994698870061\n",
      "    feature_fraction: 0.8568096999408084\n",
      "    bagging_fraction: 0.6810204380523599\n",
      "    bagging_freq: 9\n",
      "    min_child_samples: 30\n",
      "Predicted tn for the first month: 9.359414995969932\n",
      "Using single month validation due to insufficient data for multiple splits.\n"
     ]
    },
    {
     "name": "stderr",
     "output_type": "stream",
     "text": [
      " 68%|████████████████████████████████████████████████████▋                         | 527/780 [1:20:55<32:47,  7.78s/it]"
     ]
    },
    {
     "name": "stdout",
     "output_type": "stream",
     "text": [
      "Best trial:\n",
      "  Value: 3.722839966416359\n",
      "  Params: \n",
      "    num_leaves: 32\n",
      "    learning_rate: 0.057520911130491646\n",
      "    feature_fraction: 0.633473434095397\n",
      "    bagging_fraction: 0.8487621343749795\n",
      "    bagging_freq: 5\n",
      "    min_child_samples: 18\n",
      "Predicted tn for the first month: 10.979759972367287\n"
     ]
    },
    {
     "name": "stderr",
     "output_type": "stream",
     "text": [
      " 68%|████████████████████████████████████████████████████▊                         | 528/780 [1:21:05<34:59,  8.33s/it]"
     ]
    },
    {
     "name": "stdout",
     "output_type": "stream",
     "text": [
      "Best trial:\n",
      "  Value: 1.1686609368771315\n",
      "  Params: \n",
      "    num_leaves: 31\n",
      "    learning_rate: 0.07716700201377662\n",
      "    feature_fraction: 0.8999303919773912\n",
      "    bagging_fraction: 0.6573461819531136\n",
      "    bagging_freq: 6\n",
      "    min_child_samples: 25\n",
      "Predicted tn for the first month: 1.3658400096885364\n"
     ]
    },
    {
     "name": "stderr",
     "output_type": "stream",
     "text": [
      " 68%|████████████████████████████████████████████████████▉                         | 529/780 [1:21:15<36:27,  8.72s/it]"
     ]
    },
    {
     "name": "stdout",
     "output_type": "stream",
     "text": [
      "Best trial:\n",
      "  Value: 1.8631237372756004\n",
      "  Params: \n",
      "    num_leaves: 33\n",
      "    learning_rate: 0.010260435097202673\n",
      "    feature_fraction: 0.9837456789144561\n",
      "    bagging_fraction: 0.7570232751764263\n",
      "    bagging_freq: 6\n",
      "    min_child_samples: 42\n",
      "Predicted tn for the first month: 3.6987149869998297\n"
     ]
    },
    {
     "name": "stderr",
     "output_type": "stream",
     "text": [
      " 68%|█████████████████████████████████████████████████████                         | 530/780 [1:21:24<37:44,  9.06s/it]"
     ]
    },
    {
     "name": "stdout",
     "output_type": "stream",
     "text": [
      "Best trial:\n",
      "  Value: 1.4742137268185616\n",
      "  Params: \n",
      "    num_leaves: 36\n",
      "    learning_rate: 0.06948877574159441\n",
      "    feature_fraction: 0.938729081720417\n",
      "    bagging_fraction: 0.9833499038152815\n",
      "    bagging_freq: 10\n",
      "    min_child_samples: 8\n",
      "Predicted tn for the first month: 1.359529974169731\n",
      "Using single month validation due to insufficient data for multiple splits.\n"
     ]
    },
    {
     "name": "stderr",
     "output_type": "stream",
     "text": [
      " 68%|█████████████████████████████████████████████████████                         | 531/780 [1:21:29<31:46,  7.65s/it]"
     ]
    },
    {
     "name": "stdout",
     "output_type": "stream",
     "text": [
      "Best trial:\n",
      "  Value: 2.826078576701028\n",
      "  Params: \n",
      "    num_leaves: 32\n",
      "    learning_rate: 0.07686826172848835\n",
      "    feature_fraction: 0.9949817378884616\n",
      "    bagging_fraction: 0.9665374873683753\n",
      "    bagging_freq: 6\n",
      "    min_child_samples: 8\n",
      "Predicted tn for the first month: 11.027661434971947\n",
      "Using single month validation due to insufficient data for multiple splits.\n"
     ]
    },
    {
     "name": "stderr",
     "output_type": "stream",
     "text": [
      " 68%|█████████████████████████████████████████████████████▏                        | 532/780 [1:21:33<27:24,  6.63s/it]"
     ]
    },
    {
     "name": "stdout",
     "output_type": "stream",
     "text": [
      "Best trial:\n",
      "  Value: 6.071892440319061\n",
      "  Params: \n",
      "    num_leaves: 24\n",
      "    learning_rate: 0.010787930256736708\n",
      "    feature_fraction: 0.940455275678935\n",
      "    bagging_fraction: 0.6341250620794036\n",
      "    bagging_freq: 10\n",
      "    min_child_samples: 35\n",
      "Predicted tn for the first month: 11.8361025406456\n"
     ]
    },
    {
     "name": "stderr",
     "output_type": "stream",
     "text": [
      " 68%|█████████████████████████████████████████████████████▎                        | 533/780 [1:21:43<31:09,  7.57s/it]"
     ]
    },
    {
     "name": "stdout",
     "output_type": "stream",
     "text": [
      "Best trial:\n",
      "  Value: 2.3995366031304\n",
      "  Params: \n",
      "    num_leaves: 23\n",
      "    learning_rate: 0.026156082732848453\n",
      "    feature_fraction: 0.8743823379907546\n",
      "    bagging_fraction: 0.7941820639570393\n",
      "    bagging_freq: 10\n",
      "    min_child_samples: 9\n",
      "Predicted tn for the first month: 1.4496500253454845\n"
     ]
    },
    {
     "name": "stderr",
     "output_type": "stream",
     "text": [
      " 68%|█████████████████████████████████████████████████████▍                        | 534/780 [1:21:52<33:30,  8.17s/it]"
     ]
    },
    {
     "name": "stdout",
     "output_type": "stream",
     "text": [
      "Best trial:\n",
      "  Value: 2.1994493594393134\n",
      "  Params: \n",
      "    num_leaves: 29\n",
      "    learning_rate: 0.03413303714206429\n",
      "    feature_fraction: 0.6891836960314908\n",
      "    bagging_fraction: 0.9800155037627676\n",
      "    bagging_freq: 3\n",
      "    min_child_samples: 39\n",
      "Predicted tn for the first month: 0.5265058143790563\n"
     ]
    },
    {
     "name": "stderr",
     "output_type": "stream",
     "text": [
      " 69%|█████████████████████████████████████████████████████▌                        | 535/780 [1:22:02<35:00,  8.57s/it]"
     ]
    },
    {
     "name": "stdout",
     "output_type": "stream",
     "text": [
      "Best trial:\n",
      "  Value: 2.5467374827712774\n",
      "  Params: \n",
      "    num_leaves: 35\n",
      "    learning_rate: 0.02370942815329138\n",
      "    feature_fraction: 0.9815576510392625\n",
      "    bagging_fraction: 0.6701066058688571\n",
      "    bagging_freq: 7\n",
      "    min_child_samples: 33\n",
      "Predicted tn for the first month: 0.6354608334992329\n"
     ]
    },
    {
     "name": "stderr",
     "output_type": "stream",
     "text": [
      " 69%|█████████████████████████████████████████████████████▌                        | 536/780 [1:22:12<36:29,  8.97s/it]"
     ]
    },
    {
     "name": "stdout",
     "output_type": "stream",
     "text": [
      "Best trial:\n",
      "  Value: 2.03683877363801\n",
      "  Params: \n",
      "    num_leaves: 40\n",
      "    learning_rate: 0.038667364901545626\n",
      "    feature_fraction: 0.8367201638475232\n",
      "    bagging_fraction: 0.859890474651232\n",
      "    bagging_freq: 9\n",
      "    min_child_samples: 43\n",
      "Predicted tn for the first month: 1.2853758171693486\n",
      "Using single month validation due to insufficient data for multiple splits.\n"
     ]
    },
    {
     "name": "stderr",
     "output_type": "stream",
     "text": [
      " 69%|█████████████████████████████████████████████████████▋                        | 537/780 [1:22:16<30:28,  7.52s/it]"
     ]
    },
    {
     "name": "stdout",
     "output_type": "stream",
     "text": [
      "Best trial:\n",
      "  Value: 2.612838125228882\n",
      "  Params: \n",
      "    num_leaves: 38\n",
      "    learning_rate: 0.010623398966852445\n",
      "    feature_fraction: 0.6933155880928817\n",
      "    bagging_fraction: 0.742288840871401\n",
      "    bagging_freq: 1\n",
      "    min_child_samples: 14\n",
      "Predicted tn for the first month: 6.292568061981201\n"
     ]
    },
    {
     "name": "stderr",
     "output_type": "stream",
     "text": [
      " 69%|█████████████████████████████████████████████████████▊                        | 538/780 [1:22:26<32:53,  8.16s/it]"
     ]
    },
    {
     "name": "stdout",
     "output_type": "stream",
     "text": [
      "Best trial:\n",
      "  Value: 1.512333732098341\n",
      "  Params: \n",
      "    num_leaves: 30\n",
      "    learning_rate: 0.03649140797391667\n",
      "    feature_fraction: 0.801567836164999\n",
      "    bagging_fraction: 0.6133754762517701\n",
      "    bagging_freq: 7\n",
      "    min_child_samples: 47\n",
      "Predicted tn for the first month: 2.2429658332081637\n"
     ]
    },
    {
     "name": "stderr",
     "output_type": "stream",
     "text": [
      " 69%|█████████████████████████████████████████████████████▉                        | 539/780 [1:22:35<34:23,  8.56s/it]"
     ]
    },
    {
     "name": "stdout",
     "output_type": "stream",
     "text": [
      "Best trial:\n",
      "  Value: 0.9226696914993227\n",
      "  Params: \n",
      "    num_leaves: 20\n",
      "    learning_rate: 0.023574413892692478\n",
      "    feature_fraction: 0.9763028190223164\n",
      "    bagging_fraction: 0.8919895857592857\n",
      "    bagging_freq: 5\n",
      "    min_child_samples: 48\n",
      "Predicted tn for the first month: 3.066790008323292\n"
     ]
    },
    {
     "name": "stderr",
     "output_type": "stream",
     "text": [
      " 69%|██████████████████████████████████████████████████████                        | 540/780 [1:22:45<35:23,  8.85s/it]"
     ]
    },
    {
     "name": "stdout",
     "output_type": "stream",
     "text": [
      "Best trial:\n",
      "  Value: 2.1091624976834282\n",
      "  Params: \n",
      "    num_leaves: 24\n",
      "    learning_rate: 0.08026747938858848\n",
      "    feature_fraction: 0.7731813237472476\n",
      "    bagging_fraction: 0.9878274438551695\n",
      "    bagging_freq: 10\n",
      "    min_child_samples: 42\n",
      "Predicted tn for the first month: 2.157458331396828\n"
     ]
    },
    {
     "name": "stderr",
     "output_type": "stream",
     "text": [
      " 69%|██████████████████████████████████████████████████████                        | 541/780 [1:22:54<36:02,  9.05s/it]"
     ]
    },
    {
     "name": "stdout",
     "output_type": "stream",
     "text": [
      "Best trial:\n",
      "  Value: 0.8695037364959717\n",
      "  Params: \n",
      "    num_leaves: 24\n",
      "    learning_rate: 0.09969119344005746\n",
      "    feature_fraction: 0.6871358565955801\n",
      "    bagging_fraction: 0.6826773224230224\n",
      "    bagging_freq: 4\n",
      "    min_child_samples: 16\n",
      "Predicted tn for the first month: 3.245566667899688\n"
     ]
    },
    {
     "name": "stderr",
     "output_type": "stream",
     "text": [
      " 69%|██████████████████████████████████████████████████████▏                       | 542/780 [1:23:04<36:26,  9.19s/it]"
     ]
    },
    {
     "name": "stdout",
     "output_type": "stream",
     "text": [
      "Best trial:\n",
      "  Value: 0.6783462392631918\n",
      "  Params: \n",
      "    num_leaves: 36\n",
      "    learning_rate: 0.0159585009108575\n",
      "    feature_fraction: 0.6484863468535635\n",
      "    bagging_fraction: 0.6202027082953429\n",
      "    bagging_freq: 6\n",
      "    min_child_samples: 12\n",
      "Predicted tn for the first month: 3.499574155124476\n"
     ]
    },
    {
     "name": "stderr",
     "output_type": "stream",
     "text": [
      " 70%|██████████████████████████████████████████████████████▎                       | 543/780 [1:23:13<36:38,  9.28s/it]"
     ]
    },
    {
     "name": "stdout",
     "output_type": "stream",
     "text": [
      "Best trial:\n",
      "  Value: 1.929396253079176\n",
      "  Params: \n",
      "    num_leaves: 39\n",
      "    learning_rate: 0.02511130286182128\n",
      "    feature_fraction: 0.6043517825453739\n",
      "    bagging_fraction: 0.7341843362005753\n",
      "    bagging_freq: 5\n",
      "    min_child_samples: 47\n",
      "Predicted tn for the first month: 5.448022509044806\n"
     ]
    },
    {
     "name": "stderr",
     "output_type": "stream",
     "text": [
      " 70%|██████████████████████████████████████████████████████▍                       | 544/780 [1:23:23<36:49,  9.36s/it]"
     ]
    },
    {
     "name": "stdout",
     "output_type": "stream",
     "text": [
      "Best trial:\n",
      "  Value: 0.49080843932460994\n",
      "  Params: \n",
      "    num_leaves: 40\n",
      "    learning_rate: 0.050175168313875175\n",
      "    feature_fraction: 0.9736717147535476\n",
      "    bagging_fraction: 0.7973814489546459\n",
      "    bagging_freq: 1\n",
      "    min_child_samples: 22\n",
      "Predicted tn for the first month: 1.2346883329072844\n"
     ]
    },
    {
     "name": "stderr",
     "output_type": "stream",
     "text": [
      " 70%|██████████████████████████████████████████████████████▌                       | 545/780 [1:23:32<36:53,  9.42s/it]"
     ]
    },
    {
     "name": "stdout",
     "output_type": "stream",
     "text": [
      "Best trial:\n",
      "  Value: 0.8467593798413873\n",
      "  Params: \n",
      "    num_leaves: 34\n",
      "    learning_rate: 0.030577647543673186\n",
      "    feature_fraction: 0.6805324043906652\n",
      "    bagging_fraction: 0.7754865806640406\n",
      "    bagging_freq: 6\n",
      "    min_child_samples: 11\n",
      "Predicted tn for the first month: 2.7554741738633313\n"
     ]
    },
    {
     "name": "stderr",
     "output_type": "stream",
     "text": [
      " 70%|██████████████████████████████████████████████████████▌                       | 546/780 [1:23:42<36:49,  9.44s/it]"
     ]
    },
    {
     "name": "stdout",
     "output_type": "stream",
     "text": [
      "Best trial:\n",
      "  Value: 1.0329587375745177\n",
      "  Params: \n",
      "    num_leaves: 28\n",
      "    learning_rate: 0.01281003065831721\n",
      "    feature_fraction: 0.7513488621257858\n",
      "    bagging_fraction: 0.6770918767726666\n",
      "    bagging_freq: 5\n",
      "    min_child_samples: 49\n",
      "Predicted tn for the first month: 0.7229333365718523\n",
      "Using single month validation due to insufficient data for multiple splits.\n"
     ]
    },
    {
     "name": "stderr",
     "output_type": "stream",
     "text": [
      " 70%|██████████████████████████████████████████████████████▋                       | 547/780 [1:23:46<30:34,  7.87s/it]"
     ]
    },
    {
     "name": "stdout",
     "output_type": "stream",
     "text": [
      "Best trial:\n",
      "  Value: 0.8815757249082838\n",
      "  Params: \n",
      "    num_leaves: 23\n",
      "    learning_rate: 0.03126339244841077\n",
      "    feature_fraction: 0.9905594925948636\n",
      "    bagging_fraction: 0.9156328790892926\n",
      "    bagging_freq: 5\n",
      "    min_child_samples: 22\n",
      "Predicted tn for the first month: 9.47503572026389\n"
     ]
    },
    {
     "name": "stderr",
     "output_type": "stream",
     "text": [
      " 70%|██████████████████████████████████████████████████████▊                       | 548/780 [1:23:56<32:22,  8.37s/it]"
     ]
    },
    {
     "name": "stdout",
     "output_type": "stream",
     "text": [
      "Best trial:\n",
      "  Value: 0.8656318744260716\n",
      "  Params: \n",
      "    num_leaves: 20\n",
      "    learning_rate: 0.06204186155226339\n",
      "    feature_fraction: 0.66479043337406\n",
      "    bagging_fraction: 0.8943568326012326\n",
      "    bagging_freq: 10\n",
      "    min_child_samples: 33\n",
      "Predicted tn for the first month: 2.628637502528912\n"
     ]
    },
    {
     "name": "stderr",
     "output_type": "stream",
     "text": [
      " 70%|██████████████████████████████████████████████████████▉                       | 549/780 [1:24:05<33:33,  8.71s/it]"
     ]
    },
    {
     "name": "stdout",
     "output_type": "stream",
     "text": [
      "Best trial:\n",
      "  Value: 0.6300100074149668\n",
      "  Params: \n",
      "    num_leaves: 33\n",
      "    learning_rate: 0.03307841227197346\n",
      "    feature_fraction: 0.7963064130568042\n",
      "    bagging_fraction: 0.86510437240956\n",
      "    bagging_freq: 10\n",
      "    min_child_samples: 22\n",
      "Predicted tn for the first month: 2.664249998204807\n"
     ]
    },
    {
     "name": "stderr",
     "output_type": "stream",
     "text": [
      " 71%|███████████████████████████████████████████████████████                       | 550/780 [1:24:15<34:18,  8.95s/it]"
     ]
    },
    {
     "name": "stdout",
     "output_type": "stream",
     "text": [
      "Best trial:\n",
      "  Value: 1.363301217847038\n",
      "  Params: \n",
      "    num_leaves: 35\n",
      "    learning_rate: 0.03539852329534889\n",
      "    feature_fraction: 0.6633258246186508\n",
      "    bagging_fraction: 0.6376807125405383\n",
      "    bagging_freq: 1\n",
      "    min_child_samples: 10\n",
      "Predicted tn for the first month: 4.735214155797611\n",
      "Using single month validation due to insufficient data for multiple splits.\n"
     ]
    },
    {
     "name": "stderr",
     "output_type": "stream",
     "text": [
      " 71%|███████████████████████████████████████████████████████                       | 551/780 [1:24:19<28:41,  7.52s/it]"
     ]
    },
    {
     "name": "stdout",
     "output_type": "stream",
     "text": [
      "Best trial:\n",
      "  Value: 2.322548334564393\n",
      "  Params: \n",
      "    num_leaves: 25\n",
      "    learning_rate: 0.015696908712403538\n",
      "    feature_fraction: 0.7392506461360685\n",
      "    bagging_fraction: 0.9002206054360942\n",
      "    bagging_freq: 1\n",
      "    min_child_samples: 49\n",
      "Predicted tn for the first month: 8.260508349365418\n"
     ]
    },
    {
     "name": "stderr",
     "output_type": "stream",
     "text": [
      " 71%|███████████████████████████████████████████████████████▏                      | 552/780 [1:24:28<30:55,  8.14s/it]"
     ]
    },
    {
     "name": "stdout",
     "output_type": "stream",
     "text": [
      "Best trial:\n",
      "  Value: 0.895439064130187\n",
      "  Params: \n",
      "    num_leaves: 40\n",
      "    learning_rate: 0.015439391281301605\n",
      "    feature_fraction: 0.6627312103458968\n",
      "    bagging_fraction: 0.719885806874304\n",
      "    bagging_freq: 4\n",
      "    min_child_samples: 40\n",
      "Predicted tn for the first month: 0.8637666684532166\n",
      "Using single month validation due to insufficient data for multiple splits.\n"
     ]
    },
    {
     "name": "stderr",
     "output_type": "stream",
     "text": [
      " 71%|███████████████████████████████████████████████████████▎                      | 553/780 [1:24:33<26:24,  6.98s/it]"
     ]
    },
    {
     "name": "stdout",
     "output_type": "stream",
     "text": [
      "Best trial:\n",
      "  Value: 0.08568621426820755\n",
      "  Params: \n",
      "    num_leaves: 39\n",
      "    learning_rate: 0.08444490084802475\n",
      "    feature_fraction: 0.9208157582872267\n",
      "    bagging_fraction: 0.8458428281103892\n",
      "    bagging_freq: 2\n",
      "    min_child_samples: 41\n",
      "Predicted tn for the first month: 1.7102962727856634\n"
     ]
    },
    {
     "name": "stderr",
     "output_type": "stream",
     "text": [
      " 71%|███████████████████████████████████████████████████████▍                      | 554/780 [1:24:42<29:31,  7.84s/it]"
     ]
    },
    {
     "name": "stdout",
     "output_type": "stream",
     "text": [
      "Best trial:\n",
      "  Value: 1.2789812535047531\n",
      "  Params: \n",
      "    num_leaves: 27\n",
      "    learning_rate: 0.028630995715379238\n",
      "    feature_fraction: 0.600453794207307\n",
      "    bagging_fraction: 0.8160169325247861\n",
      "    bagging_freq: 1\n",
      "    min_child_samples: 46\n",
      "Predicted tn for the first month: 2.895187504861355\n"
     ]
    },
    {
     "name": "stderr",
     "output_type": "stream",
     "text": [
      " 71%|███████████████████████████████████████████████████████▌                      | 555/780 [1:24:52<31:20,  8.36s/it]"
     ]
    },
    {
     "name": "stdout",
     "output_type": "stream",
     "text": [
      "Best trial:\n",
      "  Value: 1.3685337491333485\n",
      "  Params: \n",
      "    num_leaves: 31\n",
      "    learning_rate: 0.03922059836758004\n",
      "    feature_fraction: 0.9001117669817983\n",
      "    bagging_fraction: 0.8631885160069488\n",
      "    bagging_freq: 10\n",
      "    min_child_samples: 21\n",
      "Predicted tn for the first month: 1.8668891763011615\n"
     ]
    },
    {
     "name": "stderr",
     "output_type": "stream",
     "text": [
      " 71%|███████████████████████████████████████████████████████▌                      | 556/780 [1:25:01<32:25,  8.69s/it]"
     ]
    },
    {
     "name": "stdout",
     "output_type": "stream",
     "text": [
      "Best trial:\n",
      "  Value: 1.1047559115104377\n",
      "  Params: \n",
      "    num_leaves: 29\n",
      "    learning_rate: 0.0163753965455563\n",
      "    feature_fraction: 0.8508897104136661\n",
      "    bagging_fraction: 0.7806623618142204\n",
      "    bagging_freq: 8\n",
      "    min_child_samples: 31\n",
      "Predicted tn for the first month: 2.8436608405079444\n",
      "Using single month validation due to insufficient data for multiple splits.\n"
     ]
    },
    {
     "name": "stderr",
     "output_type": "stream",
     "text": [
      " 71%|███████████████████████████████████████████████████████▋                      | 557/780 [1:25:06<27:22,  7.37s/it]"
     ]
    },
    {
     "name": "stdout",
     "output_type": "stream",
     "text": [
      "Best trial:\n",
      "  Value: 5.406036615371704\n",
      "  Params: \n",
      "    num_leaves: 33\n",
      "    learning_rate: 0.057482444882924415\n",
      "    feature_fraction: 0.8785929353654354\n",
      "    bagging_fraction: 0.6885576456251337\n",
      "    bagging_freq: 1\n",
      "    min_child_samples: 29\n",
      "Predicted tn for the first month: 9.334276579055786\n"
     ]
    },
    {
     "name": "stderr",
     "output_type": "stream",
     "text": [
      " 72%|███████████████████████████████████████████████████████▊                      | 558/780 [1:25:15<29:52,  8.07s/it]"
     ]
    },
    {
     "name": "stdout",
     "output_type": "stream",
     "text": [
      "Best trial:\n",
      "  Value: 2.053488126024604\n",
      "  Params: \n",
      "    num_leaves: 39\n",
      "    learning_rate: 0.06498057082771637\n",
      "    feature_fraction: 0.765097528363105\n",
      "    bagging_fraction: 0.696057646636307\n",
      "    bagging_freq: 2\n",
      "    min_child_samples: 15\n",
      "Predicted tn for the first month: 0.017085836348930995\n"
     ]
    }
   ],
   "source": [
    "final_dict = {}\n",
    "\n",
    "for prod in tqdm(df_product_to_predict['product_id'].to_list()):\n",
    "    try:\n",
    "        final_dict[prod] = predict_product(get_prod(df, prod), \n",
    "                                        training_months = training_months,\n",
    "                                        cutoff_date = cutoff_date,\n",
    "                                        n_trials = n_trials)\n",
    "    except:\n",
    "        final_dict[prod] = 0        "
   ]
  },
  {
   "cell_type": "code",
   "execution_count": null,
   "id": "6cf231b1-f296-4f46-a91d-ec5d123a2829",
   "metadata": {},
   "outputs": [],
   "source": []
  }
 ],
 "metadata": {
  "kernelspec": {
   "display_name": "Python 3 (ipykernel)",
   "language": "python",
   "name": "python3"
  },
  "language_info": {
   "codemirror_mode": {
    "name": "ipython",
    "version": 3
   },
   "file_extension": ".py",
   "mimetype": "text/x-python",
   "name": "python",
   "nbconvert_exporter": "python",
   "pygments_lexer": "ipython3",
   "version": "3.10.10"
  }
 },
 "nbformat": 4,
 "nbformat_minor": 5
}
